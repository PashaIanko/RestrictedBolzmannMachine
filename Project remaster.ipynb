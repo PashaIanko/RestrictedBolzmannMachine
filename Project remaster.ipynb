{
 "cells": [
  {
   "cell_type": "markdown",
   "metadata": {
    "id": "5ssH1fXDXgRB"
   },
   "source": [
    "# Cognition & Computation - Lab 2"
   ]
  },
  {
   "cell_type": "code",
   "execution_count": 106,
   "metadata": {
    "executionInfo": {
     "elapsed": 1128,
     "status": "ok",
     "timestamp": 1637664110986,
     "user": {
      "displayName": "Flavio Petruzzellis",
      "photoUrl": "https://lh3.googleusercontent.com/a-/AOh14GhVqS2HELc1x_AKRh4yY-J-kuTKQWdP1KNKrrJS=s64",
      "userId": "15299164503048993135"
     },
     "user_tz": -60
    },
    "id": "K9zAAXswX6W_"
   },
   "outputs": [],
   "source": [
    "import math\n",
    "import matplotlib.pyplot as plt\n",
    "import numpy as np\n",
    "import torch\n",
    "import torchvision as tv\n",
    "import tqdm\n",
    "from DBN import DBN\n",
    "import torch.nn.functional as functional"
   ]
  },
  {
   "cell_type": "markdown",
   "metadata": {},
   "source": [
    "## Data"
   ]
  },
  {
   "cell_type": "code",
   "execution_count": 11,
   "metadata": {},
   "outputs": [],
   "source": [
    "def get_data():\n",
    "    mnist_train = tv.datasets.MNIST('data/', train=True, download=True,\n",
    "                                         transform=tv.transforms.Compose(\n",
    "                                                  [tv.transforms.ToTensor()]\n",
    "                                         ))\n",
    "\n",
    "    mnist_test = tv.datasets.MNIST(\"data/\",\n",
    "                                train=False,\n",
    "                                download=True,\n",
    "                                transform=tv.transforms.Compose(\n",
    "                                        [tv.transforms.ToTensor()]\n",
    "                                ))\n",
    "    mnist_train.data = (mnist_train.data.type(torch.FloatTensor)/255)\n",
    "    mnist_test.data = (mnist_test.data.type(torch.FloatTensor)/255)\n",
    "\n",
    "    return mnist_train, mnist_test\n"
   ]
  },
  {
   "cell_type": "code",
   "execution_count": 13,
   "metadata": {
    "executionInfo": {
     "elapsed": 25,
     "status": "ok",
     "timestamp": 1637664110992,
     "user": {
      "displayName": "Flavio Petruzzellis",
      "photoUrl": "https://lh3.googleusercontent.com/a-/AOh14GhVqS2HELc1x_AKRh4yY-J-kuTKQWdP1KNKrrJS=s64",
      "userId": "15299164503048993135"
     },
     "user_tz": -60
    },
    "id": "sQ9eMI7bYEUZ"
   },
   "outputs": [],
   "source": [
    "mnist_train, mnist_test = get_data()\n",
    "\n",
    "data_train = mnist_train.data\n",
    "targets_train = mnist_train.targets\n",
    "\n",
    "data_test = mnist_test.data\n",
    "targets_test = mnist_test.targets\n"
   ]
  },
  {
   "cell_type": "code",
   "execution_count": 14,
   "metadata": {},
   "outputs": [],
   "source": [
    "class DBNParams:\n",
    "    visible_units=28*28\n",
    "    hidden_units=[500]\n",
    "    k=1\n",
    "    learning_rate=0.1\n",
    "    learning_rate_decay=False\n",
    "    initial_momentum=0.5\n",
    "    final_momentum=0.9\n",
    "    weight_decay=0.0002\n",
    "    xavier_init=False\n",
    "    increase_to_cd_k=False\n",
    "    use_gpu=True\n",
    "\n",
    "class TrainParameters:\n",
    "    epochs = 40  # 50\n",
    "    batch_size = 125  # 100\n",
    "    class_num = 10"
   ]
  },
  {
   "cell_type": "markdown",
   "metadata": {},
   "source": [
    "## Model prepare & train"
   ]
  },
  {
   "cell_type": "code",
   "execution_count": 16,
   "metadata": {},
   "outputs": [],
   "source": [
    "dbn_mnist = DBN(\n",
    "    visible_units = DBNParams.visible_units,\n",
    "    hidden_units = DBNParams.hidden_units,\n",
    "    k = DBNParams.k,\n",
    "    learning_rate = DBNParams.learning_rate,\n",
    "    learning_rate_decay = DBNParams.learning_rate_decay,\n",
    "    initial_momentum = DBNParams.initial_momentum,\n",
    "    final_momentum = DBNParams.final_momentum,\n",
    "    weight_decay = DBNParams.weight_decay,\n",
    "    xavier_init = DBNParams.xavier_init,\n",
    "    increase_to_cd_k = DBNParams.increase_to_cd_k,\n",
    "    use_gpu = DBNParams.use_gpu\n",
    ")\n"
   ]
  },
  {
   "cell_type": "code",
   "execution_count": 17,
   "metadata": {},
   "outputs": [
    {
     "name": "stdout",
     "output_type": "stream",
     "text": [
      "--------------------\n",
      "Training RBM layer 1\n",
      "|Epoch |avg_rec_err |std_rec_err  |mean_grad |std_grad  |\n",
      "|10    |1.2253   |0.0614   |320.5723 |13.2572   |\n",
      "|20    |1.1661   |0.0586   |304.4309 |12.0162   |\n",
      "|30    |1.1484   |0.0571   |297.6883 |11.9260   |\n",
      "|40    |1.1377   |0.0561   |293.3468 |11.0602   |\n"
     ]
    }
   ],
   "source": [
    "dbn_mnist.train_static(\n",
    "    data_train,\n",
    "    targets_train,\n",
    "    TrainParameters.epochs,\n",
    "    TrainParameters.batch_size\n",
    ")"
   ]
  },
  {
   "cell_type": "code",
   "execution_count": 20,
   "metadata": {},
   "outputs": [],
   "source": [
    "def move_parameters_to_cpu(dbn_mnist):\n",
    "  for layer in dbn_mnist.rbm_layers:\n",
    "    layer.W = layer.W.cpu()\n",
    "    layer.h_bias = layer.h_bias.cpu()\n",
    "    layer.v_bias = layer.v_bias.cpu()\n",
    "    \n",
    "move_parameters_to_cpu(dbn_mnist)"
   ]
  },
  {
   "cell_type": "markdown",
   "metadata": {
    "id": "6zRN90izXq9A"
   },
   "source": [
    "## Linear readouts"
   ]
  },
  {
   "cell_type": "markdown",
   "metadata": {
    "id": "UI68htznZWBW"
   },
   "source": [
    "Let's first compute the hidden representations:"
   ]
  },
  {
   "cell_type": "code",
   "execution_count": 52,
   "metadata": {
    "executionInfo": {
     "elapsed": 42,
     "status": "ok",
     "timestamp": 1637664186000,
     "user": {
      "displayName": "Flavio Petruzzellis",
      "photoUrl": "https://lh3.googleusercontent.com/a-/AOh14GhVqS2HELc1x_AKRh4yY-J-kuTKQWdP1KNKrrJS=s64",
      "userId": "15299164503048993135"
     },
     "user_tz": -60
    },
    "id": "YITxqUDaZVa-"
   },
   "outputs": [],
   "source": [
    "def get_kth_layer_repr(input, dbn_model, n_layer):\n",
    "  flattened_input = input.view((input.shape[0], -1)).type(torch.FloatTensor)\n",
    "  hidden_repr, __ = dbn_model.rbm_layers[n_layer].to_hidden(flattened_input)  # here we access the RBM object\n",
    "  return hidden_repr"
   ]
  },
  {
   "cell_type": "code",
   "execution_count": 53,
   "metadata": {
    "executionInfo": {
     "elapsed": 1434,
     "status": "ok",
     "timestamp": 1637664187397,
     "user": {
      "displayName": "Flavio Petruzzellis",
      "photoUrl": "https://lh3.googleusercontent.com/a-/AOh14GhVqS2HELc1x_AKRh4yY-J-kuTKQWdP1KNKrrJS=s64",
      "userId": "15299164503048993135"
     },
     "user_tz": -60
    },
    "id": "_T8nkJP8Zd-1"
   },
   "outputs": [],
   "source": [
    "hidden_repr_layer_1 = get_kth_layer_repr(\n",
    "    input = data_train,\n",
    "    dbn_model = dbn_mnist,\n",
    "    n_layer = 0\n",
    ")"
   ]
  },
  {
   "cell_type": "code",
   "execution_count": 54,
   "metadata": {
    "executionInfo": {
     "elapsed": 22,
     "status": "ok",
     "timestamp": 1637664187400,
     "user": {
      "displayName": "Flavio Petruzzellis",
      "photoUrl": "https://lh3.googleusercontent.com/a-/AOh14GhVqS2HELc1x_AKRh4yY-J-kuTKQWdP1KNKrrJS=s64",
      "userId": "15299164503048993135"
     },
     "user_tz": -60
    },
    "id": "aY50h0yKYbsy"
   },
   "outputs": [],
   "source": [
    "class Perceptron(torch.nn.Module):\n",
    "  def __init__(self, rbm_layer_size, class_num):\n",
    "    super().__init__()\n",
    "    self.linear = torch.nn.Linear(rbm_layer_size, class_num)\n",
    "\n",
    "  def forward(self, x):\n",
    "    return self.linear(x)"
   ]
  },
  {
   "cell_type": "markdown",
   "metadata": {
    "id": "Wi4FlrRMYgus"
   },
   "source": [
    "### First hidden layer representations"
   ]
  },
  {
   "cell_type": "markdown",
   "metadata": {
    "id": "zu3kjq3MY2xz"
   },
   "source": [
    "Let's train the readout layer:"
   ]
  },
  {
   "cell_type": "code",
   "execution_count": 55,
   "metadata": {
    "executionInfo": {
     "elapsed": 21,
     "status": "ok",
     "timestamp": 1637664187403,
     "user": {
      "displayName": "Flavio Petruzzellis",
      "photoUrl": "https://lh3.googleusercontent.com/a-/AOh14GhVqS2HELc1x_AKRh4yY-J-kuTKQWdP1KNKrrJS=s64",
      "userId": "15299164503048993135"
     },
     "user_tz": -60
    },
    "id": "UZ-6JyECcVdM"
   },
   "outputs": [],
   "source": [
    "def _train(model, input, targets, epochs=1000):\n",
    "  print_every_n_epochs = 100 if epochs >= 1000 else 10\n",
    "  optimizer = torch.optim.SGD(model.parameters(), lr=0.05)\n",
    "  loss_fn = torch.nn.CrossEntropyLoss()\n",
    "\n",
    "  for epoch in range(epochs):\n",
    "    optimizer.zero_grad()\n",
    "    predictions = model(input).squeeze()\n",
    "    loss = loss_fn(predictions, targets)\n",
    "    loss.backward()\n",
    "    optimizer.step()\n",
    "    if epoch % print_every_n_epochs == 0:\n",
    "      print(\"epoch {}/{}, loss = {:.6f}\".format(epoch, epochs, loss))"
   ]
  },
  {
   "cell_type": "code",
   "execution_count": 56,
   "metadata": {
    "colab": {
     "base_uri": "https://localhost:8080/"
    },
    "executionInfo": {
     "elapsed": 124092,
     "status": "ok",
     "timestamp": 1637664311476,
     "user": {
      "displayName": "Flavio Petruzzellis",
      "photoUrl": "https://lh3.googleusercontent.com/a-/AOh14GhVqS2HELc1x_AKRh4yY-J-kuTKQWdP1KNKrrJS=s64",
      "userId": "15299164503048993135"
     },
     "user_tz": -60
    },
    "id": "-Z9mkfGCd5A9",
    "outputId": "2ef3fece-eee1-41ec-97ae-564e244a3ae5"
   },
   "outputs": [
    {
     "name": "stdout",
     "output_type": "stream",
     "text": [
      "epoch 0/1500, loss = 2.307758\n",
      "epoch 100/1500, loss = 0.655293\n",
      "epoch 200/1500, loss = 0.494940\n",
      "epoch 300/1500, loss = 0.430149\n",
      "epoch 400/1500, loss = 0.393106\n",
      "epoch 500/1500, loss = 0.368321\n",
      "epoch 600/1500, loss = 0.350172\n",
      "epoch 700/1500, loss = 0.336081\n",
      "epoch 800/1500, loss = 0.324684\n",
      "epoch 900/1500, loss = 0.315185\n",
      "epoch 1000/1500, loss = 0.307083\n",
      "epoch 1100/1500, loss = 0.300045\n",
      "epoch 1200/1500, loss = 0.293843\n",
      "epoch 1300/1500, loss = 0.288310\n",
      "epoch 1400/1500, loss = 0.283325\n"
     ]
    }
   ],
   "source": [
    "def attach_perceptron(dbn_model, n_layer, class_num):\n",
    "    rbm_layer_size = dbn_model.rbm_layers[n_layer].W.shape[1]\n",
    "    return Perceptron(rbm_layer_size, class_num = class_num)\n",
    "\n",
    "perceptron_hidden_0 = attach_perceptron(\n",
    "    dbn_model = dbn_mnist,\n",
    "    n_layer = 0,\n",
    "    class_num = 10\n",
    ")\n",
    "_train(\n",
    "    model = perceptron_hidden_0, \n",
    "    input = hidden_repr_layer_1, \n",
    "    targets = targets_train, \n",
    "    epochs = 1500\n",
    ")"
   ]
  },
  {
   "cell_type": "markdown",
   "metadata": {
    "id": "EdpbUP0QYwkV"
   },
   "source": [
    "Let's test it on the hold-out dataset:"
   ]
  },
  {
   "cell_type": "code",
   "execution_count": 57,
   "metadata": {
    "executionInfo": {
     "elapsed": 62,
     "status": "ok",
     "timestamp": 1637664311480,
     "user": {
      "displayName": "Flavio Petruzzellis",
      "photoUrl": "https://lh3.googleusercontent.com/a-/AOh14GhVqS2HELc1x_AKRh4yY-J-kuTKQWdP1KNKrrJS=s64",
      "userId": "15299164503048993135"
     },
     "user_tz": -60
    },
    "id": "8ZQao7P-Y9ed"
   },
   "outputs": [],
   "source": [
    "hidden_repr_layer_1_test = get_kth_layer_repr(\n",
    "    input = data_test, \n",
    "    dbn_model = dbn_mnist,\n",
    "    n_layer = 0\n",
    ")"
   ]
  },
  {
   "cell_type": "code",
   "execution_count": 58,
   "metadata": {
    "executionInfo": {
     "elapsed": 57,
     "status": "ok",
     "timestamp": 1637664311484,
     "user": {
      "displayName": "Flavio Petruzzellis",
      "photoUrl": "https://lh3.googleusercontent.com/a-/AOh14GhVqS2HELc1x_AKRh4yY-J-kuTKQWdP1KNKrrJS=s64",
      "userId": "15299164503048993135"
     },
     "user_tz": -60
    },
    "id": "9ChSTek0ZBD2"
   },
   "outputs": [],
   "source": [
    "predictions_first_hidden = perceptron_hidden_0(hidden_repr_layer_1_test)"
   ]
  },
  {
   "cell_type": "code",
   "execution_count": 59,
   "metadata": {
    "executionInfo": {
     "elapsed": 52,
     "status": "ok",
     "timestamp": 1637664311487,
     "user": {
      "displayName": "Flavio Petruzzellis",
      "photoUrl": "https://lh3.googleusercontent.com/a-/AOh14GhVqS2HELc1x_AKRh4yY-J-kuTKQWdP1KNKrrJS=s64",
      "userId": "15299164503048993135"
     },
     "user_tz": -60
    },
    "id": "RsHYL6pAZCeH"
   },
   "outputs": [],
   "source": [
    "def _compute_accuracy(predictions, targets):\n",
    "  predictions_indices = predictions.max(axis=1).indices  # convert probabilities to indices\n",
    "  accuracy = (predictions_indices == targets).sum() / len(targets)\n",
    "  return accuracy.item()"
   ]
  },
  {
   "cell_type": "code",
   "execution_count": 60,
   "metadata": {
    "colab": {
     "base_uri": "https://localhost:8080/"
    },
    "executionInfo": {
     "elapsed": 49,
     "status": "ok",
     "timestamp": 1637664311489,
     "user": {
      "displayName": "Flavio Petruzzellis",
      "photoUrl": "https://lh3.googleusercontent.com/a-/AOh14GhVqS2HELc1x_AKRh4yY-J-kuTKQWdP1KNKrrJS=s64",
      "userId": "15299164503048993135"
     },
     "user_tz": -60
    },
    "id": "b9h2XaBlZHdo",
    "outputId": "e9650d2e-62e3-47ef-81d9-e95a3ecd65f2"
   },
   "outputs": [
    {
     "data": {
      "text/plain": [
       "0.9279000163078308"
      ]
     },
     "execution_count": 60,
     "metadata": {},
     "output_type": "execute_result"
    }
   ],
   "source": [
    "_compute_accuracy(predictions_first_hidden, targets_test)"
   ]
  },
  {
   "cell_type": "markdown",
   "metadata": {
    "id": "690R4NNKfNhW"
   },
   "source": [
    "## Comparison with a feedforward model"
   ]
  },
  {
   "cell_type": "markdown",
   "metadata": {
    "id": "9CYrA1XsgYxG"
   },
   "source": [
    "Let's now train a simple feedforward neural network with the same structure as the RBM, i.e. with one hidden layer with `500` units.\n",
    "\n",
    "We want to compare a network that is trained end-to-end to solve a classification task with a simple classifier that solves the same task using representations of input data learned in an *unsupervised* way."
   ]
  },
  {
   "cell_type": "code",
   "execution_count": 84,
   "metadata": {
    "executionInfo": {
     "elapsed": 42,
     "status": "ok",
     "timestamp": 1637664311491,
     "user": {
      "displayName": "Flavio Petruzzellis",
      "photoUrl": "https://lh3.googleusercontent.com/a-/AOh14GhVqS2HELc1x_AKRh4yY-J-kuTKQWdP1KNKrrJS=s64",
      "userId": "15299164503048993135"
     },
     "user_tz": -60
    },
    "id": "NlR9LznufMp_"
   },
   "outputs": [],
   "source": [
    "class Feedforward(torch.nn.Module):\n",
    "  def __init__(self, input_size, first_hidden_layer_size, output_size):\n",
    "    super().__init__()\n",
    "    self.first_hidden = torch.nn.Linear(input_size, first_hidden_layer_size)\n",
    "    self.output = torch.nn.Linear(first_hidden_layer_size, output_size)\n",
    "\n",
    "  def forward(self, input):\n",
    "    input = input.view((input.shape[0], -1))\n",
    "    relu = torch.nn.ReLU()\n",
    "    first_hidden_repr = relu(self.first_hidden(input))\n",
    "    output = self.output(first_hidden_repr)\n",
    "    return output"
   ]
  },
  {
   "cell_type": "code",
   "execution_count": 85,
   "metadata": {
    "executionInfo": {
     "elapsed": 23,
     "status": "ok",
     "timestamp": 1637664311820,
     "user": {
      "displayName": "Flavio Petruzzellis",
      "photoUrl": "https://lh3.googleusercontent.com/a-/AOh14GhVqS2HELc1x_AKRh4yY-J-kuTKQWdP1KNKrrJS=s64",
      "userId": "15299164503048993135"
     },
     "user_tz": -60
    },
    "id": "Upl8aiD-gqP3"
   },
   "outputs": [],
   "source": [
    "ffnn = Feedforward(\n",
    "    input_size = 784,\n",
    "    first_hidden_layer_size = 500,\n",
    "    output_size = 10\n",
    ")"
   ]
  },
  {
   "cell_type": "markdown",
   "metadata": {
    "id": "nmueBeBECUUA"
   },
   "source": [
    "We choose the number of epochs to match the training time of the RBM and the readout layer combined."
   ]
  },
  {
   "cell_type": "code",
   "execution_count": 86,
   "metadata": {
    "colab": {
     "base_uri": "https://localhost:8080/"
    },
    "executionInfo": {
     "elapsed": 197234,
     "status": "ok",
     "timestamp": 1637664509037,
     "user": {
      "displayName": "Flavio Petruzzellis",
      "photoUrl": "https://lh3.googleusercontent.com/a-/AOh14GhVqS2HELc1x_AKRh4yY-J-kuTKQWdP1KNKrrJS=s64",
      "userId": "15299164503048993135"
     },
     "user_tz": -60
    },
    "id": "ccEZ2ZMFiBrX",
    "outputId": "b166867f-b440-4eb3-fd23-6e5b4ab96536"
   },
   "outputs": [
    {
     "name": "stdout",
     "output_type": "stream",
     "text": [
      "epoch 0/120, loss = 2.302258\n",
      "epoch 10/120, loss = 2.184969\n",
      "epoch 20/120, loss = 2.057674\n",
      "epoch 30/120, loss = 1.908835\n",
      "epoch 40/120, loss = 1.740265\n",
      "epoch 50/120, loss = 1.562953\n",
      "epoch 60/120, loss = 1.392292\n",
      "epoch 70/120, loss = 1.240542\n",
      "epoch 80/120, loss = 1.112804\n",
      "epoch 90/120, loss = 1.008243\n",
      "epoch 100/120, loss = 0.923349\n",
      "epoch 110/120, loss = 0.854191\n"
     ]
    }
   ],
   "source": [
    "_train(\n",
    "    ffnn, \n",
    "    data_train,\n",
    "    targets = targets_train, \n",
    "    epochs=120\n",
    ")"
   ]
  },
  {
   "cell_type": "code",
   "execution_count": 87,
   "metadata": {
    "executionInfo": {
     "elapsed": 38,
     "status": "ok",
     "timestamp": 1637664509044,
     "user": {
      "displayName": "Flavio Petruzzellis",
      "photoUrl": "https://lh3.googleusercontent.com/a-/AOh14GhVqS2HELc1x_AKRh4yY-J-kuTKQWdP1KNKrrJS=s64",
      "userId": "15299164503048993135"
     },
     "user_tz": -60
    },
    "id": "_lDbHNfqiTgo"
   },
   "outputs": [],
   "source": [
    "predictions_ffnn = ffnn(data_test)"
   ]
  },
  {
   "cell_type": "code",
   "execution_count": 89,
   "metadata": {
    "colab": {
     "base_uri": "https://localhost:8080/"
    },
    "executionInfo": {
     "elapsed": 368,
     "status": "ok",
     "timestamp": 1637664509382,
     "user": {
      "displayName": "Flavio Petruzzellis",
      "photoUrl": "https://lh3.googleusercontent.com/a-/AOh14GhVqS2HELc1x_AKRh4yY-J-kuTKQWdP1KNKrrJS=s64",
      "userId": "15299164503048993135"
     },
     "user_tz": -60
    },
    "id": "CExo7uyiiVgr",
    "outputId": "a72e9811-29ad-4ff4-a6bd-4235f6f31a55"
   },
   "outputs": [
    {
     "data": {
      "text/plain": [
       "0.8467000126838684"
      ]
     },
     "execution_count": 89,
     "metadata": {},
     "output_type": "execute_result"
    }
   ],
   "source": [
    "_compute_accuracy(predictions_ffnn, targets_test)"
   ]
  },
  {
   "cell_type": "markdown",
   "metadata": {
    "id": "73eq5eNPv4xZ"
   },
   "source": [
    "## Robustness to noise"
   ]
  },
  {
   "cell_type": "markdown",
   "metadata": {
    "id": "oitTC0d4v6sx"
   },
   "source": [
    "We will now inject some noise in the input images and see how much the representations learned by the RBM are robust to noise."
   ]
  },
  {
   "cell_type": "code",
   "execution_count": 90,
   "metadata": {
    "executionInfo": {
     "elapsed": 32,
     "status": "ok",
     "timestamp": 1637664509389,
     "user": {
      "displayName": "Flavio Petruzzellis",
      "photoUrl": "https://lh3.googleusercontent.com/a-/AOh14GhVqS2HELc1x_AKRh4yY-J-kuTKQWdP1KNKrrJS=s64",
      "userId": "15299164503048993135"
     },
     "user_tz": -60
    },
    "id": "1EYKuRtVwLIs"
   },
   "outputs": [],
   "source": [
    "def _inject_noise(data, noise_level):\n",
    "  random_gaussian_tensor = torch.randn(data.shape)/6.6 + .6\n",
    "  probability_tensor = torch.ones(data.shape)*noise_level\n",
    "  mask_tensor = torch.bernoulli(probability_tensor)\n",
    "  return data - mask_tensor * data + mask_tensor * random_gaussian_tensor"
   ]
  },
  {
   "cell_type": "markdown",
   "metadata": {
    "id": "A0tSj95s0HfR"
   },
   "source": [
    "Let's see what a noisy image looks like:"
   ]
  },
  {
   "cell_type": "code",
   "execution_count": 91,
   "metadata": {
    "colab": {
     "base_uri": "https://localhost:8080/",
     "height": 265
    },
    "executionInfo": {
     "elapsed": 297,
     "status": "ok",
     "timestamp": 1637664509663,
     "user": {
      "displayName": "Flavio Petruzzellis",
      "photoUrl": "https://lh3.googleusercontent.com/a-/AOh14GhVqS2HELc1x_AKRh4yY-J-kuTKQWdP1KNKrrJS=s64",
      "userId": "15299164503048993135"
     },
     "user_tz": -60
    },
    "id": "YnnaCxzRzFX1",
    "outputId": "307e559f-4479-4086-b1eb-dbe83de1a102"
   },
   "outputs": [
    {
     "data": {
      "image/png": "[encoded data removed]",
      "text/plain": [
       "<Figure size 432x288 with 1 Axes>"
      ]
     },
     "metadata": {
      "needs_background": "light"
     },
     "output_type": "display_data"
    }
   ],
   "source": [
    "noise_level = 0.3\n",
    "mnist_test_with_noise = _inject_noise(data_test, noise_level)\n",
    "__ = plt.imshow(mnist_test_with_noise[0].reshape(28, 28), cmap=\"gray\")"
   ]
  },
  {
   "cell_type": "markdown",
   "metadata": {
    "id": "IO9V8x1CiaR4"
   },
   "source": [
    "We will now compute the hidden representations for the noisy images using the RBM. Then, we will use the models that we trained on the representations without noise to classify the noisy ones."
   ]
  },
  {
   "cell_type": "code",
   "execution_count": 92,
   "metadata": {
    "executionInfo": {
     "elapsed": 25,
     "status": "ok",
     "timestamp": 1637664509666,
     "user": {
      "displayName": "Flavio Petruzzellis",
      "photoUrl": "https://lh3.googleusercontent.com/a-/AOh14GhVqS2HELc1x_AKRh4yY-J-kuTKQWdP1KNKrrJS=s64",
      "userId": "15299164503048993135"
     },
     "user_tz": -60
    },
    "id": "vprSgIGKxPRS"
   },
   "outputs": [],
   "source": [
    "def _get_accuracy_values_at_noise_level(\n",
    "  data,\n",
    "  targets,\n",
    "  noise_level,\n",
    "  dbn_model,\n",
    "  n_layer,  # representation\n",
    "  perceptron_model,\n",
    "  ffnn_model\n",
    "  ):\n",
    "\n",
    "  noisy_data = _inject_noise(data, noise_level)\n",
    "  \n",
    "  hidden_repr_noisy = get_kth_layer_repr(input = noisy_data, dbn_model = dbn_model, n_layer = n_layer)\n",
    "\n",
    "  predictions_perceptron = perceptron_model(hidden_repr_noisy)  \n",
    "\n",
    "  predictions_ffnn = ffnn_model(noisy_data) #.reshape((noisy_data.shape[0], 784)))\n",
    "  \n",
    "  accuracy_perceptron = _compute_accuracy(predictions_perceptron, targets)\n",
    "  accuracy_ffnn = _compute_accuracy(predictions_ffnn, targets)\n",
    "  \n",
    "  return accuracy_perceptron, accuracy_ffnn"
   ]
  },
  {
   "cell_type": "code",
   "execution_count": 93,
   "metadata": {
    "colab": {
     "base_uri": "https://localhost:8080/"
    },
    "executionInfo": {
     "elapsed": 898,
     "status": "ok",
     "timestamp": 1637664510542,
     "user": {
      "displayName": "Flavio Petruzzellis",
      "photoUrl": "https://lh3.googleusercontent.com/a-/AOh14GhVqS2HELc1x_AKRh4yY-J-kuTKQWdP1KNKrrJS=s64",
      "userId": "15299164503048993135"
     },
     "user_tz": -60
    },
    "id": "oTiusj9Dzp8X",
    "outputId": "6f9d9f95-e360-4908-d92e-e9eb21ec5429"
   },
   "outputs": [
    {
     "data": {
      "text/plain": [
       "(0.8862000107765198, 0.8187999725341797)"
      ]
     },
     "execution_count": 93,
     "metadata": {},
     "output_type": "execute_result"
    }
   ],
   "source": [
    "_get_accuracy_values_at_noise_level(\n",
    "    data = data_test,\n",
    "    targets = targets_test,\n",
    "    noise_level = 0.2,\n",
    "    dbn_model = dbn_mnist,\n",
    "    n_layer = 0,\n",
    "    perceptron_model = perceptron_hidden_0,\n",
    "    ffnn_model = ffnn\n",
    ")"
   ]
  },
  {
   "cell_type": "markdown",
   "metadata": {
    "id": "dKZPC2Wx0rH_"
   },
   "source": [
    "Let's now get an overview of the robustness of the representations to different levels of noise:"
   ]
  },
  {
   "cell_type": "code",
   "execution_count": 94,
   "metadata": {
    "executionInfo": {
     "elapsed": 19,
     "status": "ok",
     "timestamp": 1637664510547,
     "user": {
      "displayName": "Flavio Petruzzellis",
      "photoUrl": "https://lh3.googleusercontent.com/a-/AOh14GhVqS2HELc1x_AKRh4yY-J-kuTKQWdP1KNKrrJS=s64",
      "userId": "15299164503048993135"
     },
     "user_tz": -60
    },
    "id": "eUwuzAQYqIyB"
   },
   "outputs": [],
   "source": [
    "def plot_noise_robustness_curves(\n",
    "  noise_levels,\n",
    "  data,\n",
    "  targets,\n",
    "  dbn_model,\n",
    "  n_layer,\n",
    "  perceptron_model,\n",
    "  ffnn_model\n",
    "  ):\n",
    "  accuracies_perceptron = []\n",
    "  accuracies_ffnn = []\n",
    "  \n",
    "  for noise_level in noise_levels:\n",
    "    accuracy_perceptron, accuracy_ffnn = _get_accuracy_values_at_noise_level(\n",
    "      data = data,\n",
    "      targets = targets,\n",
    "      noise_level = noise_level,\n",
    "      dbn_model = dbn_model,\n",
    "      n_layer = n_layer,\n",
    "      perceptron_model = perceptron_model,\n",
    "      ffnn_model = ffnn_model\n",
    "  \n",
    "    )\n",
    "    accuracies_perceptron.append(accuracy_perceptron)\n",
    "    accuracies_ffnn.append(accuracy_ffnn)\n",
    "  \n",
    "  fig, ax = plt.subplots()\n",
    "  ax.plot(range(len(noise_levels)), accuracies_perceptron)\n",
    "  ax.plot(range(len(noise_levels)), accuracies_ffnn)\n",
    "  \n",
    "  ax.set_title(\"Robustness to noise\")\n",
    "  ax.set_xlabel(\"Noise level (%)\")\n",
    "  ax.set_ylabel(\"Accuracy\")\n",
    "  plt.xticks(range(len(noise_levels)), [int(l*100) for l in noise_levels])\n",
    "  plt.legend([\"First hidden\", \"FFNN\"])"
   ]
  },
  {
   "cell_type": "code",
   "execution_count": 95,
   "metadata": {
    "colab": {
     "base_uri": "https://localhost:8080/",
     "height": 295
    },
    "executionInfo": {
     "elapsed": 3691,
     "status": "ok",
     "timestamp": 1637664514224,
     "user": {
      "displayName": "Flavio Petruzzellis",
      "photoUrl": "https://lh3.googleusercontent.com/a-/AOh14GhVqS2HELc1x_AKRh4yY-J-kuTKQWdP1KNKrrJS=s64",
      "userId": "15299164503048993135"
     },
     "user_tz": -60
    },
    "id": "U63ZIXbKy2DC",
    "outputId": "7138b30d-48ca-41ae-fba0-377ae82b5a7a"
   },
   "outputs": [
    {
     "data": {
      "image/png": "[encoded data removed]",
      "text/plain": [
       "<Figure size 432x288 with 1 Axes>"
      ]
     },
     "metadata": {
      "needs_background": "light"
     },
     "output_type": "display_data"
    }
   ],
   "source": [
    "noise_levels = [0, 0.1, 0.2, 0.3, 0.4, 0.5] #, 0.6, 0.7, 0.8]\n",
    "\n",
    "plot_noise_robustness_curves(\n",
    "    noise_levels = noise_levels,\n",
    "    data = data_test,\n",
    "    targets = targets_test,\n",
    "    dbn_model = dbn_mnist, \n",
    "    n_layer = 0,\n",
    "    perceptron_model = perceptron_hidden_0,\n",
    "    ffnn_model = ffnn\n",
    ")"
   ]
  },
  {
   "cell_type": "markdown",
   "metadata": {},
   "source": [
    "# Adversarial attacks"
   ]
  },
  {
   "cell_type": "code",
   "execution_count": 96,
   "metadata": {},
   "outputs": [],
   "source": [
    "def fgsm_attack(image, epsilon, data_grad):\n",
    "    # Collect the element-wise sign of the data gradient\n",
    "    sign_data_grad = data_grad.sign()\n",
    "\n",
    "    # Create the perturbed image by adjusting each pixel of the input image\n",
    "    perturbed_image = image + epsilon*sign_data_grad\n",
    "\n",
    "    # Adding clipping to maintain [0,1] range\n",
    "    perturbed_image = torch.clamp(perturbed_image, 0, 1)\n",
    "\n",
    "    # Return the perturbed image\n",
    "    return perturbed_image"
   ]
  },
  {
   "cell_type": "code",
   "execution_count": 97,
   "metadata": {},
   "outputs": [],
   "source": [
    "class DBNWithReadOut(torch.nn.Module):\n",
    "    def __init__(self, dbn_mnist, perceptron):\n",
    "        super().__init__()\n",
    "        self.readout = perceptron\n",
    "        self.dbn_mnist = dbn_mnist\n",
    "\n",
    "    def forward(self, image):\n",
    "        x, __ = self.dbn_mnist.forward(image)\n",
    "        x = self.readout.forward(x)\n",
    "        return x"
   ]
  },
  {
   "cell_type": "code",
   "execution_count": 98,
   "metadata": {},
   "outputs": [],
   "source": [
    "dbn_with_readout = DBNWithReadOut(\n",
    "    dbn_mnist, \n",
    "    perceptron = perceptron_hidden_0\n",
    ")"
   ]
  },
  {
   "cell_type": "code",
   "execution_count": 101,
   "metadata": {},
   "outputs": [
    {
     "data": {
      "image/png": "[encoded data removed]",
      "text/plain": [
       "<Figure size 432x288 with 1 Axes>"
      ]
     },
     "metadata": {
      "needs_background": "light"
     },
     "output_type": "display_data"
    }
   ],
   "source": [
    "idx = 1\n",
    "test_image = data_test[:idx].reshape(1, 28, 28)\n",
    "__ = plt.imshow(test_image.reshape(28,28))"
   ]
  },
  {
   "cell_type": "code",
   "execution_count": 102,
   "metadata": {},
   "outputs": [
    {
     "name": "stdout",
     "output_type": "stream",
     "text": [
      "The prediction of the model for this sample is 7.\n"
     ]
    }
   ],
   "source": [
    "attacked_model = ffnn\n",
    "\n",
    "test_label = targets_test[:idx]\n",
    "\n",
    "test_image.requires_grad = True\n",
    "model_outputs = attacked_model(test_image)\n",
    "prediction = torch.argmax(model_outputs)\n",
    "print(f\"The prediction of the model for this sample is {prediction}.\")\n",
    "\n",
    "loss_value = torch.nn.functional.cross_entropy(model_outputs, test_label)\n",
    "attacked_model.zero_grad()\n",
    "loss_value.backward()\n",
    "image_grad = test_image.grad.data\n",
    "perturbed_image = fgsm_attack(test_image, 0.2, image_grad)"
   ]
  },
  {
   "cell_type": "code",
   "execution_count": 103,
   "metadata": {},
   "outputs": [
    {
     "data": {
      "image/png": "[encoded data removed]",
      "text/plain": [
       "<Figure size 432x288 with 1 Axes>"
      ]
     },
     "metadata": {
      "needs_background": "light"
     },
     "output_type": "display_data"
    }
   ],
   "source": [
    "perturbed_image_np = perturbed_image.detach().numpy()\n",
    "__ = plt.imshow(perturbed_image_np.reshape(28,28))"
   ]
  },
  {
   "cell_type": "code",
   "execution_count": 104,
   "metadata": {},
   "outputs": [
    {
     "name": "stdout",
     "output_type": "stream",
     "text": [
      "The prediction of the model for the perturbed sample is 9.\n"
     ]
    }
   ],
   "source": [
    "model_outputs = attacked_model(perturbed_image)\n",
    "print(f\"The prediction of the model for the perturbed sample is {torch.argmax(model_outputs)}.\")"
   ]
  },
  {
   "cell_type": "markdown",
   "metadata": {},
   "source": [
    "## Robustness to adversarial attacks"
   ]
  },
  {
   "cell_type": "code",
   "execution_count": 107,
   "metadata": {},
   "outputs": [],
   "source": [
    "def test_robustness_to_attack(model, device, test_loader, epsilon, num_steps=0, verbose=True):\n",
    "    correct = 0\n",
    "    print_reconstruction = num_steps > 0\n",
    "\n",
    "    for data, target in tqdm.tqdm(test_loader):\n",
    "        data, target = data.to(device), target.to(device)\n",
    "        data = data.reshape(1, 28, 28)\n",
    "        data.requires_grad = True  # Important for Attack\n",
    "\n",
    "        output = model.forward(data)\n",
    "\n",
    "        init_pred = torch.argmax(output)\n",
    "        # If the initial predi ction is wrong, dont bother attacking, just move on\n",
    "        if init_pred.item() != target.item():\n",
    "            continue\n",
    "\n",
    "        if (print_reconstruction and verbose):\n",
    "          print(\"\\nHere's the original sample:\\n\")\n",
    "          plt.imshow(data.detach().numpy().reshape(28,28))\n",
    "          plt.show()\n",
    "\n",
    "        loss = functional.nll_loss(output, target)\n",
    "        model.zero_grad()\n",
    "        loss.backward()\n",
    "        data_grad = data.grad.data  # collect the gradient of the input data\n",
    "        perturbed_data = fgsm_attack(data, epsilon, data_grad)\n",
    "\n",
    "        if (print_reconstruction and verbose):\n",
    "            print(\"\\nHere's a perturbed sample:\\n\")\n",
    "            plt.imshow(perturbed_data.detach().numpy().reshape(28,28))\n",
    "            plt.show()\n",
    "\n",
    "\n",
    "        # If requested, reconstruct the input iterating forward-backward dynamics\n",
    "        if num_steps > 0:\n",
    "            for __ in range(0, num_steps):\n",
    "                perturbed_data, __ = model.dbn_mnist.reconstruct(perturbed_data)\n",
    "            if (print_reconstruction and verbose):\n",
    "                print(f\"\\nHere's what a {num_steps}-steps reconstructed sample looks like:\\n\")\n",
    "                plt.imshow(perturbed_data.detach().numpy().reshape(28,28))\n",
    "                plt.show()\n",
    "                print_reconstruction = False\n",
    "\n",
    "        # Re-classify the perturbed image\n",
    "        output = model(perturbed_data)\n",
    "\n",
    "        # Check for success\n",
    "        # get the index of the max element in the output\n",
    "        final_pred = output.max(1, keepdim=True)[1]\n",
    "        if final_pred.item() == target.item():\n",
    "            correct += 1\n",
    "\n",
    "    # Calculate final accuracy for this epsilon\n",
    "    final_acc = correct/float(len(test_loader))\n",
    "    if verbose:\n",
    "      print(\"\\nEpsilon: {}\\tTest Accuracy = {} / {} = {}\\n\".format(epsilon,\n",
    "            correct, len(test_loader), final_acc))\n",
    "\n",
    "    return final_acc"
   ]
  },
  {
   "cell_type": "code",
   "execution_count": 108,
   "metadata": {},
   "outputs": [],
   "source": [
    "test_loader = torch.utils.data.DataLoader(\n",
    "    tv.datasets.MNIST('data/', train=False, download=False, transform=tv.transforms.Compose([\n",
    "        tv.transforms.ToTensor(),\n",
    "    ])),\n",
    "    batch_size=1, shuffle=True)"
   ]
  },
  {
   "cell_type": "code",
   "execution_count": 109,
   "metadata": {},
   "outputs": [],
   "source": [
    "device = torch.device(\"cpu\")"
   ]
  },
  {
   "cell_type": "code",
   "execution_count": 110,
   "metadata": {},
   "outputs": [
    {
     "name": "stderr",
     "output_type": "stream",
     "text": [
      "100%|██████████| 10000/10000 [00:18<00:00, 532.85it/s]"
     ]
    },
    {
     "name": "stdout",
     "output_type": "stream",
     "text": [
      "\n",
      "Epsilon: 0.1\tTest Accuracy = 5415 / 10000 = 0.5415\n",
      "\n"
     ]
    },
    {
     "name": "stderr",
     "output_type": "stream",
     "text": [
      "\n"
     ]
    }
   ],
   "source": [
    "final_acc = test_robustness_to_attack(ffnn, device,\n",
    "                                      test_loader, epsilon=0.1,\n",
    "                                      num_steps=0)"
   ]
  },
  {
   "cell_type": "code",
   "execution_count": 112,
   "metadata": {},
   "outputs": [
    {
     "name": "stderr",
     "output_type": "stream",
     "text": [
      "100%|██████████| 10000/10000 [00:12<00:00, 811.47it/s]"
     ]
    },
    {
     "name": "stdout",
     "output_type": "stream",
     "text": [
      "\n",
      "Epsilon: 0.1\tTest Accuracy = 6583 / 10000 = 0.6583\n",
      "\n"
     ]
    },
    {
     "name": "stderr",
     "output_type": "stream",
     "text": [
      "\n"
     ]
    }
   ],
   "source": [
    "final_acc = test_robustness_to_attack(dbn_with_readout, device,\n",
    "                                      test_loader, epsilon=0.1, \n",
    "                                      num_steps=0)"
   ]
  },
  {
   "cell_type": "code",
   "execution_count": 113,
   "metadata": {},
   "outputs": [
    {
     "name": "stderr",
     "output_type": "stream",
     "text": [
      "  0%|          | 0/10000 [00:00<?, ?it/s]"
     ]
    },
    {
     "name": "stdout",
     "output_type": "stream",
     "text": [
      "\n",
      "Here's the original sample:\n",
      "\n"
     ]
    },
    {
     "data": {
      "image/png": "[encoded data removed]",
      "text/plain": [
       "<Figure size 432x288 with 1 Axes>"
      ]
     },
     "metadata": {
      "needs_background": "light"
     },
     "output_type": "display_data"
    },
    {
     "name": "stdout",
     "output_type": "stream",
     "text": [
      "\n",
      "Here's a perturbed sample:\n",
      "\n"
     ]
    },
    {
     "data": {
      "image/png": "[encoded data removed]",
      "text/plain": [
       "<Figure size 432x288 with 1 Axes>"
      ]
     },
     "metadata": {
      "needs_background": "light"
     },
     "output_type": "display_data"
    },
    {
     "name": "stdout",
     "output_type": "stream",
     "text": [
      "\n",
      "Here's what a 1-steps reconstructed sample looks like:\n",
      "\n"
     ]
    },
    {
     "data": {
      "image/png": "[encoded data removed]",
      "text/plain": [
       "<Figure size 432x288 with 1 Axes>"
      ]
     },
     "metadata": {
      "needs_background": "light"
     },
     "output_type": "display_data"
    },
    {
     "name": "stderr",
     "output_type": "stream",
     "text": [
      "100%|██████████| 10000/10000 [00:16<00:00, 621.37it/s]"
     ]
    },
    {
     "name": "stdout",
     "output_type": "stream",
     "text": [
      "\n",
      "Epsilon: 0.1\tTest Accuracy = 7659 / 10000 = 0.7659\n",
      "\n"
     ]
    },
    {
     "name": "stderr",
     "output_type": "stream",
     "text": [
      "\n"
     ]
    }
   ],
   "source": [
    "final_acc = test_robustness_to_attack(dbn_with_readout, device,\n",
    "                                      test_loader, epsilon=0.1,\n",
    "                                      num_steps=1)"
   ]
  },
  {
   "cell_type": "markdown",
   "metadata": {},
   "source": [
    "## Effect of $\\epsilon$"
   ]
  },
  {
   "cell_type": "code",
   "execution_count": 114,
   "metadata": {},
   "outputs": [],
   "source": [
    "def test_epsilon_values_effect(epsilons, model, device, loader, n_steps):\n",
    "  accuracies = list()\n",
    "\n",
    "  for eps in epsilons:\n",
    "      acc = test_robustness_to_attack(model, device, loader, eps, num_steps=n_steps, verbose=False)\n",
    "      accuracies.append(acc)\n",
    "\n",
    "  return accuracies"
   ]
  },
  {
   "cell_type": "code",
   "execution_count": 115,
   "metadata": {},
   "outputs": [
    {
     "name": "stderr",
     "output_type": "stream",
     "text": [
      "100%|██████████| 10000/10000 [00:16<00:00, 590.76it/s]\n",
      "100%|██████████| 10000/10000 [00:16<00:00, 591.43it/s]\n",
      "100%|██████████| 10000/10000 [00:17<00:00, 588.04it/s]\n",
      "100%|██████████| 10000/10000 [00:18<00:00, 542.21it/s]\n",
      "100%|██████████| 10000/10000 [00:19<00:00, 501.62it/s]\n",
      "100%|██████████| 10000/10000 [00:16<00:00, 608.10it/s]\n",
      "100%|██████████| 10000/10000 [00:12<00:00, 794.79it/s]\n",
      "100%|██████████| 10000/10000 [00:11<00:00, 860.56it/s]\n",
      "100%|██████████| 10000/10000 [00:13<00:00, 756.08it/s]\n",
      "100%|██████████| 10000/10000 [00:14<00:00, 668.69it/s]\n",
      "100%|██████████| 10000/10000 [00:13<00:00, 714.75it/s]\n",
      "100%|██████████| 10000/10000 [00:13<00:00, 728.37it/s]\n",
      "100%|██████████| 10000/10000 [00:18<00:00, 532.74it/s]\n",
      "100%|██████████| 10000/10000 [00:19<00:00, 523.51it/s]\n",
      "100%|██████████| 10000/10000 [00:18<00:00, 531.13it/s]\n",
      "100%|██████████| 10000/10000 [00:19<00:00, 525.31it/s]\n",
      "100%|██████████| 10000/10000 [00:15<00:00, 649.07it/s]\n",
      "100%|██████████| 10000/10000 [00:15<00:00, 653.90it/s]\n",
      "100%|██████████| 10000/10000 [00:18<00:00, 544.76it/s]\n",
      "100%|██████████| 10000/10000 [00:20<00:00, 495.31it/s]\n",
      "100%|██████████| 10000/10000 [00:22<00:00, 449.34it/s]\n",
      "100%|██████████| 10000/10000 [00:25<00:00, 399.93it/s]\n",
      "100%|██████████| 10000/10000 [00:26<00:00, 383.01it/s]\n",
      "100%|██████████| 10000/10000 [00:22<00:00, 442.26it/s]\n"
     ]
    }
   ],
   "source": [
    "epsilons = [0, .05, .1, .15, .2, .25]\n",
    "accuracies_ffnn = test_epsilon_values_effect(epsilons, ffnn, device, test_loader, n_steps=0)\n",
    "accuracies_rbm_0 = test_epsilon_values_effect(epsilons, dbn_with_readout, device, test_loader, n_steps=0)\n",
    "accuracies_rbm_1 = test_epsilon_values_effect(epsilons, dbn_with_readout, device, test_loader, n_steps = 1)\n",
    "accuracies_rbm_2 = test_epsilon_values_effect(epsilons, dbn_with_readout, device, test_loader, n_steps = 2)"
   ]
  },
  {
   "cell_type": "code",
   "execution_count": 117,
   "metadata": {},
   "outputs": [
    {
     "data": {
      "image/png": "[encoded data removed]",
      "text/plain": [
       "<Figure size 432x288 with 1 Axes>"
      ]
     },
     "metadata": {
      "needs_background": "light"
     },
     "output_type": "display_data"
    }
   ],
   "source": [
    "fig, ax = plt.subplots(1, 1, figsize=(6,4), sharey=True)\n",
    "\n",
    "__ = ax.plot(epsilons, accuracies_ffnn)\n",
    "__ = ax.plot(epsilons, accuracies_rbm_0)\n",
    "__ = ax.plot(epsilons, accuracies_rbm_1)\n",
    "__ = ax.plot(epsilons, accuracies_rbm_2)\n",
    "__ = ax.set_xlabel(\"$\\epsilon$\")\n",
    "__ = ax.set_ylabel(\"Accuracy\")\n",
    "__ = ax.set_title(\"Robustness to adversarial attacks\")\n",
    "__ = ax.legend([\"FFNN\", \"RBM 0-steps\", \"RBM 1-steps\",\"RBM 2-steps\"])"
   ]
  },
  {
   "cell_type": "markdown",
   "metadata": {
    "id": "fC71fHwV6zEr"
   },
   "source": [
    "## Contacts\n",
    "\n",
    "- 📧 flavio.petruzzellis@phd.unipd.it\n",
    "- 💬 [Moodle forum](https://elearning.unipd.it/math/mod/forum/view.php?id=36439)"
   ]
  }
 ],
 "metadata": {
  "accelerator": "GPU",
  "colab": {
   "authorship_tag": "ABX9TyOq+Iuob3CKehIGz2X6pdvi",
   "collapsed_sections": [],
   "name": "cc-lab-2-rbm.ipynb",
   "provenance": []
  },
  "kernelspec": {
   "display_name": "Python 3",
   "language": "python",
   "name": "python3"
  },
  "language_info": {
   "codemirror_mode": {
    "name": "ipython",
    "version": 3
   },
   "file_extension": ".py",
   "mimetype": "text/x-python",
   "name": "python",
   "nbconvert_exporter": "python",
   "pygments_lexer": "ipython3",
   "version": "3.9.7"
  }
 },
 "nbformat": 4,
 "nbformat_minor": 1
}

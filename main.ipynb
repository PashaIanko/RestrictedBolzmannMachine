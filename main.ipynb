{
  "cells": [
    {
      "cell_type": "markdown",
      "metadata": {
        "id": "view-in-github",
        "colab_type": "text"
      },
      "source": [
        "<a href=\"https://colab.research.google.com/github/PashaIanko/RestrictedBolzmannMachine/blob/EMNIST/main.ipynb\" target=\"_parent\"><img src=\"https://colab.research.google.com/assets/colab-badge.svg\" alt=\"Open In Colab\"/></a>"
      ]
    },
    {
      "cell_type": "markdown",
      "metadata": {
        "id": "UMXIa1v8PT2j"
      },
      "source": [
        "Helper links:\n",
        "- https://github.com/pytorch/vision/blob/main/torchvision/datasets/omniglot.py"
      ]
    },
    {
      "cell_type": "markdown",
      "metadata": {
        "id": "BY78mv2oS20c"
      },
      "source": [
        "## **Packages, Constants & Functions**"
      ]
    },
    {
      "cell_type": "code",
      "execution_count": 181,
      "metadata": {
        "id": "FEByBGGhpsM5"
      },
      "outputs": [],
      "source": [
        "%%capture\n",
        "\n",
        "url_dbn = 'https://raw.githubusercontent.com/PashaIanko/RestrictedBolzmannMachine/main/DBN.py'\n",
        "url_rbm = 'https://raw.githubusercontent.com/PashaIanko/RestrictedBolzmannMachine/main/RBM.py'\n",
        "\n",
        "utils = {\n",
        "    'DBN.py': url_dbn,\n",
        "    'RBM.py': url_rbm,\n",
        "}\n",
        "\n",
        "for file, url in utils.items():\n",
        "    !wget -O {file} {url} {file}"
      ]
    },
    {
      "cell_type": "code",
      "execution_count": 182,
      "metadata": {
        "id": "dHbnUGj0-y3l"
      },
      "outputs": [],
      "source": [
        "import torch\n",
        "import torchvision as tv\n",
        "from torchvision import datasets\n",
        "import torch.nn.functional as functional \n",
        "\n",
        "# Models\n",
        "from DBN import DBN\n",
        "\n",
        "# Plotting\n",
        "import matplotlib.pyplot as plt\n",
        "\n",
        "# Download\n",
        "from os import path\n",
        "\n",
        "# Utils\n",
        "from abc import ABC, abstractmethod, abstractproperty\n",
        "from scipy import cluster\n",
        "import numpy as np\n",
        "import random\n",
        "import math\n",
        "import tqdm\n",
        "\n",
        "# Plotting\n",
        "import seaborn as sns"
      ]
    },
    {
      "cell_type": "code",
      "execution_count": 183,
      "metadata": {
        "id": "0J2Yq1R_-y3o"
      },
      "outputs": [],
      "source": [
        "class PreprocParams:\n",
        "    crop_size = 28\n",
        "    mean = 0.1307\n",
        "    std = 0.3081\n",
        "    visualization_threshold = 0.1\n",
        "    image_size = crop_size\n",
        "    noise_level = 0.2\n",
        "    strategy = 'MNIST'\n",
        "\n",
        "class TrainParameters:\n",
        "    epochs = 50\n",
        "    batch_size = 100\n",
        "    train_size = 60000\n",
        "    test_size = 10000\n",
        "    class_num = 10\n",
        "\n",
        "class FFNNTrainParameters:\n",
        "    epochs = 120\n",
        "\n",
        "class PerceptronTrainParameters:\n",
        "    epochs = 1500\n",
        "    \n",
        "class DBMParameters(ABC):\n",
        "    def __init__(self, image_height, image_width):\n",
        "        super().__init__()\n",
        "        self.K = 1\n",
        "        self.learning_rate = 0.1\n",
        "        self.lr_decay = False\n",
        "        self.init_momentum = 0.5\n",
        "        self.fin_momentum = 0.9\n",
        "        self.w_decay = 0.0002\n",
        "        self.xavier_init = False\n",
        "        self.increase_to_cd_k = False\n",
        "        self.use_gpu = True\n",
        "        \n",
        "        self.image_height = image_height\n",
        "        self.image_width = image_width\n",
        "\n",
        "\n",
        "    @abstractproperty\n",
        "    def hidden_units(self):\n",
        "        pass\n",
        "\n",
        "    @property\n",
        "    def n_hidden_layers(self):\n",
        "        return len(self.hidden_units)"
      ]
    },
    {
      "cell_type": "code",
      "execution_count": 184,
      "metadata": {
        "id": "-2VQ2ohr-y3q"
      },
      "outputs": [],
      "source": [
        "class DBMDeepParameters(DBMParameters):\n",
        "    def __init__(self, image_height, image_width):\n",
        "        super().__init__(image_height, image_width)\n",
        "    \n",
        "    @property\n",
        "    def hidden_units(self):\n",
        "        return [500, 500] #, 1000]\n",
        "        \n",
        "\n",
        "class DBMShallowParameters(DBMParameters):\n",
        "    def __init__(self, image_height, image_width):\n",
        "        super().__init__(image_height, image_width)\n",
        "    \n",
        "    @property\n",
        "    def hidden_units(self):\n",
        "        return [500]  # shallow model for adversarial attacks"
      ]
    },
    {
      "cell_type": "code",
      "execution_count": 185,
      "metadata": {
        "id": "WZ5njjM8-y3q"
      },
      "outputs": [],
      "source": [
        "class FeedForward(torch.nn.Module):\n",
        "  def __init__(self,\n",
        "               first_hidden_layer_size,\n",
        "               class_num,\n",
        "               input_size):\n",
        "    super().__init__()\n",
        "    self.first_hidden = torch.nn.Linear(input_size, first_hidden_layer_size)\n",
        "    self.output = torch.nn.Linear(first_hidden_layer_size, class_num)\n",
        "\n",
        "  def forward(self, input):\n",
        "    input = input.view((input.shape[0], -1))\n",
        "    relu = torch.nn.ReLU()\n",
        "    first_hidden_repr = relu(self.first_hidden(input))\n",
        "    output = self.output(first_hidden_repr)\n",
        "    return output"
      ]
    },
    {
      "cell_type": "code",
      "execution_count": 186,
      "metadata": {
        "id": "KwZsvdhgcfhc"
      },
      "outputs": [],
      "source": [
        "def fix_seeds():\n",
        "    torch.manual_seed(0)\n",
        "    random.seed(0)\n",
        "    np.random.seed(0)"
      ]
    },
    {
      "cell_type": "code",
      "execution_count": 187,
      "metadata": {
        "id": "AZweLFYNkzIE"
      },
      "outputs": [],
      "source": [
        "def visualize_symbols(dataset, n_subplots, image_shape):\n",
        "    n_rows_cols = int(math.sqrt(n_subplots))\n",
        "    _, axes = plt.subplots(\n",
        "        n_rows_cols, \n",
        "        n_rows_cols, \n",
        "        sharex = True,\n",
        "        sharey = True,\n",
        "        figsize = (10, 10)\n",
        "    )\n",
        "    for i in range(n_subplots):\n",
        "        row = i % n_rows_cols\n",
        "        col = i // n_rows_cols\n",
        "        img = dataset[i] \n",
        "        axes[row, col].imshow(torch.flatten(img).reshape(image_shape), cmap='binary')"
      ]
    },
    {
      "cell_type": "code",
      "execution_count": 188,
      "metadata": {
        "id": "iIQtGPxzPltA"
      },
      "outputs": [],
      "source": [
        "def find_image(ds, label):\n",
        "    for item in ds:\n",
        "        if item[1] == label:\n",
        "            return item[0]\n",
        "\n",
        "def visualize_labels(labels, data, targets, figsize = (10, 10)):\n",
        "    n_subplots = len(labels)\n",
        "    \n",
        "    n_rows_cols = int(math.sqrt(n_subplots))\n",
        "    _, axes = plt.subplots(\n",
        "        n_rows_cols, \n",
        "        n_rows_cols, \n",
        "        sharex = True,\n",
        "        sharey = True,\n",
        "        figsize = figsize\n",
        "    )\n",
        "\n",
        "    for i in range(n_subplots):\n",
        "        col = i % n_rows_cols\n",
        "        row = i // n_rows_cols\n",
        "        label = labels[i]\n",
        "        \n",
        "        img_index = np.where(targets == label)[0][0]\n",
        "        image = data[img_index]\n",
        "        axes[row, col].imshow(image, cmap = 'binary')\n",
        "\n",
        "def prepare_data(ds, label_from, label_to):\n",
        "    labels = []\n",
        "    images = []\n",
        "    for item in ds:\n",
        "        if label_from <= item[1] <= label_to:\n",
        "            labels.append(item[1])\n",
        "            images.append(item[0])\n",
        "    return images, labels"
      ]
    },
    {
      "cell_type": "code",
      "execution_count": 189,
      "metadata": {
        "id": "Lg0d1Md2-y3v"
      },
      "outputs": [],
      "source": [
        "def get_layer_representations(n_layers, model, input_data):\n",
        "    internal_reps = []\n",
        "    for layer_n in range(n_layers):\n",
        "        if layer_n == 0:\n",
        "            repr = get_layer_representation(\n",
        "                input = input_data,\n",
        "                model = model,\n",
        "                layer_number = layer_n\n",
        "            )\n",
        "            internal_reps.append(repr)\n",
        "        else:\n",
        "            # Previous hidden is now an input data for next hidden\n",
        "            input = internal_reps[layer_n - 1]\n",
        "            repr = get_layer_representation(\n",
        "                input = input,\n",
        "                model = model,\n",
        "                layer_number = layer_n\n",
        "            )\n",
        "            internal_reps.append(repr)\n",
        "    return internal_reps"
      ]
    },
    {
      "cell_type": "code",
      "execution_count": 190,
      "metadata": {
        "id": "MnEInOEHjHZr"
      },
      "outputs": [],
      "source": [
        "def move_parameters_to_cpu(dbn_mnist):\n",
        "    for layer in dbn_mnist.rbm_layers:\n",
        "        layer.W = layer.W.cpu()\n",
        "        layer.h_bias = layer.h_bias.cpu()\n",
        "        layer.v_bias = layer.v_bias.cpu()\n",
        "\n",
        "def apply_threshold(weights, threshold=0):\n",
        "    return weights * (abs(weights) > threshold)\n",
        "  \n",
        "def plot_layer_receptive_fields(weights_matrices, num_subplots, \n",
        "                                img_width, img_height, \n",
        "                                fig_size = (20, 20),\n",
        "                                suptitle = ''):\n",
        "    n_rows_cols = int(math.sqrt(num_subplots))\n",
        "    fig, axes = plt.subplots(n_rows_cols, n_rows_cols, sharex=True, sharey=True, figsize=fig_size)\n",
        "    for i in range(num_subplots):\n",
        "        row = i % n_rows_cols\n",
        "        col = i // n_rows_cols\n",
        "        \n",
        "        # Matrix of connection strength (W) of i-th unit of the layer.\n",
        "        # Reshape from 'linear' to 'image' representation\n",
        "        W_matrix = weights_matrices[i, :].reshape((img_height, img_width))\n",
        "        axes[row, col].imshow(W_matrix, cmap = plt.cm.gray)\n",
        "    fig.suptitle(suptitle)"
      ]
    },
    {
      "cell_type": "code",
      "execution_count": 191,
      "metadata": {
        "id": "cb486criz1_N"
      },
      "outputs": [],
      "source": [
        "def project_hidden_layer(weights_matrices, layer_numb):\n",
        "    \n",
        "    # layer_numb starts from 2 (number of hidden layer)\n",
        "    if layer_numb > len(weights_matrices):\n",
        "        print(f'Mistake in project_hidden_layer, accessing wrong layer')\n",
        "        return \n",
        "    layers = weights_matrices[:layer_numb]\n",
        "    cur_layer = layers[0]\n",
        "    for i in range(1, len(layers)):\n",
        "        cur_layer = layers[i] @ cur_layer\n",
        "    return cur_layer"
      ]
    },
    {
      "cell_type": "code",
      "execution_count": 192,
      "metadata": {
        "id": "EZToN8Ul-y3x"
      },
      "outputs": [],
      "source": [
        "def get_layer_representation(input, model, layer_number):\n",
        "    flattened_input = input.view((input.shape[0], -1)).type(torch.FloatTensor)\n",
        "    hidden_repr, _ = model.rbm_layers[layer_number].to_hidden(flattened_input)\n",
        "    return hidden_repr"
      ]
    },
    {
      "cell_type": "code",
      "execution_count": 193,
      "metadata": {
        "id": "DYAUlc4j-y3x"
      },
      "outputs": [],
      "source": [
        "def get_mask(labels, label):\n",
        "    return labels.numpy() == label\n",
        "\n",
        "def label_to_mean_hidden_repr(hidden_representation, images, labels):\n",
        "    hidden_representation_np = hidden_representation.numpy()\n",
        "    return {\n",
        "        label: hidden_representation_np[get_mask(labels, label)].mean(axis=0)\n",
        "        for label in np.unique(labels.numpy())\n",
        "    }\n",
        "\n",
        "def get_hidden_representation_matrix(label_to_mean_hidden_repr, labels):\n",
        "    return np.concatenate(\n",
        "        [np.expand_dims(\n",
        "            label_to_mean_hidden_repr[label], axis = 0\n",
        "        )\n",
        "        for label in np.unique(labels.numpy())]\n",
        "    )"
      ]
    },
    {
      "cell_type": "code",
      "execution_count": 194,
      "metadata": {
        "id": "2FW541rr-y3y"
      },
      "outputs": [],
      "source": [
        "def plot_dendrogram(mean_repr_matrix, title = ''):\n",
        "    fig, ax = plt.subplots()\n",
        "    linkage = cluster.hierarchy.linkage(mean_repr_matrix, method=\"complete\")  # we run the clustering algorithm here\n",
        "    dendrogram = cluster.hierarchy.dendrogram(linkage)\n",
        "    ax.set_title(title)\n",
        "    return dendrogram"
      ]
    },
    {
      "cell_type": "code",
      "execution_count": 195,
      "metadata": {
        "id": "lVUw6LO_-y3y"
      },
      "outputs": [],
      "source": [
        "def train(network, input, targets, epochs=1000):\n",
        "  print_every_n_epochs = 100 if epochs >= 1000 else 10\n",
        "  optimizer = torch.optim.SGD(network.parameters(), lr=0.05)\n",
        "  loss_fn = torch.nn.CrossEntropyLoss()\n",
        "\n",
        "  for epoch in range(epochs):\n",
        "    optimizer.zero_grad()\n",
        "    predictions = network(input)  # .squeeze()\n",
        "    loss = loss_fn(predictions, targets)\n",
        "    loss.backward()\n",
        "    optimizer.step()\n",
        "    if epoch % print_every_n_epochs == 0:\n",
        "      print(\"epoch {}/{}, loss = {:.6f}\".format(epoch, epochs, loss))\n",
        "    \n",
        "def attach_perceptron(model, layer_num, class_num):\n",
        "    rbm_layer_size = model.rbm_layers[layer_num].W.shape[1]\n",
        "    return Perceptron(rbm_layer_size, class_num)\n",
        "\n",
        "def compute_accuracy(predictions, targets):\n",
        "    predictions_indices = predictions.max(axis=1).indices  # convert probabilities to indices\n",
        "    accuracy = (predictions_indices == targets).sum() / len(targets)\n",
        "    return accuracy.item()\n",
        "\n",
        "class Perceptron(torch.nn.Module):\n",
        "  def __init__(self, rbm_layer_size, class_num):\n",
        "    super().__init__()\n",
        "    self.linear = torch.nn.Linear(rbm_layer_size, class_num)  # because 10 classes. You declare input and output\n",
        "\n",
        "  def forward(self, x):  # called when applied on some data, basic method\n",
        "    return self.linear(x)"
      ]
    },
    {
      "cell_type": "code",
      "execution_count": 196,
      "metadata": {
        "id": "KQU2FmN0-y3z"
      },
      "outputs": [],
      "source": [
        "def inject_noise(mnist_data, noise_level):\n",
        "  random_gaussian_tensor = torch.randn(mnist_data.shape)/6.6 + .6\n",
        "  probability_tensor = torch.ones(mnist_data.shape)*noise_level\n",
        "  mask_tensor = torch.bernoulli(probability_tensor)\n",
        "  return mnist_data - mask_tensor * mnist_data + mask_tensor * random_gaussian_tensor"
      ]
    },
    {
      "cell_type": "code",
      "execution_count": 197,
      "metadata": {
        "id": "sJPs02DJ-y3z"
      },
      "outputs": [],
      "source": [
        "def accuracy_at_noise_level(\n",
        "    noisy_input,\n",
        "    targets,\n",
        "\n",
        "    rbm_model,\n",
        "    hidden_layer_number,\n",
        "\n",
        "    perceptron_model,\n",
        "    ffnn_model\n",
        "):\n",
        "  \n",
        "  hidden_repr_noisy = get_layer_representation(noisy_input, rbm_model, hidden_layer_number)\n",
        "\n",
        "  predictions_hidden = perceptron_model(hidden_repr_noisy)\n",
        "  predictions_ffnn = ffnn_model(noisy_input.reshape(\n",
        "      (noisy_input.shape[0], noisy_input.shape[1] * noisy_input.shape[2]))\n",
        "  )\n",
        "  \n",
        "  acc_hidden = compute_accuracy(predictions_hidden, targets)\n",
        "  acc_ffnn = compute_accuracy(predictions_ffnn, targets)\n",
        "  return acc_hidden, acc_ffnn"
      ]
    },
    {
      "cell_type": "code",
      "execution_count": 198,
      "metadata": {
        "id": "AcmzgEZ6-y30"
      },
      "outputs": [],
      "source": [
        "def plot_noise_robustness_curves(\n",
        "  noise_levels,\n",
        "  dbn_model,\n",
        "  ffnn_model,\n",
        "  perceptron_model,  # perceptron_first_hidden\n",
        "\n",
        "  data,  # data_test,\n",
        "  targets  # targets_test\n",
        "):\n",
        "  accuracy_values_first_hidden = []\n",
        "  accuracy_values_ffnn = []\n",
        "\n",
        "  for noise_level in noise_levels:\n",
        "    accuracy_first_hidden, accuracy_ffnn = accuracy_at_noise_level(\n",
        "        noisy_input = inject_noise(\n",
        "          data, \n",
        "          noise_level\n",
        "        ),\n",
        "        targets = targets,\n",
        "\n",
        "        rbm_model = dbn_model,\n",
        "        hidden_layer_number = 0,\n",
        "\n",
        "        perceptron_model = perceptron_model,\n",
        "        ffnn_model = ffnn_model\n",
        "    )\n",
        "    accuracy_values_first_hidden.append(accuracy_first_hidden)\n",
        "    accuracy_values_ffnn.append(accuracy_ffnn)\n",
        "\n",
        "  fig, ax = plt.subplots()\n",
        "  ax.plot(range(len(noise_levels)), accuracy_values_first_hidden,\n",
        "            marker = 'o',\n",
        "            markerfacecolor = 'white', \n",
        "            markersize = 9\n",
        "  )\n",
        "  ax.plot(range(len(noise_levels)), accuracy_values_ffnn,\n",
        "          marker = 'o',\n",
        "          markerfacecolor = 'white', \n",
        "          markersize = 9\n",
        "  )\n",
        "\n",
        "  ax.set_title(\"Robustness to noise\")\n",
        "  ax.set_xlabel(\"Noise level (%)\")\n",
        "  ax.set_ylabel(\"Accuracy\")\n",
        "  plt.xticks(range(len(noise_levels)), [int(l*100) for l in noise_levels])\n",
        "  plt.grid()\n",
        "  plt.legend([\"First hidden\", \"FFNN\"])\n"
      ]
    },
    {
      "cell_type": "code",
      "execution_count": 199,
      "metadata": {
        "id": "aF4-o4JT-y30"
      },
      "outputs": [],
      "source": [
        "def fgsm_attack(image, epsilon, data_grad):\n",
        "    # Collect the element-wise sign of the data gradient\n",
        "    sign_data_grad = data_grad.sign()\n",
        "\n",
        "    # Create the perturbed image by adjusting each pixel of the input image\n",
        "    perturbed_image = image + epsilon*sign_data_grad\n",
        "\n",
        "    # Adding clipping to maintain [0,1] range\n",
        "    perturbed_image = torch.clamp(perturbed_image, 0, 1)\n",
        "\n",
        "    # Return the perturbed image\n",
        "    return perturbed_image"
      ]
    },
    {
      "cell_type": "code",
      "execution_count": 200,
      "metadata": {
        "id": "BT23dNRy-y30"
      },
      "outputs": [],
      "source": [
        "class DBNWithReadOut(torch.nn.Module):\n",
        "    def __init__(self, dbn_model, perceptron):\n",
        "        super().__init__()\n",
        "        self.readout = perceptron\n",
        "        self.dbn_model = dbn_model\n",
        "\n",
        "    def forward(self, image):\n",
        "        x, _ = self.dbn_model.forward(image)\n",
        "        x = self.readout.forward(x)\n",
        "        return x"
      ]
    },
    {
      "cell_type": "code",
      "execution_count": 201,
      "metadata": {
        "id": "Hwginv5l-y31"
      },
      "outputs": [],
      "source": [
        "def attack_demo(image, label, attacked_model):\n",
        "    f = plt.figure()\n",
        "    s1 = f.add_subplot(1, 2, 1)\n",
        "    s2 = f.add_subplot(1, 2, 2)\n",
        "    \n",
        "    s1.imshow(\n",
        "        image.reshape(PreprocParams.crop_size, PreprocParams.crop_size)\n",
        "    )\n",
        "\n",
        "    image.requires_grad = True\n",
        "    model_output = attacked_model(image)\n",
        "    pred = torch.argmax(model_output)\n",
        "\n",
        "    s1.set_title(\n",
        "        f\"\"\"\n",
        "        Image before\n",
        "        True label: {label}\n",
        "        Predicted label: {pred}\n",
        "        \"\"\"\n",
        "    )\n",
        "\n",
        "    loss = torch.nn.functional.cross_entropy(\n",
        "        target = torch.tensor([label]),\n",
        "        input = model_output\n",
        "    )\n",
        "    \n",
        "    attacked_model.zero_grad()\n",
        "    loss.backward()\n",
        "\n",
        "    image_grad = image.grad.data\n",
        "    perturbed_image = fgsm_attack(image, 0.2, image_grad)\n",
        "    perturbed_image_np = perturbed_image.detach().numpy()\n",
        "\n",
        "    pred_adversarial = torch.argmax(\n",
        "        attacked_model(perturbed_image)\n",
        "    )\n",
        "    \n",
        "    s2.imshow(\n",
        "        perturbed_image_np.reshape(PreprocParams.crop_size, PreprocParams.crop_size)\n",
        "    )\n",
        "    s2.set_title(\n",
        "        f\"\"\"\n",
        "        Image after adv. attack\n",
        "        True label: {label}\n",
        "        Predicted label: {pred_adversarial}\n",
        "        \"\"\"\n",
        "    )"
      ]
    },
    {
      "cell_type": "code",
      "execution_count": 202,
      "metadata": {
        "id": "LiSv3EC2-y31"
      },
      "outputs": [],
      "source": [
        "def test_robustness_to_attack(model, device, test_loader, epsilon, num_steps=0, verbose=True):\n",
        "    correct = 0\n",
        "    print_reconstruction = num_steps > 0\n",
        "\n",
        "    for data, target in tqdm.tqdm(test_loader):\n",
        "        data, target = data.to(device), target.to(device)\n",
        "        data = data.reshape(1, 28, 28)\n",
        "        data.requires_grad = True  # Important for Attack\n",
        "\n",
        "        output = model.forward(data)\n",
        "\n",
        "        init_pred = torch.argmax(output)\n",
        "        # If the initial prediction is wrong, dont bother attacking, just move on\n",
        "        if init_pred.item() != target.item():\n",
        "            continue\n",
        "\n",
        "        if (print_reconstruction and verbose):\n",
        "          print(\"\\nHere's the original sample:\\n\")\n",
        "          plt.imshow(data.detach().numpy().reshape(28,28))\n",
        "          plt.show()\n",
        "\n",
        "        loss = functional.nll_loss(output, target)\n",
        "        model.zero_grad()\n",
        "        loss.backward()\n",
        "        data_grad = data.grad.data  # collect the gradient of the input data\n",
        "        perturbed_data = fgsm_attack(data, epsilon, data_grad)\n",
        "\n",
        "        if (print_reconstruction and verbose):\n",
        "            print(\"\\nHere's a perturbed sample:\\n\")\n",
        "            plt.imshow(perturbed_data.detach().numpy().reshape(28,28))\n",
        "            plt.show()\n",
        "\n",
        "\n",
        "        # If requested, reconstruct the input iterating forward-backward dynamics\n",
        "        if num_steps > 0:\n",
        "            for __ in range(0, num_steps):\n",
        "                perturbed_data, __ = model.dbn_model.reconstruct(perturbed_data)\n",
        "            if (print_reconstruction and verbose):\n",
        "                print(f\"\\nHere's what a {num_steps}-steps reconstructed sample looks like:\\n\")\n",
        "                plt.imshow(perturbed_data.detach().numpy().reshape(28,28))\n",
        "                plt.show()\n",
        "                print_reconstruction = False\n",
        "\n",
        "        # Re-classify the perturbed image\n",
        "        output = model(perturbed_data)\n",
        "\n",
        "        # Check for success\n",
        "        # get the index of the max element in the output\n",
        "        final_pred = output.max(1, keepdim=True)[1]\n",
        "        if final_pred.item() == target.item():\n",
        "            correct += 1\n",
        "\n",
        "    # Calculate final accuracy for this epsilon\n",
        "    final_acc = correct/float(len(test_loader))\n",
        "    if verbose:\n",
        "      print(\"\\nEpsilon: {}\\tTest Accuracy = {} / {} = {}\\n\".format(epsilon,\n",
        "            correct, len(test_loader), final_acc))\n",
        "\n",
        "    return final_acc"
      ]
    },
    {
      "cell_type": "code",
      "source": [
        "def test_epsilon_values_effect(model, n_steps, epsilons):\n",
        "  accuracies = list()\n",
        "\n",
        "  for eps in epsilons:\n",
        "      acc = test_robustness_to_attack(\n",
        "          model, \n",
        "          device, \n",
        "          test_loader, \n",
        "          eps, \n",
        "          num_steps = n_steps, \n",
        "          verbose=False\n",
        "      )\n",
        "      accuracies.append(acc)\n",
        "  return accuracies"
      ],
      "metadata": {
        "id": "nH79K_REHw8A"
      },
      "execution_count": 203,
      "outputs": []
    },
    {
      "cell_type": "markdown",
      "metadata": {
        "id": "1pBv1xQbQsQF"
      },
      "source": [
        "## **Data preparation**"
      ]
    },
    {
      "cell_type": "markdown",
      "metadata": {
        "id": "_pkrb1di-y32"
      },
      "source": [
        "### Download"
      ]
    },
    {
      "cell_type": "markdown",
      "metadata": {
        "id": "JM-8gd_RXxTL"
      },
      "source": [
        "\n",
        "- For neural networks, we need to scale data before learning\n",
        "- Need to obtain tensor shape\n",
        "- Fix seeds for reproducibility"
      ]
    },
    {
      "cell_type": "code",
      "execution_count": 204,
      "metadata": {
        "id": "LDllo9DBC5lQ"
      },
      "outputs": [],
      "source": [
        "%%capture \n",
        "def get_emnist_data():\n",
        "    fix_seeds()\n",
        "\n",
        "    transformer = tv.transforms.Compose(\n",
        "        [\n",
        "            #tv.transforms.CenterCrop(CROP_SIZE_),\n",
        "            tv.transforms.ToTensor(),\n",
        "            \n",
        "            # Transform to {-1, 1} binary image\n",
        "            tv.transforms.Normalize(\n",
        "                mean=(PreprocParams.mean,), \n",
        "                std=(PreprocParams.std)\n",
        "            ),\n",
        "\n",
        "            # Rotate\n",
        "            # tv.transforms.RandomRotation(degrees = 90) \n",
        "        ]\n",
        "    )\n",
        "\n",
        "    data = tv.datasets.EMNIST(\n",
        "        root = 'data/',\n",
        "        train = True,\n",
        "        download = True,\n",
        "        transform = transformer,\n",
        "        split = 'digits',\n",
        "        # shuffle = False\n",
        "    )\n",
        "\n",
        "    data.data = (data.data.type(torch.FloatTensor) / 255)\n",
        "    return data.data, data.targets\n",
        "\n",
        "def get_mnist_data():\n",
        "    train = tv.datasets.MNIST(\n",
        "        'data/', \n",
        "        train = True, \n",
        "        download = True,\n",
        "        transform=tv.transforms.Compose(\n",
        "            [tv.transforms.ToTensor()]\n",
        "        )\n",
        "    )\n",
        "\n",
        "    test = tv.datasets.MNIST(\n",
        "        'data/', \n",
        "        train = False, \n",
        "        download = True,\n",
        "        transform=tv.transforms.Compose(\n",
        "            [tv.transforms.ToTensor()]\n",
        "        )\n",
        "    )\n",
        "\n",
        "    targets = torch.cat((train.targets, test.targets))\n",
        "    data = torch.cat((train.data, test.data))\n",
        "    data = (data.type(torch.FloatTensor) / 255)\n",
        "    return data, targets\n",
        "\n",
        "def get_data(strategy):\n",
        "    if strategy == 'EMNIST':\n",
        "        return get_emnist_data()\n",
        "    elif strategy == 'MNIST':\n",
        "        return get_mnist_data()"
      ]
    },
    {
      "cell_type": "code",
      "source": [
        "%%capture\n",
        "data, targets = get_data(PreprocParams.strategy)\n",
        "print(f'Data size: {data.shape} {targets.shape}')"
      ],
      "metadata": {
        "id": "WLUusBmJWc-O"
      },
      "execution_count": 205,
      "outputs": []
    },
    {
      "cell_type": "markdown",
      "metadata": {
        "id": "40eopv3e-y33"
      },
      "source": [
        "### Train / Test split"
      ]
    },
    {
      "cell_type": "code",
      "execution_count": 206,
      "metadata": {
        "colab": {
          "base_uri": "https://localhost:8080/"
        },
        "id": "YAnHeaSqIjN1",
        "outputId": "37d18693-22e7-4dd3-d73b-0e15e4f102ba"
      },
      "outputs": [
        {
          "output_type": "stream",
          "name": "stdout",
          "text": [
            "\n",
            "        Train size: (torch.Size([60000, 28, 28]), torch.Size([60000]))\n",
            "        Test size: (torch.Size([10000, 28, 28]), torch.Size([10000]))\n",
            "\n"
          ]
        }
      ],
      "source": [
        "data_train = data[: TrainParameters.train_size, :]\n",
        "targets_train = targets[: TrainParameters.train_size]\n",
        "\n",
        "data_test = data[\n",
        "  TrainParameters.train_size : TrainParameters.train_size + TrainParameters.test_size, :\n",
        "]\n",
        "targets_test = targets[\n",
        "  TrainParameters.train_size : TrainParameters.train_size + TrainParameters.test_size\n",
        "]\n",
        "\n",
        "print(f\"\"\"\n",
        "        Train size: {data_train.shape, targets_train.shape}\n",
        "        Test size: {data_test.shape, targets_test.shape}\n",
        "\"\"\")"
      ]
    },
    {
      "cell_type": "markdown",
      "metadata": {
        "id": "3xQc4CTi-y34"
      },
      "source": [
        "### Exploration & visualization"
      ]
    },
    {
      "cell_type": "code",
      "execution_count": 207,
      "metadata": {
        "colab": {
          "base_uri": "https://localhost:8080/",
          "height": 593
        },
        "id": "L0lp_jrHnpsu",
        "outputId": "0b703eed-915d-4d68-f004-45355035a82a"
      },
      "outputs": [
        {
          "output_type": "display_data",
          "data": {
            "image/png": "[encoded data removed]",
            "text/plain": [
              "<Figure size 720x720 with 16 Axes>"
            ]
          },
          "metadata": {
            "needs_background": "light"
          }
        }
      ],
      "source": [
        "visualize_symbols(\n",
        "    data_train, \n",
        "    n_subplots = 16, \n",
        "    image_shape = (PreprocParams.crop_size, PreprocParams.crop_size)\n",
        ")"
      ]
    },
    {
      "cell_type": "code",
      "execution_count": 208,
      "metadata": {
        "colab": {
          "base_uri": "https://localhost:8080/",
          "height": 484
        },
        "id": "878FvFjq-y35",
        "outputId": "06e38083-0bff-49ea-8a65-32b5f9abe84c"
      },
      "outputs": [
        {
          "output_type": "display_data",
          "data": {
            "image/png": "[encoded data removed]",
            "text/plain": [
              "<Figure size 576x576 with 9 Axes>"
            ]
          },
          "metadata": {
            "needs_background": "light"
          }
        }
      ],
      "source": [
        "# Visualize first few symbols\n",
        "visualize_labels(\n",
        "    labels = [\n",
        "        0, 1, 2,\n",
        "        3, 4, 5,\n",
        "        6, 7, 8\n",
        "    ],\n",
        "    data = data_train,\n",
        "    targets = targets_train,\n",
        "    figsize = (8, 8)\n",
        ")"
      ]
    },
    {
      "cell_type": "markdown",
      "metadata": {
        "id": "FJkVHu_9Go00"
      },
      "source": [
        "### Class distribution"
      ]
    },
    {
      "cell_type": "code",
      "execution_count": 209,
      "metadata": {
        "colab": {
          "base_uri": "https://localhost:8080/",
          "height": 336
        },
        "id": "c45YmnU0Gtth",
        "outputId": "8413190a-30e8-4026-f2c0-886294092462"
      },
      "outputs": [
        {
          "output_type": "display_data",
          "data": {
            "image/png": "[encoded data removed]",
            "text/plain": [
              "<Figure size 1080x360 with 2 Axes>"
            ]
          },
          "metadata": {
            "needs_background": "light"
          }
        }
      ],
      "source": [
        "fig, axes = plt.subplots(1, 2, figsize = (15, 5))\n",
        "sns.countplot(\n",
        "    x = targets_train.numpy(), ax = axes[0]\n",
        "\n",
        ")\n",
        "_ = axes[0].set_title('Train class distribution')\n",
        "\n",
        "sns.countplot(\n",
        "    x = targets_test.numpy(), \n",
        "    ax = axes[1]\n",
        ")\n",
        "_ = axes[1].set_title('Test class distribution')"
      ]
    },
    {
      "cell_type": "markdown",
      "metadata": {
        "id": "QUZuFzkvT4XZ"
      },
      "source": [
        "- 1st conclusion:  \n",
        "    - 1 Dataset\n",
        "    - 10 distinct symbols (for 'digits' split)\n",
        "    - Approximately uniform class distribution\n",
        "    - ~ 10% images per class\n",
        "    - Digits are centered in the image and do not occupy the whole square (-> apply center crop)"
      ]
    },
    {
      "cell_type": "markdown",
      "metadata": {
        "id": "0BI9KuHepnKb"
      },
      "source": [
        "## **Deep Belief Network model & fit**"
      ]
    },
    {
      "cell_type": "markdown",
      "metadata": {
        "id": "XdfxqpZtwmgT"
      },
      "source": [
        "- Deep Belief Network - a stack of Restricted Bolzmann Machines\n",
        "    - RBM is a bipartite graph with input and hidden layer\n",
        "    - Hidden layer captures dependencies and features\n",
        "- Each layer learns more complex and abstract features\n",
        "- Used as feature extraction method (generative model)\n",
        "- No output neurons\n",
        "- Two phases (negative & positive) during learning (reconstruction)\n",
        "\n",
        "\n"
      ]
    },
    {
      "cell_type": "markdown",
      "metadata": {
        "id": "Nmapfxge-y36"
      },
      "source": [
        "### Prepare model"
      ]
    },
    {
      "cell_type": "markdown",
      "metadata": {
        "id": "iVeUPyr8-y37"
      },
      "source": [
        "Here, we prepare a deep (for internal representations) and a shallow (for adversarial attacks) models"
      ]
    },
    {
      "cell_type": "code",
      "execution_count": 210,
      "metadata": {
        "id": "KmW7JfF--y37"
      },
      "outputs": [],
      "source": [
        "fix_seeds()\n",
        "\n",
        "dbm_deep_params = DBMDeepParameters(\n",
        "    image_height = PreprocParams.crop_size,\n",
        "    image_width = PreprocParams.crop_size\n",
        ")\n",
        "\n",
        "model_deep = DBN(\n",
        "    visible_units = dbm_deep_params.image_width * dbm_deep_params.image_height,\n",
        "    hidden_units = dbm_deep_params.hidden_units,\n",
        "    k = dbm_deep_params.K,\n",
        "    learning_rate = dbm_deep_params.learning_rate,\n",
        "    learning_rate_decay = dbm_deep_params.lr_decay,\n",
        "    initial_momentum = dbm_deep_params.init_momentum,\n",
        "    weight_decay = dbm_deep_params.w_decay,\n",
        "    xavier_init = dbm_deep_params.xavier_init,\n",
        "    increase_to_cd_k = dbm_deep_params.increase_to_cd_k,\n",
        "    use_gpu = dbm_deep_params.use_gpu\n",
        ")\n"
      ]
    },
    {
      "cell_type": "code",
      "execution_count": 211,
      "metadata": {
        "id": "qi3dYDbv-y37"
      },
      "outputs": [],
      "source": [
        "fix_seeds()\n",
        "\n",
        "dbm_shallow_params = DBMShallowParameters(\n",
        "    image_height = PreprocParams.crop_size,\n",
        "    image_width = PreprocParams.crop_size\n",
        ")\n",
        "\n",
        "model_shallow = DBN(\n",
        "    visible_units = dbm_shallow_params.image_width * dbm_shallow_params.image_height,\n",
        "    hidden_units = dbm_shallow_params.hidden_units,\n",
        "    k = dbm_shallow_params.K,\n",
        "    learning_rate = dbm_shallow_params.learning_rate,\n",
        "    learning_rate_decay = dbm_shallow_params.lr_decay,\n",
        "    initial_momentum = dbm_shallow_params.init_momentum,\n",
        "    weight_decay = dbm_shallow_params.w_decay,\n",
        "    xavier_init = dbm_shallow_params.xavier_init,\n",
        "    increase_to_cd_k = dbm_shallow_params.increase_to_cd_k,\n",
        "    use_gpu = dbm_shallow_params.use_gpu\n",
        ")"
      ]
    },
    {
      "cell_type": "markdown",
      "metadata": {
        "id": "DyE9igCA-y37"
      },
      "source": [
        "### Fit"
      ]
    },
    {
      "cell_type": "code",
      "execution_count": 212,
      "metadata": {
        "id": "z_R-EjDCKTB2",
        "colab": {
          "base_uri": "https://localhost:8080/"
        },
        "outputId": "704a8ae8-aeb0-405a-ef01-b1fc145583b5"
      },
      "outputs": [
        {
          "output_type": "stream",
          "name": "stdout",
          "text": [
            "--------------------\n",
            "Training RBM layer 1\n",
            "|Epoch |avg_rec_err |std_rec_err  |mean_grad |std_grad  |\n",
            "|10    |0.9942   |0.0528   |345.0992 |13.4257   |\n",
            "|20    |0.9481   |0.0496   |327.0140 |12.7256   |\n",
            "|30    |0.9336   |0.0501   |318.3804 |12.3402   |\n",
            "|40    |0.9280   |0.0491   |315.6078 |12.4171   |\n",
            "|50    |0.9258   |0.0499   |314.7289 |12.4236   |\n",
            "--------------------\n",
            "Training RBM layer 2\n",
            "|Epoch |avg_rec_err |std_rec_err  |mean_grad |std_grad  |\n",
            "|10    |1.2501   |0.0420   |275.4546 |11.3677   |\n",
            "|20    |1.2093   |0.0429   |270.3755 |11.7795   |\n",
            "|30    |1.1996   |0.0415   |269.3027 |12.7107   |\n",
            "|40    |1.1915   |0.0428   |266.4349 |11.6343   |\n",
            "|50    |1.1904   |0.0410   |266.7249 |12.1442   |\n"
          ]
        }
      ],
      "source": [
        "# %%capture\n",
        "\n",
        "fix_seeds()\n",
        "\n",
        "model_deep.train_static(\n",
        "    data_train,\n",
        "    targets_train,\n",
        "    TrainParameters.epochs,\n",
        "    TrainParameters.batch_size\n",
        ")\n",
        "\n",
        "move_parameters_to_cpu(model_deep)"
      ]
    },
    {
      "cell_type": "code",
      "execution_count": 213,
      "metadata": {
        "colab": {
          "base_uri": "https://localhost:8080/"
        },
        "id": "7Xq81Ys--y38",
        "outputId": "ed046525-8abb-44ba-bf3a-471ed21b3e87"
      },
      "outputs": [
        {
          "output_type": "stream",
          "name": "stdout",
          "text": [
            "--------------------\n",
            "Training RBM layer 1\n",
            "|Epoch |avg_rec_err |std_rec_err  |mean_grad |std_grad  |\n",
            "|10    |0.9942   |0.0528   |345.0992 |13.4257   |\n",
            "|20    |0.9481   |0.0496   |327.0140 |12.7256   |\n",
            "|30    |0.9336   |0.0501   |318.3804 |12.3402   |\n",
            "|40    |0.9280   |0.0491   |315.6078 |12.4171   |\n",
            "|50    |0.9258   |0.0499   |314.7289 |12.4236   |\n"
          ]
        }
      ],
      "source": [
        "# %%capture\n",
        "\n",
        "fix_seeds()\n",
        "\n",
        "model_shallow.train_static(\n",
        "    data_train,\n",
        "    targets_train,\n",
        "    TrainParameters.epochs,\n",
        "    TrainParameters.batch_size\n",
        ")\n",
        "\n",
        "move_parameters_to_cpu(model_shallow)"
      ]
    },
    {
      "cell_type": "markdown",
      "metadata": {
        "id": "kMrYlG41pRWc"
      },
      "source": [
        "## **Linear read-outs. Receptive fields visualization**"
      ]
    },
    {
      "cell_type": "markdown",
      "metadata": {
        "id": "ogTklRTtnZFw"
      },
      "source": [
        "Lets understand the structure of network & layers\n",
        "- Input layer size - (IMG_SIZE_ * IMG_SIZE_)\n",
        "- 0-level of RBM network with N units -> has connection matrix W. \n",
        "Size of W = N_units * (IMG_SIZE_ * IMG_SIZE_)\n",
        "- We can consider W matrix of 0-level as N \"images\" of size (IMG_SIZE_ * IMG_SIZE_)\n",
        "- Hence, we can visualize connection strengths, starting from 0 hidden level\n",
        "\n",
        "Another considerations:\n",
        "- For example, in the architecture with units = [500, 500, 2000], the second hidden layer consists of 500 units, each associated with 500 units of the 1st hidden layer (500 x 500 matrix)\n",
        "- We need to visualize (IMG_SIZE_ * IMG_SIZE_) images of 2nd hidden layer receptive fields\n",
        "- The dimension of 1st hidden layer is n_units * (IMG_SIZE * IMG_SIZE).\n",
        "- **Therefore**, we need to perform matrix multiplication, to turn (500 x 500) layer to (500 x (IMG_SIZE x IMG_SIZE)) layer"
      ]
    },
    {
      "cell_type": "code",
      "source": [
        "for i in range(len(model_deep.rbm_layers)):\n",
        "    print(\n",
        "        f\"\"\"Dimension of connection matrix at {i} level: {model_deep.rbm_layers[i].W.size()}\n",
        "        \"\"\"\n",
        "    )\n",
        "print(f'Total: {model_deep.n_layers} hidden layers')"
      ],
      "metadata": {
        "colab": {
          "base_uri": "https://localhost:8080/"
        },
        "id": "VqCg5VX1_khr",
        "outputId": "d019a7a7-97fb-4ff4-eda2-3eeec1846d6f"
      },
      "execution_count": 214,
      "outputs": [
        {
          "output_type": "stream",
          "name": "stdout",
          "text": [
            "Dimension of connection matrix at 0 level: torch.Size([784, 500])\n",
            "        \n",
            "Dimension of connection matrix at 1 level: torch.Size([500, 500])\n",
            "        \n",
            "Total: 2 hidden layers\n"
          ]
        }
      ]
    },
    {
      "cell_type": "markdown",
      "metadata": {
        "id": "Ii8ISj1MiT0C"
      },
      "source": [
        "### Preprocessing (filtering) learned weights matrices"
      ]
    },
    {
      "cell_type": "code",
      "execution_count": 215,
      "metadata": {
        "id": "fvpfL8MTz6eT"
      },
      "outputs": [],
      "source": [
        "# Converting and processing W matrices of hidden layers\n",
        "\n",
        "learned_weights = [\n",
        "    # We transpose for convenience (matrices[i, :] is more intuitive than matrices[:, i])\n",
        "    model_deep.rbm_layers[i].W.transpose(0, 1).numpy() for i in range(model_deep.n_layers)\n",
        "]\n",
        "\n",
        "learned_weights_thresh = [\n",
        "    apply_threshold(weights_matrix, PreprocParams.visualization_threshold) \n",
        "    for weights_matrix in learned_weights\n",
        "]"
      ]
    },
    {
      "cell_type": "markdown",
      "metadata": {
        "id": "BAeeE6sCig1n"
      },
      "source": [
        "### Hidden layer receptive fields"
      ]
    },
    {
      "cell_type": "code",
      "execution_count": 216,
      "metadata": {
        "colab": {
          "base_uri": "https://localhost:8080/",
          "height": 0
        },
        "id": "DZ8E6SGM-y39",
        "outputId": "465daa8f-4994-4594-8918-dd8263f26a22"
      },
      "outputs": [
        {
          "output_type": "display_data",
          "data": {
            "image/png": "[encoded data removed]",
            "text/plain": [
              "<Figure size 576x576 with 36 Axes>"
            ]
          },
          "metadata": {
            "needs_background": "light"
          }
        },
        {
          "output_type": "display_data",
          "data": {
            "image/png": "[encoded data removed]",
            "text/plain": [
              "<Figure size 576x576 with 36 Axes>"
            ]
          },
          "metadata": {
            "needs_background": "light"
          }
        }
      ],
      "source": [
        "for layer in range(dbm_deep_params.n_hidden_layers):\n",
        "    title = f'Receptive fields for layer № {layer + 1}'\n",
        "    \n",
        "    if layer == 0:\n",
        "        # No projection\n",
        "        weights = learned_weights_thresh[layer]\n",
        "    else:\n",
        "        weights = project_hidden_layer(\n",
        "            learned_weights_thresh,\n",
        "            layer_numb = layer + 1  # Yes, problems with indexes\n",
        "        )\n",
        "    \n",
        "    plot_layer_receptive_fields(\n",
        "        weights,\n",
        "        num_subplots = 36,\n",
        "        img_width = PreprocParams.crop_size,\n",
        "        img_height = PreprocParams.crop_size,\n",
        "        suptitle = title,\n",
        "        fig_size = (8, 8)\n",
        "    )\n",
        "    "
      ]
    },
    {
      "cell_type": "markdown",
      "metadata": {
        "id": "X0IM9z4MpTyw"
      },
      "source": [
        "## **Clustering internal representations**"
      ]
    },
    {
      "cell_type": "markdown",
      "metadata": {
        "id": "nfSoPDGo-y3-"
      },
      "source": [
        "### Representation matrices"
      ]
    },
    {
      "cell_type": "code",
      "execution_count": 217,
      "metadata": {
        "colab": {
          "base_uri": "https://localhost:8080/"
        },
        "id": "zsSYZ8j5-y3-",
        "outputId": "629a3a7b-d536-4166-c275-4f1f54458777"
      },
      "outputs": [
        {
          "output_type": "stream",
          "name": "stdout",
          "text": [
            "Total: 2 hidden representations\n"
          ]
        }
      ],
      "source": [
        "hidden_representations = get_layer_representations(\n",
        "    n_layers = dbm_deep_params.n_hidden_layers,\n",
        "    model = model_deep,\n",
        "    input_data = data_train\n",
        ")\n",
        "print(f'Total: {len(hidden_representations)} hidden representations')"
      ]
    },
    {
      "cell_type": "code",
      "execution_count": 218,
      "metadata": {
        "id": "pgngi0r0-y3-"
      },
      "outputs": [],
      "source": [
        "# Label to mean representation\n",
        "labels_to_mean = [\n",
        "    label_to_mean_hidden_repr(\n",
        "        hidden_representation,\n",
        "        data_train,\n",
        "        targets_train\n",
        "    )\n",
        "    for hidden_representation in hidden_representations\n",
        "]"
      ]
    },
    {
      "cell_type": "code",
      "execution_count": 219,
      "metadata": {
        "id": "SQZhutVp-y3-"
      },
      "outputs": [],
      "source": [
        "representation_matrices = [\n",
        "    get_hidden_representation_matrix(\n",
        "        label_to_mean,\n",
        "        targets_train\n",
        "    )\n",
        "    for label_to_mean in labels_to_mean\n",
        "]"
      ]
    },
    {
      "cell_type": "markdown",
      "metadata": {
        "id": "QSOyUbaa-y3_"
      },
      "source": [
        "### Plotting dendrograms"
      ]
    },
    {
      "cell_type": "code",
      "execution_count": 220,
      "metadata": {
        "colab": {
          "base_uri": "https://localhost:8080/",
          "height": 551
        },
        "id": "vYyqy3IU-y3_",
        "outputId": "eec25144-abcb-4197-c948-843723515d19"
      },
      "outputs": [
        {
          "output_type": "display_data",
          "data": {
            "image/png": "[encoded data removed]",
            "text/plain": [
              "<Figure size 432x288 with 1 Axes>"
            ]
          },
          "metadata": {
            "needs_background": "light"
          }
        },
        {
          "output_type": "display_data",
          "data": {
            "image/png": "[encoded data removed]",
            "text/plain": [
              "<Figure size 432x288 with 1 Axes>"
            ]
          },
          "metadata": {
            "needs_background": "light"
          }
        }
      ],
      "source": [
        "for index, mean_repr_matrix in enumerate(representation_matrices):\n",
        "    plot_dendrogram(\n",
        "        mean_repr_matrix,\n",
        "        title = f'Dendrogram for hidden layer № {index + 1}'\n",
        "    )"
      ]
    },
    {
      "cell_type": "markdown",
      "metadata": {
        "id": "sPbO1wv6-y4A"
      },
      "source": [
        "## Train all layers read-outs"
      ]
    },
    {
      "cell_type": "markdown",
      "metadata": {
        "id": "qCaybyB6-y4A"
      },
      "source": [
        "Here, we attach perceptrons to all levels of deep belief network, in order to compare accuracy and train time metrics"
      ]
    },
    {
      "cell_type": "code",
      "execution_count": 221,
      "metadata": {
        "colab": {
          "base_uri": "https://localhost:8080/"
        },
        "id": "zfPKUFQ7-y4A",
        "outputId": "25287764-66db-426d-9477-0641b8945cc4"
      },
      "outputs": [
        {
          "output_type": "stream",
          "name": "stdout",
          "text": [
            "epoch 0/1500, loss = 2.288140\n",
            "epoch 100/1500, loss = 0.668210\n",
            "epoch 200/1500, loss = 0.498925\n",
            "epoch 300/1500, loss = 0.430961\n",
            "epoch 400/1500, loss = 0.392274\n",
            "epoch 500/1500, loss = 0.366446\n",
            "epoch 600/1500, loss = 0.347553\n",
            "epoch 700/1500, loss = 0.332889\n",
            "epoch 800/1500, loss = 0.321027\n",
            "epoch 900/1500, loss = 0.311137\n",
            "epoch 1000/1500, loss = 0.302698\n",
            "epoch 1100/1500, loss = 0.295364\n",
            "epoch 1200/1500, loss = 0.288897\n",
            "epoch 1300/1500, loss = 0.283126\n",
            "epoch 1400/1500, loss = 0.277923\n",
            "\n",
            "\n",
            "epoch 0/1500, loss = 2.283323\n",
            "epoch 100/1500, loss = 0.681141\n",
            "epoch 200/1500, loss = 0.509335\n",
            "epoch 300/1500, loss = 0.439858\n",
            "epoch 400/1500, loss = 0.400290\n",
            "epoch 500/1500, loss = 0.373928\n",
            "epoch 600/1500, loss = 0.354702\n",
            "epoch 700/1500, loss = 0.339833\n",
            "epoch 800/1500, loss = 0.327849\n",
            "epoch 900/1500, loss = 0.317892\n",
            "epoch 1000/1500, loss = 0.309423\n",
            "epoch 1100/1500, loss = 0.302086\n",
            "epoch 1200/1500, loss = 0.295633\n",
            "epoch 1300/1500, loss = 0.289888\n",
            "epoch 1400/1500, loss = 0.284719\n",
            "\n",
            "\n"
          ]
        }
      ],
      "source": [
        "perceptrons = []\n",
        "\n",
        "for layer_n in range(dbm_deep_params.n_hidden_layers):\n",
        "    # Perceptron, attached to 'layer_n' hidden layer\n",
        "    perceptron = attach_perceptron(\n",
        "        model = model_deep,\n",
        "        layer_num = layer_n,\n",
        "        class_num = TrainParameters.class_num  # For 'digits' split EMNIST -> 10 classes\n",
        "    )\n",
        "\n",
        "    # As input - hidden representation\n",
        "    train(\n",
        "        perceptron, \n",
        "        hidden_representations[layer_n],\n",
        "        targets = targets_train,\n",
        "        epochs = PerceptronTrainParameters.epochs\n",
        "    )\n",
        "    print('\\n')\n",
        "\n",
        "    perceptrons.append(\n",
        "        perceptron\n",
        "    )\n",
        "\n",
        "test_representations = get_layer_representations(\n",
        "    n_layers = dbm_deep_params.n_hidden_layers,\n",
        "    model = model_deep,\n",
        "    input_data = data_test\n",
        ")"
      ]
    },
    {
      "cell_type": "code",
      "source": [
        "perceptron_first_hidden = perceptrons[0]"
      ],
      "metadata": {
        "id": "UVDV4Gc2FVNg"
      },
      "execution_count": 222,
      "outputs": []
    },
    {
      "cell_type": "markdown",
      "metadata": {
        "id": "7mBn0w5j-y4A"
      },
      "source": [
        "## Train FFNN"
      ]
    },
    {
      "cell_type": "markdown",
      "metadata": {
        "id": "H4p-0mbU-y4B"
      },
      "source": [
        "If we are going to compare performance of Feed Forward Neural Network with perceptron, we should reasonably choose number of neurons in the hidden layer.\n",
        "We choose N neurons, where N - is the number of hidden units in the first layer of Deep Belief Network"
      ]
    },
    {
      "cell_type": "code",
      "execution_count": 223,
      "metadata": {
        "colab": {
          "base_uri": "https://localhost:8080/"
        },
        "id": "rSM8lbPU-y4A",
        "outputId": "b2529379-913f-4a58-b824-9fd60797093b"
      },
      "outputs": [
        {
          "output_type": "stream",
          "name": "stdout",
          "text": [
            "FFNN architecture: 500 neurons in the hidden layer\n"
          ]
        }
      ],
      "source": [
        "n_units = dbm_deep_params.hidden_units[0]\n",
        "\n",
        "ffnn = FeedForward(\n",
        "    first_hidden_layer_size = n_units,\n",
        "    class_num = TrainParameters.class_num,\n",
        "    input_size = PreprocParams.crop_size * PreprocParams.crop_size\n",
        ")\n",
        "print(f'FFNN architecture: {n_units} neurons in the hidden layer')"
      ]
    },
    {
      "cell_type": "code",
      "execution_count": 224,
      "metadata": {
        "colab": {
          "base_uri": "https://localhost:8080/"
        },
        "id": "n4DMxo_b-y4B",
        "outputId": "4fb88f7b-1b72-4c9d-b53b-adf65a195125"
      },
      "outputs": [
        {
          "output_type": "stream",
          "name": "stdout",
          "text": [
            "epoch 0/120, loss = 2.298796\n",
            "epoch 10/120, loss = 2.175984\n",
            "epoch 20/120, loss = 2.042448\n",
            "epoch 30/120, loss = 1.887710\n",
            "epoch 40/120, loss = 1.714557\n",
            "epoch 50/120, loss = 1.535467\n",
            "epoch 60/120, loss = 1.366046\n",
            "epoch 70/120, loss = 1.217375\n",
            "epoch 80/120, loss = 1.093209\n",
            "epoch 90/120, loss = 0.991975\n",
            "epoch 100/120, loss = 0.909914\n",
            "epoch 110/120, loss = 0.843084\n"
          ]
        }
      ],
      "source": [
        "train(\n",
        "    ffnn,\n",
        "    data_train,\n",
        "    targets = targets_train,\n",
        "    epochs = FFNNTrainParameters.epochs\n",
        ")"
      ]
    },
    {
      "cell_type": "markdown",
      "metadata": {
        "id": "GouPLlnVkV5j"
      },
      "source": [
        "## Perceptron VS FFNN comparison"
      ]
    },
    {
      "cell_type": "code",
      "source": [
        "accuracies = {\n",
        "    # Resulting accuracies of ffnn and perceptrons\n",
        "}"
      ],
      "metadata": {
        "id": "wiuiDpE1F-hm"
      },
      "execution_count": 225,
      "outputs": []
    },
    {
      "cell_type": "markdown",
      "source": [
        "### Perceptrons"
      ],
      "metadata": {
        "id": "D_YxdVOKE4XF"
      }
    },
    {
      "cell_type": "code",
      "execution_count": 226,
      "metadata": {
        "colab": {
          "base_uri": "https://localhost:8080/"
        },
        "id": "SlLKd-yQ-y4B",
        "outputId": "2c6fd3d1-a28d-4c94-9b91-7c15d37f1da3"
      },
      "outputs": [
        {
          "output_type": "stream",
          "name": "stdout",
          "text": [
            "Accuracy for perceptron, attached to hidden layer № 0, Accuracy: 0.9291999936103821\n",
            "Accuracy for perceptron, attached to hidden layer № 1, Accuracy: 0.9283999800682068\n"
          ]
        }
      ],
      "source": [
        "counter = 0\n",
        "for perceptron, test_representation in zip(perceptrons, test_representations):\n",
        "\n",
        "    predictions_test = perceptron(\n",
        "        test_representation\n",
        "    )\n",
        "    acc = compute_accuracy(\n",
        "        predictions_test,\n",
        "        targets_test\n",
        "    )\n",
        "    print(f'Accuracy for perceptron, attached to hidden layer № {counter}, Accuracy: {acc}')\n",
        "    counter += 1\n",
        "    accuracies[f'Perc. {counter} layer'] = acc"
      ]
    },
    {
      "cell_type": "markdown",
      "source": [
        "### FFNN"
      ],
      "metadata": {
        "id": "hz-jfifQE60-"
      }
    },
    {
      "cell_type": "code",
      "execution_count": 227,
      "metadata": {
        "colab": {
          "base_uri": "https://localhost:8080/"
        },
        "id": "AUzu85EXmGym",
        "outputId": "ef82aaa8-9b3d-4113-dd29-f9b5de717a95"
      },
      "outputs": [
        {
          "output_type": "stream",
          "name": "stdout",
          "text": [
            "Feed forward neural network accuracy: 0.8454999923706055\n"
          ]
        }
      ],
      "source": [
        "preds_ffnn = ffnn(\n",
        "    data_test.reshape(\n",
        "        (data_test.shape[0], data_test.shape[1] * data_test.shape[2])\n",
        "    )\n",
        ")\n",
        "ffnn_acc = compute_accuracy(\n",
        "    preds_ffnn,\n",
        "    targets_test\n",
        ")\n",
        "accuracies['FFNN'] = ffnn_acc\n",
        "print(f'Feed forward neural network accuracy: {ffnn_acc}')"
      ]
    },
    {
      "cell_type": "markdown",
      "source": [
        "### Summary graph"
      ],
      "metadata": {
        "id": "K6gpgd9oGXFS"
      }
    },
    {
      "cell_type": "markdown",
      "source": [
        "Here are reported accuracies on test set of 10000 images, for neural network and perceptrons, attached to various hidden layers of deep belief network"
      ],
      "metadata": {
        "id": "AhGDUh6ZHdU6"
      }
    },
    {
      "cell_type": "code",
      "source": [
        "plt.bar(accuracies.keys(), accuracies.values())\n",
        "plt.title('Models accuracy')\n",
        "_ = plt.yticks(np.linspace(0, 1, 10))"
      ],
      "metadata": {
        "colab": {
          "base_uri": "https://localhost:8080/",
          "height": 281
        },
        "id": "MHI33svrGdOd",
        "outputId": "a1efecb2-7082-462f-86bc-6fd7bc9877d1"
      },
      "execution_count": 228,
      "outputs": [
        {
          "output_type": "display_data",
          "data": {
            "image/png": "[encoded data removed]",
            "text/plain": [
              "<Figure size 432x288 with 1 Axes>"
            ]
          },
          "metadata": {
            "needs_background": "light"
          }
        }
      ]
    },
    {
      "cell_type": "markdown",
      "metadata": {
        "id": "tFXJm0Qrm7r2"
      },
      "source": [
        "## Robustness to noise"
      ]
    },
    {
      "cell_type": "code",
      "execution_count": 229,
      "metadata": {
        "id": "8iZCmvQLnes_"
      },
      "outputs": [],
      "source": [
        "data_test_with_noise = inject_noise(\n",
        "    data_test, \n",
        "    PreprocParams.noise_level\n",
        ")"
      ]
    },
    {
      "cell_type": "code",
      "execution_count": 230,
      "metadata": {
        "colab": {
          "base_uri": "https://localhost:8080/",
          "height": 593
        },
        "id": "0x9nmHo_-y4C",
        "outputId": "7ac3e4a4-b093-47ff-9512-18426b9f3d7e"
      },
      "outputs": [
        {
          "output_type": "display_data",
          "data": {
            "image/png": "[encoded data removed]",
            "text/plain": [
              "<Figure size 720x720 with 16 Axes>"
            ]
          },
          "metadata": {
            "needs_background": "light"
          }
        }
      ],
      "source": [
        "visualize_symbols(\n",
        "    data_test_with_noise, \n",
        "    n_subplots = 16, \n",
        "    image_shape = (PreprocParams.crop_size, PreprocParams.crop_size)\n",
        ")"
      ]
    },
    {
      "cell_type": "code",
      "execution_count": 234,
      "metadata": {
        "colab": {
          "base_uri": "https://localhost:8080/",
          "height": 295
        },
        "id": "ul-FpI9HsxoV",
        "outputId": "fd1ea097-95eb-42d1-c2c6-f4f7f9d734e4"
      },
      "outputs": [
        {
          "output_type": "display_data",
          "data": {
            "image/png": "[encoded data removed]",
            "text/plain": [
              "<Figure size 432x288 with 1 Axes>"
            ]
          },
          "metadata": {
            "needs_background": "light"
          }
        }
      ],
      "source": [
        "levels = [0, 0.1, 0.2, 0.3, 0.4, 0.5]\n",
        "\n",
        "plot_noise_robustness_curves(\n",
        "    levels,\n",
        "    dbn_model = model_deep, #model_deep,\n",
        "    ffnn_model = ffnn,\n",
        "    perceptron_model = perceptrons[0], # perceptron_first_hidden,\n",
        "    data = data_test,\n",
        "    targets = targets_test\n",
        ")"
      ]
    },
    {
      "cell_type": "markdown",
      "metadata": {
        "id": "W612ES6tVugs"
      },
      "source": [
        "## Adversarial attacks"
      ]
    },
    {
      "cell_type": "code",
      "execution_count": 238,
      "metadata": {
        "id": "eWJ96ojTV_9S",
        "colab": {
          "base_uri": "https://localhost:8080/",
          "height": 85,
          "referenced_widgets": [
            "f1e31afc4fb843d9a43a4e66c3899335",
            "d68a812fe47648ce82fd3b741adb30b7",
            "373ecd3e8efb4f7bafaf0b602e2a62ab",
            "43659a73c98743be8b610f09d9265e08",
            "4541887d1e2e4527973a15a427b04a9f",
            "fc14cc0b05ca453e9258b962fdc058f6",
            "5639c41f7a8b4082911f0fd0596ea1b8",
            "8c7868513cde44058402244a4f580560",
            "1e8670800bef44c886ff32c0c787c7d1",
            "85f9b0b015ce45efaaafc9d1e23f8fc3",
            "0310e2d3309f45f1a9f3c7f05022444b"
          ]
        },
        "outputId": "44eed4bc-c1d2-4f82-b915-5a1cdd53aa1a"
      },
      "outputs": [
        {
          "output_type": "stream",
          "name": "stdout",
          "text": [
            "Downloading https://www.itl.nist.gov/iaui/vip/cs_links/EMNIST/gzip.zip to data/EMNIST/raw/gzip.zip\n"
          ]
        },
        {
          "output_type": "display_data",
          "data": {
            "application/vnd.jupyter.widget-view+json": {
              "model_id": "f1e31afc4fb843d9a43a4e66c3899335",
              "version_minor": 0,
              "version_major": 2
            },
            "text/plain": [
              "  0%|          | 0/561753746 [00:00<?, ?it/s]"
            ]
          },
          "metadata": {}
        },
        {
          "output_type": "stream",
          "name": "stdout",
          "text": [
            "Extracting data/EMNIST/raw/gzip.zip to data/EMNIST/raw\n"
          ]
        }
      ],
      "source": [
        "# Model & test loader preparation\n",
        "%%capture\n",
        "\n",
        "dbn_with_readout = DBNWithReadOut(\n",
        "    dbn_model = model_shallow,\n",
        "    perceptron = perceptron_first_hidden\n",
        ")\n",
        "\n",
        "transformer = tv.transforms.Compose(\n",
        "        [\n",
        "            #tv.transforms.CenterCrop(CROP_SIZE_),\n",
        "            tv.transforms.ToTensor(),\n",
        "            \n",
        "            # Transform to {-1, 1} binary image\n",
        "            tv.transforms.Normalize(\n",
        "                mean=(PreprocParams.mean,), \n",
        "                std=(PreprocParams.std)\n",
        "            ),\n",
        "\n",
        "            # Rotate\n",
        "            # tv.transforms.RandomRotation(degrees = 90) \n",
        "        ]\n",
        "    )\n",
        "\n",
        "test_loader = torch.utils.data.DataLoader(\n",
        "    dataset = tv.datasets.EMNIST(\n",
        "        root = 'data/',\n",
        "        train = False,\n",
        "        download = True,\n",
        "        transform = transformer,\n",
        "        split = 'digits',\n",
        "        # shuffle = False\n",
        "    ),\n",
        "    batch_size = 1,\n",
        "    shuffle = True\n",
        ")\n",
        "device = torch.device('cpu')"
      ]
    },
    {
      "cell_type": "markdown",
      "metadata": {
        "id": "8ftY2LPvZBv3"
      },
      "source": [
        "### Example of adversarial attack"
      ]
    },
    {
      "cell_type": "code",
      "execution_count": 239,
      "metadata": {
        "colab": {
          "base_uri": "https://localhost:8080/",
          "height": 276
        },
        "id": "Cm2i6byq-y4D",
        "outputId": "50fb0683-4d08-47ab-fc25-e422dd6279b4"
      },
      "outputs": [
        {
          "output_type": "display_data",
          "data": {
            "image/png": "[encoded data removed]",
            "text/plain": [
              "<Figure size 432x288 with 2 Axes>"
            ]
          },
          "metadata": {
            "needs_background": "light"
          }
        }
      ],
      "source": [
        "idx = 150\n",
        "test_label = targets_test[idx]\n",
        "test_image = data_test[idx].reshape(\n",
        "    1, \n",
        "    PreprocParams.crop_size, \n",
        "    PreprocParams.crop_size\n",
        ")\n",
        "\n",
        "attack_demo(\n",
        "    image = test_image,\n",
        "    label = test_label,\n",
        "    attacked_model = ffnn\n",
        ")"
      ]
    },
    {
      "cell_type": "markdown",
      "metadata": {
        "id": "ess5Gp9t-y4D"
      },
      "source": [
        "### FFNN resistance to adversarial attacks"
      ]
    },
    {
      "cell_type": "code",
      "execution_count": 240,
      "metadata": {
        "colab": {
          "base_uri": "https://localhost:8080/"
        },
        "id": "SrPPpubB-y4D",
        "outputId": "91131480-740e-4da6-eae8-8d440f9a66a4"
      },
      "outputs": [
        {
          "output_type": "stream",
          "name": "stderr",
          "text": [
            "100%|██████████| 40000/40000 [00:34<00:00, 1163.75it/s]"
          ]
        },
        {
          "output_type": "stream",
          "name": "stdout",
          "text": [
            "\n",
            "Epsilon: 0.1\tTest Accuracy = 6102 / 40000 = 0.15255\n",
            "\n"
          ]
        },
        {
          "output_type": "stream",
          "name": "stderr",
          "text": [
            "\n"
          ]
        }
      ],
      "source": [
        "final_acc = test_robustness_to_attack(\n",
        "    ffnn, \n",
        "    device,\n",
        "    test_loader,\n",
        "    epsilon = 0.1,\n",
        "    num_steps = 0\n",
        ")"
      ]
    },
    {
      "cell_type": "markdown",
      "metadata": {
        "id": "QZi67jPj-y4E"
      },
      "source": [
        "### DBN resistance to adversarial attacks"
      ]
    },
    {
      "cell_type": "markdown",
      "metadata": {
        "id": "BvtkNG35-y4E"
      },
      "source": [
        "#### 0 Reconstructon steps"
      ]
    },
    {
      "cell_type": "code",
      "execution_count": 241,
      "metadata": {
        "colab": {
          "base_uri": "https://localhost:8080/"
        },
        "id": "z0yyx89I-y4E",
        "outputId": "fb509bc9-c331-4c52-fb66-1ec6b2f07922"
      },
      "outputs": [
        {
          "output_type": "stream",
          "name": "stderr",
          "text": [
            "100%|██████████| 40000/40000 [00:40<00:00, 990.69it/s]"
          ]
        },
        {
          "output_type": "stream",
          "name": "stdout",
          "text": [
            "\n",
            "Epsilon: 0.2\tTest Accuracy = 7076 / 40000 = 0.1769\n",
            "\n"
          ]
        },
        {
          "output_type": "stream",
          "name": "stderr",
          "text": [
            "\n"
          ]
        }
      ],
      "source": [
        "final_acc = test_robustness_to_attack(\n",
        "    dbn_with_readout,\n",
        "    device,\n",
        "    test_loader,\n",
        "    epsilon = PreprocParams.noise_level, \n",
        "    num_steps = 0\n",
        ")"
      ]
    },
    {
      "cell_type": "markdown",
      "metadata": {
        "id": "S-4Vo8VW-y4E"
      },
      "source": [
        "#### 1 Reconstruction step"
      ]
    },
    {
      "cell_type": "code",
      "execution_count": null,
      "metadata": {
        "colab": {
          "base_uri": "https://localhost:8080/",
          "height": 943
        },
        "id": "yR44s_ux-y4E",
        "outputId": "6262a23e-599a-4799-8cf4-9e0f205b3bd6"
      },
      "outputs": [
        {
          "output_type": "stream",
          "name": "stderr",
          "text": [
            "\r  0%|          | 0/40000 [00:00<?, ?it/s]"
          ]
        },
        {
          "output_type": "stream",
          "name": "stdout",
          "text": [
            "\n",
            "Here's the original sample:\n",
            "\n"
          ]
        },
        {
          "output_type": "display_data",
          "data": {
            "image/png": "[encoded data removed]",
            "text/plain": [
              "<Figure size 432x288 with 1 Axes>"
            ]
          },
          "metadata": {
            "needs_background": "light"
          }
        },
        {
          "output_type": "stream",
          "name": "stdout",
          "text": [
            "\n",
            "Here's a perturbed sample:\n",
            "\n"
          ]
        },
        {
          "output_type": "display_data",
          "data": {
            "image/png": "[encoded data removed]",
            "text/plain": [
              "<Figure size 432x288 with 1 Axes>"
            ]
          },
          "metadata": {
            "needs_background": "light"
          }
        },
        {
          "output_type": "stream",
          "name": "stdout",
          "text": [
            "\n",
            "Here's what a 1-steps reconstructed sample looks like:\n",
            "\n"
          ]
        },
        {
          "output_type": "display_data",
          "data": {
            "image/png": "[encoded data removed]",
            "text/plain": [
              "<Figure size 432x288 with 1 Axes>"
            ]
          },
          "metadata": {
            "needs_background": "light"
          }
        },
        {
          "output_type": "stream",
          "name": "stderr",
          "text": [
            " 68%|██████▊   | 27146/40000 [00:31<00:14, 897.79it/s]"
          ]
        }
      ],
      "source": [
        "final_acc = test_robustness_to_attack(\n",
        "    dbn_with_readout, device,\n",
        "    test_loader,\n",
        "    epsilon = PreprocParams.noise_level,\n",
        "    num_steps = 1\n",
        ")"
      ]
    },
    {
      "cell_type": "markdown",
      "metadata": {
        "id": "jYdPcWCn-y4E"
      },
      "source": [
        "#### 2 Reconstruction steps"
      ]
    },
    {
      "cell_type": "code",
      "execution_count": null,
      "metadata": {
        "id": "OVZ8-OET-y4F"
      },
      "outputs": [],
      "source": [
        "final_acc = test_robustness_to_attack(\n",
        "    dbn_with_readout, device,\n",
        "    test_loader, \n",
        "    epsilon = PreprocParams.noise_level,\n",
        "    num_steps = 2\n",
        ")"
      ]
    },
    {
      "cell_type": "markdown",
      "metadata": {
        "id": "SU-Pb-9j-y4F"
      },
      "source": [
        "### Effect of noise intensity ($\\epsilon$) on FFNN and DBN models"
      ]
    },
    {
      "cell_type": "code",
      "execution_count": null,
      "metadata": {
        "id": "2iSPHPo2-y4F"
      },
      "outputs": [],
      "source": [
        "%%capture\n",
        "epsilon_values = [0, .05, .1, .15, .2, .25]\n",
        "reconstruction_steps = [0, 1, 2, 3]\n",
        "\n",
        "accuracies_ffnn = test_epsilon_values_effect(ffnn, n_steps = 0, epsilons = epsilon_values)\n",
        "\n",
        "rbm_accuracies = [\n",
        "    test_epsilon_values_effect(dbn_with_readout, n_steps, epsilon_values) \n",
        "    for n_steps in reconstruction_steps\n",
        "]"
      ]
    },
    {
      "cell_type": "code",
      "execution_count": null,
      "metadata": {
        "id": "WuJD6M9I-y4F"
      },
      "outputs": [],
      "source": [
        "fig, ax = plt.subplots(1, 1, figsize=(8,6), sharey=True)\n",
        "\n",
        "_ = ax.plot(\n",
        "    epsilon_values, \n",
        "    accuracies_ffnn, \n",
        "    marker = 'o',\n",
        "    markerfacecolor = 'white', \n",
        "    markersize = 9\n",
        ")\n",
        "\n",
        "for acc in rbm_accuracies:\n",
        "    _ = ax.plot(\n",
        "        epsilon_values,\n",
        "        acc,\n",
        "        marker = 'o',\n",
        "        markerfacecolor = 'white', \n",
        "        markersize = 9\n",
        "    )\n",
        "\n",
        "_ = ax.set_xlabel(\"$\\epsilon$\")\n",
        "_ = ax.set_ylabel(\"Accuracy\")\n",
        "_ = ax.set_title(\"Robustness to adversarial attacks\")\n",
        "\n",
        "legends = ['FFNN', *reconstruction_steps]\n",
        "\n",
        "_ = ax.legend(legends)\n",
        "plt.grid()"
      ]
    }
  ],
  "metadata": {
    "accelerator": "GPU",
    "colab": {
      "collapsed_sections": [
        "BY78mv2oS20c",
        "1pBv1xQbQsQF"
      ],
      "name": "Omniglot learning.ipynb",
      "provenance": [],
      "toc_visible": true,
      "include_colab_link": true
    },
    "kernelspec": {
      "display_name": "Python 3",
      "name": "python3"
    },
    "language_info": {
      "codemirror_mode": {
        "name": "ipython",
        "version": 3
      },
      "file_extension": ".py",
      "mimetype": "text/x-python",
      "name": "python",
      "nbconvert_exporter": "python",
      "pygments_lexer": "ipython3",
      "version": "3.9.7"
    },
    "widgets": {
      "application/vnd.jupyter.widget-state+json": {
        "f1e31afc4fb843d9a43a4e66c3899335": {
          "model_module": "@jupyter-widgets/controls",
          "model_name": "HBoxModel",
          "model_module_version": "1.5.0",
          "state": {
            "_view_name": "HBoxView",
            "_dom_classes": [],
            "_model_name": "HBoxModel",
            "_view_module": "@jupyter-widgets/controls",
            "_model_module_version": "1.5.0",
            "_view_count": null,
            "_view_module_version": "1.5.0",
            "box_style": "",
            "layout": "IPY_MODEL_d68a812fe47648ce82fd3b741adb30b7",
            "_model_module": "@jupyter-widgets/controls",
            "children": [
              "IPY_MODEL_373ecd3e8efb4f7bafaf0b602e2a62ab",
              "IPY_MODEL_43659a73c98743be8b610f09d9265e08",
              "IPY_MODEL_4541887d1e2e4527973a15a427b04a9f"
            ]
          }
        },
        "d68a812fe47648ce82fd3b741adb30b7": {
          "model_module": "@jupyter-widgets/base",
          "model_name": "LayoutModel",
          "model_module_version": "1.2.0",
          "state": {
            "_view_name": "LayoutView",
            "grid_template_rows": null,
            "right": null,
            "justify_content": null,
            "_view_module": "@jupyter-widgets/base",
            "overflow": null,
            "_model_module_version": "1.2.0",
            "_view_count": null,
            "flex_flow": null,
            "width": null,
            "min_width": null,
            "border": null,
            "align_items": null,
            "bottom": null,
            "_model_module": "@jupyter-widgets/base",
            "top": null,
            "grid_column": null,
            "overflow_y": null,
            "overflow_x": null,
            "grid_auto_flow": null,
            "grid_area": null,
            "grid_template_columns": null,
            "flex": null,
            "_model_name": "LayoutModel",
            "justify_items": null,
            "grid_row": null,
            "max_height": null,
            "align_content": null,
            "visibility": null,
            "align_self": null,
            "height": null,
            "min_height": null,
            "padding": null,
            "grid_auto_rows": null,
            "grid_gap": null,
            "max_width": null,
            "order": null,
            "_view_module_version": "1.2.0",
            "grid_template_areas": null,
            "object_position": null,
            "object_fit": null,
            "grid_auto_columns": null,
            "margin": null,
            "display": null,
            "left": null
          }
        },
        "373ecd3e8efb4f7bafaf0b602e2a62ab": {
          "model_module": "@jupyter-widgets/controls",
          "model_name": "HTMLModel",
          "model_module_version": "1.5.0",
          "state": {
            "_view_name": "HTMLView",
            "style": "IPY_MODEL_fc14cc0b05ca453e9258b962fdc058f6",
            "_dom_classes": [],
            "description": "",
            "_model_name": "HTMLModel",
            "placeholder": "​",
            "_view_module": "@jupyter-widgets/controls",
            "_model_module_version": "1.5.0",
            "value": "",
            "_view_count": null,
            "_view_module_version": "1.5.0",
            "description_tooltip": null,
            "_model_module": "@jupyter-widgets/controls",
            "layout": "IPY_MODEL_5639c41f7a8b4082911f0fd0596ea1b8"
          }
        },
        "43659a73c98743be8b610f09d9265e08": {
          "model_module": "@jupyter-widgets/controls",
          "model_name": "FloatProgressModel",
          "model_module_version": "1.5.0",
          "state": {
            "_view_name": "ProgressView",
            "style": "IPY_MODEL_8c7868513cde44058402244a4f580560",
            "_dom_classes": [],
            "description": "",
            "_model_name": "FloatProgressModel",
            "bar_style": "success",
            "max": 561753746,
            "_view_module": "@jupyter-widgets/controls",
            "_model_module_version": "1.5.0",
            "value": 561753746,
            "_view_count": null,
            "_view_module_version": "1.5.0",
            "orientation": "horizontal",
            "min": 0,
            "description_tooltip": null,
            "_model_module": "@jupyter-widgets/controls",
            "layout": "IPY_MODEL_1e8670800bef44c886ff32c0c787c7d1"
          }
        },
        "4541887d1e2e4527973a15a427b04a9f": {
          "model_module": "@jupyter-widgets/controls",
          "model_name": "HTMLModel",
          "model_module_version": "1.5.0",
          "state": {
            "_view_name": "HTMLView",
            "style": "IPY_MODEL_85f9b0b015ce45efaaafc9d1e23f8fc3",
            "_dom_classes": [],
            "description": "",
            "_model_name": "HTMLModel",
            "placeholder": "​",
            "_view_module": "@jupyter-widgets/controls",
            "_model_module_version": "1.5.0",
            "value": " 561754112/? [00:32&lt;00:00, 11459533.84it/s]",
            "_view_count": null,
            "_view_module_version": "1.5.0",
            "description_tooltip": null,
            "_model_module": "@jupyter-widgets/controls",
            "layout": "IPY_MODEL_0310e2d3309f45f1a9f3c7f05022444b"
          }
        },
        "fc14cc0b05ca453e9258b962fdc058f6": {
          "model_module": "@jupyter-widgets/controls",
          "model_name": "DescriptionStyleModel",
          "model_module_version": "1.5.0",
          "state": {
            "_view_name": "StyleView",
            "_model_name": "DescriptionStyleModel",
            "description_width": "",
            "_view_module": "@jupyter-widgets/base",
            "_model_module_version": "1.5.0",
            "_view_count": null,
            "_view_module_version": "1.2.0",
            "_model_module": "@jupyter-widgets/controls"
          }
        },
        "5639c41f7a8b4082911f0fd0596ea1b8": {
          "model_module": "@jupyter-widgets/base",
          "model_name": "LayoutModel",
          "model_module_version": "1.2.0",
          "state": {
            "_view_name": "LayoutView",
            "grid_template_rows": null,
            "right": null,
            "justify_content": null,
            "_view_module": "@jupyter-widgets/base",
            "overflow": null,
            "_model_module_version": "1.2.0",
            "_view_count": null,
            "flex_flow": null,
            "width": null,
            "min_width": null,
            "border": null,
            "align_items": null,
            "bottom": null,
            "_model_module": "@jupyter-widgets/base",
            "top": null,
            "grid_column": null,
            "overflow_y": null,
            "overflow_x": null,
            "grid_auto_flow": null,
            "grid_area": null,
            "grid_template_columns": null,
            "flex": null,
            "_model_name": "LayoutModel",
            "justify_items": null,
            "grid_row": null,
            "max_height": null,
            "align_content": null,
            "visibility": null,
            "align_self": null,
            "height": null,
            "min_height": null,
            "padding": null,
            "grid_auto_rows": null,
            "grid_gap": null,
            "max_width": null,
            "order": null,
            "_view_module_version": "1.2.0",
            "grid_template_areas": null,
            "object_position": null,
            "object_fit": null,
            "grid_auto_columns": null,
            "margin": null,
            "display": null,
            "left": null
          }
        },
        "8c7868513cde44058402244a4f580560": {
          "model_module": "@jupyter-widgets/controls",
          "model_name": "ProgressStyleModel",
          "model_module_version": "1.5.0",
          "state": {
            "_view_name": "StyleView",
            "_model_name": "ProgressStyleModel",
            "description_width": "",
            "_view_module": "@jupyter-widgets/base",
            "_model_module_version": "1.5.0",
            "_view_count": null,
            "_view_module_version": "1.2.0",
            "bar_color": null,
            "_model_module": "@jupyter-widgets/controls"
          }
        },
        "1e8670800bef44c886ff32c0c787c7d1": {
          "model_module": "@jupyter-widgets/base",
          "model_name": "LayoutModel",
          "model_module_version": "1.2.0",
          "state": {
            "_view_name": "LayoutView",
            "grid_template_rows": null,
            "right": null,
            "justify_content": null,
            "_view_module": "@jupyter-widgets/base",
            "overflow": null,
            "_model_module_version": "1.2.0",
            "_view_count": null,
            "flex_flow": null,
            "width": null,
            "min_width": null,
            "border": null,
            "align_items": null,
            "bottom": null,
            "_model_module": "@jupyter-widgets/base",
            "top": null,
            "grid_column": null,
            "overflow_y": null,
            "overflow_x": null,
            "grid_auto_flow": null,
            "grid_area": null,
            "grid_template_columns": null,
            "flex": null,
            "_model_name": "LayoutModel",
            "justify_items": null,
            "grid_row": null,
            "max_height": null,
            "align_content": null,
            "visibility": null,
            "align_self": null,
            "height": null,
            "min_height": null,
            "padding": null,
            "grid_auto_rows": null,
            "grid_gap": null,
            "max_width": null,
            "order": null,
            "_view_module_version": "1.2.0",
            "grid_template_areas": null,
            "object_position": null,
            "object_fit": null,
            "grid_auto_columns": null,
            "margin": null,
            "display": null,
            "left": null
          }
        },
        "85f9b0b015ce45efaaafc9d1e23f8fc3": {
          "model_module": "@jupyter-widgets/controls",
          "model_name": "DescriptionStyleModel",
          "model_module_version": "1.5.0",
          "state": {
            "_view_name": "StyleView",
            "_model_name": "DescriptionStyleModel",
            "description_width": "",
            "_view_module": "@jupyter-widgets/base",
            "_model_module_version": "1.5.0",
            "_view_count": null,
            "_view_module_version": "1.2.0",
            "_model_module": "@jupyter-widgets/controls"
          }
        },
        "0310e2d3309f45f1a9f3c7f05022444b": {
          "model_module": "@jupyter-widgets/base",
          "model_name": "LayoutModel",
          "model_module_version": "1.2.0",
          "state": {
            "_view_name": "LayoutView",
            "grid_template_rows": null,
            "right": null,
            "justify_content": null,
            "_view_module": "@jupyter-widgets/base",
            "overflow": null,
            "_model_module_version": "1.2.0",
            "_view_count": null,
            "flex_flow": null,
            "width": null,
            "min_width": null,
            "border": null,
            "align_items": null,
            "bottom": null,
            "_model_module": "@jupyter-widgets/base",
            "top": null,
            "grid_column": null,
            "overflow_y": null,
            "overflow_x": null,
            "grid_auto_flow": null,
            "grid_area": null,
            "grid_template_columns": null,
            "flex": null,
            "_model_name": "LayoutModel",
            "justify_items": null,
            "grid_row": null,
            "max_height": null,
            "align_content": null,
            "visibility": null,
            "align_self": null,
            "height": null,
            "min_height": null,
            "padding": null,
            "grid_auto_rows": null,
            "grid_gap": null,
            "max_width": null,
            "order": null,
            "_view_module_version": "1.2.0",
            "grid_template_areas": null,
            "object_position": null,
            "object_fit": null,
            "grid_auto_columns": null,
            "margin": null,
            "display": null,
            "left": null
          }
        }
      }
    }
  },
  "nbformat": 4,
  "nbformat_minor": 0
}
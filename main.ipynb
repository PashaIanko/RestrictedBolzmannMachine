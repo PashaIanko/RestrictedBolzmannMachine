{
  "cells": [
    {
      "cell_type": "markdown",
      "metadata": {
        "id": "view-in-github",
        "colab_type": "text"
      },
      "source": [
        "<a href=\"https://colab.research.google.com/github/PashaIanko/RestrictedBolzmannMachine/blob/EMNIST/main.ipynb\" target=\"_parent\"><img src=\"https://colab.research.google.com/assets/colab-badge.svg\" alt=\"Open In Colab\"/></a>"
      ]
    },
    {
      "cell_type": "markdown",
      "metadata": {
        "id": "UMXIa1v8PT2j"
      },
      "source": [
        "Helper links:\n",
        "- https://github.com/pytorch/vision/blob/main/torchvision/datasets/omniglot.py"
      ]
    },
    {
      "cell_type": "markdown",
      "metadata": {
        "id": "BY78mv2oS20c"
      },
      "source": [
        "## **Packages, Constants & Functions**"
      ]
    },
    {
      "cell_type": "code",
      "execution_count": 2,
      "metadata": {
        "id": "FEByBGGhpsM5"
      },
      "outputs": [],
      "source": [
        "%%capture\n",
        "\n",
        "url_dbn = 'https://raw.githubusercontent.com/PashaIanko/RestrictedBolzmannMachine/main/DBN.py'\n",
        "url_rbm = 'https://raw.githubusercontent.com/PashaIanko/RestrictedBolzmannMachine/main/RBM.py'\n",
        "\n",
        "utils = {\n",
        "    'DBN.py': url_dbn,\n",
        "    'RBM.py': url_rbm,\n",
        "}\n",
        "\n",
        "for file, url in utils.items():\n",
        "    !wget -O {file} {url} {file}"
      ]
    },
    {
      "cell_type": "code",
      "execution_count": 129,
      "metadata": {
        "id": "dHbnUGj0-y3l"
      },
      "outputs": [],
      "source": [
        "import torch\n",
        "import torchvision as tv\n",
        "from torchvision import datasets\n",
        "import torch.nn.functional as functional \n",
        "\n",
        "# Models\n",
        "from DBN import DBN\n",
        "\n",
        "# Plotting\n",
        "import matplotlib.pyplot as plt\n",
        "\n",
        "# Download\n",
        "from os import path\n",
        "\n",
        "# Utils\n",
        "from abc import ABC, abstractmethod, abstractproperty\n",
        "from scipy import cluster\n",
        "import numpy as np\n",
        "import random\n",
        "import math\n",
        "import tqdm\n",
        "\n",
        "# Plotting\n",
        "import seaborn as sns"
      ]
    },
    {
      "cell_type": "code",
      "execution_count": 130,
      "metadata": {
        "id": "0J2Yq1R_-y3o"
      },
      "outputs": [],
      "source": [
        "class PreprocParams:\n",
        "    crop_size = 28\n",
        "    mean = 0.1307\n",
        "    std = 0.3081\n",
        "    visualization_threshold = 0.1\n",
        "    image_size = crop_size\n",
        "    noise_level = 0.2\n",
        "    strategy = 'MNIST'\n",
        "\n",
        "class TrainParameters:\n",
        "    epochs = 50\n",
        "    batch_size = 100\n",
        "    train_size = 60000\n",
        "    test_size = 10000\n",
        "    class_num = 10\n",
        "\n",
        "class FFNNTrainParameters:\n",
        "    epochs = 120\n",
        "\n",
        "class PerceptronTrainParameters:\n",
        "    epochs = 1500\n",
        "    \n",
        "class DBMParameters(ABC):\n",
        "    def __init__(self, image_height, image_width):\n",
        "        super().__init__()\n",
        "        self.K = 1\n",
        "        self.learning_rate = 0.1\n",
        "        self.lr_decay = False\n",
        "        self.init_momentum = 0.5\n",
        "        self.fin_momentum = 0.9\n",
        "        self.w_decay = 0.0002\n",
        "        self.xavier_init = False\n",
        "        self.increase_to_cd_k = False\n",
        "        self.use_gpu = True\n",
        "        \n",
        "        self.image_height = image_height\n",
        "        self.image_width = image_width\n",
        "\n",
        "\n",
        "    @abstractproperty\n",
        "    def hidden_units(self):\n",
        "        pass\n",
        "\n",
        "    @property\n",
        "    def n_hidden_layers(self):\n",
        "        return len(self.hidden_units)"
      ]
    },
    {
      "cell_type": "code",
      "execution_count": 131,
      "metadata": {
        "id": "-2VQ2ohr-y3q"
      },
      "outputs": [],
      "source": [
        "class DBMDeepParameters(DBMParameters):\n",
        "    def __init__(self, image_height, image_width):\n",
        "        super().__init__(image_height, image_width)\n",
        "    \n",
        "    @property\n",
        "    def hidden_units(self):\n",
        "        return [500, 500, 1000]\n",
        "        \n",
        "\n",
        "class DBMShallowParameters(DBMParameters):\n",
        "    def __init__(self, image_height, image_width):\n",
        "        super().__init__(image_height, image_width)\n",
        "    \n",
        "    @property\n",
        "    def hidden_units(self):\n",
        "        return [500]  # shallow model for adversarial attacks"
      ]
    },
    {
      "cell_type": "code",
      "execution_count": 132,
      "metadata": {
        "id": "WZ5njjM8-y3q"
      },
      "outputs": [],
      "source": [
        "class FeedForward(torch.nn.Module):\n",
        "  def __init__(self,\n",
        "               first_hidden_layer_size,\n",
        "               class_num,\n",
        "               input_size):\n",
        "    super().__init__()\n",
        "    self.first_hidden = torch.nn.Linear(input_size, first_hidden_layer_size)\n",
        "    self.output = torch.nn.Linear(first_hidden_layer_size, class_num)\n",
        "\n",
        "  def forward(self, input):\n",
        "    input = input.view((input.shape[0], -1))\n",
        "    relu = torch.nn.ReLU()\n",
        "    first_hidden_repr = relu(self.first_hidden(input))\n",
        "    output = self.output(first_hidden_repr)\n",
        "    return output"
      ]
    },
    {
      "cell_type": "code",
      "execution_count": 133,
      "metadata": {
        "id": "KwZsvdhgcfhc"
      },
      "outputs": [],
      "source": [
        "def fix_seeds():\n",
        "    torch.manual_seed(0)\n",
        "    random.seed(0)\n",
        "    np.random.seed(0)"
      ]
    },
    {
      "cell_type": "code",
      "execution_count": 134,
      "metadata": {
        "id": "AZweLFYNkzIE"
      },
      "outputs": [],
      "source": [
        "def visualize_symbols(dataset, n_subplots, image_shape):\n",
        "    n_rows_cols = int(math.sqrt(n_subplots))\n",
        "    _, axes = plt.subplots(\n",
        "        n_rows_cols, \n",
        "        n_rows_cols, \n",
        "        sharex = True,\n",
        "        sharey = True,\n",
        "        figsize = (10, 10)\n",
        "    )\n",
        "    for i in range(n_subplots):\n",
        "        row = i % n_rows_cols\n",
        "        col = i // n_rows_cols\n",
        "        img = dataset[i] \n",
        "        axes[row, col].imshow(torch.flatten(img).reshape(image_shape), cmap='binary')"
      ]
    },
    {
      "cell_type": "code",
      "execution_count": 135,
      "metadata": {
        "id": "iIQtGPxzPltA"
      },
      "outputs": [],
      "source": [
        "def find_image(ds, label):\n",
        "    for item in ds:\n",
        "        if item[1] == label:\n",
        "            return item[0]\n",
        "\n",
        "def visualize_labels(labels, data, targets, figsize = (10, 10)):\n",
        "    n_subplots = len(labels)\n",
        "    \n",
        "    n_rows_cols = int(math.sqrt(n_subplots))\n",
        "    _, axes = plt.subplots(\n",
        "        n_rows_cols, \n",
        "        n_rows_cols, \n",
        "        sharex = True,\n",
        "        sharey = True,\n",
        "        figsize = figsize\n",
        "    )\n",
        "\n",
        "    for i in range(n_subplots):\n",
        "        col = i % n_rows_cols\n",
        "        row = i // n_rows_cols\n",
        "        label = labels[i]\n",
        "        \n",
        "        img_index = np.where(targets == label)[0][0]\n",
        "        image = data[img_index]\n",
        "        axes[row, col].imshow(image, cmap = 'binary')\n",
        "\n",
        "def prepare_data(ds, label_from, label_to):\n",
        "    labels = []\n",
        "    images = []\n",
        "    for item in ds:\n",
        "        if label_from <= item[1] <= label_to:\n",
        "            labels.append(item[1])\n",
        "            images.append(item[0])\n",
        "    return images, labels"
      ]
    },
    {
      "cell_type": "code",
      "execution_count": 10,
      "metadata": {
        "id": "Lg0d1Md2-y3v"
      },
      "outputs": [],
      "source": [
        "def get_layer_representations(n_layers, model, input_data):\n",
        "    internal_reps = []\n",
        "    for layer_n in range(n_layers):\n",
        "        if layer_n == 0:\n",
        "            repr = get_layer_representation(\n",
        "                input = input_data,\n",
        "                model = model,\n",
        "                layer_number = layer_n\n",
        "            )\n",
        "            internal_reps.append(repr)\n",
        "        else:\n",
        "            # Previous hidden is now an input data for next hidden\n",
        "            input = internal_reps[layer_n - 1]\n",
        "            repr = get_layer_representation(\n",
        "                input = input,\n",
        "                model = model,\n",
        "                layer_number = layer_n\n",
        "            )\n",
        "            internal_reps.append(repr)\n",
        "    return internal_reps"
      ]
    },
    {
      "cell_type": "code",
      "execution_count": 11,
      "metadata": {
        "id": "MnEInOEHjHZr"
      },
      "outputs": [],
      "source": [
        "def move_parameters_to_cpu(dbn_mnist):\n",
        "    for layer in dbn_mnist.rbm_layers:\n",
        "        layer.W = layer.W.cpu()\n",
        "        layer.h_bias = layer.h_bias.cpu()\n",
        "        layer.v_bias = layer.v_bias.cpu()\n",
        "\n",
        "def apply_threshold(weights, threshold=0):\n",
        "    return weights * (abs(weights) > threshold)\n",
        "  \n",
        "def plot_layer_receptive_fields(weights_matrices, num_subplots, \n",
        "                                img_width, img_height, \n",
        "                                fig_size = (20, 20),\n",
        "                                suptitle = ''):\n",
        "    n_rows_cols = int(math.sqrt(num_subplots))\n",
        "    fig, axes = plt.subplots(n_rows_cols, n_rows_cols, sharex=True, sharey=True, figsize=fig_size)\n",
        "    for i in range(num_subplots):\n",
        "        row = i % n_rows_cols\n",
        "        col = i // n_rows_cols\n",
        "        \n",
        "        # Matrix of connection strength (W) of i-th unit of the layer.\n",
        "        # Reshape from 'linear' to 'image' representation\n",
        "        W_matrix = weights_matrices[i, :].reshape((img_height, img_width))\n",
        "        axes[row, col].imshow(W_matrix, cmap = plt.cm.gray)\n",
        "    fig.suptitle(suptitle)"
      ]
    },
    {
      "cell_type": "code",
      "execution_count": 12,
      "metadata": {
        "id": "cb486criz1_N"
      },
      "outputs": [],
      "source": [
        "def project_hidden_layer(weights_matrices, layer_numb):\n",
        "    \n",
        "    # layer_numb starts from 2 (number of hidden layer)\n",
        "    if layer_numb > len(weights_matrices):\n",
        "        print(f'Mistake in project_hidden_layer, accessing wrong layer')\n",
        "        return \n",
        "    layers = weights_matrices[:layer_numb]\n",
        "    cur_layer = layers[0]\n",
        "    for i in range(1, len(layers)):\n",
        "        cur_layer = layers[i] @ cur_layer\n",
        "    return cur_layer"
      ]
    },
    {
      "cell_type": "code",
      "execution_count": 13,
      "metadata": {
        "id": "EZToN8Ul-y3x"
      },
      "outputs": [],
      "source": [
        "def get_layer_representation(input, model, layer_number):\n",
        "    flattened_input = input.view((input.shape[0], -1)).type(torch.FloatTensor)\n",
        "    hidden_repr, _ = model.rbm_layers[layer_number].to_hidden(flattened_input)\n",
        "    return hidden_repr"
      ]
    },
    {
      "cell_type": "code",
      "execution_count": 14,
      "metadata": {
        "id": "DYAUlc4j-y3x"
      },
      "outputs": [],
      "source": [
        "def get_mask(labels, label):\n",
        "    return labels.numpy() == label\n",
        "\n",
        "def label_to_mean_hidden_repr(hidden_representation, images, labels):\n",
        "    hidden_representation_np = hidden_representation.numpy()\n",
        "    return {\n",
        "        label: hidden_representation_np[get_mask(labels, label)].mean(axis=0)\n",
        "        for label in np.unique(labels.numpy())\n",
        "    }\n",
        "\n",
        "def get_hidden_representation_matrix(label_to_mean_hidden_repr, labels):\n",
        "    return np.concatenate(\n",
        "        [np.expand_dims(\n",
        "            label_to_mean_hidden_repr[label], axis = 0\n",
        "        )\n",
        "        for label in np.unique(labels.numpy())]\n",
        "    )"
      ]
    },
    {
      "cell_type": "code",
      "execution_count": 15,
      "metadata": {
        "id": "2FW541rr-y3y"
      },
      "outputs": [],
      "source": [
        "def plot_dendrogram(mean_repr_matrix, title = ''):\n",
        "    fig, ax = plt.subplots()\n",
        "    linkage = cluster.hierarchy.linkage(mean_repr_matrix, method=\"complete\")  # we run the clustering algorithm here\n",
        "    dendrogram = cluster.hierarchy.dendrogram(linkage)\n",
        "    ax.set_title(title)\n",
        "    return dendrogram"
      ]
    },
    {
      "cell_type": "code",
      "execution_count": 16,
      "metadata": {
        "id": "lVUw6LO_-y3y"
      },
      "outputs": [],
      "source": [
        "def train(network, input, targets, epochs=1000):\n",
        "  print_every_n_epochs = 100 if epochs >= 1000 else 10\n",
        "  optimizer = torch.optim.SGD(network.parameters(), lr=0.05)\n",
        "  loss_fn = torch.nn.CrossEntropyLoss()\n",
        "\n",
        "  for epoch in range(epochs):\n",
        "    optimizer.zero_grad()\n",
        "    predictions = network(input)  # .squeeze()\n",
        "    loss = loss_fn(predictions, targets)\n",
        "    loss.backward()\n",
        "    optimizer.step()\n",
        "    if epoch % print_every_n_epochs == 0:\n",
        "      print(\"epoch {}/{}, loss = {:.6f}\".format(epoch, epochs, loss))\n",
        "    \n",
        "def attach_perceptron(model, layer_num, class_num):\n",
        "    rbm_layer_size = model.rbm_layers[layer_num].W.shape[1]\n",
        "    return Perceptron(rbm_layer_size, class_num)\n",
        "\n",
        "def compute_accuracy(predictions, targets):\n",
        "    predictions_indices = predictions.max(axis=1).indices  # convert probabilities to indices\n",
        "    accuracy = (predictions_indices == targets).sum() / len(targets)\n",
        "    return accuracy.item()\n",
        "\n",
        "class Perceptron(torch.nn.Module):\n",
        "  def __init__(self, rbm_layer_size, class_num):\n",
        "    super().__init__()\n",
        "    self.linear = torch.nn.Linear(rbm_layer_size, class_num)  # because 10 classes. You declare input and output\n",
        "\n",
        "  def forward(self, x):  # called when applied on some data, basic method\n",
        "    return self.linear(x)"
      ]
    },
    {
      "cell_type": "code",
      "execution_count": 17,
      "metadata": {
        "id": "KQU2FmN0-y3z"
      },
      "outputs": [],
      "source": [
        "def inject_noise(mnist_data, noise_level):\n",
        "  random_gaussian_tensor = torch.randn(mnist_data.shape)/6.6 + .6\n",
        "  probability_tensor = torch.ones(mnist_data.shape)*noise_level\n",
        "  mask_tensor = torch.bernoulli(probability_tensor)\n",
        "  return mnist_data - mask_tensor * mnist_data + mask_tensor * random_gaussian_tensor"
      ]
    },
    {
      "cell_type": "code",
      "execution_count": 18,
      "metadata": {
        "id": "sJPs02DJ-y3z"
      },
      "outputs": [],
      "source": [
        "def accuracy_at_noise_level(\n",
        "    noisy_input,\n",
        "    targets,\n",
        "\n",
        "    rbm_model,\n",
        "    hidden_layer_number,\n",
        "\n",
        "    perceptron_model,\n",
        "    ffnn_model\n",
        "):\n",
        "  \n",
        "  hidden_repr_noisy = get_layer_representation(noisy_input, rbm_model, hidden_layer_number)\n",
        "\n",
        "  predictions_hidden = perceptron_model(hidden_repr_noisy)\n",
        "  predictions_ffnn = ffnn_model(noisy_input.reshape(\n",
        "      (noisy_input.shape[0], noisy_input.shape[1] * noisy_input.shape[2]))\n",
        "  )\n",
        "  \n",
        "  acc_hidden = compute_accuracy(predictions_hidden, targets)\n",
        "  acc_ffnn = compute_accuracy(predictions_ffnn, targets)\n",
        "  return acc_hidden, acc_ffnn"
      ]
    },
    {
      "cell_type": "code",
      "execution_count": 19,
      "metadata": {
        "id": "AcmzgEZ6-y30"
      },
      "outputs": [],
      "source": [
        "def plot_noise_robustness_curves(\n",
        "  noise_levels,\n",
        "  dbn_model,\n",
        "  ffnn_model,\n",
        "  perceptron_model,  # perceptron_first_hidden\n",
        "\n",
        "  data,  # data_test,\n",
        "  targets  # targets_test\n",
        "):\n",
        "  accuracy_values_first_hidden = []\n",
        "  accuracy_values_ffnn = []\n",
        "\n",
        "  for noise_level in noise_levels:\n",
        "    accuracy_first_hidden, accuracy_ffnn = accuracy_at_noise_level(\n",
        "        noisy_input = inject_noise(\n",
        "          data, \n",
        "          noise_level\n",
        "        ),\n",
        "        targets = targets,\n",
        "\n",
        "        rbm_model = dbn_model,\n",
        "        hidden_layer_number = 0,\n",
        "\n",
        "        perceptron_model = perceptron_model,\n",
        "        ffnn_model = ffnn_model\n",
        "    )\n",
        "    accuracy_values_first_hidden.append(accuracy_first_hidden)\n",
        "    accuracy_values_ffnn.append(accuracy_ffnn)\n",
        "\n",
        "  fig, ax = plt.subplots()\n",
        "  ax.plot(range(len(noise_levels)), accuracy_values_first_hidden,\n",
        "            marker = 'o',\n",
        "            markerfacecolor = 'white', \n",
        "            markersize = 9\n",
        "  )\n",
        "  ax.plot(range(len(noise_levels)), accuracy_values_ffnn,\n",
        "          marker = 'o',\n",
        "          markerfacecolor = 'white', \n",
        "          markersize = 9\n",
        "  )\n",
        "\n",
        "  ax.set_title(\"Robustness to noise\")\n",
        "  ax.set_xlabel(\"Noise level (%)\")\n",
        "  ax.set_ylabel(\"Accuracy\")\n",
        "  plt.xticks(range(len(noise_levels)), [int(l*100) for l in noise_levels])\n",
        "  plt.grid()\n",
        "  plt.legend([\"First hidden\", \"FFNN\"])\n"
      ]
    },
    {
      "cell_type": "code",
      "execution_count": 20,
      "metadata": {
        "id": "aF4-o4JT-y30"
      },
      "outputs": [],
      "source": [
        "def fgsm_attack(image, epsilon, data_grad):\n",
        "    # Collect the element-wise sign of the data gradient\n",
        "    sign_data_grad = data_grad.sign()\n",
        "\n",
        "    # Create the perturbed image by adjusting each pixel of the input image\n",
        "    perturbed_image = image + epsilon*sign_data_grad\n",
        "\n",
        "    # Adding clipping to maintain [0,1] range\n",
        "    perturbed_image = torch.clamp(perturbed_image, 0, 1)\n",
        "\n",
        "    # Return the perturbed image\n",
        "    return perturbed_image"
      ]
    },
    {
      "cell_type": "code",
      "execution_count": 21,
      "metadata": {
        "id": "BT23dNRy-y30"
      },
      "outputs": [],
      "source": [
        "class DBNWithReadOut(torch.nn.Module):\n",
        "    def __init__(self, dbn_model, perceptron):\n",
        "        super().__init__()\n",
        "        self.readout = perceptron\n",
        "        self.dbn_model = dbn_model\n",
        "\n",
        "    def forward(self, image):\n",
        "        x, _ = self.dbn_model.forward(image)\n",
        "        x = self.readout.forward(x)\n",
        "        return x"
      ]
    },
    {
      "cell_type": "code",
      "execution_count": 22,
      "metadata": {
        "id": "Hwginv5l-y31"
      },
      "outputs": [],
      "source": [
        "def attack_demo(image, label, attacked_model):\n",
        "    f = plt.figure()\n",
        "    s1 = f.add_subplot(1, 2, 1)\n",
        "    s2 = f.add_subplot(1, 2, 2)\n",
        "    \n",
        "    s1.imshow(\n",
        "        image.reshape(PreprocParams.crop_size, PreprocParams.crop_size)\n",
        "    )\n",
        "\n",
        "    image.requires_grad = True\n",
        "    model_output = attacked_model(image)\n",
        "    pred = torch.argmax(model_output)\n",
        "\n",
        "    s1.set_title(\n",
        "        f\"\"\"\n",
        "        Image before\n",
        "        True label: {label}\n",
        "        Predicted label: {pred}\n",
        "        \"\"\"\n",
        "    )\n",
        "\n",
        "    loss = torch.nn.functional.cross_entropy(\n",
        "        target = torch.tensor([label]),\n",
        "        input = model_output\n",
        "    )\n",
        "    \n",
        "    attacked_model.zero_grad()\n",
        "    loss.backward()\n",
        "\n",
        "    image_grad = image.grad.data\n",
        "    perturbed_image = fgsm_attack(image, 0.2, image_grad)\n",
        "    perturbed_image_np = perturbed_image.detach().numpy()\n",
        "\n",
        "    pred_adversarial = torch.argmax(\n",
        "        attacked_model(perturbed_image)\n",
        "    )\n",
        "    \n",
        "    s2.imshow(\n",
        "        perturbed_image_np.reshape(PreprocParams.crop_size, PreprocParams.crop_size)\n",
        "    )\n",
        "    s2.set_title(\n",
        "        f\"\"\"\n",
        "        Image after adv. attack\n",
        "        True label: {label}\n",
        "        Predicted label: {pred_adversarial}\n",
        "        \"\"\"\n",
        "    )"
      ]
    },
    {
      "cell_type": "code",
      "execution_count": 23,
      "metadata": {
        "id": "LiSv3EC2-y31"
      },
      "outputs": [],
      "source": [
        "def test_robustness_to_attack(model, device, test_loader, epsilon, num_steps=0, verbose=True):\n",
        "    correct = 0\n",
        "    print_reconstruction = num_steps > 0\n",
        "\n",
        "    for data, target in tqdm.tqdm(test_loader):\n",
        "        data, target = data.to(device), target.to(device)\n",
        "        data = data.reshape(1, 28, 28)\n",
        "        data.requires_grad = True  # Important for Attack\n",
        "\n",
        "        output = model.forward(data)\n",
        "\n",
        "        init_pred = torch.argmax(output)\n",
        "        # If the initial prediction is wrong, dont bother attacking, just move on\n",
        "        if init_pred.item() != target.item():\n",
        "            continue\n",
        "\n",
        "        if (print_reconstruction and verbose):\n",
        "          print(\"\\nHere's the original sample:\\n\")\n",
        "          plt.imshow(data.detach().numpy().reshape(28,28))\n",
        "          plt.show()\n",
        "\n",
        "        loss = functional.nll_loss(output, target)\n",
        "        model.zero_grad()\n",
        "        loss.backward()\n",
        "        data_grad = data.grad.data  # collect the gradient of the input data\n",
        "        perturbed_data = fgsm_attack(data, epsilon, data_grad)\n",
        "\n",
        "        if (print_reconstruction and verbose):\n",
        "            print(\"\\nHere's a perturbed sample:\\n\")\n",
        "            plt.imshow(perturbed_data.detach().numpy().reshape(28,28))\n",
        "            plt.show()\n",
        "\n",
        "\n",
        "        # If requested, reconstruct the input iterating forward-backward dynamics\n",
        "        if num_steps > 0:\n",
        "            for __ in range(0, num_steps):\n",
        "                perturbed_data, __ = model.dbn_model.reconstruct(perturbed_data)\n",
        "            if (print_reconstruction and verbose):\n",
        "                print(f\"\\nHere's what a {num_steps}-steps reconstructed sample looks like:\\n\")\n",
        "                plt.imshow(perturbed_data.detach().numpy().reshape(28,28))\n",
        "                plt.show()\n",
        "                print_reconstruction = False\n",
        "\n",
        "        # Re-classify the perturbed image\n",
        "        output = model(perturbed_data)\n",
        "\n",
        "        # Check for success\n",
        "        # get the index of the max element in the output\n",
        "        final_pred = output.max(1, keepdim=True)[1]\n",
        "        if final_pred.item() == target.item():\n",
        "            correct += 1\n",
        "\n",
        "    # Calculate final accuracy for this epsilon\n",
        "    final_acc = correct/float(len(test_loader))\n",
        "    if verbose:\n",
        "      print(\"\\nEpsilon: {}\\tTest Accuracy = {} / {} = {}\\n\".format(epsilon,\n",
        "            correct, len(test_loader), final_acc))\n",
        "\n",
        "    return final_acc"
      ]
    },
    {
      "cell_type": "code",
      "source": [
        "def test_epsilon_values_effect(model, n_steps, epsilons):\n",
        "  accuracies = list()\n",
        "\n",
        "  for eps in epsilons:\n",
        "      acc = test_robustness_to_attack(\n",
        "          model, \n",
        "          device, \n",
        "          test_loader, \n",
        "          eps, \n",
        "          num_steps = n_steps, \n",
        "          verbose=False\n",
        "      )\n",
        "      accuracies.append(acc)\n",
        "  return accuracies"
      ],
      "metadata": {
        "id": "nH79K_REHw8A"
      },
      "execution_count": 24,
      "outputs": []
    },
    {
      "cell_type": "markdown",
      "metadata": {
        "id": "1pBv1xQbQsQF"
      },
      "source": [
        "## **Data preparation**"
      ]
    },
    {
      "cell_type": "markdown",
      "metadata": {
        "id": "_pkrb1di-y32"
      },
      "source": [
        "### Download"
      ]
    },
    {
      "cell_type": "markdown",
      "metadata": {
        "id": "JM-8gd_RXxTL"
      },
      "source": [
        "\n",
        "- For neural networks, we need to scale data before learning\n",
        "- Need to obtain tensor shape\n",
        "- Fix seeds for reproducibility"
      ]
    },
    {
      "cell_type": "code",
      "execution_count": 25,
      "metadata": {
        "id": "LDllo9DBC5lQ"
      },
      "outputs": [],
      "source": [
        "%%capture \n",
        "def get_emnist_data():\n",
        "    fix_seeds()\n",
        "\n",
        "    transformer = tv.transforms.Compose(\n",
        "        [\n",
        "            #tv.transforms.CenterCrop(CROP_SIZE_),\n",
        "            tv.transforms.ToTensor(),\n",
        "            \n",
        "            # Transform to {-1, 1} binary image\n",
        "            tv.transforms.Normalize(\n",
        "                mean=(PreprocParams.mean,), \n",
        "                std=(PreprocParams.std)\n",
        "            ),\n",
        "\n",
        "            # Rotate\n",
        "            # tv.transforms.RandomRotation(degrees = 90) \n",
        "        ]\n",
        "    )\n",
        "\n",
        "    data = tv.datasets.EMNIST(\n",
        "        root = 'data/',\n",
        "        train = True,\n",
        "        download = True,\n",
        "        transform = transformer,\n",
        "        split = 'digits',\n",
        "        # shuffle = False\n",
        "    )\n",
        "\n",
        "    data.data = (data.data.type(torch.FloatTensor) / 255)\n",
        "    return data.data, data.targets\n",
        "\n",
        "def get_mnist_data():\n",
        "    train = tv.datasets.MNIST(\n",
        "        'data/', \n",
        "        train = True, \n",
        "        download = True,\n",
        "        transform=tv.transforms.Compose(\n",
        "            [tv.transforms.ToTensor()]\n",
        "        )\n",
        "    )\n",
        "\n",
        "    test = tv.datasets.MNIST(\n",
        "        'data/', \n",
        "        train = False, \n",
        "        download = True,\n",
        "        transform=tv.transforms.Compose(\n",
        "            [tv.transforms.ToTensor()]\n",
        "        )\n",
        "    )\n",
        "\n",
        "    targets = torch.cat((train.targets, test.targets))\n",
        "    data = torch.cat((train.data, test.data))\n",
        "    data = (data.type(torch.FloatTensor) / 255)\n",
        "    return data, targets\n",
        "\n",
        "def get_data(strategy):\n",
        "    if strategy == 'EMNIST':\n",
        "        return get_emnist_data()\n",
        "    elif strategy == 'MNIST':\n",
        "        return get_mnist_data()"
      ]
    },
    {
      "cell_type": "code",
      "source": [
        "%%capture\n",
        "data, targets = get_data(PreprocParams.strategy)\n",
        "print(f'Data size: {data.shape} {targets.shape}')"
      ],
      "metadata": {
        "id": "WLUusBmJWc-O",
        "outputId": "3d3d6977-b43a-4893-a2cd-cfad372a941c",
        "colab": {
          "base_uri": "https://localhost:8080/",
          "height": 455,
          "referenced_widgets": [
            "f815658395624428b81a9af6873f4ead",
            "a3384670c7c14b81a2fa263ee4e608bc",
            "1da97dd0f7e44752ba3e3ac288afb11e",
            "eeaba156eb8b42b7a4b742f6fe65df4e",
            "72c4b6835e5844a580f2cdc91b9097f6",
            "fc8cf8aa1da641cf9c7adc68776be66a",
            "2a3686ad29e947d2b64083478fbf5d6a",
            "f7c5700849ce43b48e8e0a77eb374114",
            "4745d7538a794ac39b460b581b140673",
            "053ccf32eea24cd185f8e5341d79e569",
            "40e76f4c9ca9476db2fb5b1d989fef11",
            "fdd993a93fb7451c9b622fcaca83e2a6",
            "2e431ff7c96c403db83d38421a08de26",
            "f1fa4308fcaa4239920b1e95f888a67a",
            "0140b3a15a894b15b2ea0ac1b849e97e",
            "da479f15290648d09c953c0f0252705a",
            "282c72a5558b4f4592d46c337ffa2d13",
            "61e9b674ee074405b6fab1d3af2d39e5",
            "0745a8e1507f42429a71e705f792d08d",
            "3208fe96550a4ed2bb3c3748861cc692",
            "30345ca8acb848a4a8a014d45e7cfb5f",
            "a8d5fb06330c431c9af4d4c54a561dd4",
            "0fb6ddf30c8c4d4c8c011a7a34978bbc",
            "f0a70191f1e04cb69fb347fce7718789",
            "7d0e8b48421a41459d4ba036ddba26a2",
            "55f7979a79c64221b30236752ebd8613",
            "436b11471f1144629aa996649af81c52",
            "6bb7bb0bfb2440df9421c4f2cfa5d61e",
            "1b433f4212f3451e884c92d51c19aeb4",
            "874c7535b4de48659dbae3e727a58be4",
            "c779be310fe647bda3306a102a5e6588",
            "0a07d01454d045e7a7a264cca6f52d97",
            "a7412694c28b470bb6b1c68bbbdf0d52",
            "837ba31a52c9451494d0c72fc2c18d1d",
            "5c53997deea948bdab60dcd8e8bd8b9f",
            "99428db94d954bb9991b953dd72c2978",
            "e9d514e6864149c694e21dc3c2f61a4b",
            "fb03a9cf8c8f43b1b8f594d9a981453f",
            "27f216fbaa4e4f618442aa6da516d84f",
            "982b70ab01af485bbc983002349ac938",
            "609138442435493d84533187c66257d2",
            "b8d707c59c894e68ad64713f13638b9a",
            "27d3af1c0e384386a648bd1610a2dfc8",
            "fa505ed9f2bf4d51beff4494424434a8"
          ]
        }
      },
      "execution_count": 26,
      "outputs": [
        {
          "output_type": "stream",
          "name": "stdout",
          "text": [
            "Downloading http://yann.lecun.com/exdb/mnist/train-images-idx3-ubyte.gz\n",
            "Downloading http://yann.lecun.com/exdb/mnist/train-images-idx3-ubyte.gz to data/MNIST/raw/train-images-idx3-ubyte.gz\n"
          ]
        },
        {
          "output_type": "display_data",
          "data": {
            "application/vnd.jupyter.widget-view+json": {
              "model_id": "f815658395624428b81a9af6873f4ead",
              "version_minor": 0,
              "version_major": 2
            },
            "text/plain": [
              "  0%|          | 0/9912422 [00:00<?, ?it/s]"
            ]
          },
          "metadata": {}
        },
        {
          "output_type": "stream",
          "name": "stdout",
          "text": [
            "Extracting data/MNIST/raw/train-images-idx3-ubyte.gz to data/MNIST/raw\n",
            "\n",
            "Downloading http://yann.lecun.com/exdb/mnist/train-labels-idx1-ubyte.gz\n",
            "Downloading http://yann.lecun.com/exdb/mnist/train-labels-idx1-ubyte.gz to data/MNIST/raw/train-labels-idx1-ubyte.gz\n"
          ]
        },
        {
          "output_type": "display_data",
          "data": {
            "application/vnd.jupyter.widget-view+json": {
              "model_id": "fdd993a93fb7451c9b622fcaca83e2a6",
              "version_minor": 0,
              "version_major": 2
            },
            "text/plain": [
              "  0%|          | 0/28881 [00:00<?, ?it/s]"
            ]
          },
          "metadata": {}
        },
        {
          "output_type": "stream",
          "name": "stdout",
          "text": [
            "Extracting data/MNIST/raw/train-labels-idx1-ubyte.gz to data/MNIST/raw\n",
            "\n",
            "Downloading http://yann.lecun.com/exdb/mnist/t10k-images-idx3-ubyte.gz\n",
            "Downloading http://yann.lecun.com/exdb/mnist/t10k-images-idx3-ubyte.gz to data/MNIST/raw/t10k-images-idx3-ubyte.gz\n"
          ]
        },
        {
          "output_type": "display_data",
          "data": {
            "application/vnd.jupyter.widget-view+json": {
              "model_id": "0fb6ddf30c8c4d4c8c011a7a34978bbc",
              "version_minor": 0,
              "version_major": 2
            },
            "text/plain": [
              "  0%|          | 0/1648877 [00:00<?, ?it/s]"
            ]
          },
          "metadata": {}
        },
        {
          "output_type": "stream",
          "name": "stdout",
          "text": [
            "Extracting data/MNIST/raw/t10k-images-idx3-ubyte.gz to data/MNIST/raw\n",
            "\n",
            "Downloading http://yann.lecun.com/exdb/mnist/t10k-labels-idx1-ubyte.gz\n",
            "Downloading http://yann.lecun.com/exdb/mnist/t10k-labels-idx1-ubyte.gz to data/MNIST/raw/t10k-labels-idx1-ubyte.gz\n"
          ]
        },
        {
          "output_type": "display_data",
          "data": {
            "application/vnd.jupyter.widget-view+json": {
              "model_id": "837ba31a52c9451494d0c72fc2c18d1d",
              "version_minor": 0,
              "version_major": 2
            },
            "text/plain": [
              "  0%|          | 0/4542 [00:00<?, ?it/s]"
            ]
          },
          "metadata": {}
        },
        {
          "output_type": "stream",
          "name": "stdout",
          "text": [
            "Extracting data/MNIST/raw/t10k-labels-idx1-ubyte.gz to data/MNIST/raw\n",
            "\n",
            "Data size: torch.Size([70000, 28, 28]) torch.Size([70000])\n"
          ]
        }
      ]
    },
    {
      "cell_type": "markdown",
      "metadata": {
        "id": "40eopv3e-y33"
      },
      "source": [
        "### Train / Test split"
      ]
    },
    {
      "cell_type": "code",
      "execution_count": 27,
      "metadata": {
        "colab": {
          "base_uri": "https://localhost:8080/"
        },
        "id": "YAnHeaSqIjN1",
        "outputId": "dca199ac-bb09-4566-8566-fb1593ab9e44"
      },
      "outputs": [
        {
          "output_type": "stream",
          "name": "stdout",
          "text": [
            "\n",
            "        Train size: (torch.Size([60000, 28, 28]), torch.Size([60000]))\n",
            "        Test size: (torch.Size([10000, 28, 28]), torch.Size([10000]))\n",
            "\n"
          ]
        }
      ],
      "source": [
        "data_train = data[: TrainParameters.train_size, :]\n",
        "targets_train = targets[: TrainParameters.train_size]\n",
        "\n",
        "data_test = data[\n",
        "  TrainParameters.train_size : TrainParameters.train_size + TrainParameters.test_size, :\n",
        "]\n",
        "targets_test = targets[\n",
        "  TrainParameters.train_size : TrainParameters.train_size + TrainParameters.test_size\n",
        "]\n",
        "\n",
        "print(f\"\"\"\n",
        "        Train size: {data_train.shape, targets_train.shape}\n",
        "        Test size: {data_test.shape, targets_test.shape}\n",
        "\"\"\")"
      ]
    },
    {
      "cell_type": "markdown",
      "metadata": {
        "id": "3xQc4CTi-y34"
      },
      "source": [
        "### Exploration & visualization"
      ]
    },
    {
      "cell_type": "code",
      "execution_count": 28,
      "metadata": {
        "colab": {
          "base_uri": "https://localhost:8080/",
          "height": 593
        },
        "id": "L0lp_jrHnpsu",
        "outputId": "ffa82adf-337e-44a0-d397-1ea9cae9ace4"
      },
      "outputs": [
        {
          "output_type": "display_data",
          "data": {
            "image/png": "[encoded data removed]",
            "text/plain": [
              "<Figure size 720x720 with 16 Axes>"
            ]
          },
          "metadata": {
            "needs_background": "light"
          }
        }
      ],
      "source": [
        "visualize_symbols(\n",
        "    data_train, \n",
        "    n_subplots = 16, \n",
        "    image_shape = (PreprocParams.crop_size, PreprocParams.crop_size)\n",
        ")"
      ]
    },
    {
      "cell_type": "code",
      "execution_count": 29,
      "metadata": {
        "colab": {
          "base_uri": "https://localhost:8080/",
          "height": 484
        },
        "id": "878FvFjq-y35",
        "outputId": "016d33df-207c-4028-926e-3ce77042cd5b"
      },
      "outputs": [
        {
          "output_type": "display_data",
          "data": {
            "image/png": "[encoded data removed]",
            "text/plain": [
              "<Figure size 576x576 with 9 Axes>"
            ]
          },
          "metadata": {
            "needs_background": "light"
          }
        }
      ],
      "source": [
        "# Visualize first few symbols\n",
        "visualize_labels(\n",
        "    labels = [\n",
        "        0, 1, 2,\n",
        "        3, 4, 5,\n",
        "        6, 7, 8\n",
        "    ],\n",
        "    data = data_train,\n",
        "    targets = targets_train,\n",
        "    figsize = (8, 8)\n",
        ")"
      ]
    },
    {
      "cell_type": "markdown",
      "metadata": {
        "id": "FJkVHu_9Go00"
      },
      "source": [
        "### Class distribution"
      ]
    },
    {
      "cell_type": "code",
      "execution_count": 30,
      "metadata": {
        "colab": {
          "base_uri": "https://localhost:8080/",
          "height": 336
        },
        "id": "c45YmnU0Gtth",
        "outputId": "1a09c3be-addc-4bfd-fb78-6f3748b3ca6a"
      },
      "outputs": [
        {
          "output_type": "display_data",
          "data": {
            "image/png": "[encoded data removed]",
            "text/plain": [
              "<Figure size 1080x360 with 2 Axes>"
            ]
          },
          "metadata": {
            "needs_background": "light"
          }
        }
      ],
      "source": [
        "fig, axes = plt.subplots(1, 2, figsize = (15, 5))\n",
        "sns.countplot(\n",
        "    x = targets_train.numpy(), ax = axes[0]\n",
        "\n",
        ")\n",
        "_ = axes[0].set_title('Train class distribution')\n",
        "\n",
        "sns.countplot(\n",
        "    x = targets_test.numpy(), \n",
        "    ax = axes[1]\n",
        ")\n",
        "_ = axes[1].set_title('Test class distribution')"
      ]
    },
    {
      "cell_type": "markdown",
      "metadata": {
        "id": "QUZuFzkvT4XZ"
      },
      "source": [
        "- 1st conclusion:  \n",
        "    - 1 Dataset\n",
        "    - 10 distinct symbols (for 'digits' split)\n",
        "    - Approximately uniform class distribution\n",
        "    - ~ 10% images per class\n",
        "    - Digits are centered in the image and do not occupy the whole square (-> apply center crop)"
      ]
    },
    {
      "cell_type": "markdown",
      "metadata": {
        "id": "0BI9KuHepnKb"
      },
      "source": [
        "## **Deep Belief Network model & fit**"
      ]
    },
    {
      "cell_type": "markdown",
      "metadata": {
        "id": "XdfxqpZtwmgT"
      },
      "source": [
        "- Deep Belief Network - a stack of Restricted Bolzmann Machines\n",
        "    - RBM is a bipartite graph with input and hidden layer\n",
        "    - Hidden layer captures dependencies and features\n",
        "- Each layer learns more complex and abstract features\n",
        "- Used as feature extraction method (generative model)\n",
        "- No output neurons\n",
        "- Two phases (negative & positive) during learning (reconstruction)\n",
        "\n",
        "\n"
      ]
    },
    {
      "cell_type": "markdown",
      "metadata": {
        "id": "Nmapfxge-y36"
      },
      "source": [
        "### Prepare model"
      ]
    },
    {
      "cell_type": "markdown",
      "metadata": {
        "id": "iVeUPyr8-y37"
      },
      "source": [
        "Here, we prepare a deep (for internal representations) and a shallow (for adversarial attacks) models"
      ]
    },
    {
      "cell_type": "code",
      "execution_count": 136,
      "metadata": {
        "id": "KmW7JfF--y37"
      },
      "outputs": [],
      "source": [
        "fix_seeds()\n",
        "\n",
        "dbm_deep_params = DBMDeepParameters(\n",
        "    image_height = PreprocParams.crop_size,\n",
        "    image_width = PreprocParams.crop_size\n",
        ")\n",
        "\n",
        "model_deep = DBN(\n",
        "    visible_units = dbm_deep_params.image_width * dbm_deep_params.image_height,\n",
        "    hidden_units = dbm_deep_params.hidden_units,\n",
        "    k = dbm_deep_params.K,\n",
        "    learning_rate = dbm_deep_params.learning_rate,\n",
        "    learning_rate_decay = dbm_deep_params.lr_decay,\n",
        "    initial_momentum = dbm_deep_params.init_momentum,\n",
        "    weight_decay = dbm_deep_params.w_decay,\n",
        "    xavier_init = dbm_deep_params.xavier_init,\n",
        "    increase_to_cd_k = dbm_deep_params.increase_to_cd_k,\n",
        "    use_gpu = dbm_deep_params.use_gpu\n",
        ")\n"
      ]
    },
    {
      "cell_type": "code",
      "execution_count": 140,
      "metadata": {
        "id": "qi3dYDbv-y37"
      },
      "outputs": [],
      "source": [
        "fix_seeds()\n",
        "\n",
        "dbm_shallow_params = DBMShallowParameters(\n",
        "    image_height = PreprocParams.crop_size,\n",
        "    image_width = PreprocParams.crop_size\n",
        ")\n",
        "\n",
        "model_shallow = DBN(\n",
        "    visible_units = dbm_shallow_params.image_width * dbm_shallow_params.image_height,\n",
        "    hidden_units = dbm_shallow_params.hidden_units,\n",
        "    k = dbm_shallow_params.K,\n",
        "    learning_rate = dbm_shallow_params.learning_rate,\n",
        "    learning_rate_decay = dbm_shallow_params.lr_decay,\n",
        "    initial_momentum = dbm_shallow_params.init_momentum,\n",
        "    weight_decay = dbm_shallow_params.w_decay,\n",
        "    xavier_init = dbm_shallow_params.xavier_init,\n",
        "    increase_to_cd_k = dbm_shallow_params.increase_to_cd_k,\n",
        "    use_gpu = dbm_shallow_params.use_gpu\n",
        ")"
      ]
    },
    {
      "cell_type": "markdown",
      "metadata": {
        "id": "DyE9igCA-y37"
      },
      "source": [
        "### Fit"
      ]
    },
    {
      "cell_type": "code",
      "execution_count": 33,
      "metadata": {
        "id": "z_R-EjDCKTB2",
        "colab": {
          "base_uri": "https://localhost:8080/"
        },
        "outputId": "dab802e1-0d18-4a19-c1e8-03f55de33e64"
      },
      "outputs": [
        {
          "output_type": "stream",
          "name": "stdout",
          "text": [
            "--------------------\n",
            "Training RBM layer 1\n",
            "|Epoch |avg_rec_err |std_rec_err  |mean_grad |std_grad  |\n",
            "|10    |0.9105   |0.0438   |298.9875 |9.4144   |\n",
            "|20    |0.8461   |0.0408   |274.0270 |8.6415   |\n",
            "|30    |0.8252   |0.0382   |264.8072 |8.3126   |\n",
            "|40    |0.8129   |0.0374   |259.3212 |7.6057   |\n",
            "|50    |0.8082   |0.0371   |258.2249 |7.8634   |\n",
            "--------------------\n",
            "Training RBM layer 2\n",
            "|Epoch |avg_rec_err |std_rec_err  |mean_grad |std_grad  |\n",
            "|10    |1.1922   |0.0453   |235.5892 |7.0861   |\n",
            "|20    |1.0852   |0.0407   |226.8742 |6.7232   |\n",
            "|30    |1.0575   |0.0398   |224.1914 |6.6926   |\n",
            "|40    |1.0499   |0.0379   |224.2572 |6.2002   |\n",
            "|50    |1.0447   |0.0388   |223.4996 |6.3249   |\n",
            "--------------------\n",
            "Training RBM layer 3\n",
            "|Epoch |avg_rec_err |std_rec_err  |mean_grad |std_grad  |\n",
            "|10    |0.9384   |0.0396   |270.6124 |8.3106   |\n",
            "|20    |0.8517   |0.0348   |256.8502 |7.2794   |\n",
            "|30    |0.8290   |0.0337   |252.0071 |6.8690   |\n",
            "|40    |0.8187   |0.0338   |249.9158 |8.0165   |\n",
            "|50    |0.8092   |0.0326   |246.9593 |7.1071   |\n"
          ]
        }
      ],
      "source": [
        "# %%capture\n",
        "\n",
        "fix_seeds()\n",
        "\n",
        "model_deep.train_static(\n",
        "    data_train,\n",
        "    targets_train,\n",
        "    TrainParameters.epochs,\n",
        "    TrainParameters.batch_size\n",
        ")\n",
        "\n",
        "move_parameters_to_cpu(model_deep)"
      ]
    },
    {
      "cell_type": "code",
      "execution_count": 142,
      "metadata": {
        "colab": {
          "base_uri": "https://localhost:8080/"
        },
        "id": "7Xq81Ys--y38",
        "outputId": "3223e550-b27d-48a9-ada0-8ca3d8785a90"
      },
      "outputs": [
        {
          "output_type": "stream",
          "name": "stdout",
          "text": [
            "--------------------\n",
            "Training RBM layer 1\n",
            "|Epoch |avg_rec_err |std_rec_err  |mean_grad |std_grad  |\n",
            "|10    |0.9942   |0.0528   |345.0992 |13.4257   |\n",
            "|20    |0.9481   |0.0496   |327.0140 |12.7256   |\n",
            "|30    |0.9336   |0.0501   |318.3804 |12.3402   |\n",
            "|40    |0.9280   |0.0491   |315.6078 |12.4171   |\n",
            "|50    |0.9258   |0.0499   |314.7289 |12.4236   |\n"
          ]
        }
      ],
      "source": [
        "# %%capture\n",
        "\n",
        "fix_seeds()\n",
        "\n",
        "model_shallow.train_static(\n",
        "    data_train,\n",
        "    targets_train,\n",
        "    TrainParameters.epochs,\n",
        "    TrainParameters.batch_size\n",
        ")\n",
        "\n",
        "move_parameters_to_cpu(model_shallow)"
      ]
    },
    {
      "cell_type": "markdown",
      "metadata": {
        "id": "kMrYlG41pRWc"
      },
      "source": [
        "## **Linear read-outs. Receptive fields visualization**"
      ]
    },
    {
      "cell_type": "markdown",
      "metadata": {
        "id": "ogTklRTtnZFw"
      },
      "source": [
        "Lets understand the structure of network & layers\n",
        "- Input layer size - (IMG_SIZE_ * IMG_SIZE_)\n",
        "- 0-level of RBM network with N units -> has connection matrix W. \n",
        "Size of W = N_units * (IMG_SIZE_ * IMG_SIZE_)\n",
        "- We can consider W matrix of 0-level as N \"images\" of size (IMG_SIZE_ * IMG_SIZE_)\n",
        "- Hence, we can visualize connection strengths, starting from 0 hidden level\n",
        "\n",
        "Another considerations:\n",
        "- For example, in the architecture with units = [500, 500, 2000], the second hidden layer consists of 500 units, each associated with 500 units of the 1st hidden layer (500 x 500 matrix)\n",
        "- We need to visualize (IMG_SIZE_ * IMG_SIZE_) images of 2nd hidden layer receptive fields\n",
        "- The dimension of 1st hidden layer is n_units * (IMG_SIZE * IMG_SIZE).\n",
        "- **Therefore**, we need to perform matrix multiplication, to turn (500 x 500) layer to (500 x (IMG_SIZE x IMG_SIZE)) layer"
      ]
    },
    {
      "cell_type": "code",
      "source": [
        "for i in range(len(model_deep.rbm_layers)):\n",
        "    print(\n",
        "        f\"\"\"Dimension of connection matrix at {i} level: {model_deep.rbm_layers[i].W.size()}\n",
        "        \"\"\"\n",
        "    )\n",
        "print(f'Total: {model_deep.n_layers} hidden layers')"
      ],
      "metadata": {
        "colab": {
          "base_uri": "https://localhost:8080/"
        },
        "id": "VqCg5VX1_khr",
        "outputId": "0bec4614-c98f-49f8-cb6f-601cd13e0ce6"
      },
      "execution_count": 35,
      "outputs": [
        {
          "output_type": "stream",
          "name": "stdout",
          "text": [
            "Dimension of connection matrix at 0 level: torch.Size([784, 500])\n",
            "        \n",
            "Dimension of connection matrix at 1 level: torch.Size([500, 500])\n",
            "        \n",
            "Dimension of connection matrix at 2 level: torch.Size([500, 1000])\n",
            "        \n",
            "Total: 3 hidden layers\n"
          ]
        }
      ]
    },
    {
      "cell_type": "markdown",
      "metadata": {
        "id": "Ii8ISj1MiT0C"
      },
      "source": [
        "### Preprocessing (filtering) learned weights matrices"
      ]
    },
    {
      "cell_type": "code",
      "execution_count": 36,
      "metadata": {
        "id": "fvpfL8MTz6eT"
      },
      "outputs": [],
      "source": [
        "# Converting and processing W matrices of hidden layers\n",
        "\n",
        "learned_weights = [\n",
        "    # We transpose for convenience (matrices[i, :] is more intuitive than matrices[:, i])\n",
        "    model_deep.rbm_layers[i].W.transpose(0, 1).numpy() for i in range(model_deep.n_layers)\n",
        "]\n",
        "\n",
        "learned_weights_thresh = [\n",
        "    apply_threshold(weights_matrix, PreprocParams.visualization_threshold) \n",
        "    for weights_matrix in learned_weights\n",
        "]"
      ]
    },
    {
      "cell_type": "markdown",
      "metadata": {
        "id": "BAeeE6sCig1n"
      },
      "source": [
        "### Hidden layer receptive fields"
      ]
    },
    {
      "cell_type": "code",
      "execution_count": 37,
      "metadata": {
        "colab": {
          "base_uri": "https://localhost:8080/",
          "height": 0
        },
        "id": "DZ8E6SGM-y39",
        "outputId": "d20ef822-3c59-43b9-fa2c-e0b72400bda2"
      },
      "outputs": [
        {
          "output_type": "display_data",
          "data": {
            "image/png": "[encoded data removed]",
            "text/plain": [
              "<Figure size 576x576 with 36 Axes>"
            ]
          },
          "metadata": {
            "needs_background": "light"
          }
        },
        {
          "output_type": "display_data",
          "data": {
            "image/png": "[encoded data removed]",
            "text/plain": [
              "<Figure size 576x576 with 36 Axes>"
            ]
          },
          "metadata": {
            "needs_background": "light"
          }
        },
        {
          "output_type": "display_data",
          "data": {
            "image/png": "[encoded data removed]",
            "text/plain": [
              "<Figure size 576x576 with 36 Axes>"
            ]
          },
          "metadata": {
            "needs_background": "light"
          }
        }
      ],
      "source": [
        "for layer in range(dbm_deep_params.n_hidden_layers):\n",
        "    title = f'Receptive fields for layer № {layer + 1}'\n",
        "    \n",
        "    if layer == 0:\n",
        "        # No projection\n",
        "        weights = learned_weights_thresh[layer]\n",
        "    else:\n",
        "        weights = project_hidden_layer(\n",
        "            learned_weights_thresh,\n",
        "            layer_numb = layer + 1  # Yes, problems with indexes\n",
        "        )\n",
        "    \n",
        "    plot_layer_receptive_fields(\n",
        "        weights,\n",
        "        num_subplots = 36,\n",
        "        img_width = PreprocParams.crop_size,\n",
        "        img_height = PreprocParams.crop_size,\n",
        "        suptitle = title,\n",
        "        fig_size = (8, 8)\n",
        "    )\n",
        "    "
      ]
    },
    {
      "cell_type": "markdown",
      "metadata": {
        "id": "X0IM9z4MpTyw"
      },
      "source": [
        "## **Clustering internal representations**"
      ]
    },
    {
      "cell_type": "markdown",
      "metadata": {
        "id": "nfSoPDGo-y3-"
      },
      "source": [
        "### Representation matrices"
      ]
    },
    {
      "cell_type": "code",
      "execution_count": 38,
      "metadata": {
        "colab": {
          "base_uri": "https://localhost:8080/"
        },
        "id": "zsSYZ8j5-y3-",
        "outputId": "94a01e8b-e35a-4e75-fb19-c43a611037fc"
      },
      "outputs": [
        {
          "output_type": "stream",
          "name": "stdout",
          "text": [
            "Total: 3 hidden representations\n"
          ]
        }
      ],
      "source": [
        "hidden_representations = get_layer_representations(\n",
        "    n_layers = dbm_deep_params.n_hidden_layers,\n",
        "    model = model_deep,\n",
        "    input_data = data_train\n",
        ")\n",
        "print(f'Total: {len(hidden_representations)} hidden representations')"
      ]
    },
    {
      "cell_type": "code",
      "execution_count": 39,
      "metadata": {
        "id": "pgngi0r0-y3-"
      },
      "outputs": [],
      "source": [
        "# Label to mean representation\n",
        "labels_to_mean = [\n",
        "    label_to_mean_hidden_repr(\n",
        "        hidden_representation,\n",
        "        data_train,\n",
        "        targets_train\n",
        "    )\n",
        "    for hidden_representation in hidden_representations\n",
        "]"
      ]
    },
    {
      "cell_type": "code",
      "execution_count": 40,
      "metadata": {
        "id": "SQZhutVp-y3-"
      },
      "outputs": [],
      "source": [
        "representation_matrices = [\n",
        "    get_hidden_representation_matrix(\n",
        "        label_to_mean,\n",
        "        targets_train\n",
        "    )\n",
        "    for label_to_mean in labels_to_mean\n",
        "]"
      ]
    },
    {
      "cell_type": "markdown",
      "metadata": {
        "id": "QSOyUbaa-y3_"
      },
      "source": [
        "### Plotting dendrograms"
      ]
    },
    {
      "cell_type": "code",
      "execution_count": 41,
      "metadata": {
        "colab": {
          "base_uri": "https://localhost:8080/",
          "height": 818
        },
        "id": "vYyqy3IU-y3_",
        "outputId": "2486dc10-dcba-4f75-dd70-6dd45c95e0bc"
      },
      "outputs": [
        {
          "output_type": "display_data",
          "data": {
            "image/png": "[encoded data removed]",
            "text/plain": [
              "<Figure size 432x288 with 1 Axes>"
            ]
          },
          "metadata": {
            "needs_background": "light"
          }
        },
        {
          "output_type": "display_data",
          "data": {
            "image/png": "[encoded data removed]",
            "text/plain": [
              "<Figure size 432x288 with 1 Axes>"
            ]
          },
          "metadata": {
            "needs_background": "light"
          }
        },
        {
          "output_type": "display_data",
          "data": {
            "image/png": "[encoded data removed]",
            "text/plain": [
              "<Figure size 432x288 with 1 Axes>"
            ]
          },
          "metadata": {
            "needs_background": "light"
          }
        }
      ],
      "source": [
        "for index, mean_repr_matrix in enumerate(representation_matrices):\n",
        "    plot_dendrogram(\n",
        "        mean_repr_matrix,\n",
        "        title = f'Dendrogram for hidden layer № {index + 1}'\n",
        "    )"
      ]
    },
    {
      "cell_type": "markdown",
      "metadata": {
        "id": "sPbO1wv6-y4A"
      },
      "source": [
        "## Train all layers read-outs"
      ]
    },
    {
      "cell_type": "markdown",
      "metadata": {
        "id": "qCaybyB6-y4A"
      },
      "source": [
        "Here, we attach perceptrons to all levels of deep belief network, in order to compare accuracy and train time metrics"
      ]
    },
    {
      "cell_type": "code",
      "execution_count": 42,
      "metadata": {
        "colab": {
          "base_uri": "https://localhost:8080/"
        },
        "id": "zfPKUFQ7-y4A",
        "outputId": "2e883b3c-1250-4d00-87ee-7a6d622636de"
      },
      "outputs": [
        {
          "output_type": "stream",
          "name": "stdout",
          "text": [
            "epoch 0/1500, loss = 2.285356\n",
            "epoch 100/1500, loss = 0.687489\n",
            "epoch 200/1500, loss = 0.500690\n",
            "epoch 300/1500, loss = 0.425704\n",
            "epoch 400/1500, loss = 0.383161\n",
            "epoch 500/1500, loss = 0.354851\n",
            "epoch 600/1500, loss = 0.334200\n",
            "epoch 700/1500, loss = 0.318215\n",
            "epoch 800/1500, loss = 0.305316\n",
            "epoch 900/1500, loss = 0.294586\n",
            "epoch 1000/1500, loss = 0.285450\n",
            "epoch 1100/1500, loss = 0.277526\n",
            "epoch 1200/1500, loss = 0.270552\n",
            "epoch 1300/1500, loss = 0.264339\n",
            "epoch 1400/1500, loss = 0.258749\n",
            "\n",
            "\n",
            "epoch 0/1500, loss = 2.322433\n",
            "epoch 100/1500, loss = 0.717402\n",
            "epoch 200/1500, loss = 0.527097\n",
            "epoch 300/1500, loss = 0.450302\n",
            "epoch 400/1500, loss = 0.406663\n",
            "epoch 500/1500, loss = 0.377636\n",
            "epoch 600/1500, loss = 0.356491\n",
            "epoch 700/1500, loss = 0.340150\n",
            "epoch 800/1500, loss = 0.326987\n",
            "epoch 900/1500, loss = 0.316055\n",
            "epoch 1000/1500, loss = 0.306761\n",
            "epoch 1100/1500, loss = 0.298710\n",
            "epoch 1200/1500, loss = 0.291633\n",
            "epoch 1300/1500, loss = 0.285334\n",
            "epoch 1400/1500, loss = 0.279669\n",
            "\n",
            "\n",
            "epoch 0/1500, loss = 2.338813\n",
            "epoch 100/1500, loss = 0.633617\n",
            "epoch 200/1500, loss = 0.451323\n",
            "epoch 300/1500, loss = 0.379503\n",
            "epoch 400/1500, loss = 0.339064\n",
            "epoch 500/1500, loss = 0.312254\n",
            "epoch 600/1500, loss = 0.292740\n",
            "epoch 700/1500, loss = 0.277653\n",
            "epoch 800/1500, loss = 0.265490\n",
            "epoch 900/1500, loss = 0.255378\n",
            "epoch 1000/1500, loss = 0.246771\n",
            "epoch 1100/1500, loss = 0.239311\n",
            "epoch 1200/1500, loss = 0.232747\n",
            "epoch 1300/1500, loss = 0.226902\n",
            "epoch 1400/1500, loss = 0.221644\n",
            "\n",
            "\n"
          ]
        }
      ],
      "source": [
        "perceptrons = []\n",
        "\n",
        "for layer_n in range(dbm_deep_params.n_hidden_layers):\n",
        "    # Perceptron, attached to 'layer_n' hidden layer\n",
        "    perceptron = attach_perceptron(\n",
        "        model = model_deep,\n",
        "        layer_num = layer_n,\n",
        "        class_num = TrainParameters.class_num  # For 'digits' split EMNIST -> 10 classes\n",
        "    )\n",
        "\n",
        "    # As input - hidden representation\n",
        "    train(\n",
        "        perceptron, \n",
        "        hidden_representations[layer_n],\n",
        "        targets = targets_train,\n",
        "        epochs = PerceptronTrainParameters.epochs\n",
        "    )\n",
        "    print('\\n')\n",
        "\n",
        "    perceptrons.append(\n",
        "        perceptron\n",
        "    )\n",
        "\n",
        "test_representations = get_layer_representations(\n",
        "    n_layers = dbm_deep_params.n_hidden_layers,\n",
        "    model = model_deep,\n",
        "    input_data = data_test\n",
        ")"
      ]
    },
    {
      "cell_type": "code",
      "source": [
        "perceptron_first_hidden = perceptrons[0]"
      ],
      "metadata": {
        "id": "UVDV4Gc2FVNg"
      },
      "execution_count": 43,
      "outputs": []
    },
    {
      "cell_type": "markdown",
      "metadata": {
        "id": "7mBn0w5j-y4A"
      },
      "source": [
        "## Train FFNN"
      ]
    },
    {
      "cell_type": "markdown",
      "metadata": {
        "id": "H4p-0mbU-y4B"
      },
      "source": [
        "If we are going to compare performance of Feed Forward Neural Network with perceptron, we should reasonably choose number of neurons in the hidden layer.\n",
        "We choose N neurons, where N - is the number of hidden units in the first layer of Deep Belief Network"
      ]
    },
    {
      "cell_type": "code",
      "execution_count": 44,
      "metadata": {
        "colab": {
          "base_uri": "https://localhost:8080/"
        },
        "id": "rSM8lbPU-y4A",
        "outputId": "27addd2b-faf5-45c7-d0fa-a0cc64dec615"
      },
      "outputs": [
        {
          "output_type": "stream",
          "name": "stdout",
          "text": [
            "FFNN architecture: 500 neurons in the hidden layer\n"
          ]
        }
      ],
      "source": [
        "n_units = dbm_deep_params.hidden_units[0]\n",
        "\n",
        "ffnn = FeedForward(\n",
        "    first_hidden_layer_size = n_units,\n",
        "    class_num = TrainParameters.class_num,\n",
        "    input_size = PreprocParams.crop_size * PreprocParams.crop_size\n",
        ")\n",
        "print(f'FFNN architecture: {n_units} neurons in the hidden layer')"
      ]
    },
    {
      "cell_type": "code",
      "execution_count": 45,
      "metadata": {
        "colab": {
          "base_uri": "https://localhost:8080/"
        },
        "id": "n4DMxo_b-y4B",
        "outputId": "176e807c-f5bb-4d60-9fda-d95be696ddb3"
      },
      "outputs": [
        {
          "output_type": "stream",
          "name": "stdout",
          "text": [
            "epoch 0/120, loss = 2.304973\n",
            "epoch 10/120, loss = 2.189405\n",
            "epoch 20/120, loss = 2.064726\n",
            "epoch 30/120, loss = 1.918438\n",
            "epoch 40/120, loss = 1.751137\n",
            "epoch 50/120, loss = 1.574140\n",
            "epoch 60/120, loss = 1.403315\n",
            "epoch 70/120, loss = 1.251035\n",
            "epoch 80/120, loss = 1.122383\n",
            "epoch 90/120, loss = 1.016708\n",
            "epoch 100/120, loss = 0.930690\n",
            "epoch 110/120, loss = 0.860494\n"
          ]
        }
      ],
      "source": [
        "train(\n",
        "    ffnn,\n",
        "    data_train,\n",
        "    targets = targets_train,\n",
        "    epochs = FFNNTrainParameters.epochs\n",
        ")"
      ]
    },
    {
      "cell_type": "markdown",
      "metadata": {
        "id": "GouPLlnVkV5j"
      },
      "source": [
        "## Perceptron VS FFNN comparison"
      ]
    },
    {
      "cell_type": "code",
      "source": [
        "accuracies = {\n",
        "    # Resulting accuracies of ffnn and perceptrons\n",
        "}"
      ],
      "metadata": {
        "id": "wiuiDpE1F-hm"
      },
      "execution_count": 46,
      "outputs": []
    },
    {
      "cell_type": "markdown",
      "source": [
        "### Perceptrons"
      ],
      "metadata": {
        "id": "D_YxdVOKE4XF"
      }
    },
    {
      "cell_type": "code",
      "execution_count": 47,
      "metadata": {
        "colab": {
          "base_uri": "https://localhost:8080/"
        },
        "id": "SlLKd-yQ-y4B",
        "outputId": "608065e2-3ab4-4143-96e0-48570ef3680d"
      },
      "outputs": [
        {
          "output_type": "stream",
          "name": "stdout",
          "text": [
            "Accuracy for perceptron, attached to hidden layer № 0, Accuracy: 0.9361000061035156\n",
            "Accuracy for perceptron, attached to hidden layer № 1, Accuracy: 0.9319999814033508\n",
            "Accuracy for perceptron, attached to hidden layer № 2, Accuracy: 0.9455000162124634\n"
          ]
        }
      ],
      "source": [
        "counter = 0\n",
        "for perceptron, test_representation in zip(perceptrons, test_representations):\n",
        "\n",
        "    predictions_test = perceptron(\n",
        "        test_representation\n",
        "    )\n",
        "    acc = compute_accuracy(\n",
        "        predictions_test,\n",
        "        targets_test\n",
        "    )\n",
        "    print(f'Accuracy for perceptron, attached to hidden layer № {counter}, Accuracy: {acc}')\n",
        "    counter += 1\n",
        "    accuracies[f'Perc. {counter} layer'] = acc"
      ]
    },
    {
      "cell_type": "markdown",
      "source": [
        "### FFNN"
      ],
      "metadata": {
        "id": "hz-jfifQE60-"
      }
    },
    {
      "cell_type": "code",
      "execution_count": 48,
      "metadata": {
        "colab": {
          "base_uri": "https://localhost:8080/"
        },
        "id": "AUzu85EXmGym",
        "outputId": "8ce8097e-cbaa-4ada-fcd9-455023a0abb8"
      },
      "outputs": [
        {
          "output_type": "stream",
          "name": "stdout",
          "text": [
            "Feed forward neural network accuracy: 0.8410000205039978\n"
          ]
        }
      ],
      "source": [
        "preds_ffnn = ffnn(\n",
        "    data_test.reshape(\n",
        "        (data_test.shape[0], data_test.shape[1] * data_test.shape[2])\n",
        "    )\n",
        ")\n",
        "ffnn_acc = compute_accuracy(\n",
        "    preds_ffnn,\n",
        "    targets_test\n",
        ")\n",
        "accuracies['FFNN'] = ffnn_acc\n",
        "print(f'Feed forward neural network accuracy: {ffnn_acc}')"
      ]
    },
    {
      "cell_type": "markdown",
      "source": [
        "### Summary graph"
      ],
      "metadata": {
        "id": "K6gpgd9oGXFS"
      }
    },
    {
      "cell_type": "markdown",
      "source": [
        "Here are reported accuracies on test set of 10000 images, for neural network and perceptrons, attached to various hidden layers of deep belief network"
      ],
      "metadata": {
        "id": "AhGDUh6ZHdU6"
      }
    },
    {
      "cell_type": "code",
      "source": [
        "plt.bar(accuracies.keys(), accuracies.values())\n",
        "plt.title('Models accuracy')\n",
        "_ = plt.yticks(np.linspace(0, 1, 10))"
      ],
      "metadata": {
        "colab": {
          "base_uri": "https://localhost:8080/",
          "height": 281
        },
        "id": "MHI33svrGdOd",
        "outputId": "828e6b09-39ba-4202-be1b-ab3d32064fb5"
      },
      "execution_count": 49,
      "outputs": [
        {
          "output_type": "display_data",
          "data": {
            "image/png": "[encoded data removed]",
            "text/plain": [
              "<Figure size 432x288 with 1 Axes>"
            ]
          },
          "metadata": {
            "needs_background": "light"
          }
        }
      ]
    },
    {
      "cell_type": "markdown",
      "metadata": {
        "id": "tFXJm0Qrm7r2"
      },
      "source": [
        "## Robustness to noise"
      ]
    },
    {
      "cell_type": "code",
      "execution_count": 50,
      "metadata": {
        "id": "8iZCmvQLnes_"
      },
      "outputs": [],
      "source": [
        "data_test_with_noise = inject_noise(\n",
        "    data_test, \n",
        "    PreprocParams.noise_level\n",
        ")"
      ]
    },
    {
      "cell_type": "code",
      "execution_count": 51,
      "metadata": {
        "colab": {
          "base_uri": "https://localhost:8080/",
          "height": 593
        },
        "id": "0x9nmHo_-y4C",
        "outputId": "db5e391a-289b-4333-bc12-3fe40d1d07d6"
      },
      "outputs": [
        {
          "output_type": "display_data",
          "data": {
            "image/png": "[encoded data removed]",
            "text/plain": [
              "<Figure size 720x720 with 16 Axes>"
            ]
          },
          "metadata": {
            "needs_background": "light"
          }
        }
      ],
      "source": [
        "visualize_symbols(\n",
        "    data_test_with_noise, \n",
        "    n_subplots = 16, \n",
        "    image_shape = (PreprocParams.crop_size, PreprocParams.crop_size)\n",
        ")"
      ]
    },
    {
      "cell_type": "code",
      "execution_count": 52,
      "metadata": {
        "colab": {
          "base_uri": "https://localhost:8080/",
          "height": 295
        },
        "id": "ul-FpI9HsxoV",
        "outputId": "57f2a7fa-c232-46c2-dded-e48e3ac89d9b"
      },
      "outputs": [
        {
          "output_type": "display_data",
          "data": {
            "image/png": "[encoded data removed]",
            "text/plain": [
              "<Figure size 432x288 with 1 Axes>"
            ]
          },
          "metadata": {
            "needs_background": "light"
          }
        }
      ],
      "source": [
        "levels = [0, 0.1, 0.2, 0.3, 0.4, 0.5]\n",
        "\n",
        "plot_noise_robustness_curves(\n",
        "    levels,\n",
        "    dbn_model = model_deep, #model_deep,\n",
        "    ffnn_model = ffnn,\n",
        "    perceptron_model = perceptrons[0], # perceptron_first_hidden,\n",
        "    data = data_test,\n",
        "    targets = targets_test\n",
        ")"
      ]
    },
    {
      "cell_type": "markdown",
      "source": [
        "# Debugging noise robustness"
      ],
      "metadata": {
        "id": "cvt8V1CUOuKd"
      }
    },
    {
      "cell_type": "code",
      "source": [
        "def _move_parameters_to_cpu(dbn_mnist):\n",
        "  for layer in dbn_mnist.rbm_layers:\n",
        "    layer.W = layer.W.cpu()\n",
        "    layer.h_bias = layer.h_bias.cpu()\n",
        "    layer.v_bias = layer.v_bias.cpu()"
      ],
      "metadata": {
        "id": "dZQfEcs4QraZ"
      },
      "execution_count": 54,
      "outputs": []
    },
    {
      "cell_type": "code",
      "source": [
        "def _get_kth_layer_repr(input, k):\n",
        "  flattened_input = input.view((input.shape[0], -1)).type(torch.FloatTensor)\n",
        "  hidden_repr, __ = dbn_mnist.rbm_layers[k].to_hidden(flattened_input)  # here we access the RBM object\n",
        "  return hidden_repr"
      ],
      "metadata": {
        "id": "te2_--QcQvn5"
      },
      "execution_count": 55,
      "outputs": []
    },
    {
      "cell_type": "code",
      "source": [
        "def _train(network, input, targets, epochs=1000):\n",
        "  print_every_n_epochs = 100 if epochs >= 1000 else 10\n",
        "  optimizer = torch.optim.SGD(network.parameters(), lr=0.05)\n",
        "  loss_fn = torch.nn.CrossEntropyLoss()\n",
        "\n",
        "  for epoch in range(epochs):\n",
        "    optimizer.zero_grad()\n",
        "    predictions = network(input).squeeze()\n",
        "    loss = loss_fn(predictions, targets)\n",
        "    loss.backward()\n",
        "    optimizer.step()\n",
        "    if epoch % print_every_n_epochs == 0:\n",
        "      print(\"epoch {}/{}, loss = {:.6f}\".format(epoch, epochs, loss))"
      ],
      "metadata": {
        "id": "1KnEmiE9RFft"
      },
      "execution_count": 56,
      "outputs": []
    },
    {
      "cell_type": "code",
      "source": [
        "def _inject_noise(mnist_data, noise_level):\n",
        "  random_gaussian_tensor = torch.randn(mnist_data.shape)/6.6 + .6\n",
        "  probability_tensor = torch.ones(mnist_data.shape)*noise_level\n",
        "  mask_tensor = torch.bernoulli(probability_tensor)\n",
        "  return mnist_data - mask_tensor * mnist_data + mask_tensor * random_gaussian_tensor"
      ],
      "metadata": {
        "id": "K1NsWZFaPjia"
      },
      "execution_count": 57,
      "outputs": []
    },
    {
      "cell_type": "code",
      "source": [
        "def _compute_accuracy(predictions, targets):\n",
        "  predictions_indices = predictions.max(axis=1).indices  # convert probabilities to indices\n",
        "  accuracy = (predictions_indices == targets).sum() / len(targets)\n",
        "  return accuracy.item()"
      ],
      "metadata": {
        "id": "M11AFw1tRfdG"
      },
      "execution_count": 58,
      "outputs": []
    },
    {
      "cell_type": "code",
      "source": [
        "def _get_accuracy_values_at_noise_level(\n",
        "    noise_level, \n",
        "    data,\n",
        "    targets,\n",
        "    ffnn_model,\n",
        "    perc_model\n",
        "    ):\n",
        "\n",
        "  mnist_test_with_noise = _inject_noise(data, noise_level)\n",
        "\n",
        "  hidden_repr_layer_1_noisy = _get_kth_layer_repr(mnist_test_with_noise, 0)  # here we compute the representations\n",
        "\n",
        "  predictions_first_hidden_noisy = perc_model(hidden_repr_layer_1_noisy)\n",
        "\n",
        "  predictions_ffnn_noisy = ffnn_model(mnist_test_with_noise.reshape((TrainParameters.test_size, 784)))\n",
        "  accuracy_first_hidden = _compute_accuracy(predictions_first_hidden_noisy, targets_test)\n",
        "  accuracy_ffnn = _compute_accuracy(predictions_ffnn_noisy, targets_test)\n",
        "  return accuracy_first_hidden, accuracy_ffnn"
      ],
      "metadata": {
        "id": "9JFBWTcIPzPz"
      },
      "execution_count": 59,
      "outputs": []
    },
    {
      "cell_type": "code",
      "source": [
        "def _plot_noise_robustness_curves(\n",
        "    noise_levels,\n",
        "\n",
        "    data,\n",
        "    targets,\n",
        "\n",
        "    ffnn_model,\n",
        "    perc_model\n",
        "    ):\n",
        "  accuracy_values_first_hidden = []\n",
        "  accuracy_values_ffnn = []\n",
        "\n",
        "  for noise_level in noise_levels:\n",
        "    accuracy_first_hidden, accuracy_ffnn = _get_accuracy_values_at_noise_level(\n",
        "        noise_level,\n",
        "        data = data,\n",
        "        targets = targets,\n",
        "        ffnn_model = ffnn_model,\n",
        "        perc_model = perc_model\n",
        "        )\n",
        "    accuracy_values_first_hidden.append(accuracy_first_hidden)\n",
        "    accuracy_values_ffnn.append(accuracy_ffnn)\n",
        "\n",
        "  fig, ax = plt.subplots()\n",
        "  ax.plot(range(len(noise_levels)), accuracy_values_first_hidden)\n",
        "  ax.plot(range(len(noise_levels)), accuracy_values_ffnn)\n",
        "\n",
        "  ax.set_title(\"Robustness to noise\")\n",
        "  ax.set_xlabel(\"Noise level (%)\")\n",
        "  ax.set_ylabel(\"Accuracy\")\n",
        "  plt.xticks(range(len(noise_levels)), [int(l*100) for l in noise_levels])\n",
        "  plt.legend([\"First hidden\", \"FFNN\"])"
      ],
      "metadata": {
        "id": "OAymYswVSKl_"
      },
      "execution_count": 78,
      "outputs": []
    },
    {
      "cell_type": "code",
      "source": [
        "dbn_mnist = DBN(visible_units=28*28,\n",
        "                hidden_units=[500],\n",
        "                k=1,\n",
        "                learning_rate=0.1,\n",
        "                learning_rate_decay=False,\n",
        "                initial_momentum=0.5,\n",
        "                final_momentum=0.9,\n",
        "                weight_decay=0.0002,\n",
        "                xavier_init=False,\n",
        "                increase_to_cd_k=False,\n",
        "                use_gpu=True)"
      ],
      "metadata": {
        "id": "7ygzB3SWQmvd"
      },
      "execution_count": 61,
      "outputs": []
    },
    {
      "cell_type": "code",
      "source": [
        "num_epochs = 40\n",
        "batch_size = 125\n",
        "\n",
        "dbn_mnist.train_static(\n",
        "    data_train,\n",
        "    targets_train,\n",
        "    num_epochs,\n",
        "    batch_size\n",
        ")"
      ],
      "metadata": {
        "id": "xWMkZZj0Qnp-",
        "outputId": "68c8cb5d-8069-4b24-efae-3c6b5c356892",
        "colab": {
          "base_uri": "https://localhost:8080/"
        }
      },
      "execution_count": 62,
      "outputs": [
        {
          "output_type": "stream",
          "name": "stdout",
          "text": [
            "--------------------\n",
            "Training RBM layer 1\n",
            "|Epoch |avg_rec_err |std_rec_err  |mean_grad |std_grad  |\n",
            "|10    |1.2231   |0.0619   |319.3112 |12.1324   |\n",
            "|20    |1.1653   |0.0571   |305.4510 |12.0420   |\n",
            "|30    |1.1463   |0.0570   |296.9314 |11.8332   |\n",
            "|40    |1.1358   |0.0565   |292.0503 |11.7979   |\n"
          ]
        }
      ]
    },
    {
      "cell_type": "code",
      "source": [
        "_move_parameters_to_cpu(dbn_mnist)"
      ],
      "metadata": {
        "id": "HtAi_A5sQtfX"
      },
      "execution_count": 63,
      "outputs": []
    },
    {
      "cell_type": "code",
      "source": [
        "hidden_repr_layer_1 = _get_kth_layer_repr(data_train, 0)"
      ],
      "metadata": {
        "id": "3sNjcqsnQ_ix"
      },
      "execution_count": 64,
      "outputs": []
    },
    {
      "cell_type": "code",
      "source": [
        "rbm_layer_size = dbn_mnist.rbm_layers[0].W.shape[1]\n",
        "perceptron_first_hidden = Perceptron(\n",
        "    rbm_layer_size,\n",
        "    class_num = 10)\n",
        "_train(perceptron_first_hidden, hidden_repr_layer_1, targets = targets_train, epochs=1500)"
      ],
      "metadata": {
        "id": "CZBrn7TURIIp",
        "outputId": "0f77aaee-b13c-43ae-a84d-06ea7a2994e7",
        "colab": {
          "base_uri": "https://localhost:8080/"
        }
      },
      "execution_count": 66,
      "outputs": [
        {
          "output_type": "stream",
          "name": "stdout",
          "text": [
            "epoch 0/1500, loss = 2.320602\n",
            "epoch 100/1500, loss = 0.658523\n",
            "epoch 200/1500, loss = 0.496421\n",
            "epoch 300/1500, loss = 0.430976\n",
            "epoch 400/1500, loss = 0.393624\n",
            "epoch 500/1500, loss = 0.368669\n",
            "epoch 600/1500, loss = 0.350418\n",
            "epoch 700/1500, loss = 0.336264\n",
            "epoch 800/1500, loss = 0.324827\n",
            "epoch 900/1500, loss = 0.315302\n",
            "epoch 1000/1500, loss = 0.307183\n",
            "epoch 1100/1500, loss = 0.300136\n",
            "epoch 1200/1500, loss = 0.293928\n",
            "epoch 1300/1500, loss = 0.288393\n",
            "epoch 1400/1500, loss = 0.283407\n"
          ]
        }
      ]
    },
    {
      "cell_type": "code",
      "source": [
        "rbm_layer_size = dbn_mnist.rbm_layers[0].W.shape[1]\n",
        "p_new = Perceptron(\n",
        "    rbm_layer_size,\n",
        "    class_num = 10)\n",
        "_train(p_new, hidden_representations[0], targets = targets_train, epochs=1500)"
      ],
      "metadata": {
        "id": "yX_zUXoTW5QV",
        "outputId": "1df2817e-6c90-46ad-b363-98e2709c4a31",
        "colab": {
          "base_uri": "https://localhost:8080/"
        }
      },
      "execution_count": 151,
      "outputs": [
        {
          "output_type": "stream",
          "name": "stdout",
          "text": [
            "epoch 0/1500, loss = 2.334414\n",
            "epoch 100/1500, loss = 0.673232\n",
            "epoch 200/1500, loss = 0.501940\n",
            "epoch 300/1500, loss = 0.433184\n",
            "epoch 400/1500, loss = 0.394056\n",
            "epoch 500/1500, loss = 0.367937\n",
            "epoch 600/1500, loss = 0.348834\n",
            "epoch 700/1500, loss = 0.334010\n",
            "epoch 800/1500, loss = 0.322023\n",
            "epoch 900/1500, loss = 0.312033\n",
            "epoch 1000/1500, loss = 0.303512\n",
            "epoch 1100/1500, loss = 0.296110\n",
            "epoch 1200/1500, loss = 0.289585\n",
            "epoch 1300/1500, loss = 0.283765\n",
            "epoch 1400/1500, loss = 0.278521\n"
          ]
        }
      ]
    },
    {
      "cell_type": "code",
      "source": [
        "hidden_repr_layer_1_test = _get_kth_layer_repr(data_test, 0)"
      ],
      "metadata": {
        "id": "Y4LcJa9aRXk-"
      },
      "execution_count": 67,
      "outputs": []
    },
    {
      "cell_type": "code",
      "source": [
        "predictions_first_hidden = perceptron_first_hidden(hidden_repr_layer_1_test)"
      ],
      "metadata": {
        "id": "eSLiRp_QRZTC"
      },
      "execution_count": 68,
      "outputs": []
    },
    {
      "cell_type": "code",
      "source": [
        "_compute_accuracy(predictions_first_hidden, targets_test)"
      ],
      "metadata": {
        "id": "BJkjIE0BRc5a",
        "outputId": "0e249489-d066-4d8e-ecd0-8c14fea21aae",
        "colab": {
          "base_uri": "https://localhost:8080/"
        }
      },
      "execution_count": 69,
      "outputs": [
        {
          "output_type": "execute_result",
          "data": {
            "text/plain": [
              "0.9273999929428101"
            ]
          },
          "metadata": {},
          "execution_count": 69
        }
      ]
    },
    {
      "cell_type": "code",
      "source": [
        "ffnn = FeedForward(\n",
        "    500,\n",
        "    class_num = 10,\n",
        "    input_size = PreprocParams.crop_size * PreprocParams.crop_size\n",
        ")"
      ],
      "metadata": {
        "id": "8co6p6utQbpT"
      },
      "execution_count": 71,
      "outputs": []
    },
    {
      "cell_type": "code",
      "source": [
        "noise_level = 0.3\n",
        "mnist_test_with_noise = _inject_noise(data_test, noise_level)\n",
        "__ = plt.imshow(mnist_test_with_noise[0].reshape(28, 28), cmap=\"gray\")"
      ],
      "metadata": {
        "id": "db_Rsn4bPm8q",
        "outputId": "6da1456a-4f86-490a-ce2d-3d8486a550b4",
        "colab": {
          "base_uri": "https://localhost:8080/",
          "height": 265
        }
      },
      "execution_count": 72,
      "outputs": [
        {
          "output_type": "display_data",
          "data": {
            "image/png": "[encoded data removed]",
            "text/plain": [
              "<Figure size 432x288 with 1 Axes>"
            ]
          },
          "metadata": {
            "needs_background": "light"
          }
        }
      ]
    },
    {
      "cell_type": "code",
      "source": [
        "_train(\n",
        "    ffnn, \n",
        "    data_train.reshape((TrainParameters.train_size, 784)), \n",
        "    targets = targets_train, \n",
        "    epochs=120\n",
        ")"
      ],
      "metadata": {
        "id": "jjSH_lMKPrwL",
        "outputId": "e9acc2fb-8d6a-469e-8bbe-f24ef7c57366",
        "colab": {
          "base_uri": "https://localhost:8080/"
        }
      },
      "execution_count": 73,
      "outputs": [
        {
          "output_type": "stream",
          "name": "stdout",
          "text": [
            "epoch 0/120, loss = 2.303587\n",
            "epoch 10/120, loss = 2.188956\n",
            "epoch 20/120, loss = 2.062447\n",
            "epoch 30/120, loss = 1.912326\n",
            "epoch 40/120, loss = 1.740522\n",
            "epoch 50/120, loss = 1.559972\n",
            "epoch 60/120, loss = 1.387373\n",
            "epoch 70/120, loss = 1.235009\n",
            "epoch 80/120, loss = 1.107319\n",
            "epoch 90/120, loss = 1.003021\n",
            "epoch 100/120, loss = 0.918436\n",
            "epoch 110/120, loss = 0.849568\n"
          ]
        }
      ]
    },
    {
      "cell_type": "code",
      "source": [
        "predictions_ffnn = ffnn(\n",
        "    data_test.reshape((TrainParameters.test_size, 784))\n",
        "    )"
      ],
      "metadata": {
        "id": "wkmr2r0oR5wM"
      },
      "execution_count": 74,
      "outputs": []
    },
    {
      "cell_type": "code",
      "source": [
        "_compute_accuracy(predictions_ffnn, targets_test)"
      ],
      "metadata": {
        "id": "zmku64jWR9jL",
        "outputId": "0253b761-d7f2-41cd-bf5d-4a711c1aa270",
        "colab": {
          "base_uri": "https://localhost:8080/"
        }
      },
      "execution_count": 75,
      "outputs": [
        {
          "output_type": "execute_result",
          "data": {
            "text/plain": [
              "0.8440999984741211"
            ]
          },
          "metadata": {},
          "execution_count": 75
        }
      ]
    },
    {
      "cell_type": "code",
      "source": [
        "noise_levels = [0, 0.1, 0.2, 0.3, 0.4, 0.5] #, 0.6, 0.7, 0.8]\n",
        "_plot_noise_robustness_curves(\n",
        "    noise_levels, \n",
        "    data = data_test,\n",
        "    targets = targets_test,\n",
        "    ffnn_model = ffnn,\n",
        "    perc_model = perceptron_first_hidden\n",
        ")"
      ],
      "metadata": {
        "id": "EgxlsdKlSByb",
        "outputId": "d85413c8-c045-4df9-9359-41c0d8f64594",
        "colab": {
          "base_uri": "https://localhost:8080/",
          "height": 295
        }
      },
      "execution_count": 156,
      "outputs": [
        {
          "output_type": "display_data",
          "data": {
            "image/png": "[encoded data removed]",
            "text/plain": [
              "<Figure size 432x288 with 1 Axes>"
            ]
          },
          "metadata": {
            "needs_background": "light"
          }
        }
      ]
    },
    {
      "cell_type": "code",
      "source": [
        "hidden_representations[0]"
      ],
      "metadata": {
        "id": "sZG6TZ5bYK7D",
        "outputId": "d9f22c44-7382-4359-9698-57e7778e631d",
        "colab": {
          "base_uri": "https://localhost:8080/"
        }
      },
      "execution_count": 153,
      "outputs": [
        {
          "output_type": "execute_result",
          "data": {
            "text/plain": [
              "tensor([[0.0132, 0.9487, 0.0387,  ..., 0.0420, 0.0055, 0.0515],\n",
              "        [0.0111, 0.3006, 0.3090,  ..., 0.0420, 0.1215, 0.0046],\n",
              "        [0.1574, 0.3692, 0.9958,  ..., 0.1856, 0.9827, 0.6627],\n",
              "        ...,\n",
              "        [0.0124, 0.7312, 0.0704,  ..., 0.1328, 0.0187, 0.0524],\n",
              "        [0.0038, 0.0098, 0.5722,  ..., 0.1339, 0.9573, 0.1390],\n",
              "        [0.3178, 0.0056, 0.0576,  ..., 0.8511, 0.1998, 0.0025]])"
            ]
          },
          "metadata": {},
          "execution_count": 153
        }
      ]
    },
    {
      "cell_type": "code",
      "source": [
        "hidden_repr_layer_1"
      ],
      "metadata": {
        "id": "bQHElZRiYMg4",
        "outputId": "66ebe32c-59c4-4146-ad57-cc06b99387d4",
        "colab": {
          "base_uri": "https://localhost:8080/"
        }
      },
      "execution_count": 154,
      "outputs": [
        {
          "output_type": "execute_result",
          "data": {
            "text/plain": [
              "tensor([[0.0502, 0.0130, 0.0995,  ..., 0.0469, 0.8576, 0.0034],\n",
              "        [0.7166, 0.0141, 0.6037,  ..., 0.8500, 0.2861, 0.0051],\n",
              "        [0.8253, 0.0331, 0.0168,  ..., 0.8610, 0.9831, 0.1497],\n",
              "        ...,\n",
              "        [0.0149, 0.0303, 0.2169,  ..., 0.1213, 0.0909, 0.4842],\n",
              "        [0.5666, 0.8613, 0.1683,  ..., 0.7410, 0.7542, 0.5135],\n",
              "        [0.7454, 0.3446, 0.7359,  ..., 0.1675, 0.0781, 0.1310]])"
            ]
          },
          "metadata": {},
          "execution_count": 154
        }
      ]
    },
    {
      "cell_type": "code",
      "source": [
        "def _get_layer_representation(input, model, layer_number):\n",
        "    flattened_input = input.view((input.shape[0], -1)).type(torch.FloatTensor)\n",
        "    hidden_repr, _ = model.rbm_layers[layer_number].to_hidden(flattened_input)\n",
        "    return hidden_repr\n",
        "\n",
        "def _get_layer_representations(n_layers, model, input_data):\n",
        "    internal_reps = []\n",
        "    for layer_n in range(n_layers):\n",
        "        if layer_n == 0:\n",
        "            repr = _get_layer_representation(\n",
        "                input = input_data,\n",
        "                model = model,\n",
        "                layer_number = layer_n\n",
        "            )\n",
        "            internal_reps.append(repr)\n",
        "        else:\n",
        "            # Previous hidden is now an input data for next hidden\n",
        "            input = internal_reps[layer_n - 1]\n",
        "            repr = get_layer_representation(\n",
        "                input = input,\n",
        "                model = model,\n",
        "                layer_number = layer_n\n",
        "            )\n",
        "            internal_reps.append(repr)\n",
        "    return internal_reps"
      ],
      "metadata": {
        "id": "ALhdJWxhY5nh"
      },
      "execution_count": 90,
      "outputs": []
    },
    {
      "cell_type": "code",
      "source": [
        "# hidden_repr_layer_1 = _get_kth_layer_repr(data_train, 0)\n",
        "hid_test = _get_kth_layer_repr(data_train, 0)"
      ],
      "metadata": {
        "id": "oI3bf6kOZYn7"
      },
      "execution_count": 111,
      "outputs": []
    },
    {
      "cell_type": "code",
      "source": [
        "hidden_myfunc = get_layer_representations(1, dbn_mnist, data_train)"
      ],
      "metadata": {
        "id": "MwJYxHSqZcQY"
      },
      "execution_count": 143,
      "outputs": []
    },
    {
      "cell_type": "code",
      "source": [
        "hidden_mymodel = get_layer_representations(1, model_shallow, data_train)"
      ],
      "metadata": {
        "id": "-LWKqkHYafv-"
      },
      "execution_count": 144,
      "outputs": []
    },
    {
      "cell_type": "code",
      "source": [
        "hidden_myfunc"
      ],
      "metadata": {
        "id": "YMC54-5NZs-v",
        "outputId": "719908d6-789d-40e6-da43-ce80ad87e0e8",
        "colab": {
          "base_uri": "https://localhost:8080/"
        }
      },
      "execution_count": 145,
      "outputs": [
        {
          "output_type": "execute_result",
          "data": {
            "text/plain": [
              "[tensor([[0.0502, 0.0130, 0.0995,  ..., 0.0469, 0.8576, 0.0034],\n",
              "         [0.7166, 0.0141, 0.6037,  ..., 0.8500, 0.2861, 0.0051],\n",
              "         [0.8253, 0.0331, 0.0168,  ..., 0.8610, 0.9831, 0.1497],\n",
              "         ...,\n",
              "         [0.0149, 0.0303, 0.2169,  ..., 0.1213, 0.0909, 0.4842],\n",
              "         [0.5666, 0.8613, 0.1683,  ..., 0.7410, 0.7542, 0.5135],\n",
              "         [0.7454, 0.3446, 0.7359,  ..., 0.1675, 0.0781, 0.1310]])]"
            ]
          },
          "metadata": {},
          "execution_count": 145
        }
      ]
    },
    {
      "cell_type": "code",
      "source": [
        "hid_test"
      ],
      "metadata": {
        "id": "9jzZnTQtZvQD",
        "outputId": "6326649b-cbb1-488e-ce4c-ec09be832a0a",
        "colab": {
          "base_uri": "https://localhost:8080/"
        }
      },
      "execution_count": 146,
      "outputs": [
        {
          "output_type": "execute_result",
          "data": {
            "text/plain": [
              "tensor([[0.0502, 0.0130, 0.0995,  ..., 0.0469, 0.8576, 0.0034],\n",
              "        [0.7166, 0.0141, 0.6037,  ..., 0.8500, 0.2861, 0.0051],\n",
              "        [0.8253, 0.0331, 0.0168,  ..., 0.8610, 0.9831, 0.1497],\n",
              "        ...,\n",
              "        [0.0149, 0.0303, 0.2169,  ..., 0.1213, 0.0909, 0.4842],\n",
              "        [0.5666, 0.8613, 0.1683,  ..., 0.7410, 0.7542, 0.5135],\n",
              "        [0.7454, 0.3446, 0.7359,  ..., 0.1675, 0.0781, 0.1310]])"
            ]
          },
          "metadata": {},
          "execution_count": 146
        }
      ]
    },
    {
      "cell_type": "code",
      "source": [
        "hidden_mymodel"
      ],
      "metadata": {
        "id": "cfsRNsFZZ86Z",
        "outputId": "21f9a34b-4709-4288-ce9b-c6c8677758f8",
        "colab": {
          "base_uri": "https://localhost:8080/"
        }
      },
      "execution_count": 147,
      "outputs": [
        {
          "output_type": "execute_result",
          "data": {
            "text/plain": [
              "[tensor([[0.0132, 0.9487, 0.0387,  ..., 0.0420, 0.0055, 0.0515],\n",
              "         [0.0111, 0.3006, 0.3090,  ..., 0.0420, 0.1215, 0.0046],\n",
              "         [0.1574, 0.3692, 0.9958,  ..., 0.1856, 0.9827, 0.6627],\n",
              "         ...,\n",
              "         [0.0124, 0.7312, 0.0704,  ..., 0.1328, 0.0187, 0.0524],\n",
              "         [0.0038, 0.0098, 0.5722,  ..., 0.1339, 0.9573, 0.1390],\n",
              "         [0.3178, 0.0056, 0.0576,  ..., 0.8511, 0.1998, 0.0025]])]"
            ]
          },
          "metadata": {},
          "execution_count": 147
        }
      ]
    },
    {
      "cell_type": "code",
      "source": [
        "hidden_representations = get_layer_representations(\n",
        "    n_layers = 1,\n",
        "    model = model_shallow,\n",
        "    input_data = data_train\n",
        ")\n",
        "print(f'Total: {len(hidden_representations)} hidden representations')"
      ],
      "metadata": {
        "id": "9eCkFnSeZ7W4",
        "outputId": "0e61a077-3b08-4d48-a9c4-9fd7ba4f99bb",
        "colab": {
          "base_uri": "https://localhost:8080/"
        }
      },
      "execution_count": 148,
      "outputs": [
        {
          "output_type": "stream",
          "name": "stdout",
          "text": [
            "Total: 1 hidden representations\n"
          ]
        }
      ]
    },
    {
      "cell_type": "code",
      "source": [
        "hidden_representations[0]"
      ],
      "metadata": {
        "id": "pdgCnb95aDwS",
        "outputId": "ef407471-d77c-48d4-dd24-5cf9967c3d59",
        "colab": {
          "base_uri": "https://localhost:8080/"
        }
      },
      "execution_count": 149,
      "outputs": [
        {
          "output_type": "execute_result",
          "data": {
            "text/plain": [
              "tensor([[0.0132, 0.9487, 0.0387,  ..., 0.0420, 0.0055, 0.0515],\n",
              "        [0.0111, 0.3006, 0.3090,  ..., 0.0420, 0.1215, 0.0046],\n",
              "        [0.1574, 0.3692, 0.9958,  ..., 0.1856, 0.9827, 0.6627],\n",
              "        ...,\n",
              "        [0.0124, 0.7312, 0.0704,  ..., 0.1328, 0.0187, 0.0524],\n",
              "        [0.0038, 0.0098, 0.5722,  ..., 0.1339, 0.9573, 0.1390],\n",
              "        [0.3178, 0.0056, 0.0576,  ..., 0.8511, 0.1998, 0.0025]])"
            ]
          },
          "metadata": {},
          "execution_count": 149
        }
      ]
    },
    {
      "cell_type": "markdown",
      "metadata": {
        "id": "W612ES6tVugs"
      },
      "source": [
        "## Adversarial attacks"
      ]
    },
    {
      "cell_type": "code",
      "execution_count": null,
      "metadata": {
        "id": "eWJ96ojTV_9S"
      },
      "outputs": [],
      "source": [
        "# Model & test loader preparation\n",
        "\n",
        "dbn_with_readout = DBNWithReadOut(\n",
        "    dbn_model = model_shallow,\n",
        "    perceptron = perceptron_first_hidden\n",
        ")\n",
        "\n",
        "test_loader = torch.utils.data.DataLoader(\n",
        "    dataset = tv.datasets.EMNIST(\n",
        "        root = 'data/',\n",
        "        train = False,\n",
        "        download = True,\n",
        "        transform = transformer,\n",
        "        split = 'digits',\n",
        "        # shuffle = False\n",
        "    ),\n",
        "    batch_size = 1,\n",
        "    shuffle = True\n",
        ")\n",
        "device = torch.device('cpu')"
      ]
    },
    {
      "cell_type": "markdown",
      "metadata": {
        "id": "8ftY2LPvZBv3"
      },
      "source": [
        "### Example of adversarial attack"
      ]
    },
    {
      "cell_type": "code",
      "execution_count": null,
      "metadata": {
        "colab": {
          "base_uri": "https://localhost:8080/",
          "height": 276
        },
        "id": "Cm2i6byq-y4D",
        "outputId": "b573cfac-7220-433c-d651-0a5d413ca4fc"
      },
      "outputs": [
        {
          "output_type": "display_data",
          "data": {
            "image/png": "[encoded data removed]",
            "text/plain": [
              "<Figure size 432x288 with 2 Axes>"
            ]
          },
          "metadata": {
            "needs_background": "light"
          }
        }
      ],
      "source": [
        "idx = 150\n",
        "test_label = targets_test[idx]\n",
        "test_image = data_test[idx].reshape(\n",
        "    1, \n",
        "    PreprocParams.crop_size, \n",
        "    PreprocParams.crop_size\n",
        ")\n",
        "\n",
        "attack_demo(\n",
        "    image = test_image,\n",
        "    label = test_label,\n",
        "    attacked_model = ffnn\n",
        ")"
      ]
    },
    {
      "cell_type": "markdown",
      "metadata": {
        "id": "ess5Gp9t-y4D"
      },
      "source": [
        "### FFNN resistance to adversarial attacks"
      ]
    },
    {
      "cell_type": "code",
      "execution_count": null,
      "metadata": {
        "colab": {
          "base_uri": "https://localhost:8080/"
        },
        "id": "SrPPpubB-y4D",
        "outputId": "d1b16a48-37e0-4b9d-c696-2073fe1c32a4"
      },
      "outputs": [
        {
          "output_type": "stream",
          "name": "stderr",
          "text": [
            "100%|██████████| 40000/40000 [01:23<00:00, 477.67it/s]"
          ]
        },
        {
          "output_type": "stream",
          "name": "stdout",
          "text": [
            "\n",
            "Epsilon: 0.1\tTest Accuracy = 32636 / 40000 = 0.8159\n",
            "\n"
          ]
        },
        {
          "output_type": "stream",
          "name": "stderr",
          "text": [
            "\n"
          ]
        }
      ],
      "source": [
        "final_acc = test_robustness_to_attack(\n",
        "    ffnn, \n",
        "    device,\n",
        "    test_loader,\n",
        "    epsilon = 0.1,\n",
        "    num_steps = 0\n",
        ")"
      ]
    },
    {
      "cell_type": "markdown",
      "metadata": {
        "id": "QZi67jPj-y4E"
      },
      "source": [
        "### DBN resistance to adversarial attacks"
      ]
    },
    {
      "cell_type": "markdown",
      "metadata": {
        "id": "BvtkNG35-y4E"
      },
      "source": [
        "#### 0 Reconstructon steps"
      ]
    },
    {
      "cell_type": "code",
      "execution_count": null,
      "metadata": {
        "colab": {
          "base_uri": "https://localhost:8080/"
        },
        "id": "z0yyx89I-y4E",
        "outputId": "d25f1614-4fa3-48b8-c5c9-bc91fa0eac52"
      },
      "outputs": [
        {
          "output_type": "stream",
          "name": "stderr",
          "text": [
            "100%|██████████| 40000/40000 [01:12<00:00, 554.94it/s]"
          ]
        },
        {
          "output_type": "stream",
          "name": "stdout",
          "text": [
            "\n",
            "Epsilon: 0.2\tTest Accuracy = 29926 / 40000 = 0.74815\n",
            "\n"
          ]
        },
        {
          "output_type": "stream",
          "name": "stderr",
          "text": [
            "\n"
          ]
        }
      ],
      "source": [
        "final_acc = test_robustness_to_attack(\n",
        "    dbn_with_readout,\n",
        "    device,\n",
        "    test_loader,\n",
        "    epsilon = PreprocParams.noise_level, \n",
        "    num_steps = 0\n",
        ")"
      ]
    },
    {
      "cell_type": "markdown",
      "metadata": {
        "id": "S-4Vo8VW-y4E"
      },
      "source": [
        "#### 1 Reconstruction step"
      ]
    },
    {
      "cell_type": "code",
      "execution_count": null,
      "metadata": {
        "colab": {
          "base_uri": "https://localhost:8080/",
          "height": 998
        },
        "id": "yR44s_ux-y4E",
        "outputId": "08e8def8-6565-432b-c0f8-870c3619bbb6"
      },
      "outputs": [
        {
          "output_type": "stream",
          "name": "stderr",
          "text": [
            "\r  0%|          | 0/40000 [00:00<?, ?it/s]"
          ]
        },
        {
          "output_type": "stream",
          "name": "stdout",
          "text": [
            "\n",
            "Here's the original sample:\n",
            "\n"
          ]
        },
        {
          "output_type": "display_data",
          "data": {
            "image/png": "[encoded data removed]",
            "text/plain": [
              "<Figure size 432x288 with 1 Axes>"
            ]
          },
          "metadata": {
            "needs_background": "light"
          }
        },
        {
          "output_type": "stream",
          "name": "stdout",
          "text": [
            "\n",
            "Here's a perturbed sample:\n",
            "\n"
          ]
        },
        {
          "output_type": "display_data",
          "data": {
            "image/png": "[encoded data removed]",
            "text/plain": [
              "<Figure size 432x288 with 1 Axes>"
            ]
          },
          "metadata": {
            "needs_background": "light"
          }
        },
        {
          "output_type": "stream",
          "name": "stdout",
          "text": [
            "\n",
            "Here's what a 1-steps reconstructed sample looks like:\n",
            "\n"
          ]
        },
        {
          "output_type": "display_data",
          "data": {
            "image/png": "[encoded data removed]",
            "text/plain": [
              "<Figure size 432x288 with 1 Axes>"
            ]
          },
          "metadata": {
            "needs_background": "light"
          }
        },
        {
          "output_type": "stream",
          "name": "stderr",
          "text": [
            "100%|██████████| 40000/40000 [01:19<00:00, 502.87it/s]"
          ]
        },
        {
          "output_type": "stream",
          "name": "stdout",
          "text": [
            "\n",
            "Epsilon: 0.2\tTest Accuracy = 29835 / 40000 = 0.745875\n",
            "\n"
          ]
        },
        {
          "output_type": "stream",
          "name": "stderr",
          "text": [
            "\n"
          ]
        }
      ],
      "source": [
        "final_acc = test_robustness_to_attack(\n",
        "    dbn_with_readout, device,\n",
        "    test_loader,\n",
        "    epsilon = PreprocParams.noise_level,\n",
        "    num_steps = 1\n",
        ")"
      ]
    },
    {
      "cell_type": "markdown",
      "metadata": {
        "id": "jYdPcWCn-y4E"
      },
      "source": [
        "#### 2 Reconstruction steps"
      ]
    },
    {
      "cell_type": "code",
      "execution_count": null,
      "metadata": {
        "colab": {
          "base_uri": "https://localhost:8080/",
          "height": 998
        },
        "id": "OVZ8-OET-y4F",
        "outputId": "e57eb634-8e0f-4f5b-d910-e6f4f6e6c31a"
      },
      "outputs": [
        {
          "output_type": "stream",
          "name": "stderr",
          "text": [
            "\r  0%|          | 0/40000 [00:00<?, ?it/s]"
          ]
        },
        {
          "output_type": "stream",
          "name": "stdout",
          "text": [
            "\n",
            "Here's the original sample:\n",
            "\n"
          ]
        },
        {
          "output_type": "display_data",
          "data": {
            "image/png": "[encoded data removed]",
            "text/plain": [
              "<Figure size 432x288 with 1 Axes>"
            ]
          },
          "metadata": {
            "needs_background": "light"
          }
        },
        {
          "output_type": "stream",
          "name": "stdout",
          "text": [
            "\n",
            "Here's a perturbed sample:\n",
            "\n"
          ]
        },
        {
          "output_type": "display_data",
          "data": {
            "image/png": "[encoded data removed]",
            "text/plain": [
              "<Figure size 432x288 with 1 Axes>"
            ]
          },
          "metadata": {
            "needs_background": "light"
          }
        },
        {
          "output_type": "stream",
          "name": "stdout",
          "text": [
            "\n",
            "Here's what a 2-steps reconstructed sample looks like:\n",
            "\n"
          ]
        },
        {
          "output_type": "display_data",
          "data": {
            "image/png": "[encoded data removed]",
            "text/plain": [
              "<Figure size 432x288 with 1 Axes>"
            ]
          },
          "metadata": {
            "needs_background": "light"
          }
        },
        {
          "output_type": "stream",
          "name": "stderr",
          "text": [
            "100%|██████████| 40000/40000 [01:35<00:00, 417.50it/s]"
          ]
        },
        {
          "output_type": "stream",
          "name": "stdout",
          "text": [
            "\n",
            "Epsilon: 0.2\tTest Accuracy = 29729 / 40000 = 0.743225\n",
            "\n"
          ]
        },
        {
          "output_type": "stream",
          "name": "stderr",
          "text": [
            "\n"
          ]
        }
      ],
      "source": [
        "final_acc = test_robustness_to_attack(\n",
        "    dbn_with_readout, device,\n",
        "    test_loader, \n",
        "    epsilon = PreprocParams.noise_level,\n",
        "    num_steps = 2\n",
        ")"
      ]
    },
    {
      "cell_type": "markdown",
      "metadata": {
        "id": "SU-Pb-9j-y4F"
      },
      "source": [
        "### Effect of noise intensity ($\\epsilon$) on FFNN and DBN models"
      ]
    },
    {
      "cell_type": "code",
      "execution_count": null,
      "metadata": {
        "id": "2iSPHPo2-y4F"
      },
      "outputs": [],
      "source": [
        "%%capture\n",
        "epsilon_values = [0, .05, .1, .15, .2, .25]\n",
        "reconstruction_steps = [0, 1, 2, 3]\n",
        "\n",
        "accuracies_ffnn = test_epsilon_values_effect(ffnn, n_steps = 0, epsilons = epsilon_values)\n",
        "\n",
        "rbm_accuracies = [\n",
        "    test_epsilon_values_effect(dbn_with_readout, n_steps, epsilon_values) \n",
        "    for n_steps in reconstruction_steps\n",
        "]"
      ]
    },
    {
      "cell_type": "code",
      "execution_count": null,
      "metadata": {
        "colab": {
          "base_uri": "https://localhost:8080/",
          "height": 404
        },
        "id": "WuJD6M9I-y4F",
        "outputId": "7b85414d-8e87-464c-ae0f-11436ff161d4"
      },
      "outputs": [
        {
          "output_type": "display_data",
          "data": {
            "image/png": "[encoded data removed]",
            "text/plain": [
              "<Figure size 576x432 with 1 Axes>"
            ]
          },
          "metadata": {
            "needs_background": "light"
          }
        }
      ],
      "source": [
        "fig, ax = plt.subplots(1, 1, figsize=(8,6), sharey=True)\n",
        "\n",
        "_ = ax.plot(\n",
        "    epsilon_values, \n",
        "    accuracies_ffnn, \n",
        "    marker = 'o',\n",
        "    markerfacecolor = 'white', \n",
        "    markersize = 9\n",
        ")\n",
        "\n",
        "for acc in rbm_accuracies:\n",
        "    _ = ax.plot(\n",
        "        epsilon_values,\n",
        "        acc,\n",
        "        marker = 'o',\n",
        "        markerfacecolor = 'white', \n",
        "        markersize = 9\n",
        "    )\n",
        "\n",
        "_ = ax.set_xlabel(\"$\\epsilon$\")\n",
        "_ = ax.set_ylabel(\"Accuracy\")\n",
        "_ = ax.set_title(\"Robustness to adversarial attacks\")\n",
        "\n",
        "legends = ['FFNN', *reconstruction_steps]\n",
        "\n",
        "_ = ax.legend(legends)\n",
        "plt.grid()"
      ]
    }
  ],
  "metadata": {
    "accelerator": "GPU",
    "colab": {
      "collapsed_sections": [
        "BY78mv2oS20c",
        "1pBv1xQbQsQF"
      ],
      "name": "Omniglot learning.ipynb",
      "provenance": [],
      "toc_visible": true,
      "include_colab_link": true
    },
    "kernelspec": {
      "display_name": "Python 3",
      "name": "python3"
    },
    "language_info": {
      "codemirror_mode": {
        "name": "ipython",
        "version": 3
      },
      "file_extension": ".py",
      "mimetype": "text/x-python",
      "name": "python",
      "nbconvert_exporter": "python",
      "pygments_lexer": "ipython3",
      "version": "3.9.7"
    },
    "widgets": {
      "application/vnd.jupyter.widget-state+json": {
        "f815658395624428b81a9af6873f4ead": {
          "model_module": "@jupyter-widgets/controls",
          "model_name": "HBoxModel",
          "model_module_version": "1.5.0",
          "state": {
            "_view_name": "HBoxView",
            "_dom_classes": [],
            "_model_name": "HBoxModel",
            "_view_module": "@jupyter-widgets/controls",
            "_model_module_version": "1.5.0",
            "_view_count": null,
            "_view_module_version": "1.5.0",
            "box_style": "",
            "layout": "IPY_MODEL_a3384670c7c14b81a2fa263ee4e608bc",
            "_model_module": "@jupyter-widgets/controls",
            "children": [
              "IPY_MODEL_1da97dd0f7e44752ba3e3ac288afb11e",
              "IPY_MODEL_eeaba156eb8b42b7a4b742f6fe65df4e",
              "IPY_MODEL_72c4b6835e5844a580f2cdc91b9097f6"
            ]
          }
        },
        "a3384670c7c14b81a2fa263ee4e608bc": {
          "model_module": "@jupyter-widgets/base",
          "model_name": "LayoutModel",
          "model_module_version": "1.2.0",
          "state": {
            "_view_name": "LayoutView",
            "grid_template_rows": null,
            "right": null,
            "justify_content": null,
            "_view_module": "@jupyter-widgets/base",
            "overflow": null,
            "_model_module_version": "1.2.0",
            "_view_count": null,
            "flex_flow": null,
            "width": null,
            "min_width": null,
            "border": null,
            "align_items": null,
            "bottom": null,
            "_model_module": "@jupyter-widgets/base",
            "top": null,
            "grid_column": null,
            "overflow_y": null,
            "overflow_x": null,
            "grid_auto_flow": null,
            "grid_area": null,
            "grid_template_columns": null,
            "flex": null,
            "_model_name": "LayoutModel",
            "justify_items": null,
            "grid_row": null,
            "max_height": null,
            "align_content": null,
            "visibility": null,
            "align_self": null,
            "height": null,
            "min_height": null,
            "padding": null,
            "grid_auto_rows": null,
            "grid_gap": null,
            "max_width": null,
            "order": null,
            "_view_module_version": "1.2.0",
            "grid_template_areas": null,
            "object_position": null,
            "object_fit": null,
            "grid_auto_columns": null,
            "margin": null,
            "display": null,
            "left": null
          }
        },
        "1da97dd0f7e44752ba3e3ac288afb11e": {
          "model_module": "@jupyter-widgets/controls",
          "model_name": "HTMLModel",
          "model_module_version": "1.5.0",
          "state": {
            "_view_name": "HTMLView",
            "style": "IPY_MODEL_fc8cf8aa1da641cf9c7adc68776be66a",
            "_dom_classes": [],
            "description": "",
            "_model_name": "HTMLModel",
            "placeholder": "​",
            "_view_module": "@jupyter-widgets/controls",
            "_model_module_version": "1.5.0",
            "value": "",
            "_view_count": null,
            "_view_module_version": "1.5.0",
            "description_tooltip": null,
            "_model_module": "@jupyter-widgets/controls",
            "layout": "IPY_MODEL_2a3686ad29e947d2b64083478fbf5d6a"
          }
        },
        "eeaba156eb8b42b7a4b742f6fe65df4e": {
          "model_module": "@jupyter-widgets/controls",
          "model_name": "FloatProgressModel",
          "model_module_version": "1.5.0",
          "state": {
            "_view_name": "ProgressView",
            "style": "IPY_MODEL_f7c5700849ce43b48e8e0a77eb374114",
            "_dom_classes": [],
            "description": "",
            "_model_name": "FloatProgressModel",
            "bar_style": "success",
            "max": 9912422,
            "_view_module": "@jupyter-widgets/controls",
            "_model_module_version": "1.5.0",
            "value": 9912422,
            "_view_count": null,
            "_view_module_version": "1.5.0",
            "orientation": "horizontal",
            "min": 0,
            "description_tooltip": null,
            "_model_module": "@jupyter-widgets/controls",
            "layout": "IPY_MODEL_4745d7538a794ac39b460b581b140673"
          }
        },
        "72c4b6835e5844a580f2cdc91b9097f6": {
          "model_module": "@jupyter-widgets/controls",
          "model_name": "HTMLModel",
          "model_module_version": "1.5.0",
          "state": {
            "_view_name": "HTMLView",
            "style": "IPY_MODEL_053ccf32eea24cd185f8e5341d79e569",
            "_dom_classes": [],
            "description": "",
            "_model_name": "HTMLModel",
            "placeholder": "​",
            "_view_module": "@jupyter-widgets/controls",
            "_model_module_version": "1.5.0",
            "value": " 9913344/? [00:00&lt;00:00, 26433741.06it/s]",
            "_view_count": null,
            "_view_module_version": "1.5.0",
            "description_tooltip": null,
            "_model_module": "@jupyter-widgets/controls",
            "layout": "IPY_MODEL_40e76f4c9ca9476db2fb5b1d989fef11"
          }
        },
        "fc8cf8aa1da641cf9c7adc68776be66a": {
          "model_module": "@jupyter-widgets/controls",
          "model_name": "DescriptionStyleModel",
          "model_module_version": "1.5.0",
          "state": {
            "_view_name": "StyleView",
            "_model_name": "DescriptionStyleModel",
            "description_width": "",
            "_view_module": "@jupyter-widgets/base",
            "_model_module_version": "1.5.0",
            "_view_count": null,
            "_view_module_version": "1.2.0",
            "_model_module": "@jupyter-widgets/controls"
          }
        },
        "2a3686ad29e947d2b64083478fbf5d6a": {
          "model_module": "@jupyter-widgets/base",
          "model_name": "LayoutModel",
          "model_module_version": "1.2.0",
          "state": {
            "_view_name": "LayoutView",
            "grid_template_rows": null,
            "right": null,
            "justify_content": null,
            "_view_module": "@jupyter-widgets/base",
            "overflow": null,
            "_model_module_version": "1.2.0",
            "_view_count": null,
            "flex_flow": null,
            "width": null,
            "min_width": null,
            "border": null,
            "align_items": null,
            "bottom": null,
            "_model_module": "@jupyter-widgets/base",
            "top": null,
            "grid_column": null,
            "overflow_y": null,
            "overflow_x": null,
            "grid_auto_flow": null,
            "grid_area": null,
            "grid_template_columns": null,
            "flex": null,
            "_model_name": "LayoutModel",
            "justify_items": null,
            "grid_row": null,
            "max_height": null,
            "align_content": null,
            "visibility": null,
            "align_self": null,
            "height": null,
            "min_height": null,
            "padding": null,
            "grid_auto_rows": null,
            "grid_gap": null,
            "max_width": null,
            "order": null,
            "_view_module_version": "1.2.0",
            "grid_template_areas": null,
            "object_position": null,
            "object_fit": null,
            "grid_auto_columns": null,
            "margin": null,
            "display": null,
            "left": null
          }
        },
        "f7c5700849ce43b48e8e0a77eb374114": {
          "model_module": "@jupyter-widgets/controls",
          "model_name": "ProgressStyleModel",
          "model_module_version": "1.5.0",
          "state": {
            "_view_name": "StyleView",
            "_model_name": "ProgressStyleModel",
            "description_width": "",
            "_view_module": "@jupyter-widgets/base",
            "_model_module_version": "1.5.0",
            "_view_count": null,
            "_view_module_version": "1.2.0",
            "bar_color": null,
            "_model_module": "@jupyter-widgets/controls"
          }
        },
        "4745d7538a794ac39b460b581b140673": {
          "model_module": "@jupyter-widgets/base",
          "model_name": "LayoutModel",
          "model_module_version": "1.2.0",
          "state": {
            "_view_name": "LayoutView",
            "grid_template_rows": null,
            "right": null,
            "justify_content": null,
            "_view_module": "@jupyter-widgets/base",
            "overflow": null,
            "_model_module_version": "1.2.0",
            "_view_count": null,
            "flex_flow": null,
            "width": null,
            "min_width": null,
            "border": null,
            "align_items": null,
            "bottom": null,
            "_model_module": "@jupyter-widgets/base",
            "top": null,
            "grid_column": null,
            "overflow_y": null,
            "overflow_x": null,
            "grid_auto_flow": null,
            "grid_area": null,
            "grid_template_columns": null,
            "flex": null,
            "_model_name": "LayoutModel",
            "justify_items": null,
            "grid_row": null,
            "max_height": null,
            "align_content": null,
            "visibility": null,
            "align_self": null,
            "height": null,
            "min_height": null,
            "padding": null,
            "grid_auto_rows": null,
            "grid_gap": null,
            "max_width": null,
            "order": null,
            "_view_module_version": "1.2.0",
            "grid_template_areas": null,
            "object_position": null,
            "object_fit": null,
            "grid_auto_columns": null,
            "margin": null,
            "display": null,
            "left": null
          }
        },
        "053ccf32eea24cd185f8e5341d79e569": {
          "model_module": "@jupyter-widgets/controls",
          "model_name": "DescriptionStyleModel",
          "model_module_version": "1.5.0",
          "state": {
            "_view_name": "StyleView",
            "_model_name": "DescriptionStyleModel",
            "description_width": "",
            "_view_module": "@jupyter-widgets/base",
            "_model_module_version": "1.5.0",
            "_view_count": null,
            "_view_module_version": "1.2.0",
            "_model_module": "@jupyter-widgets/controls"
          }
        },
        "40e76f4c9ca9476db2fb5b1d989fef11": {
          "model_module": "@jupyter-widgets/base",
          "model_name": "LayoutModel",
          "model_module_version": "1.2.0",
          "state": {
            "_view_name": "LayoutView",
            "grid_template_rows": null,
            "right": null,
            "justify_content": null,
            "_view_module": "@jupyter-widgets/base",
            "overflow": null,
            "_model_module_version": "1.2.0",
            "_view_count": null,
            "flex_flow": null,
            "width": null,
            "min_width": null,
            "border": null,
            "align_items": null,
            "bottom": null,
            "_model_module": "@jupyter-widgets/base",
            "top": null,
            "grid_column": null,
            "overflow_y": null,
            "overflow_x": null,
            "grid_auto_flow": null,
            "grid_area": null,
            "grid_template_columns": null,
            "flex": null,
            "_model_name": "LayoutModel",
            "justify_items": null,
            "grid_row": null,
            "max_height": null,
            "align_content": null,
            "visibility": null,
            "align_self": null,
            "height": null,
            "min_height": null,
            "padding": null,
            "grid_auto_rows": null,
            "grid_gap": null,
            "max_width": null,
            "order": null,
            "_view_module_version": "1.2.0",
            "grid_template_areas": null,
            "object_position": null,
            "object_fit": null,
            "grid_auto_columns": null,
            "margin": null,
            "display": null,
            "left": null
          }
        },
        "fdd993a93fb7451c9b622fcaca83e2a6": {
          "model_module": "@jupyter-widgets/controls",
          "model_name": "HBoxModel",
          "model_module_version": "1.5.0",
          "state": {
            "_view_name": "HBoxView",
            "_dom_classes": [],
            "_model_name": "HBoxModel",
            "_view_module": "@jupyter-widgets/controls",
            "_model_module_version": "1.5.0",
            "_view_count": null,
            "_view_module_version": "1.5.0",
            "box_style": "",
            "layout": "IPY_MODEL_2e431ff7c96c403db83d38421a08de26",
            "_model_module": "@jupyter-widgets/controls",
            "children": [
              "IPY_MODEL_f1fa4308fcaa4239920b1e95f888a67a",
              "IPY_MODEL_0140b3a15a894b15b2ea0ac1b849e97e",
              "IPY_MODEL_da479f15290648d09c953c0f0252705a"
            ]
          }
        },
        "2e431ff7c96c403db83d38421a08de26": {
          "model_module": "@jupyter-widgets/base",
          "model_name": "LayoutModel",
          "model_module_version": "1.2.0",
          "state": {
            "_view_name": "LayoutView",
            "grid_template_rows": null,
            "right": null,
            "justify_content": null,
            "_view_module": "@jupyter-widgets/base",
            "overflow": null,
            "_model_module_version": "1.2.0",
            "_view_count": null,
            "flex_flow": null,
            "width": null,
            "min_width": null,
            "border": null,
            "align_items": null,
            "bottom": null,
            "_model_module": "@jupyter-widgets/base",
            "top": null,
            "grid_column": null,
            "overflow_y": null,
            "overflow_x": null,
            "grid_auto_flow": null,
            "grid_area": null,
            "grid_template_columns": null,
            "flex": null,
            "_model_name": "LayoutModel",
            "justify_items": null,
            "grid_row": null,
            "max_height": null,
            "align_content": null,
            "visibility": null,
            "align_self": null,
            "height": null,
            "min_height": null,
            "padding": null,
            "grid_auto_rows": null,
            "grid_gap": null,
            "max_width": null,
            "order": null,
            "_view_module_version": "1.2.0",
            "grid_template_areas": null,
            "object_position": null,
            "object_fit": null,
            "grid_auto_columns": null,
            "margin": null,
            "display": null,
            "left": null
          }
        },
        "f1fa4308fcaa4239920b1e95f888a67a": {
          "model_module": "@jupyter-widgets/controls",
          "model_name": "HTMLModel",
          "model_module_version": "1.5.0",
          "state": {
            "_view_name": "HTMLView",
            "style": "IPY_MODEL_282c72a5558b4f4592d46c337ffa2d13",
            "_dom_classes": [],
            "description": "",
            "_model_name": "HTMLModel",
            "placeholder": "​",
            "_view_module": "@jupyter-widgets/controls",
            "_model_module_version": "1.5.0",
            "value": "",
            "_view_count": null,
            "_view_module_version": "1.5.0",
            "description_tooltip": null,
            "_model_module": "@jupyter-widgets/controls",
            "layout": "IPY_MODEL_61e9b674ee074405b6fab1d3af2d39e5"
          }
        },
        "0140b3a15a894b15b2ea0ac1b849e97e": {
          "model_module": "@jupyter-widgets/controls",
          "model_name": "FloatProgressModel",
          "model_module_version": "1.5.0",
          "state": {
            "_view_name": "ProgressView",
            "style": "IPY_MODEL_0745a8e1507f42429a71e705f792d08d",
            "_dom_classes": [],
            "description": "",
            "_model_name": "FloatProgressModel",
            "bar_style": "success",
            "max": 28881,
            "_view_module": "@jupyter-widgets/controls",
            "_model_module_version": "1.5.0",
            "value": 28881,
            "_view_count": null,
            "_view_module_version": "1.5.0",
            "orientation": "horizontal",
            "min": 0,
            "description_tooltip": null,
            "_model_module": "@jupyter-widgets/controls",
            "layout": "IPY_MODEL_3208fe96550a4ed2bb3c3748861cc692"
          }
        },
        "da479f15290648d09c953c0f0252705a": {
          "model_module": "@jupyter-widgets/controls",
          "model_name": "HTMLModel",
          "model_module_version": "1.5.0",
          "state": {
            "_view_name": "HTMLView",
            "style": "IPY_MODEL_30345ca8acb848a4a8a014d45e7cfb5f",
            "_dom_classes": [],
            "description": "",
            "_model_name": "HTMLModel",
            "placeholder": "​",
            "_view_module": "@jupyter-widgets/controls",
            "_model_module_version": "1.5.0",
            "value": " 29696/? [00:00&lt;00:00, 7542.94it/s]",
            "_view_count": null,
            "_view_module_version": "1.5.0",
            "description_tooltip": null,
            "_model_module": "@jupyter-widgets/controls",
            "layout": "IPY_MODEL_a8d5fb06330c431c9af4d4c54a561dd4"
          }
        },
        "282c72a5558b4f4592d46c337ffa2d13": {
          "model_module": "@jupyter-widgets/controls",
          "model_name": "DescriptionStyleModel",
          "model_module_version": "1.5.0",
          "state": {
            "_view_name": "StyleView",
            "_model_name": "DescriptionStyleModel",
            "description_width": "",
            "_view_module": "@jupyter-widgets/base",
            "_model_module_version": "1.5.0",
            "_view_count": null,
            "_view_module_version": "1.2.0",
            "_model_module": "@jupyter-widgets/controls"
          }
        },
        "61e9b674ee074405b6fab1d3af2d39e5": {
          "model_module": "@jupyter-widgets/base",
          "model_name": "LayoutModel",
          "model_module_version": "1.2.0",
          "state": {
            "_view_name": "LayoutView",
            "grid_template_rows": null,
            "right": null,
            "justify_content": null,
            "_view_module": "@jupyter-widgets/base",
            "overflow": null,
            "_model_module_version": "1.2.0",
            "_view_count": null,
            "flex_flow": null,
            "width": null,
            "min_width": null,
            "border": null,
            "align_items": null,
            "bottom": null,
            "_model_module": "@jupyter-widgets/base",
            "top": null,
            "grid_column": null,
            "overflow_y": null,
            "overflow_x": null,
            "grid_auto_flow": null,
            "grid_area": null,
            "grid_template_columns": null,
            "flex": null,
            "_model_name": "LayoutModel",
            "justify_items": null,
            "grid_row": null,
            "max_height": null,
            "align_content": null,
            "visibility": null,
            "align_self": null,
            "height": null,
            "min_height": null,
            "padding": null,
            "grid_auto_rows": null,
            "grid_gap": null,
            "max_width": null,
            "order": null,
            "_view_module_version": "1.2.0",
            "grid_template_areas": null,
            "object_position": null,
            "object_fit": null,
            "grid_auto_columns": null,
            "margin": null,
            "display": null,
            "left": null
          }
        },
        "0745a8e1507f42429a71e705f792d08d": {
          "model_module": "@jupyter-widgets/controls",
          "model_name": "ProgressStyleModel",
          "model_module_version": "1.5.0",
          "state": {
            "_view_name": "StyleView",
            "_model_name": "ProgressStyleModel",
            "description_width": "",
            "_view_module": "@jupyter-widgets/base",
            "_model_module_version": "1.5.0",
            "_view_count": null,
            "_view_module_version": "1.2.0",
            "bar_color": null,
            "_model_module": "@jupyter-widgets/controls"
          }
        },
        "3208fe96550a4ed2bb3c3748861cc692": {
          "model_module": "@jupyter-widgets/base",
          "model_name": "LayoutModel",
          "model_module_version": "1.2.0",
          "state": {
            "_view_name": "LayoutView",
            "grid_template_rows": null,
            "right": null,
            "justify_content": null,
            "_view_module": "@jupyter-widgets/base",
            "overflow": null,
            "_model_module_version": "1.2.0",
            "_view_count": null,
            "flex_flow": null,
            "width": null,
            "min_width": null,
            "border": null,
            "align_items": null,
            "bottom": null,
            "_model_module": "@jupyter-widgets/base",
            "top": null,
            "grid_column": null,
            "overflow_y": null,
            "overflow_x": null,
            "grid_auto_flow": null,
            "grid_area": null,
            "grid_template_columns": null,
            "flex": null,
            "_model_name": "LayoutModel",
            "justify_items": null,
            "grid_row": null,
            "max_height": null,
            "align_content": null,
            "visibility": null,
            "align_self": null,
            "height": null,
            "min_height": null,
            "padding": null,
            "grid_auto_rows": null,
            "grid_gap": null,
            "max_width": null,
            "order": null,
            "_view_module_version": "1.2.0",
            "grid_template_areas": null,
            "object_position": null,
            "object_fit": null,
            "grid_auto_columns": null,
            "margin": null,
            "display": null,
            "left": null
          }
        },
        "30345ca8acb848a4a8a014d45e7cfb5f": {
          "model_module": "@jupyter-widgets/controls",
          "model_name": "DescriptionStyleModel",
          "model_module_version": "1.5.0",
          "state": {
            "_view_name": "StyleView",
            "_model_name": "DescriptionStyleModel",
            "description_width": "",
            "_view_module": "@jupyter-widgets/base",
            "_model_module_version": "1.5.0",
            "_view_count": null,
            "_view_module_version": "1.2.0",
            "_model_module": "@jupyter-widgets/controls"
          }
        },
        "a8d5fb06330c431c9af4d4c54a561dd4": {
          "model_module": "@jupyter-widgets/base",
          "model_name": "LayoutModel",
          "model_module_version": "1.2.0",
          "state": {
            "_view_name": "LayoutView",
            "grid_template_rows": null,
            "right": null,
            "justify_content": null,
            "_view_module": "@jupyter-widgets/base",
            "overflow": null,
            "_model_module_version": "1.2.0",
            "_view_count": null,
            "flex_flow": null,
            "width": null,
            "min_width": null,
            "border": null,
            "align_items": null,
            "bottom": null,
            "_model_module": "@jupyter-widgets/base",
            "top": null,
            "grid_column": null,
            "overflow_y": null,
            "overflow_x": null,
            "grid_auto_flow": null,
            "grid_area": null,
            "grid_template_columns": null,
            "flex": null,
            "_model_name": "LayoutModel",
            "justify_items": null,
            "grid_row": null,
            "max_height": null,
            "align_content": null,
            "visibility": null,
            "align_self": null,
            "height": null,
            "min_height": null,
            "padding": null,
            "grid_auto_rows": null,
            "grid_gap": null,
            "max_width": null,
            "order": null,
            "_view_module_version": "1.2.0",
            "grid_template_areas": null,
            "object_position": null,
            "object_fit": null,
            "grid_auto_columns": null,
            "margin": null,
            "display": null,
            "left": null
          }
        },
        "0fb6ddf30c8c4d4c8c011a7a34978bbc": {
          "model_module": "@jupyter-widgets/controls",
          "model_name": "HBoxModel",
          "model_module_version": "1.5.0",
          "state": {
            "_view_name": "HBoxView",
            "_dom_classes": [],
            "_model_name": "HBoxModel",
            "_view_module": "@jupyter-widgets/controls",
            "_model_module_version": "1.5.0",
            "_view_count": null,
            "_view_module_version": "1.5.0",
            "box_style": "",
            "layout": "IPY_MODEL_f0a70191f1e04cb69fb347fce7718789",
            "_model_module": "@jupyter-widgets/controls",
            "children": [
              "IPY_MODEL_7d0e8b48421a41459d4ba036ddba26a2",
              "IPY_MODEL_55f7979a79c64221b30236752ebd8613",
              "IPY_MODEL_436b11471f1144629aa996649af81c52"
            ]
          }
        },
        "f0a70191f1e04cb69fb347fce7718789": {
          "model_module": "@jupyter-widgets/base",
          "model_name": "LayoutModel",
          "model_module_version": "1.2.0",
          "state": {
            "_view_name": "LayoutView",
            "grid_template_rows": null,
            "right": null,
            "justify_content": null,
            "_view_module": "@jupyter-widgets/base",
            "overflow": null,
            "_model_module_version": "1.2.0",
            "_view_count": null,
            "flex_flow": null,
            "width": null,
            "min_width": null,
            "border": null,
            "align_items": null,
            "bottom": null,
            "_model_module": "@jupyter-widgets/base",
            "top": null,
            "grid_column": null,
            "overflow_y": null,
            "overflow_x": null,
            "grid_auto_flow": null,
            "grid_area": null,
            "grid_template_columns": null,
            "flex": null,
            "_model_name": "LayoutModel",
            "justify_items": null,
            "grid_row": null,
            "max_height": null,
            "align_content": null,
            "visibility": null,
            "align_self": null,
            "height": null,
            "min_height": null,
            "padding": null,
            "grid_auto_rows": null,
            "grid_gap": null,
            "max_width": null,
            "order": null,
            "_view_module_version": "1.2.0",
            "grid_template_areas": null,
            "object_position": null,
            "object_fit": null,
            "grid_auto_columns": null,
            "margin": null,
            "display": null,
            "left": null
          }
        },
        "7d0e8b48421a41459d4ba036ddba26a2": {
          "model_module": "@jupyter-widgets/controls",
          "model_name": "HTMLModel",
          "model_module_version": "1.5.0",
          "state": {
            "_view_name": "HTMLView",
            "style": "IPY_MODEL_6bb7bb0bfb2440df9421c4f2cfa5d61e",
            "_dom_classes": [],
            "description": "",
            "_model_name": "HTMLModel",
            "placeholder": "​",
            "_view_module": "@jupyter-widgets/controls",
            "_model_module_version": "1.5.0",
            "value": "",
            "_view_count": null,
            "_view_module_version": "1.5.0",
            "description_tooltip": null,
            "_model_module": "@jupyter-widgets/controls",
            "layout": "IPY_MODEL_1b433f4212f3451e884c92d51c19aeb4"
          }
        },
        "55f7979a79c64221b30236752ebd8613": {
          "model_module": "@jupyter-widgets/controls",
          "model_name": "FloatProgressModel",
          "model_module_version": "1.5.0",
          "state": {
            "_view_name": "ProgressView",
            "style": "IPY_MODEL_874c7535b4de48659dbae3e727a58be4",
            "_dom_classes": [],
            "description": "",
            "_model_name": "FloatProgressModel",
            "bar_style": "success",
            "max": 1648877,
            "_view_module": "@jupyter-widgets/controls",
            "_model_module_version": "1.5.0",
            "value": 1648877,
            "_view_count": null,
            "_view_module_version": "1.5.0",
            "orientation": "horizontal",
            "min": 0,
            "description_tooltip": null,
            "_model_module": "@jupyter-widgets/controls",
            "layout": "IPY_MODEL_c779be310fe647bda3306a102a5e6588"
          }
        },
        "436b11471f1144629aa996649af81c52": {
          "model_module": "@jupyter-widgets/controls",
          "model_name": "HTMLModel",
          "model_module_version": "1.5.0",
          "state": {
            "_view_name": "HTMLView",
            "style": "IPY_MODEL_0a07d01454d045e7a7a264cca6f52d97",
            "_dom_classes": [],
            "description": "",
            "_model_name": "HTMLModel",
            "placeholder": "​",
            "_view_module": "@jupyter-widgets/controls",
            "_model_module_version": "1.5.0",
            "value": " 1649664/? [00:00&lt;00:00, 3326932.13it/s]",
            "_view_count": null,
            "_view_module_version": "1.5.0",
            "description_tooltip": null,
            "_model_module": "@jupyter-widgets/controls",
            "layout": "IPY_MODEL_a7412694c28b470bb6b1c68bbbdf0d52"
          }
        },
        "6bb7bb0bfb2440df9421c4f2cfa5d61e": {
          "model_module": "@jupyter-widgets/controls",
          "model_name": "DescriptionStyleModel",
          "model_module_version": "1.5.0",
          "state": {
            "_view_name": "StyleView",
            "_model_name": "DescriptionStyleModel",
            "description_width": "",
            "_view_module": "@jupyter-widgets/base",
            "_model_module_version": "1.5.0",
            "_view_count": null,
            "_view_module_version": "1.2.0",
            "_model_module": "@jupyter-widgets/controls"
          }
        },
        "1b433f4212f3451e884c92d51c19aeb4": {
          "model_module": "@jupyter-widgets/base",
          "model_name": "LayoutModel",
          "model_module_version": "1.2.0",
          "state": {
            "_view_name": "LayoutView",
            "grid_template_rows": null,
            "right": null,
            "justify_content": null,
            "_view_module": "@jupyter-widgets/base",
            "overflow": null,
            "_model_module_version": "1.2.0",
            "_view_count": null,
            "flex_flow": null,
            "width": null,
            "min_width": null,
            "border": null,
            "align_items": null,
            "bottom": null,
            "_model_module": "@jupyter-widgets/base",
            "top": null,
            "grid_column": null,
            "overflow_y": null,
            "overflow_x": null,
            "grid_auto_flow": null,
            "grid_area": null,
            "grid_template_columns": null,
            "flex": null,
            "_model_name": "LayoutModel",
            "justify_items": null,
            "grid_row": null,
            "max_height": null,
            "align_content": null,
            "visibility": null,
            "align_self": null,
            "height": null,
            "min_height": null,
            "padding": null,
            "grid_auto_rows": null,
            "grid_gap": null,
            "max_width": null,
            "order": null,
            "_view_module_version": "1.2.0",
            "grid_template_areas": null,
            "object_position": null,
            "object_fit": null,
            "grid_auto_columns": null,
            "margin": null,
            "display": null,
            "left": null
          }
        },
        "874c7535b4de48659dbae3e727a58be4": {
          "model_module": "@jupyter-widgets/controls",
          "model_name": "ProgressStyleModel",
          "model_module_version": "1.5.0",
          "state": {
            "_view_name": "StyleView",
            "_model_name": "ProgressStyleModel",
            "description_width": "",
            "_view_module": "@jupyter-widgets/base",
            "_model_module_version": "1.5.0",
            "_view_count": null,
            "_view_module_version": "1.2.0",
            "bar_color": null,
            "_model_module": "@jupyter-widgets/controls"
          }
        },
        "c779be310fe647bda3306a102a5e6588": {
          "model_module": "@jupyter-widgets/base",
          "model_name": "LayoutModel",
          "model_module_version": "1.2.0",
          "state": {
            "_view_name": "LayoutView",
            "grid_template_rows": null,
            "right": null,
            "justify_content": null,
            "_view_module": "@jupyter-widgets/base",
            "overflow": null,
            "_model_module_version": "1.2.0",
            "_view_count": null,
            "flex_flow": null,
            "width": null,
            "min_width": null,
            "border": null,
            "align_items": null,
            "bottom": null,
            "_model_module": "@jupyter-widgets/base",
            "top": null,
            "grid_column": null,
            "overflow_y": null,
            "overflow_x": null,
            "grid_auto_flow": null,
            "grid_area": null,
            "grid_template_columns": null,
            "flex": null,
            "_model_name": "LayoutModel",
            "justify_items": null,
            "grid_row": null,
            "max_height": null,
            "align_content": null,
            "visibility": null,
            "align_self": null,
            "height": null,
            "min_height": null,
            "padding": null,
            "grid_auto_rows": null,
            "grid_gap": null,
            "max_width": null,
            "order": null,
            "_view_module_version": "1.2.0",
            "grid_template_areas": null,
            "object_position": null,
            "object_fit": null,
            "grid_auto_columns": null,
            "margin": null,
            "display": null,
            "left": null
          }
        },
        "0a07d01454d045e7a7a264cca6f52d97": {
          "model_module": "@jupyter-widgets/controls",
          "model_name": "DescriptionStyleModel",
          "model_module_version": "1.5.0",
          "state": {
            "_view_name": "StyleView",
            "_model_name": "DescriptionStyleModel",
            "description_width": "",
            "_view_module": "@jupyter-widgets/base",
            "_model_module_version": "1.5.0",
            "_view_count": null,
            "_view_module_version": "1.2.0",
            "_model_module": "@jupyter-widgets/controls"
          }
        },
        "a7412694c28b470bb6b1c68bbbdf0d52": {
          "model_module": "@jupyter-widgets/base",
          "model_name": "LayoutModel",
          "model_module_version": "1.2.0",
          "state": {
            "_view_name": "LayoutView",
            "grid_template_rows": null,
            "right": null,
            "justify_content": null,
            "_view_module": "@jupyter-widgets/base",
            "overflow": null,
            "_model_module_version": "1.2.0",
            "_view_count": null,
            "flex_flow": null,
            "width": null,
            "min_width": null,
            "border": null,
            "align_items": null,
            "bottom": null,
            "_model_module": "@jupyter-widgets/base",
            "top": null,
            "grid_column": null,
            "overflow_y": null,
            "overflow_x": null,
            "grid_auto_flow": null,
            "grid_area": null,
            "grid_template_columns": null,
            "flex": null,
            "_model_name": "LayoutModel",
            "justify_items": null,
            "grid_row": null,
            "max_height": null,
            "align_content": null,
            "visibility": null,
            "align_self": null,
            "height": null,
            "min_height": null,
            "padding": null,
            "grid_auto_rows": null,
            "grid_gap": null,
            "max_width": null,
            "order": null,
            "_view_module_version": "1.2.0",
            "grid_template_areas": null,
            "object_position": null,
            "object_fit": null,
            "grid_auto_columns": null,
            "margin": null,
            "display": null,
            "left": null
          }
        },
        "837ba31a52c9451494d0c72fc2c18d1d": {
          "model_module": "@jupyter-widgets/controls",
          "model_name": "HBoxModel",
          "model_module_version": "1.5.0",
          "state": {
            "_view_name": "HBoxView",
            "_dom_classes": [],
            "_model_name": "HBoxModel",
            "_view_module": "@jupyter-widgets/controls",
            "_model_module_version": "1.5.0",
            "_view_count": null,
            "_view_module_version": "1.5.0",
            "box_style": "",
            "layout": "IPY_MODEL_5c53997deea948bdab60dcd8e8bd8b9f",
            "_model_module": "@jupyter-widgets/controls",
            "children": [
              "IPY_MODEL_99428db94d954bb9991b953dd72c2978",
              "IPY_MODEL_e9d514e6864149c694e21dc3c2f61a4b",
              "IPY_MODEL_fb03a9cf8c8f43b1b8f594d9a981453f"
            ]
          }
        },
        "5c53997deea948bdab60dcd8e8bd8b9f": {
          "model_module": "@jupyter-widgets/base",
          "model_name": "LayoutModel",
          "model_module_version": "1.2.0",
          "state": {
            "_view_name": "LayoutView",
            "grid_template_rows": null,
            "right": null,
            "justify_content": null,
            "_view_module": "@jupyter-widgets/base",
            "overflow": null,
            "_model_module_version": "1.2.0",
            "_view_count": null,
            "flex_flow": null,
            "width": null,
            "min_width": null,
            "border": null,
            "align_items": null,
            "bottom": null,
            "_model_module": "@jupyter-widgets/base",
            "top": null,
            "grid_column": null,
            "overflow_y": null,
            "overflow_x": null,
            "grid_auto_flow": null,
            "grid_area": null,
            "grid_template_columns": null,
            "flex": null,
            "_model_name": "LayoutModel",
            "justify_items": null,
            "grid_row": null,
            "max_height": null,
            "align_content": null,
            "visibility": null,
            "align_self": null,
            "height": null,
            "min_height": null,
            "padding": null,
            "grid_auto_rows": null,
            "grid_gap": null,
            "max_width": null,
            "order": null,
            "_view_module_version": "1.2.0",
            "grid_template_areas": null,
            "object_position": null,
            "object_fit": null,
            "grid_auto_columns": null,
            "margin": null,
            "display": null,
            "left": null
          }
        },
        "99428db94d954bb9991b953dd72c2978": {
          "model_module": "@jupyter-widgets/controls",
          "model_name": "HTMLModel",
          "model_module_version": "1.5.0",
          "state": {
            "_view_name": "HTMLView",
            "style": "IPY_MODEL_27f216fbaa4e4f618442aa6da516d84f",
            "_dom_classes": [],
            "description": "",
            "_model_name": "HTMLModel",
            "placeholder": "​",
            "_view_module": "@jupyter-widgets/controls",
            "_model_module_version": "1.5.0",
            "value": "",
            "_view_count": null,
            "_view_module_version": "1.5.0",
            "description_tooltip": null,
            "_model_module": "@jupyter-widgets/controls",
            "layout": "IPY_MODEL_982b70ab01af485bbc983002349ac938"
          }
        },
        "e9d514e6864149c694e21dc3c2f61a4b": {
          "model_module": "@jupyter-widgets/controls",
          "model_name": "FloatProgressModel",
          "model_module_version": "1.5.0",
          "state": {
            "_view_name": "ProgressView",
            "style": "IPY_MODEL_609138442435493d84533187c66257d2",
            "_dom_classes": [],
            "description": "",
            "_model_name": "FloatProgressModel",
            "bar_style": "success",
            "max": 4542,
            "_view_module": "@jupyter-widgets/controls",
            "_model_module_version": "1.5.0",
            "value": 4542,
            "_view_count": null,
            "_view_module_version": "1.5.0",
            "orientation": "horizontal",
            "min": 0,
            "description_tooltip": null,
            "_model_module": "@jupyter-widgets/controls",
            "layout": "IPY_MODEL_b8d707c59c894e68ad64713f13638b9a"
          }
        },
        "fb03a9cf8c8f43b1b8f594d9a981453f": {
          "model_module": "@jupyter-widgets/controls",
          "model_name": "HTMLModel",
          "model_module_version": "1.5.0",
          "state": {
            "_view_name": "HTMLView",
            "style": "IPY_MODEL_27d3af1c0e384386a648bd1610a2dfc8",
            "_dom_classes": [],
            "description": "",
            "_model_name": "HTMLModel",
            "placeholder": "​",
            "_view_module": "@jupyter-widgets/controls",
            "_model_module_version": "1.5.0",
            "value": " 5120/? [00:00&lt;00:00, 6600.21it/s]",
            "_view_count": null,
            "_view_module_version": "1.5.0",
            "description_tooltip": null,
            "_model_module": "@jupyter-widgets/controls",
            "layout": "IPY_MODEL_fa505ed9f2bf4d51beff4494424434a8"
          }
        },
        "27f216fbaa4e4f618442aa6da516d84f": {
          "model_module": "@jupyter-widgets/controls",
          "model_name": "DescriptionStyleModel",
          "model_module_version": "1.5.0",
          "state": {
            "_view_name": "StyleView",
            "_model_name": "DescriptionStyleModel",
            "description_width": "",
            "_view_module": "@jupyter-widgets/base",
            "_model_module_version": "1.5.0",
            "_view_count": null,
            "_view_module_version": "1.2.0",
            "_model_module": "@jupyter-widgets/controls"
          }
        },
        "982b70ab01af485bbc983002349ac938": {
          "model_module": "@jupyter-widgets/base",
          "model_name": "LayoutModel",
          "model_module_version": "1.2.0",
          "state": {
            "_view_name": "LayoutView",
            "grid_template_rows": null,
            "right": null,
            "justify_content": null,
            "_view_module": "@jupyter-widgets/base",
            "overflow": null,
            "_model_module_version": "1.2.0",
            "_view_count": null,
            "flex_flow": null,
            "width": null,
            "min_width": null,
            "border": null,
            "align_items": null,
            "bottom": null,
            "_model_module": "@jupyter-widgets/base",
            "top": null,
            "grid_column": null,
            "overflow_y": null,
            "overflow_x": null,
            "grid_auto_flow": null,
            "grid_area": null,
            "grid_template_columns": null,
            "flex": null,
            "_model_name": "LayoutModel",
            "justify_items": null,
            "grid_row": null,
            "max_height": null,
            "align_content": null,
            "visibility": null,
            "align_self": null,
            "height": null,
            "min_height": null,
            "padding": null,
            "grid_auto_rows": null,
            "grid_gap": null,
            "max_width": null,
            "order": null,
            "_view_module_version": "1.2.0",
            "grid_template_areas": null,
            "object_position": null,
            "object_fit": null,
            "grid_auto_columns": null,
            "margin": null,
            "display": null,
            "left": null
          }
        },
        "609138442435493d84533187c66257d2": {
          "model_module": "@jupyter-widgets/controls",
          "model_name": "ProgressStyleModel",
          "model_module_version": "1.5.0",
          "state": {
            "_view_name": "StyleView",
            "_model_name": "ProgressStyleModel",
            "description_width": "",
            "_view_module": "@jupyter-widgets/base",
            "_model_module_version": "1.5.0",
            "_view_count": null,
            "_view_module_version": "1.2.0",
            "bar_color": null,
            "_model_module": "@jupyter-widgets/controls"
          }
        },
        "b8d707c59c894e68ad64713f13638b9a": {
          "model_module": "@jupyter-widgets/base",
          "model_name": "LayoutModel",
          "model_module_version": "1.2.0",
          "state": {
            "_view_name": "LayoutView",
            "grid_template_rows": null,
            "right": null,
            "justify_content": null,
            "_view_module": "@jupyter-widgets/base",
            "overflow": null,
            "_model_module_version": "1.2.0",
            "_view_count": null,
            "flex_flow": null,
            "width": null,
            "min_width": null,
            "border": null,
            "align_items": null,
            "bottom": null,
            "_model_module": "@jupyter-widgets/base",
            "top": null,
            "grid_column": null,
            "overflow_y": null,
            "overflow_x": null,
            "grid_auto_flow": null,
            "grid_area": null,
            "grid_template_columns": null,
            "flex": null,
            "_model_name": "LayoutModel",
            "justify_items": null,
            "grid_row": null,
            "max_height": null,
            "align_content": null,
            "visibility": null,
            "align_self": null,
            "height": null,
            "min_height": null,
            "padding": null,
            "grid_auto_rows": null,
            "grid_gap": null,
            "max_width": null,
            "order": null,
            "_view_module_version": "1.2.0",
            "grid_template_areas": null,
            "object_position": null,
            "object_fit": null,
            "grid_auto_columns": null,
            "margin": null,
            "display": null,
            "left": null
          }
        },
        "27d3af1c0e384386a648bd1610a2dfc8": {
          "model_module": "@jupyter-widgets/controls",
          "model_name": "DescriptionStyleModel",
          "model_module_version": "1.5.0",
          "state": {
            "_view_name": "StyleView",
            "_model_name": "DescriptionStyleModel",
            "description_width": "",
            "_view_module": "@jupyter-widgets/base",
            "_model_module_version": "1.5.0",
            "_view_count": null,
            "_view_module_version": "1.2.0",
            "_model_module": "@jupyter-widgets/controls"
          }
        },
        "fa505ed9f2bf4d51beff4494424434a8": {
          "model_module": "@jupyter-widgets/base",
          "model_name": "LayoutModel",
          "model_module_version": "1.2.0",
          "state": {
            "_view_name": "LayoutView",
            "grid_template_rows": null,
            "right": null,
            "justify_content": null,
            "_view_module": "@jupyter-widgets/base",
            "overflow": null,
            "_model_module_version": "1.2.0",
            "_view_count": null,
            "flex_flow": null,
            "width": null,
            "min_width": null,
            "border": null,
            "align_items": null,
            "bottom": null,
            "_model_module": "@jupyter-widgets/base",
            "top": null,
            "grid_column": null,
            "overflow_y": null,
            "overflow_x": null,
            "grid_auto_flow": null,
            "grid_area": null,
            "grid_template_columns": null,
            "flex": null,
            "_model_name": "LayoutModel",
            "justify_items": null,
            "grid_row": null,
            "max_height": null,
            "align_content": null,
            "visibility": null,
            "align_self": null,
            "height": null,
            "min_height": null,
            "padding": null,
            "grid_auto_rows": null,
            "grid_gap": null,
            "max_width": null,
            "order": null,
            "_view_module_version": "1.2.0",
            "grid_template_areas": null,
            "object_position": null,
            "object_fit": null,
            "grid_auto_columns": null,
            "margin": null,
            "display": null,
            "left": null
          }
        }
      }
    }
  },
  "nbformat": 4,
  "nbformat_minor": 0
}
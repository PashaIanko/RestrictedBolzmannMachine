{
  "cells": [
    {
      "cell_type": "markdown",
      "metadata": {
        "id": "view-in-github",
        "colab_type": "text"
      },
      "source": [
        "<a href=\"https://colab.research.google.com/github/PashaIanko/RestrictedBolzmannMachine/blob/EMNIST/main.ipynb\" target=\"_parent\"><img src=\"https://colab.research.google.com/assets/colab-badge.svg\" alt=\"Open In Colab\"/></a>"
      ]
    },
    {
      "cell_type": "markdown",
      "metadata": {
        "id": "UMXIa1v8PT2j"
      },
      "source": [
        "Helper links:\n",
        "- https://github.com/pytorch/vision/blob/main/torchvision/datasets/omniglot.py"
      ]
    },
    {
      "cell_type": "markdown",
      "metadata": {
        "id": "BY78mv2oS20c"
      },
      "source": [
        "## **Packages, Constants & Functions**"
      ]
    },
    {
      "cell_type": "code",
      "execution_count": 1,
      "metadata": {
        "id": "FEByBGGhpsM5"
      },
      "outputs": [],
      "source": [
        "%%capture\n",
        "\n",
        "url_dbn = 'https://raw.githubusercontent.com/PashaIanko/RestrictedBolzmannMachine/main/DBN.py'\n",
        "url_rbm = 'https://raw.githubusercontent.com/PashaIanko/RestrictedBolzmannMachine/main/RBM.py'\n",
        "\n",
        "utils = {\n",
        "    'DBN.py': url_dbn,\n",
        "    'RBM.py': url_rbm,\n",
        "}\n",
        "\n",
        "for file, url in utils.items():\n",
        "    !wget -O {file} {url} {file}"
      ]
    },
    {
      "cell_type": "code",
      "execution_count": 2,
      "metadata": {
        "id": "dHbnUGj0-y3l"
      },
      "outputs": [],
      "source": [
        "import torch\n",
        "import torchvision as tv\n",
        "from torchvision import datasets\n",
        "import torch.nn.functional as functional \n",
        "\n",
        "# Models\n",
        "from DBN import DBN\n",
        "\n",
        "# Plotting\n",
        "import matplotlib.pyplot as plt\n",
        "\n",
        "# Download\n",
        "from os import path\n",
        "\n",
        "# Utils\n",
        "from abc import ABC, abstractmethod, abstractproperty\n",
        "from scipy import cluster\n",
        "import numpy as np\n",
        "import random\n",
        "import math\n",
        "import tqdm\n",
        "\n",
        "# Plotting\n",
        "import seaborn as sns"
      ]
    },
    {
      "cell_type": "code",
      "execution_count": 48,
      "metadata": {
        "id": "0J2Yq1R_-y3o"
      },
      "outputs": [],
      "source": [
        "class PreprocParams:\n",
        "    crop_size = 28\n",
        "    mean = 0.1307\n",
        "    std = 0.3081\n",
        "    visualization_threshold = 0.1\n",
        "    image_size = crop_size\n",
        "    noise_level = 0.2\n",
        "    strategy = 'MNIST'\n",
        "\n",
        "class TrainParameters:\n",
        "    epochs = 40  # 50\n",
        "    batch_size = 125  # 100\n",
        "    train_size = 60000\n",
        "    test_size = 10000\n",
        "    class_num = 10\n",
        "\n",
        "class FFNNTrainParameters:\n",
        "    epochs = 120\n",
        "\n",
        "class PerceptronTrainParameters:\n",
        "    epochs = 1500\n",
        "    \n",
        "class DBMParameters(ABC):\n",
        "    def __init__(self, image_height, image_width):\n",
        "        super().__init__()\n",
        "        self.K = 1\n",
        "        self.learning_rate = 0.1\n",
        "        self.lr_decay = False\n",
        "        self.init_momentum = 0.5\n",
        "        self.fin_momentum = 0.9\n",
        "        self.w_decay = 0.0002\n",
        "        self.xavier_init = False\n",
        "        self.increase_to_cd_k = False\n",
        "        self.use_gpu = True\n",
        "        \n",
        "        self.image_height = image_height\n",
        "        self.image_width = image_width\n",
        "\n",
        "\n",
        "    @abstractproperty\n",
        "    def hidden_units(self):\n",
        "        pass\n",
        "\n",
        "    @property\n",
        "    def n_hidden_layers(self):\n",
        "        return len(self.hidden_units)"
      ]
    },
    {
      "cell_type": "code",
      "execution_count": 44,
      "metadata": {
        "id": "-2VQ2ohr-y3q"
      },
      "outputs": [],
      "source": [
        "class DBMDeepParameters(DBMParameters):\n",
        "    def __init__(self, image_height, image_width):\n",
        "        super().__init__(image_height, image_width)\n",
        "    \n",
        "    @property\n",
        "    def hidden_units(self):\n",
        "        return [500] #, 500] #, 1000]\n",
        "        \n",
        "\n",
        "class DBMShallowParameters(DBMParameters):\n",
        "    def __init__(self, image_height, image_width):\n",
        "        super().__init__(image_height, image_width)\n",
        "    \n",
        "    @property\n",
        "    def hidden_units(self):\n",
        "        return [500]  # shallow model for adversarial attacks"
      ]
    },
    {
      "cell_type": "code",
      "execution_count": 5,
      "metadata": {
        "id": "WZ5njjM8-y3q"
      },
      "outputs": [],
      "source": [
        "class FeedForward(torch.nn.Module):\n",
        "  def __init__(self,\n",
        "               first_hidden_layer_size,\n",
        "               class_num,\n",
        "               input_size):\n",
        "    super().__init__()\n",
        "    self.first_hidden = torch.nn.Linear(input_size, first_hidden_layer_size)\n",
        "    self.output = torch.nn.Linear(first_hidden_layer_size, class_num)\n",
        "\n",
        "  def forward(self, input):\n",
        "    input = input.view((input.shape[0], -1))\n",
        "    relu = torch.nn.ReLU()\n",
        "    first_hidden_repr = relu(self.first_hidden(input))\n",
        "    output = self.output(first_hidden_repr)\n",
        "    return output"
      ]
    },
    {
      "cell_type": "code",
      "execution_count": 6,
      "metadata": {
        "id": "KwZsvdhgcfhc"
      },
      "outputs": [],
      "source": [
        "def fix_seeds():\n",
        "    torch.manual_seed(0)\n",
        "    random.seed(0)\n",
        "    np.random.seed(0)"
      ]
    },
    {
      "cell_type": "code",
      "execution_count": 7,
      "metadata": {
        "id": "AZweLFYNkzIE"
      },
      "outputs": [],
      "source": [
        "def visualize_symbols(dataset, n_subplots, image_shape):\n",
        "    n_rows_cols = int(math.sqrt(n_subplots))\n",
        "    _, axes = plt.subplots(\n",
        "        n_rows_cols, \n",
        "        n_rows_cols, \n",
        "        sharex = True,\n",
        "        sharey = True,\n",
        "        figsize = (10, 10)\n",
        "    )\n",
        "    for i in range(n_subplots):\n",
        "        row = i % n_rows_cols\n",
        "        col = i // n_rows_cols\n",
        "        img = dataset[i] \n",
        "        axes[row, col].imshow(torch.flatten(img).reshape(image_shape), cmap='binary')"
      ]
    },
    {
      "cell_type": "code",
      "execution_count": 8,
      "metadata": {
        "id": "iIQtGPxzPltA"
      },
      "outputs": [],
      "source": [
        "def find_image(ds, label):\n",
        "    for item in ds:\n",
        "        if item[1] == label:\n",
        "            return item[0]\n",
        "\n",
        "def visualize_labels(labels, data, targets, figsize = (10, 10)):\n",
        "    n_subplots = len(labels)\n",
        "    \n",
        "    n_rows_cols = int(math.sqrt(n_subplots))\n",
        "    _, axes = plt.subplots(\n",
        "        n_rows_cols, \n",
        "        n_rows_cols, \n",
        "        sharex = True,\n",
        "        sharey = True,\n",
        "        figsize = figsize\n",
        "    )\n",
        "\n",
        "    for i in range(n_subplots):\n",
        "        col = i % n_rows_cols\n",
        "        row = i // n_rows_cols\n",
        "        label = labels[i]\n",
        "        \n",
        "        img_index = np.where(targets == label)[0][0]\n",
        "        image = data[img_index]\n",
        "        axes[row, col].imshow(image, cmap = 'binary')\n",
        "\n",
        "def prepare_data(ds, label_from, label_to):\n",
        "    labels = []\n",
        "    images = []\n",
        "    for item in ds:\n",
        "        if label_from <= item[1] <= label_to:\n",
        "            labels.append(item[1])\n",
        "            images.append(item[0])\n",
        "    return images, labels"
      ]
    },
    {
      "cell_type": "code",
      "execution_count": 9,
      "metadata": {
        "id": "Lg0d1Md2-y3v"
      },
      "outputs": [],
      "source": [
        "def get_layer_representations(n_layers, model, input_data):\n",
        "    internal_reps = []\n",
        "    for layer_n in range(n_layers):\n",
        "        if layer_n == 0:\n",
        "            repr = get_layer_representation(\n",
        "                input = input_data,\n",
        "                model = model,\n",
        "                layer_number = layer_n\n",
        "            )\n",
        "            internal_reps.append(repr)\n",
        "        else:\n",
        "            # Previous hidden is now an input data for next hidden\n",
        "            input = internal_reps[layer_n - 1]\n",
        "            repr = get_layer_representation(\n",
        "                input = input,\n",
        "                model = model,\n",
        "                layer_number = layer_n\n",
        "            )\n",
        "            internal_reps.append(repr)\n",
        "    return internal_reps"
      ]
    },
    {
      "cell_type": "code",
      "execution_count": 10,
      "metadata": {
        "id": "MnEInOEHjHZr"
      },
      "outputs": [],
      "source": [
        "def move_parameters_to_cpu(dbn_mnist):\n",
        "    for layer in dbn_mnist.rbm_layers:\n",
        "        layer.W = layer.W.cpu()\n",
        "        layer.h_bias = layer.h_bias.cpu()\n",
        "        layer.v_bias = layer.v_bias.cpu()\n",
        "\n",
        "def apply_threshold(weights, threshold=0):\n",
        "    return weights * (abs(weights) > threshold)\n",
        "  \n",
        "def plot_layer_receptive_fields(weights_matrices, num_subplots, \n",
        "                                img_width, img_height, \n",
        "                                fig_size = (20, 20),\n",
        "                                suptitle = ''):\n",
        "    n_rows_cols = int(math.sqrt(num_subplots))\n",
        "    fig, axes = plt.subplots(n_rows_cols, n_rows_cols, sharex=True, sharey=True, figsize=fig_size)\n",
        "    for i in range(num_subplots):\n",
        "        row = i % n_rows_cols\n",
        "        col = i // n_rows_cols\n",
        "        \n",
        "        # Matrix of connection strength (W) of i-th unit of the layer.\n",
        "        # Reshape from 'linear' to 'image' representation\n",
        "        W_matrix = weights_matrices[i, :].reshape((img_height, img_width))\n",
        "        axes[row, col].imshow(W_matrix, cmap = plt.cm.gray)\n",
        "    fig.suptitle(suptitle)"
      ]
    },
    {
      "cell_type": "code",
      "execution_count": 11,
      "metadata": {
        "id": "cb486criz1_N"
      },
      "outputs": [],
      "source": [
        "def project_hidden_layer(weights_matrices, layer_numb):\n",
        "    \n",
        "    # layer_numb starts from 2 (number of hidden layer)\n",
        "    if layer_numb > len(weights_matrices):\n",
        "        print(f'Mistake in project_hidden_layer, accessing wrong layer')\n",
        "        return \n",
        "    layers = weights_matrices[:layer_numb]\n",
        "    \n",
        "    cur_layer = layers[0]\n",
        "    for i in range(1, len(layers)):\n",
        "        cur_layer = layers[i] @ cur_layer\n",
        "    return cur_layer"
      ]
    },
    {
      "cell_type": "code",
      "execution_count": 12,
      "metadata": {
        "id": "EZToN8Ul-y3x"
      },
      "outputs": [],
      "source": [
        "def get_layer_representation(input, model, layer_number):\n",
        "    flattened_input = input.view((input.shape[0], -1)).type(torch.FloatTensor)\n",
        "    hidden_repr, _ = model.rbm_layers[layer_number].to_hidden(flattened_input)\n",
        "    return hidden_repr"
      ]
    },
    {
      "cell_type": "code",
      "execution_count": 13,
      "metadata": {
        "id": "DYAUlc4j-y3x"
      },
      "outputs": [],
      "source": [
        "def get_mask(labels, label):\n",
        "    return labels.numpy() == label\n",
        "\n",
        "def label_to_mean_hidden_repr(hidden_representation, images, labels):\n",
        "    hidden_representation_np = hidden_representation.numpy()\n",
        "    return {\n",
        "        label: hidden_representation_np[get_mask(labels, label)].mean(axis=0)\n",
        "        for label in np.unique(labels.numpy())\n",
        "    }\n",
        "\n",
        "def get_hidden_representation_matrix(label_to_mean_hidden_repr, labels):\n",
        "    return np.concatenate(\n",
        "        [np.expand_dims(\n",
        "            label_to_mean_hidden_repr[label], axis = 0\n",
        "        )\n",
        "        for label in np.unique(labels.numpy())]\n",
        "    )"
      ]
    },
    {
      "cell_type": "code",
      "execution_count": 14,
      "metadata": {
        "id": "2FW541rr-y3y"
      },
      "outputs": [],
      "source": [
        "def plot_dendrogram(mean_repr_matrix, title = ''):\n",
        "    fig, ax = plt.subplots()\n",
        "    linkage = cluster.hierarchy.linkage(mean_repr_matrix, method=\"complete\")  # we run the clustering algorithm here\n",
        "    dendrogram = cluster.hierarchy.dendrogram(linkage)\n",
        "    ax.set_title(title)\n",
        "    return dendrogram"
      ]
    },
    {
      "cell_type": "code",
      "execution_count": 15,
      "metadata": {
        "id": "lVUw6LO_-y3y"
      },
      "outputs": [],
      "source": [
        "def train(network, input, targets, epochs=1000):\n",
        "  print_every_n_epochs = 100 if epochs >= 1000 else 10\n",
        "  optimizer = torch.optim.SGD(network.parameters(), lr=0.05)\n",
        "  loss_fn = torch.nn.CrossEntropyLoss()\n",
        "\n",
        "  for epoch in range(epochs):\n",
        "    optimizer.zero_grad()\n",
        "    predictions = network(input)  # .squeeze()\n",
        "    loss = loss_fn(predictions, targets)\n",
        "    loss.backward()\n",
        "    optimizer.step()\n",
        "    if epoch % print_every_n_epochs == 0:\n",
        "      print(\"epoch {}/{}, loss = {:.6f}\".format(epoch, epochs, loss))\n",
        "    \n",
        "def attach_perceptron(model, layer_num, class_num):\n",
        "    rbm_layer_size = model.rbm_layers[layer_num].W.shape[1]\n",
        "    return Perceptron(rbm_layer_size, class_num)\n",
        "\n",
        "def compute_accuracy(predictions, targets):\n",
        "    predictions_indices = predictions.max(axis=1).indices  # convert probabilities to indices\n",
        "    accuracy = (predictions_indices == targets).sum() / len(targets)\n",
        "    return accuracy.item()\n",
        "\n",
        "class Perceptron(torch.nn.Module):\n",
        "  def __init__(self, rbm_layer_size, class_num):\n",
        "    super().__init__()\n",
        "    self.linear = torch.nn.Linear(rbm_layer_size, class_num)  # because 10 classes. You declare input and output\n",
        "\n",
        "  def forward(self, x):  # called when applied on some data, basic method\n",
        "    return self.linear(x)"
      ]
    },
    {
      "cell_type": "code",
      "execution_count": 16,
      "metadata": {
        "id": "KQU2FmN0-y3z"
      },
      "outputs": [],
      "source": [
        "def inject_noise(mnist_data, noise_level):\n",
        "  random_gaussian_tensor = torch.randn(mnist_data.shape)/6.6 + .6\n",
        "  probability_tensor = torch.ones(mnist_data.shape)*noise_level\n",
        "  mask_tensor = torch.bernoulli(probability_tensor)\n",
        "  return mnist_data - mask_tensor * mnist_data + mask_tensor * random_gaussian_tensor"
      ]
    },
    {
      "cell_type": "code",
      "execution_count": 17,
      "metadata": {
        "id": "sJPs02DJ-y3z"
      },
      "outputs": [],
      "source": [
        "def accuracy_at_noise_level(\n",
        "    noisy_input,\n",
        "    targets,\n",
        "\n",
        "    rbm_model,\n",
        "    hidden_layer_number,\n",
        "\n",
        "    perceptron_model,\n",
        "    ffnn_model\n",
        "):\n",
        "  \n",
        "  hidden_repr_noisy = get_layer_representation(noisy_input, rbm_model, hidden_layer_number)\n",
        "\n",
        "  predictions_hidden = perceptron_model(hidden_repr_noisy)\n",
        "  predictions_ffnn = ffnn_model(noisy_input.reshape(\n",
        "      (noisy_input.shape[0], noisy_input.shape[1] * noisy_input.shape[2]))\n",
        "  )\n",
        "  \n",
        "  acc_hidden = compute_accuracy(predictions_hidden, targets)\n",
        "  acc_ffnn = compute_accuracy(predictions_ffnn, targets)\n",
        "  return acc_hidden, acc_ffnn"
      ]
    },
    {
      "cell_type": "code",
      "execution_count": 18,
      "metadata": {
        "id": "AcmzgEZ6-y30"
      },
      "outputs": [],
      "source": [
        "def plot_noise_robustness_curves(\n",
        "  noise_levels,\n",
        "  dbn_model,\n",
        "  ffnn_model,\n",
        "  perceptron_model,  # perceptron_first_hidden\n",
        "\n",
        "  data,  # data_test,\n",
        "  targets  # targets_test\n",
        "):\n",
        "  accuracy_values_first_hidden = []\n",
        "  accuracy_values_ffnn = []\n",
        "\n",
        "  for noise_level in noise_levels:\n",
        "    accuracy_first_hidden, accuracy_ffnn = accuracy_at_noise_level(\n",
        "        noisy_input = inject_noise(\n",
        "          data, \n",
        "          noise_level\n",
        "        ),\n",
        "        targets = targets,\n",
        "\n",
        "        rbm_model = dbn_model,\n",
        "        hidden_layer_number = 0,\n",
        "\n",
        "        perceptron_model = perceptron_model,\n",
        "        ffnn_model = ffnn_model\n",
        "    )\n",
        "    accuracy_values_first_hidden.append(accuracy_first_hidden)\n",
        "    accuracy_values_ffnn.append(accuracy_ffnn)\n",
        "\n",
        "  fig, ax = plt.subplots()\n",
        "  ax.plot(range(len(noise_levels)), accuracy_values_first_hidden,\n",
        "            marker = 'o',\n",
        "            markerfacecolor = 'white', \n",
        "            markersize = 9\n",
        "  )\n",
        "  ax.plot(range(len(noise_levels)), accuracy_values_ffnn,\n",
        "          marker = 'o',\n",
        "          markerfacecolor = 'white', \n",
        "          markersize = 9\n",
        "  )\n",
        "\n",
        "  ax.set_title(\"Robustness to noise\")\n",
        "  ax.set_xlabel(\"Noise level (%)\")\n",
        "  ax.set_ylabel(\"Accuracy\")\n",
        "  plt.xticks(range(len(noise_levels)), [int(l*100) for l in noise_levels])\n",
        "  plt.grid()\n",
        "  plt.legend([\"First hidden\", \"FFNN\"])\n"
      ]
    },
    {
      "cell_type": "code",
      "execution_count": 19,
      "metadata": {
        "id": "aF4-o4JT-y30"
      },
      "outputs": [],
      "source": [
        "def fgsm_attack(image, epsilon, data_grad):\n",
        "    # Collect the element-wise sign of the data gradient\n",
        "    sign_data_grad = data_grad.sign()\n",
        "\n",
        "    # Create the perturbed image by adjusting each pixel of the input image\n",
        "    perturbed_image = image + epsilon*sign_data_grad\n",
        "\n",
        "    # Adding clipping to maintain [0,1] range\n",
        "    perturbed_image = torch.clamp(perturbed_image, 0, 1)\n",
        "\n",
        "    # Return the perturbed image\n",
        "    return perturbed_image"
      ]
    },
    {
      "cell_type": "code",
      "execution_count": 20,
      "metadata": {
        "id": "BT23dNRy-y30"
      },
      "outputs": [],
      "source": [
        "class DBNWithReadOut(torch.nn.Module):\n",
        "    def __init__(self, dbn_model, perceptron):\n",
        "        super().__init__()\n",
        "        self.readout = perceptron\n",
        "        self.dbn_model = dbn_model\n",
        "\n",
        "    def forward(self, image):\n",
        "        x, _ = self.dbn_model.forward(image)\n",
        "        x = self.readout.forward(x)\n",
        "        return x"
      ]
    },
    {
      "cell_type": "code",
      "execution_count": 21,
      "metadata": {
        "id": "Hwginv5l-y31"
      },
      "outputs": [],
      "source": [
        "def attack_demo(image, label, attacked_model):\n",
        "    f = plt.figure()\n",
        "    s1 = f.add_subplot(1, 2, 1)\n",
        "    s2 = f.add_subplot(1, 2, 2)\n",
        "    \n",
        "    s1.imshow(\n",
        "        image.reshape(PreprocParams.crop_size, PreprocParams.crop_size)\n",
        "    )\n",
        "\n",
        "    image.requires_grad = True\n",
        "    model_output = attacked_model(image)\n",
        "    pred = torch.argmax(model_output)\n",
        "\n",
        "    s1.set_title(\n",
        "        f\"\"\"\n",
        "        Image before\n",
        "        True label: {label}\n",
        "        Predicted label: {pred}\n",
        "        \"\"\"\n",
        "    )\n",
        "\n",
        "    loss = torch.nn.functional.cross_entropy(\n",
        "        target = torch.tensor([label]),\n",
        "        input = model_output\n",
        "    )\n",
        "    \n",
        "    attacked_model.zero_grad()\n",
        "    loss.backward()\n",
        "\n",
        "    image_grad = image.grad.data\n",
        "    perturbed_image = fgsm_attack(image, 0.2, image_grad)\n",
        "    perturbed_image_np = perturbed_image.detach().numpy()\n",
        "\n",
        "    pred_adversarial = torch.argmax(\n",
        "        attacked_model(perturbed_image)\n",
        "    )\n",
        "    \n",
        "    s2.imshow(\n",
        "        perturbed_image_np.reshape(PreprocParams.crop_size, PreprocParams.crop_size)\n",
        "    )\n",
        "    s2.set_title(\n",
        "        f\"\"\"\n",
        "        Image after adv. attack\n",
        "        True label: {label}\n",
        "        Predicted label: {pred_adversarial}\n",
        "        \"\"\"\n",
        "    )"
      ]
    },
    {
      "cell_type": "code",
      "execution_count": 22,
      "metadata": {
        "id": "LiSv3EC2-y31"
      },
      "outputs": [],
      "source": [
        "def test_robustness_to_attack(model, device, test_loader, epsilon, num_steps=0, verbose=True):\n",
        "    correct = 0\n",
        "    print_reconstruction = num_steps > 0\n",
        "\n",
        "    for data, target in tqdm.tqdm(test_loader):\n",
        "        data, target = data.to(device), target.to(device)\n",
        "        data = data.reshape(1, 28, 28)\n",
        "        data.requires_grad = True  # Important for Attack\n",
        "\n",
        "        output = model.forward(data)\n",
        "\n",
        "        init_pred = torch.argmax(output)\n",
        "        # If the initial prediction is wrong, dont bother attacking, just move on\n",
        "        if init_pred.item() != target.item():\n",
        "            continue\n",
        "\n",
        "        if (print_reconstruction and verbose):\n",
        "          print(\"\\nHere's the original sample:\\n\")\n",
        "          plt.imshow(data.detach().numpy().reshape(28,28))\n",
        "          plt.show()\n",
        "\n",
        "        loss = functional.nll_loss(output, target)\n",
        "        model.zero_grad()\n",
        "        loss.backward()\n",
        "        data_grad = data.grad.data  # collect the gradient of the input data\n",
        "        perturbed_data = fgsm_attack(data, epsilon, data_grad)\n",
        "\n",
        "        if (print_reconstruction and verbose):\n",
        "            print(\"\\nHere's a perturbed sample:\\n\")\n",
        "            plt.imshow(perturbed_data.detach().numpy().reshape(28,28))\n",
        "            plt.show()\n",
        "\n",
        "\n",
        "        # If requested, reconstruct the input iterating forward-backward dynamics\n",
        "        if num_steps > 0:\n",
        "            for __ in range(0, num_steps):\n",
        "                perturbed_data, __ = model.dbn_model.reconstruct(perturbed_data)\n",
        "            if (print_reconstruction and verbose):\n",
        "                print(f\"\\nHere's what a {num_steps}-steps reconstructed sample looks like:\\n\")\n",
        "                plt.imshow(perturbed_data.detach().numpy().reshape(28,28))\n",
        "                plt.show()\n",
        "                print_reconstruction = False\n",
        "\n",
        "        # Re-classify the perturbed image\n",
        "        output = model(perturbed_data)\n",
        "\n",
        "        # Check for success\n",
        "        # get the index of the max element in the output\n",
        "        final_pred = output.max(1, keepdim=True)[1]\n",
        "        if final_pred.item() == target.item():\n",
        "            correct += 1\n",
        "\n",
        "    # Calculate final accuracy for this epsilon\n",
        "    final_acc = correct/float(len(test_loader))\n",
        "    if verbose:\n",
        "      print(\"\\nEpsilon: {}\\tTest Accuracy = {} / {} = {}\\n\".format(epsilon,\n",
        "            correct, len(test_loader), final_acc))\n",
        "\n",
        "    return final_acc"
      ]
    },
    {
      "cell_type": "code",
      "source": [
        "def test_epsilon_values_effect(model, n_steps, epsilons):\n",
        "  accuracies = list()\n",
        "\n",
        "  for eps in epsilons:\n",
        "      acc = test_robustness_to_attack(\n",
        "          model, \n",
        "          device, \n",
        "          test_loader, \n",
        "          eps, \n",
        "          num_steps = n_steps, \n",
        "          verbose=False\n",
        "      )\n",
        "      accuracies.append(acc)\n",
        "  return accuracies"
      ],
      "metadata": {
        "id": "nH79K_REHw8A"
      },
      "execution_count": 23,
      "outputs": []
    },
    {
      "cell_type": "markdown",
      "metadata": {
        "id": "1pBv1xQbQsQF"
      },
      "source": [
        "## **Data preparation**"
      ]
    },
    {
      "cell_type": "markdown",
      "metadata": {
        "id": "_pkrb1di-y32"
      },
      "source": [
        "### Download"
      ]
    },
    {
      "cell_type": "markdown",
      "metadata": {
        "id": "JM-8gd_RXxTL"
      },
      "source": [
        "\n",
        "- For neural networks, we need to scale data before learning\n",
        "- Need to obtain tensor shape\n",
        "- Fix seeds for reproducibility"
      ]
    },
    {
      "cell_type": "code",
      "execution_count": 24,
      "metadata": {
        "id": "LDllo9DBC5lQ"
      },
      "outputs": [],
      "source": [
        "%%capture \n",
        "def get_emnist_data():\n",
        "    fix_seeds()\n",
        "\n",
        "    transformer = tv.transforms.Compose(\n",
        "        [\n",
        "            #tv.transforms.CenterCrop(CROP_SIZE_),\n",
        "            tv.transforms.ToTensor(),\n",
        "            \n",
        "            # Transform to {-1, 1} binary image\n",
        "            tv.transforms.Normalize(\n",
        "                mean=(PreprocParams.mean,), \n",
        "                std=(PreprocParams.std)\n",
        "            ),\n",
        "\n",
        "            # Rotate\n",
        "            # tv.transforms.RandomRotation(degrees = 90) \n",
        "        ]\n",
        "    )\n",
        "\n",
        "    data = tv.datasets.EMNIST(\n",
        "        root = 'data/',\n",
        "        train = True,\n",
        "        download = True,\n",
        "        transform = transformer,\n",
        "        split = 'digits',\n",
        "        # shuffle = False\n",
        "    )\n",
        "\n",
        "    data.data = (data.data.type(torch.FloatTensor) / 255)\n",
        "    return data.data, data.targets\n",
        "\n",
        "def get_mnist_data():\n",
        "    train = tv.datasets.MNIST(\n",
        "        'data/', \n",
        "        train = True, \n",
        "        download = True,\n",
        "        transform=tv.transforms.Compose(\n",
        "            [tv.transforms.ToTensor()]\n",
        "        )\n",
        "    )\n",
        "\n",
        "    test = tv.datasets.MNIST(\n",
        "        'data/', \n",
        "        train = False, \n",
        "        download = True,\n",
        "        transform=tv.transforms.Compose(\n",
        "            [tv.transforms.ToTensor()]\n",
        "        )\n",
        "    )\n",
        "\n",
        "    targets = torch.cat((train.targets, test.targets))\n",
        "    data = torch.cat((train.data, test.data))\n",
        "    data = (data.type(torch.FloatTensor) / 255)\n",
        "    return data, targets\n",
        "\n",
        "def get_data(strategy):\n",
        "    if strategy == 'EMNIST':\n",
        "        return get_emnist_data()\n",
        "    elif strategy == 'MNIST':\n",
        "        return get_mnist_data()"
      ]
    },
    {
      "cell_type": "code",
      "source": [
        "data, targets = get_data(PreprocParams.strategy)\n",
        "print(f'Data size: {data.shape} {targets.shape}')"
      ],
      "metadata": {
        "id": "WLUusBmJWc-O",
        "outputId": "192f950a-bc99-4f29-8644-a649e31c90c4",
        "colab": {
          "base_uri": "https://localhost:8080/"
        }
      },
      "execution_count": 35,
      "outputs": [
        {
          "output_type": "stream",
          "name": "stdout",
          "text": [
            "Data size: torch.Size([70000, 28, 28]) torch.Size([70000])\n"
          ]
        }
      ]
    },
    {
      "cell_type": "code",
      "source": [
        "data[0][5:8]"
      ],
      "metadata": {
        "id": "N4P9Id0FmEoG",
        "outputId": "3ea297ce-5fc0-4921-c5f1-3e1dcb5d6bae",
        "colab": {
          "base_uri": "https://localhost:8080/"
        }
      },
      "execution_count": 37,
      "outputs": [
        {
          "output_type": "execute_result",
          "data": {
            "text/plain": [
              "tensor([[0.0000, 0.0000, 0.0000, 0.0000, 0.0000, 0.0000, 0.0000, 0.0000, 0.0000,\n",
              "         0.0000, 0.0000, 0.0000, 0.0118, 0.0706, 0.0706, 0.0706, 0.4941, 0.5333,\n",
              "         0.6863, 0.1020, 0.6510, 1.0000, 0.9686, 0.4980, 0.0000, 0.0000, 0.0000,\n",
              "         0.0000],\n",
              "        [0.0000, 0.0000, 0.0000, 0.0000, 0.0000, 0.0000, 0.0000, 0.0000, 0.1176,\n",
              "         0.1412, 0.3686, 0.6039, 0.6667, 0.9922, 0.9922, 0.9922, 0.9922, 0.9922,\n",
              "         0.8824, 0.6745, 0.9922, 0.9490, 0.7647, 0.2510, 0.0000, 0.0000, 0.0000,\n",
              "         0.0000],\n",
              "        [0.0000, 0.0000, 0.0000, 0.0000, 0.0000, 0.0000, 0.0000, 0.1922, 0.9333,\n",
              "         0.9922, 0.9922, 0.9922, 0.9922, 0.9922, 0.9922, 0.9922, 0.9922, 0.9843,\n",
              "         0.3647, 0.3216, 0.3216, 0.2196, 0.1529, 0.0000, 0.0000, 0.0000, 0.0000,\n",
              "         0.0000]])"
            ]
          },
          "metadata": {},
          "execution_count": 37
        }
      ]
    },
    {
      "cell_type": "code",
      "source": [
        "targets[:5]"
      ],
      "metadata": {
        "id": "BCoDYknfnc8U",
        "outputId": "719a9553-b299-4c71-964c-34293b6b7d1a",
        "colab": {
          "base_uri": "https://localhost:8080/"
        }
      },
      "execution_count": 38,
      "outputs": [
        {
          "output_type": "execute_result",
          "data": {
            "text/plain": [
              "tensor([5, 0, 4, 1, 9])"
            ]
          },
          "metadata": {},
          "execution_count": 38
        }
      ]
    },
    {
      "cell_type": "markdown",
      "metadata": {
        "id": "40eopv3e-y33"
      },
      "source": [
        "### Train / Test split"
      ]
    },
    {
      "cell_type": "code",
      "execution_count": 39,
      "metadata": {
        "colab": {
          "base_uri": "https://localhost:8080/"
        },
        "id": "YAnHeaSqIjN1",
        "outputId": "481a066f-24d6-41ac-b8e5-45ee77dcb78b"
      },
      "outputs": [
        {
          "output_type": "stream",
          "name": "stdout",
          "text": [
            "\n",
            "        Train size: (torch.Size([60000, 28, 28]), torch.Size([60000]))\n",
            "        Test size: (torch.Size([10000, 28, 28]), torch.Size([10000]))\n",
            "\n"
          ]
        }
      ],
      "source": [
        "data_train = data[: TrainParameters.train_size, :]\n",
        "targets_train = targets[: TrainParameters.train_size]\n",
        "\n",
        "data_test = data[\n",
        "  TrainParameters.train_size : TrainParameters.train_size + TrainParameters.test_size, :\n",
        "]\n",
        "targets_test = targets[\n",
        "  TrainParameters.train_size : TrainParameters.train_size + TrainParameters.test_size\n",
        "]\n",
        "\n",
        "print(f\"\"\"\n",
        "        Train size: {data_train.shape, targets_train.shape}\n",
        "        Test size: {data_test.shape, targets_test.shape}\n",
        "\"\"\")"
      ]
    },
    {
      "cell_type": "code",
      "source": [
        "data_train[0][5:8]"
      ],
      "metadata": {
        "id": "9ZBeLquOnqGD",
        "outputId": "c3fa2eba-4152-445a-e06d-550ecd8595d3",
        "colab": {
          "base_uri": "https://localhost:8080/"
        }
      },
      "execution_count": 42,
      "outputs": [
        {
          "output_type": "execute_result",
          "data": {
            "text/plain": [
              "tensor([[0.0000, 0.0000, 0.0000, 0.0000, 0.0000, 0.0000, 0.0000, 0.0000, 0.0000,\n",
              "         0.0000, 0.0000, 0.0000, 0.0118, 0.0706, 0.0706, 0.0706, 0.4941, 0.5333,\n",
              "         0.6863, 0.1020, 0.6510, 1.0000, 0.9686, 0.4980, 0.0000, 0.0000, 0.0000,\n",
              "         0.0000],\n",
              "        [0.0000, 0.0000, 0.0000, 0.0000, 0.0000, 0.0000, 0.0000, 0.0000, 0.1176,\n",
              "         0.1412, 0.3686, 0.6039, 0.6667, 0.9922, 0.9922, 0.9922, 0.9922, 0.9922,\n",
              "         0.8824, 0.6745, 0.9922, 0.9490, 0.7647, 0.2510, 0.0000, 0.0000, 0.0000,\n",
              "         0.0000],\n",
              "        [0.0000, 0.0000, 0.0000, 0.0000, 0.0000, 0.0000, 0.0000, 0.1922, 0.9333,\n",
              "         0.9922, 0.9922, 0.9922, 0.9922, 0.9922, 0.9922, 0.9922, 0.9922, 0.9843,\n",
              "         0.3647, 0.3216, 0.3216, 0.2196, 0.1529, 0.0000, 0.0000, 0.0000, 0.0000,\n",
              "         0.0000]])"
            ]
          },
          "metadata": {},
          "execution_count": 42
        }
      ]
    },
    {
      "cell_type": "markdown",
      "metadata": {
        "id": "3xQc4CTi-y34"
      },
      "source": [
        "### Exploration & visualization"
      ]
    },
    {
      "cell_type": "code",
      "execution_count": 27,
      "metadata": {
        "colab": {
          "base_uri": "https://localhost:8080/",
          "height": 593
        },
        "id": "L0lp_jrHnpsu",
        "outputId": "19cd260b-3223-4999-db46-105d8d6937b6"
      },
      "outputs": [
        {
          "output_type": "display_data",
          "data": {
            "image/png": "[encoded data removed]",
            "text/plain": [
              "<Figure size 720x720 with 16 Axes>"
            ]
          },
          "metadata": {
            "needs_background": "light"
          }
        }
      ],
      "source": [
        "visualize_symbols(\n",
        "    data_train, \n",
        "    n_subplots = 16, \n",
        "    image_shape = (PreprocParams.crop_size, PreprocParams.crop_size)\n",
        ")"
      ]
    },
    {
      "cell_type": "code",
      "execution_count": 28,
      "metadata": {
        "colab": {
          "base_uri": "https://localhost:8080/",
          "height": 484
        },
        "id": "878FvFjq-y35",
        "outputId": "498809b8-91a2-47f4-fb4b-927834fa2be5"
      },
      "outputs": [
        {
          "output_type": "display_data",
          "data": {
            "image/png": "[encoded data removed]",
            "text/plain": [
              "<Figure size 576x576 with 9 Axes>"
            ]
          },
          "metadata": {
            "needs_background": "light"
          }
        }
      ],
      "source": [
        "# Visualize first few symbols\n",
        "visualize_labels(\n",
        "    labels = [\n",
        "        0, 1, 2,\n",
        "        3, 4, 5,\n",
        "        6, 7, 8\n",
        "    ],\n",
        "    data = data_train,\n",
        "    targets = targets_train,\n",
        "    figsize = (8, 8)\n",
        ")"
      ]
    },
    {
      "cell_type": "markdown",
      "metadata": {
        "id": "FJkVHu_9Go00"
      },
      "source": [
        "### Class distribution"
      ]
    },
    {
      "cell_type": "code",
      "execution_count": 29,
      "metadata": {
        "colab": {
          "base_uri": "https://localhost:8080/",
          "height": 277
        },
        "id": "c45YmnU0Gtth",
        "outputId": "ff00f034-7936-4a1e-c862-8518676a7771"
      },
      "outputs": [
        {
          "output_type": "display_data",
          "data": {
            "image/png": "[encoded data removed]",
            "text/plain": [
              "<Figure size 1080x360 with 2 Axes>"
            ]
          },
          "metadata": {
            "needs_background": "light"
          }
        }
      ],
      "source": [
        "fig, axes = plt.subplots(1, 2, figsize = (15, 5))\n",
        "sns.countplot(\n",
        "    x = targets_train.numpy(), ax = axes[0]\n",
        "\n",
        ")\n",
        "_ = axes[0].set_title('Train class distribution')\n",
        "\n",
        "sns.countplot(\n",
        "    x = targets_test.numpy(), \n",
        "    ax = axes[1]\n",
        ")\n",
        "_ = axes[1].set_title('Test class distribution')"
      ]
    },
    {
      "cell_type": "markdown",
      "metadata": {
        "id": "QUZuFzkvT4XZ"
      },
      "source": [
        "- 1st conclusion:  \n",
        "    - 1 Dataset\n",
        "    - 10 distinct symbols (for 'digits' split)\n",
        "    - Approximately uniform class distribution\n",
        "    - ~ 10% images per class\n",
        "    - Digits are centered in the image and do not occupy the whole square (-> apply center crop)"
      ]
    },
    {
      "cell_type": "markdown",
      "metadata": {
        "id": "0BI9KuHepnKb"
      },
      "source": [
        "## **Deep Belief Network model & fit**"
      ]
    },
    {
      "cell_type": "markdown",
      "metadata": {
        "id": "XdfxqpZtwmgT"
      },
      "source": [
        "- Deep Belief Network - a stack of Restricted Bolzmann Machines\n",
        "    - RBM is a bipartite graph with input and hidden layer\n",
        "    - Hidden layer captures dependencies and features\n",
        "- Each layer learns more complex and abstract features\n",
        "- Used as feature extraction method (generative model)\n",
        "- No output neurons\n",
        "- Two phases (negative & positive) during learning (reconstruction)\n",
        "\n",
        "\n"
      ]
    },
    {
      "cell_type": "markdown",
      "metadata": {
        "id": "Nmapfxge-y36"
      },
      "source": [
        "### Prepare model"
      ]
    },
    {
      "cell_type": "markdown",
      "metadata": {
        "id": "iVeUPyr8-y37"
      },
      "source": [
        "Here, we prepare a deep (for internal representations) and a shallow (for adversarial attacks) models"
      ]
    },
    {
      "cell_type": "code",
      "execution_count": 45,
      "metadata": {
        "id": "KmW7JfF--y37"
      },
      "outputs": [],
      "source": [
        "fix_seeds()\n",
        "\n",
        "dbm_deep_params = DBMDeepParameters(\n",
        "    image_height = PreprocParams.crop_size,\n",
        "    image_width = PreprocParams.crop_size\n",
        ")\n",
        "\n",
        "model_deep = DBN(\n",
        "    visible_units = dbm_deep_params.image_width * dbm_deep_params.image_height,\n",
        "    hidden_units = dbm_deep_params.hidden_units,\n",
        "    k = dbm_deep_params.K,\n",
        "    learning_rate = dbm_deep_params.learning_rate,\n",
        "    learning_rate_decay = dbm_deep_params.lr_decay,\n",
        "    initial_momentum = dbm_deep_params.init_momentum,\n",
        "    weight_decay = dbm_deep_params.w_decay,\n",
        "    xavier_init = dbm_deep_params.xavier_init,\n",
        "    increase_to_cd_k = dbm_deep_params.increase_to_cd_k,\n",
        "    use_gpu = dbm_deep_params.use_gpu\n",
        ")\n"
      ]
    },
    {
      "cell_type": "code",
      "execution_count": 46,
      "metadata": {
        "id": "qi3dYDbv-y37"
      },
      "outputs": [],
      "source": [
        "fix_seeds()\n",
        "\n",
        "dbm_shallow_params = DBMShallowParameters(\n",
        "    image_height = PreprocParams.crop_size,\n",
        "    image_width = PreprocParams.crop_size\n",
        ")\n",
        "\n",
        "model_shallow = DBN(\n",
        "    visible_units = dbm_shallow_params.image_width * dbm_shallow_params.image_height,\n",
        "    hidden_units = dbm_shallow_params.hidden_units,\n",
        "    k = dbm_shallow_params.K,\n",
        "    learning_rate = dbm_shallow_params.learning_rate,\n",
        "    learning_rate_decay = dbm_shallow_params.lr_decay,\n",
        "    initial_momentum = dbm_shallow_params.init_momentum,\n",
        "    weight_decay = dbm_shallow_params.w_decay,\n",
        "    xavier_init = dbm_shallow_params.xavier_init,\n",
        "    increase_to_cd_k = dbm_shallow_params.increase_to_cd_k,\n",
        "    use_gpu = dbm_shallow_params.use_gpu\n",
        ")"
      ]
    },
    {
      "cell_type": "markdown",
      "metadata": {
        "id": "DyE9igCA-y37"
      },
      "source": [
        "### Fit"
      ]
    },
    {
      "cell_type": "code",
      "source": [
        "TrainParameters.epochs, TrainParameters.batch_size"
      ],
      "metadata": {
        "id": "16XurfgAoRwD",
        "outputId": "93c692ae-35aa-48c8-fd50-c6fe26219da6",
        "colab": {
          "base_uri": "https://localhost:8080/"
        }
      },
      "execution_count": 49,
      "outputs": [
        {
          "output_type": "execute_result",
          "data": {
            "text/plain": [
              "(40, 125)"
            ]
          },
          "metadata": {},
          "execution_count": 49
        }
      ]
    },
    {
      "cell_type": "code",
      "execution_count": 50,
      "metadata": {
        "id": "z_R-EjDCKTB2",
        "colab": {
          "base_uri": "https://localhost:8080/"
        },
        "outputId": "1e5a09a4-785d-4671-c7ea-af16af8681d5"
      },
      "outputs": [
        {
          "output_type": "stream",
          "name": "stdout",
          "text": [
            "--------------------\n",
            "Training RBM layer 1\n",
            "|Epoch |avg_rec_err |std_rec_err  |mean_grad |std_grad  |\n",
            "|10    |1.2227   |0.0619   |320.5223 |13.3621   |\n",
            "|20    |1.1658   |0.0578   |306.2724 |12.0039   |\n",
            "|30    |1.1446   |0.0582   |296.7231 |11.9530   |\n",
            "|40    |1.1374   |0.0570   |293.4545 |11.8168   |\n"
          ]
        }
      ],
      "source": [
        "# %%capture\n",
        "\n",
        "fix_seeds()\n",
        "\n",
        "model_deep.train_static(\n",
        "    data_train,\n",
        "    targets_train,\n",
        "    TrainParameters.epochs,\n",
        "    TrainParameters.batch_size\n",
        ")\n",
        "\n",
        "move_parameters_to_cpu(model_deep)"
      ]
    },
    {
      "cell_type": "code",
      "execution_count": 51,
      "metadata": {
        "colab": {
          "base_uri": "https://localhost:8080/"
        },
        "id": "7Xq81Ys--y38",
        "outputId": "04307d61-55b3-4e14-9f57-8d8230cca6c4"
      },
      "outputs": [
        {
          "output_type": "stream",
          "name": "stdout",
          "text": [
            "--------------------\n",
            "Training RBM layer 1\n",
            "|Epoch |avg_rec_err |std_rec_err  |mean_grad |std_grad  |\n",
            "|10    |1.2227   |0.0619   |320.5223 |13.3621   |\n",
            "|20    |1.1658   |0.0578   |306.2724 |12.0039   |\n",
            "|30    |1.1446   |0.0582   |296.7231 |11.9530   |\n",
            "|40    |1.1374   |0.0570   |293.4545 |11.8168   |\n"
          ]
        }
      ],
      "source": [
        "# %%capture\n",
        "\n",
        "fix_seeds()\n",
        "\n",
        "model_shallow.train_static(\n",
        "    data_train,\n",
        "    targets_train,\n",
        "    TrainParameters.epochs,\n",
        "    TrainParameters.batch_size\n",
        ")\n",
        "\n",
        "move_parameters_to_cpu(model_shallow)"
      ]
    },
    {
      "cell_type": "markdown",
      "metadata": {
        "id": "kMrYlG41pRWc"
      },
      "source": [
        "## **Linear read-outs. Receptive fields visualization**"
      ]
    },
    {
      "cell_type": "markdown",
      "metadata": {
        "id": "ogTklRTtnZFw"
      },
      "source": [
        "Lets understand the structure of network & layers\n",
        "- Input layer size - (IMG_SIZE_ * IMG_SIZE_)\n",
        "- 0-level of RBM network with N units -> has connection matrix W. \n",
        "Size of W = N_units * (IMG_SIZE_ * IMG_SIZE_)\n",
        "- We can consider W matrix of 0-level as N \"images\" of size (IMG_SIZE_ * IMG_SIZE_)\n",
        "- Hence, we can visualize connection strengths, starting from 0 hidden level\n",
        "\n",
        "Another considerations:\n",
        "- For example, in the architecture with units = [500, 500, 2000], the second hidden layer consists of 500 units, each associated with 500 units of the 1st hidden layer (500 x 500 matrix)\n",
        "- We need to visualize (IMG_SIZE_ * IMG_SIZE_) images of 2nd hidden layer receptive fields\n",
        "- The dimension of 1st hidden layer is n_units * (IMG_SIZE * IMG_SIZE).\n",
        "- **Therefore**, we need to perform matrix multiplication, to turn (500 x 500) layer to (500 x (IMG_SIZE x IMG_SIZE)) layer"
      ]
    },
    {
      "cell_type": "markdown",
      "source": [
        "### Get hidden representations"
      ],
      "metadata": {
        "id": "kuaQXmPEsBkx"
      }
    },
    {
      "cell_type": "code",
      "source": [
        "# Accurate\n",
        "hidden_representations = get_layer_representations(\n",
        "    input_data = data_train,\n",
        "    model = model_deep,\n",
        "    n_layers = model_deep.n_layers\n",
        ")"
      ],
      "metadata": {
        "id": "ETtKsfUWtNQu"
      },
      "execution_count": 60,
      "outputs": []
    },
    {
      "cell_type": "code",
      "source": [
        "for i in range(len(model_deep.rbm_layers)):\n",
        "    print(\n",
        "        f\"\"\"Dimension of connection matrix at {i} level: {model_deep.rbm_layers[i].W.size()}\n",
        "        \"\"\"\n",
        "    )\n",
        "print(f'Total: {model_deep.n_layers} hidden layers')"
      ],
      "metadata": {
        "colab": {
          "base_uri": "https://localhost:8080/"
        },
        "id": "VqCg5VX1_khr",
        "outputId": "59c33e9b-caaf-41b9-b00d-c904b3eebdd5"
      },
      "execution_count": 55,
      "outputs": [
        {
          "output_type": "stream",
          "name": "stdout",
          "text": [
            "Dimension of connection matrix at 0 level: torch.Size([784, 500])\n",
            "        \n",
            "Total: 1 hidden layers\n"
          ]
        }
      ]
    },
    {
      "cell_type": "markdown",
      "metadata": {
        "id": "Ii8ISj1MiT0C"
      },
      "source": [
        "### Preprocessing (filtering) learned weights matrices"
      ]
    },
    {
      "cell_type": "code",
      "execution_count": 62,
      "metadata": {
        "id": "fvpfL8MTz6eT"
      },
      "outputs": [],
      "source": [
        "# Converting and processing W matrices of hidden layers\n",
        "\n",
        "learned_weights = [\n",
        "    # We transpose for convenience (matrices[i, :] is more intuitive than matrices[:, i])\n",
        "    model_deep.rbm_layers[i].W.numpy() for i in range(model_deep.n_layers)\n",
        "]\n",
        "\n",
        "learned_weights_thresh = [\n",
        "    apply_threshold(weights_matrix, PreprocParams.visualization_threshold)\n",
        "    for weights_matrix in learned_weights\n",
        "]"
      ]
    },
    {
      "cell_type": "markdown",
      "metadata": {
        "id": "BAeeE6sCig1n"
      },
      "source": [
        "### Hidden layer receptive fields"
      ]
    },
    {
      "cell_type": "code",
      "source": [
        "def _plot_layer_receptive_fields(weights):\n",
        "  num_subplots = 100\n",
        "  n_rows_cols = int(math.sqrt(num_subplots))\n",
        "  fig, axes = plt.subplots(n_rows_cols, n_rows_cols, sharex=True, sharey=True, figsize=(10, 10))\n",
        "  for i in range(num_subplots):\n",
        "    row = i % n_rows_cols\n",
        "    col = i // n_rows_cols\n",
        "    axes[row, col].imshow(weights[:,i].reshape((28,28)), cmap=plt.cm.gray)"
      ],
      "metadata": {
        "id": "E4KY46rEwtrG"
      },
      "execution_count": 70,
      "outputs": []
    },
    {
      "cell_type": "code",
      "source": [
        "learned_weights_layer_1 = model_deep.rbm_layers[0].W.transpose(0,1).numpy()\n",
        "learned_weights_layer_1.shape"
      ],
      "metadata": {
        "id": "SyAmp5nQxBNY",
        "outputId": "e322dac9-3b0c-4b94-bfb5-7c3b0348e8c4",
        "colab": {
          "base_uri": "https://localhost:8080/"
        }
      },
      "execution_count": 69,
      "outputs": [
        {
          "output_type": "execute_result",
          "data": {
            "text/plain": [
              "(500, 784)"
            ]
          },
          "metadata": {},
          "execution_count": 69
        }
      ]
    },
    {
      "cell_type": "code",
      "source": [
        "_plot_layer_receptive_fields(\n",
        "    learned_weights_thresh[0]\n",
        ")"
      ],
      "metadata": {
        "id": "1KCDraCrwc7z",
        "outputId": "e4198a0c-8088-4190-94c6-80abb35770d2",
        "colab": {
          "base_uri": "https://localhost:8080/",
          "height": 595
        }
      },
      "execution_count": 71,
      "outputs": [
        {
          "output_type": "display_data",
          "data": {
            "image/png": "[encoded data removed]",
            "text/plain": [
              "<Figure size 720x720 with 100 Axes>"
            ]
          },
          "metadata": {
            "needs_background": "light"
          }
        }
      ]
    },
    {
      "cell_type": "code",
      "execution_count": 63,
      "metadata": {
        "colab": {
          "base_uri": "https://localhost:8080/",
          "height": 842
        },
        "id": "DZ8E6SGM-y39",
        "outputId": "44154ddf-1bfd-42f6-80c3-8427e6d12329"
      },
      "outputs": [
        {
          "output_type": "error",
          "ename": "ValueError",
          "evalue": "ignored",
          "traceback": [
            "\u001b[0;31m---------------------------------------------------------------------------\u001b[0m",
            "\u001b[0;31mValueError\u001b[0m                                Traceback (most recent call last)",
            "\u001b[0;32m<ipython-input-63-083857f6b2f1>\u001b[0m in \u001b[0;36m<module>\u001b[0;34m()\u001b[0m\n\u001b[1;32m     17\u001b[0m         \u001b[0mimg_height\u001b[0m \u001b[0;34m=\u001b[0m \u001b[0mPreprocParams\u001b[0m\u001b[0;34m.\u001b[0m\u001b[0mcrop_size\u001b[0m\u001b[0;34m,\u001b[0m\u001b[0;34m\u001b[0m\u001b[0;34m\u001b[0m\u001b[0m\n\u001b[1;32m     18\u001b[0m         \u001b[0msuptitle\u001b[0m \u001b[0;34m=\u001b[0m \u001b[0mtitle\u001b[0m\u001b[0;34m,\u001b[0m\u001b[0;34m\u001b[0m\u001b[0;34m\u001b[0m\u001b[0m\n\u001b[0;32m---> 19\u001b[0;31m         \u001b[0mfig_size\u001b[0m \u001b[0;34m=\u001b[0m \u001b[0;34m(\u001b[0m\u001b[0;36m8\u001b[0m\u001b[0;34m,\u001b[0m \u001b[0;36m8\u001b[0m\u001b[0;34m)\u001b[0m\u001b[0;34m\u001b[0m\u001b[0;34m\u001b[0m\u001b[0m\n\u001b[0m\u001b[1;32m     20\u001b[0m     )\n\u001b[1;32m     21\u001b[0m \u001b[0;34m\u001b[0m\u001b[0m\n",
            "\u001b[0;32m<ipython-input-10-0d64627b30c0>\u001b[0m in \u001b[0;36mplot_layer_receptive_fields\u001b[0;34m(weights_matrices, num_subplots, img_width, img_height, fig_size, suptitle)\u001b[0m\n\u001b[1;32m     20\u001b[0m         \u001b[0;31m# Matrix of connection strength (W) of i-th unit of the layer.\u001b[0m\u001b[0;34m\u001b[0m\u001b[0;34m\u001b[0m\u001b[0;34m\u001b[0m\u001b[0m\n\u001b[1;32m     21\u001b[0m         \u001b[0;31m# Reshape from 'linear' to 'image' representation\u001b[0m\u001b[0;34m\u001b[0m\u001b[0;34m\u001b[0m\u001b[0;34m\u001b[0m\u001b[0m\n\u001b[0;32m---> 22\u001b[0;31m         \u001b[0mW_matrix\u001b[0m \u001b[0;34m=\u001b[0m \u001b[0mweights_matrices\u001b[0m\u001b[0;34m[\u001b[0m\u001b[0mi\u001b[0m\u001b[0;34m,\u001b[0m \u001b[0;34m:\u001b[0m\u001b[0;34m]\u001b[0m\u001b[0;34m.\u001b[0m\u001b[0mreshape\u001b[0m\u001b[0;34m(\u001b[0m\u001b[0;34m(\u001b[0m\u001b[0mimg_height\u001b[0m\u001b[0;34m,\u001b[0m \u001b[0mimg_width\u001b[0m\u001b[0;34m)\u001b[0m\u001b[0;34m)\u001b[0m\u001b[0;34m\u001b[0m\u001b[0;34m\u001b[0m\u001b[0m\n\u001b[0m\u001b[1;32m     23\u001b[0m         \u001b[0maxes\u001b[0m\u001b[0;34m[\u001b[0m\u001b[0mrow\u001b[0m\u001b[0;34m,\u001b[0m \u001b[0mcol\u001b[0m\u001b[0;34m]\u001b[0m\u001b[0;34m.\u001b[0m\u001b[0mimshow\u001b[0m\u001b[0;34m(\u001b[0m\u001b[0mW_matrix\u001b[0m\u001b[0;34m,\u001b[0m \u001b[0mcmap\u001b[0m \u001b[0;34m=\u001b[0m \u001b[0mplt\u001b[0m\u001b[0;34m.\u001b[0m\u001b[0mcm\u001b[0m\u001b[0;34m.\u001b[0m\u001b[0mgray\u001b[0m\u001b[0;34m)\u001b[0m\u001b[0;34m\u001b[0m\u001b[0;34m\u001b[0m\u001b[0m\n\u001b[1;32m     24\u001b[0m     \u001b[0mfig\u001b[0m\u001b[0;34m.\u001b[0m\u001b[0msuptitle\u001b[0m\u001b[0;34m(\u001b[0m\u001b[0msuptitle\u001b[0m\u001b[0;34m)\u001b[0m\u001b[0;34m\u001b[0m\u001b[0;34m\u001b[0m\u001b[0m\n",
            "\u001b[0;31mValueError\u001b[0m: cannot reshape array of size 500 into shape (28,28)"
          ]
        },
        {
          "output_type": "display_data",
          "data": {
            "image/png": "[encoded data removed]",
            "text/plain": [
              "<Figure size 576x576 with 36 Axes>"
            ]
          },
          "metadata": {
            "needs_background": "light"
          }
        }
      ],
      "source": [
        "for layer in range(dbm_deep_params.n_hidden_layers):\n",
        "    title = f'Receptive fields for layer № {layer}'\n",
        "    \n",
        "    if layer == 0:\n",
        "        # No projection\n",
        "        weights = learned_weights_thresh[layer]\n",
        "    else:\n",
        "        weights = project_hidden_layer(\n",
        "            learned_weights_thresh,\n",
        "            layer_numb = layer + 1  # Yes, problems with indexes\n",
        "        )\n",
        "    \n",
        "    plot_layer_receptive_fields(\n",
        "        weights,\n",
        "        num_subplots = 36,\n",
        "        img_width = PreprocParams.crop_size,\n",
        "        img_height = PreprocParams.crop_size,\n",
        "        suptitle = title,\n",
        "        fig_size = (8, 8)\n",
        "    )\n",
        "    "
      ]
    },
    {
      "cell_type": "markdown",
      "metadata": {
        "id": "X0IM9z4MpTyw"
      },
      "source": [
        "## **Clustering internal representations**"
      ]
    },
    {
      "cell_type": "markdown",
      "metadata": {
        "id": "nfSoPDGo-y3-"
      },
      "source": [
        "### Representation matrices"
      ]
    },
    {
      "cell_type": "code",
      "execution_count": null,
      "metadata": {
        "colab": {
          "base_uri": "https://localhost:8080/"
        },
        "id": "zsSYZ8j5-y3-",
        "outputId": "629a3a7b-d536-4166-c275-4f1f54458777"
      },
      "outputs": [
        {
          "output_type": "stream",
          "name": "stdout",
          "text": [
            "Total: 2 hidden representations\n"
          ]
        }
      ],
      "source": [
        "hidden_representations = get_layer_representations(\n",
        "    n_layers = dbm_deep_params.n_hidden_layers,\n",
        "    model = model_deep,\n",
        "    input_data = data_train\n",
        ")\n",
        "print(f'Total: {len(hidden_representations)} hidden representations')"
      ]
    },
    {
      "cell_type": "code",
      "execution_count": null,
      "metadata": {
        "id": "pgngi0r0-y3-"
      },
      "outputs": [],
      "source": [
        "# Label to mean representation\n",
        "labels_to_mean = [\n",
        "    label_to_mean_hidden_repr(\n",
        "        hidden_representation,\n",
        "        data_train,\n",
        "        targets_train\n",
        "    )\n",
        "    for hidden_representation in hidden_representations\n",
        "]"
      ]
    },
    {
      "cell_type": "code",
      "execution_count": null,
      "metadata": {
        "id": "SQZhutVp-y3-"
      },
      "outputs": [],
      "source": [
        "representation_matrices = [\n",
        "    get_hidden_representation_matrix(\n",
        "        label_to_mean,\n",
        "        targets_train\n",
        "    )\n",
        "    for label_to_mean in labels_to_mean\n",
        "]"
      ]
    },
    {
      "cell_type": "markdown",
      "metadata": {
        "id": "QSOyUbaa-y3_"
      },
      "source": [
        "### Plotting dendrograms"
      ]
    },
    {
      "cell_type": "code",
      "execution_count": null,
      "metadata": {
        "colab": {
          "base_uri": "https://localhost:8080/",
          "height": 551
        },
        "id": "vYyqy3IU-y3_",
        "outputId": "eec25144-abcb-4197-c948-843723515d19"
      },
      "outputs": [
        {
          "output_type": "display_data",
          "data": {
            "image/png": "[encoded data removed]",
            "text/plain": [
              "<Figure size 432x288 with 1 Axes>"
            ]
          },
          "metadata": {
            "needs_background": "light"
          }
        },
        {
          "output_type": "display_data",
          "data": {
            "image/png": "[encoded data removed]",
            "text/plain": [
              "<Figure size 432x288 with 1 Axes>"
            ]
          },
          "metadata": {
            "needs_background": "light"
          }
        }
      ],
      "source": [
        "for index, mean_repr_matrix in enumerate(representation_matrices):\n",
        "    plot_dendrogram(\n",
        "        mean_repr_matrix,\n",
        "        title = f'Dendrogram for hidden layer № {index + 1}'\n",
        "    )"
      ]
    },
    {
      "cell_type": "markdown",
      "metadata": {
        "id": "sPbO1wv6-y4A"
      },
      "source": [
        "## Train all layers read-outs"
      ]
    },
    {
      "cell_type": "markdown",
      "metadata": {
        "id": "qCaybyB6-y4A"
      },
      "source": [
        "Here, we attach perceptrons to all levels of deep belief network, in order to compare accuracy and train time metrics"
      ]
    },
    {
      "cell_type": "code",
      "execution_count": 64,
      "metadata": {
        "colab": {
          "base_uri": "https://localhost:8080/"
        },
        "id": "zfPKUFQ7-y4A",
        "outputId": "63b416e7-1cd6-49cd-cd75-bb00d3f4c686"
      },
      "outputs": [
        {
          "output_type": "stream",
          "name": "stdout",
          "text": [
            "epoch 0/1500, loss = 2.378102\n",
            "epoch 100/1500, loss = 0.661017\n",
            "epoch 200/1500, loss = 0.498805\n",
            "epoch 300/1500, loss = 0.433558\n",
            "epoch 400/1500, loss = 0.396299\n",
            "epoch 500/1500, loss = 0.371373\n",
            "epoch 600/1500, loss = 0.353114\n",
            "epoch 700/1500, loss = 0.338929\n",
            "epoch 800/1500, loss = 0.327449\n",
            "epoch 900/1500, loss = 0.317872\n",
            "epoch 1000/1500, loss = 0.309697\n",
            "epoch 1100/1500, loss = 0.302591\n",
            "epoch 1200/1500, loss = 0.296324\n",
            "epoch 1300/1500, loss = 0.290730\n",
            "epoch 1400/1500, loss = 0.285687\n",
            "\n",
            "\n"
          ]
        }
      ],
      "source": [
        "perceptrons = []\n",
        "\n",
        "for layer_n in range(dbm_deep_params.n_hidden_layers):\n",
        "    # Perceptron, attached to 'layer_n' hidden layer\n",
        "    perceptron = attach_perceptron(\n",
        "        model = model_deep,\n",
        "        layer_num = layer_n,\n",
        "        class_num = TrainParameters.class_num  # For 'digits' split EMNIST -> 10 classes\n",
        "    )\n",
        "\n",
        "    # As input - hidden representation\n",
        "    train(\n",
        "        perceptron, \n",
        "        hidden_representations[layer_n],\n",
        "        targets = targets_train,\n",
        "        epochs = PerceptronTrainParameters.epochs\n",
        "    )\n",
        "    print('\\n')\n",
        "\n",
        "    perceptrons.append(\n",
        "        perceptron\n",
        "    )\n",
        "\n",
        "test_representations = get_layer_representations(\n",
        "    n_layers = dbm_deep_params.n_hidden_layers,\n",
        "    model = model_deep,\n",
        "    input_data = data_test\n",
        ")"
      ]
    },
    {
      "cell_type": "code",
      "source": [
        "perceptron_first_hidden = perceptrons[0]"
      ],
      "metadata": {
        "id": "UVDV4Gc2FVNg"
      },
      "execution_count": 72,
      "outputs": []
    },
    {
      "cell_type": "markdown",
      "metadata": {
        "id": "7mBn0w5j-y4A"
      },
      "source": [
        "## Train FFNN"
      ]
    },
    {
      "cell_type": "markdown",
      "metadata": {
        "id": "H4p-0mbU-y4B"
      },
      "source": [
        "If we are going to compare performance of Feed Forward Neural Network with perceptron, we should reasonably choose number of neurons in the hidden layer.\n",
        "We choose N neurons, where N - is the number of hidden units in the first layer of Deep Belief Network"
      ]
    },
    {
      "cell_type": "code",
      "execution_count": 73,
      "metadata": {
        "colab": {
          "base_uri": "https://localhost:8080/"
        },
        "id": "rSM8lbPU-y4A",
        "outputId": "8e9d0070-b4f7-4b91-9d43-600c2d94dd2e"
      },
      "outputs": [
        {
          "output_type": "stream",
          "name": "stdout",
          "text": [
            "FFNN architecture: 500 neurons in the hidden layer\n"
          ]
        }
      ],
      "source": [
        "n_units = dbm_deep_params.hidden_units[0]\n",
        "\n",
        "ffnn = FeedForward(\n",
        "    first_hidden_layer_size = n_units,\n",
        "    class_num = TrainParameters.class_num,\n",
        "    input_size = PreprocParams.crop_size * PreprocParams.crop_size\n",
        ")\n",
        "print(f'FFNN architecture: {n_units} neurons in the hidden layer')"
      ]
    },
    {
      "cell_type": "code",
      "execution_count": 74,
      "metadata": {
        "colab": {
          "base_uri": "https://localhost:8080/"
        },
        "id": "n4DMxo_b-y4B",
        "outputId": "a7d0d8d0-86e2-46b1-aaa9-a1430085301a"
      },
      "outputs": [
        {
          "output_type": "stream",
          "name": "stdout",
          "text": [
            "epoch 0/120, loss = 2.284135\n",
            "epoch 10/120, loss = 2.165939\n",
            "epoch 20/120, loss = 2.034982\n",
            "epoch 30/120, loss = 1.881179\n",
            "epoch 40/120, loss = 1.708373\n",
            "epoch 50/120, loss = 1.529743\n",
            "epoch 60/120, loss = 1.360923\n",
            "epoch 70/120, loss = 1.212825\n",
            "epoch 80/120, loss = 1.089069\n",
            "epoch 90/120, loss = 0.988097\n",
            "epoch 100/120, loss = 0.906232\n",
            "epoch 110/120, loss = 0.839567\n"
          ]
        }
      ],
      "source": [
        "train(\n",
        "    ffnn,\n",
        "    data_train,\n",
        "    targets = targets_train,\n",
        "    epochs = FFNNTrainParameters.epochs\n",
        ")"
      ]
    },
    {
      "cell_type": "markdown",
      "metadata": {
        "id": "GouPLlnVkV5j"
      },
      "source": [
        "## Perceptron VS FFNN comparison"
      ]
    },
    {
      "cell_type": "code",
      "source": [
        "accuracies = {\n",
        "    # Resulting accuracies of ffnn and perceptrons\n",
        "}"
      ],
      "metadata": {
        "id": "wiuiDpE1F-hm"
      },
      "execution_count": 75,
      "outputs": []
    },
    {
      "cell_type": "markdown",
      "source": [
        "### Perceptrons"
      ],
      "metadata": {
        "id": "D_YxdVOKE4XF"
      }
    },
    {
      "cell_type": "code",
      "execution_count": 76,
      "metadata": {
        "colab": {
          "base_uri": "https://localhost:8080/"
        },
        "id": "SlLKd-yQ-y4B",
        "outputId": "242a908b-096f-4d46-c675-25d435879c09"
      },
      "outputs": [
        {
          "output_type": "stream",
          "name": "stdout",
          "text": [
            "Accuracy for perceptron, attached to hidden layer № 0, Accuracy: 0.9269999861717224\n"
          ]
        }
      ],
      "source": [
        "counter = 0\n",
        "for perceptron, test_representation in zip(perceptrons, test_representations):\n",
        "\n",
        "    predictions_test = perceptron(\n",
        "        test_representation\n",
        "    )\n",
        "    acc = compute_accuracy(\n",
        "        predictions_test,\n",
        "        targets_test\n",
        "    )\n",
        "    print(f'Accuracy for perceptron, attached to hidden layer № {counter}, Accuracy: {acc}')\n",
        "    counter += 1\n",
        "    accuracies[f'Perc. {counter} layer'] = acc"
      ]
    },
    {
      "cell_type": "markdown",
      "source": [
        "### FFNN"
      ],
      "metadata": {
        "id": "hz-jfifQE60-"
      }
    },
    {
      "cell_type": "code",
      "execution_count": 77,
      "metadata": {
        "colab": {
          "base_uri": "https://localhost:8080/"
        },
        "id": "AUzu85EXmGym",
        "outputId": "b49a3460-89fe-4a44-b128-062912418349"
      },
      "outputs": [
        {
          "output_type": "stream",
          "name": "stdout",
          "text": [
            "Feed forward neural network accuracy: 0.8446000218391418\n"
          ]
        }
      ],
      "source": [
        "preds_ffnn = ffnn(\n",
        "    data_test.reshape(\n",
        "        (data_test.shape[0], data_test.shape[1] * data_test.shape[2])\n",
        "    )\n",
        ")\n",
        "ffnn_acc = compute_accuracy(\n",
        "    preds_ffnn,\n",
        "    targets_test\n",
        ")\n",
        "accuracies['FFNN'] = ffnn_acc\n",
        "print(f'Feed forward neural network accuracy: {ffnn_acc}')"
      ]
    },
    {
      "cell_type": "markdown",
      "source": [
        "### Summary graph"
      ],
      "metadata": {
        "id": "K6gpgd9oGXFS"
      }
    },
    {
      "cell_type": "markdown",
      "source": [
        "Here are reported accuracies on test set of 10000 images, for neural network and perceptrons, attached to various hidden layers of deep belief network"
      ],
      "metadata": {
        "id": "AhGDUh6ZHdU6"
      }
    },
    {
      "cell_type": "code",
      "source": [
        "plt.bar(accuracies.keys(), accuracies.values())\n",
        "plt.title('Models accuracy')\n",
        "_ = plt.yticks(np.linspace(0, 1, 10))"
      ],
      "metadata": {
        "colab": {
          "base_uri": "https://localhost:8080/",
          "height": 281
        },
        "id": "MHI33svrGdOd",
        "outputId": "228a26c4-25ba-4847-82e3-0fe72323d427"
      },
      "execution_count": 78,
      "outputs": [
        {
          "output_type": "display_data",
          "data": {
            "image/png": "[encoded data removed]",
            "text/plain": [
              "<Figure size 432x288 with 1 Axes>"
            ]
          },
          "metadata": {
            "needs_background": "light"
          }
        }
      ]
    },
    {
      "cell_type": "markdown",
      "metadata": {
        "id": "tFXJm0Qrm7r2"
      },
      "source": [
        "## Robustness to noise"
      ]
    },
    {
      "cell_type": "code",
      "execution_count": 79,
      "metadata": {
        "id": "8iZCmvQLnes_"
      },
      "outputs": [],
      "source": [
        "data_test_with_noise = inject_noise(\n",
        "    data_test, \n",
        "    PreprocParams.noise_level\n",
        ")"
      ]
    },
    {
      "cell_type": "code",
      "execution_count": 80,
      "metadata": {
        "colab": {
          "base_uri": "https://localhost:8080/",
          "height": 593
        },
        "id": "0x9nmHo_-y4C",
        "outputId": "2a130749-1611-44f7-cf19-bc77223b6956"
      },
      "outputs": [
        {
          "output_type": "display_data",
          "data": {
            "image/png": "[encoded data removed]",
            "text/plain": [
              "<Figure size 720x720 with 16 Axes>"
            ]
          },
          "metadata": {
            "needs_background": "light"
          }
        }
      ],
      "source": [
        "visualize_symbols(\n",
        "    data_test_with_noise, \n",
        "    n_subplots = 16, \n",
        "    image_shape = (PreprocParams.crop_size, PreprocParams.crop_size)\n",
        ")"
      ]
    },
    {
      "cell_type": "code",
      "execution_count": 81,
      "metadata": {
        "colab": {
          "base_uri": "https://localhost:8080/",
          "height": 295
        },
        "id": "ul-FpI9HsxoV",
        "outputId": "7ec063ee-6b1f-42ef-f11f-0c872133bcfa"
      },
      "outputs": [
        {
          "output_type": "display_data",
          "data": {
            "image/png": "[encoded data removed]",
            "text/plain": [
              "<Figure size 432x288 with 1 Axes>"
            ]
          },
          "metadata": {
            "needs_background": "light"
          }
        }
      ],
      "source": [
        "levels = [0, 0.1, 0.2, 0.3, 0.4, 0.5]\n",
        "\n",
        "plot_noise_robustness_curves(\n",
        "    levels,\n",
        "    dbn_model = model_deep, #model_deep,\n",
        "    ffnn_model = ffnn,\n",
        "    perceptron_model = perceptrons[0], # perceptron_first_hidden,\n",
        "    data = data_test,\n",
        "    targets = targets_test\n",
        ")"
      ]
    },
    {
      "cell_type": "markdown",
      "metadata": {
        "id": "W612ES6tVugs"
      },
      "source": [
        "## Adversarial attacks"
      ]
    },
    {
      "cell_type": "code",
      "execution_count": 82,
      "metadata": {
        "id": "eWJ96ojTV_9S"
      },
      "outputs": [],
      "source": [
        "# Model & test loader preparation\n",
        "%%capture\n",
        "\n",
        "dbn_with_readout = DBNWithReadOut(\n",
        "    dbn_model = model_shallow,\n",
        "    perceptron = perceptron_first_hidden\n",
        ")\n",
        "\n",
        "transformer = tv.transforms.Compose(\n",
        "        [\n",
        "            #tv.transforms.CenterCrop(CROP_SIZE_),\n",
        "            tv.transforms.ToTensor(),\n",
        "            \n",
        "            # Transform to {-1, 1} binary image\n",
        "            tv.transforms.Normalize(\n",
        "                mean=(PreprocParams.mean,), \n",
        "                std=(PreprocParams.std)\n",
        "            ),\n",
        "\n",
        "            # Rotate\n",
        "            # tv.transforms.RandomRotation(degrees = 90) \n",
        "        ]\n",
        "    )\n",
        "\n",
        "test_loader = torch.utils.data.DataLoader(\n",
        "    dataset = tv.datasets.MNIST(\n",
        "        root = 'data/',\n",
        "        train = False,\n",
        "        download = True,\n",
        "        transform = transformer,\n",
        "        # split = 'digits',\n",
        "        # shuffle = False\n",
        "    ),\n",
        "    batch_size = 1,\n",
        "    shuffle = True\n",
        ")\n",
        "device = torch.device('cpu')"
      ]
    },
    {
      "cell_type": "markdown",
      "metadata": {
        "id": "8ftY2LPvZBv3"
      },
      "source": [
        "### Example of adversarial attack"
      ]
    },
    {
      "cell_type": "code",
      "execution_count": 83,
      "metadata": {
        "colab": {
          "base_uri": "https://localhost:8080/",
          "height": 276
        },
        "id": "Cm2i6byq-y4D",
        "outputId": "1674500f-7a3b-4894-9c62-53477d4e5db2"
      },
      "outputs": [
        {
          "output_type": "display_data",
          "data": {
            "image/png": "[encoded data removed]",
            "text/plain": [
              "<Figure size 432x288 with 2 Axes>"
            ]
          },
          "metadata": {
            "needs_background": "light"
          }
        }
      ],
      "source": [
        "idx = 150\n",
        "test_label = targets_test[idx]\n",
        "test_image = data_test[idx].reshape(\n",
        "    1, \n",
        "    PreprocParams.crop_size, \n",
        "    PreprocParams.crop_size\n",
        ")\n",
        "\n",
        "attack_demo(\n",
        "    image = test_image,\n",
        "    label = test_label,\n",
        "    attacked_model = ffnn\n",
        ")"
      ]
    },
    {
      "cell_type": "markdown",
      "metadata": {
        "id": "ess5Gp9t-y4D"
      },
      "source": [
        "### FFNN resistance to adversarial attacks"
      ]
    },
    {
      "cell_type": "code",
      "execution_count": 84,
      "metadata": {
        "colab": {
          "base_uri": "https://localhost:8080/"
        },
        "id": "SrPPpubB-y4D",
        "outputId": "66155e07-01c8-49ad-b9d3-5f3dd3c169c5"
      },
      "outputs": [
        {
          "output_type": "stream",
          "name": "stderr",
          "text": [
            "100%|██████████| 10000/10000 [00:18<00:00, 534.30it/s]"
          ]
        },
        {
          "output_type": "stream",
          "name": "stdout",
          "text": [
            "\n",
            "Epsilon: 0.1\tTest Accuracy = 8048 / 10000 = 0.8048\n",
            "\n"
          ]
        },
        {
          "output_type": "stream",
          "name": "stderr",
          "text": [
            "\n"
          ]
        }
      ],
      "source": [
        "final_acc = test_robustness_to_attack(\n",
        "    ffnn, \n",
        "    device,\n",
        "    test_loader,\n",
        "    epsilon = 0.1,\n",
        "    num_steps = 0\n",
        ")"
      ]
    },
    {
      "cell_type": "markdown",
      "metadata": {
        "id": "QZi67jPj-y4E"
      },
      "source": [
        "### DBN resistance to adversarial attacks"
      ]
    },
    {
      "cell_type": "markdown",
      "metadata": {
        "id": "BvtkNG35-y4E"
      },
      "source": [
        "#### 0 Reconstructon steps"
      ]
    },
    {
      "cell_type": "code",
      "execution_count": 85,
      "metadata": {
        "colab": {
          "base_uri": "https://localhost:8080/"
        },
        "id": "z0yyx89I-y4E",
        "outputId": "d323d4d6-1558-47b0-b40c-f2f088e2de4c"
      },
      "outputs": [
        {
          "output_type": "stream",
          "name": "stderr",
          "text": [
            "100%|██████████| 10000/10000 [00:14<00:00, 675.06it/s]"
          ]
        },
        {
          "output_type": "stream",
          "name": "stdout",
          "text": [
            "\n",
            "Epsilon: 0.2\tTest Accuracy = 8096 / 10000 = 0.8096\n",
            "\n"
          ]
        },
        {
          "output_type": "stream",
          "name": "stderr",
          "text": [
            "\n"
          ]
        }
      ],
      "source": [
        "final_acc = test_robustness_to_attack(\n",
        "    dbn_with_readout,\n",
        "    device,\n",
        "    test_loader,\n",
        "    epsilon = PreprocParams.noise_level, \n",
        "    num_steps = 0\n",
        ")"
      ]
    },
    {
      "cell_type": "markdown",
      "metadata": {
        "id": "S-4Vo8VW-y4E"
      },
      "source": [
        "#### 1 Reconstruction step"
      ]
    },
    {
      "cell_type": "code",
      "execution_count": 86,
      "metadata": {
        "colab": {
          "base_uri": "https://localhost:8080/",
          "height": 998
        },
        "id": "yR44s_ux-y4E",
        "outputId": "e4b4b714-5eb0-45b6-a3c6-f4912c64b7dc"
      },
      "outputs": [
        {
          "output_type": "stream",
          "name": "stderr",
          "text": [
            "\r  0%|          | 0/10000 [00:00<?, ?it/s]"
          ]
        },
        {
          "output_type": "stream",
          "name": "stdout",
          "text": [
            "\n",
            "Here's the original sample:\n",
            "\n"
          ]
        },
        {
          "output_type": "display_data",
          "data": {
            "image/png": "[encoded data removed]",
            "text/plain": [
              "<Figure size 432x288 with 1 Axes>"
            ]
          },
          "metadata": {
            "needs_background": "light"
          }
        },
        {
          "output_type": "stream",
          "name": "stdout",
          "text": [
            "\n",
            "Here's a perturbed sample:\n",
            "\n"
          ]
        },
        {
          "output_type": "display_data",
          "data": {
            "image/png": "[encoded data removed]",
            "text/plain": [
              "<Figure size 432x288 with 1 Axes>"
            ]
          },
          "metadata": {
            "needs_background": "light"
          }
        },
        {
          "output_type": "stream",
          "name": "stdout",
          "text": [
            "\n",
            "Here's what a 1-steps reconstructed sample looks like:\n",
            "\n"
          ]
        },
        {
          "output_type": "display_data",
          "data": {
            "image/png": "[encoded data removed]",
            "text/plain": [
              "<Figure size 432x288 with 1 Axes>"
            ]
          },
          "metadata": {
            "needs_background": "light"
          }
        },
        {
          "output_type": "stream",
          "name": "stderr",
          "text": [
            "100%|██████████| 10000/10000 [00:20<00:00, 495.63it/s]"
          ]
        },
        {
          "output_type": "stream",
          "name": "stdout",
          "text": [
            "\n",
            "Epsilon: 0.2\tTest Accuracy = 8043 / 10000 = 0.8043\n",
            "\n"
          ]
        },
        {
          "output_type": "stream",
          "name": "stderr",
          "text": [
            "\n"
          ]
        }
      ],
      "source": [
        "final_acc = test_robustness_to_attack(\n",
        "    dbn_with_readout, device,\n",
        "    test_loader,\n",
        "    epsilon = PreprocParams.noise_level,\n",
        "    num_steps = 1\n",
        ")"
      ]
    },
    {
      "cell_type": "markdown",
      "metadata": {
        "id": "jYdPcWCn-y4E"
      },
      "source": [
        "#### 2 Reconstruction steps"
      ]
    },
    {
      "cell_type": "code",
      "execution_count": 87,
      "metadata": {
        "colab": {
          "base_uri": "https://localhost:8080/",
          "height": 998
        },
        "id": "OVZ8-OET-y4F",
        "outputId": "bc807aa3-e31a-4c02-89fc-aa455d7b9186"
      },
      "outputs": [
        {
          "output_type": "stream",
          "name": "stderr",
          "text": [
            "\r  0%|          | 0/10000 [00:00<?, ?it/s]"
          ]
        },
        {
          "output_type": "stream",
          "name": "stdout",
          "text": [
            "\n",
            "Here's the original sample:\n",
            "\n"
          ]
        },
        {
          "output_type": "display_data",
          "data": {
            "image/png": "[encoded data removed]",
            "text/plain": [
              "<Figure size 432x288 with 1 Axes>"
            ]
          },
          "metadata": {
            "needs_background": "light"
          }
        },
        {
          "output_type": "stream",
          "name": "stdout",
          "text": [
            "\n",
            "Here's a perturbed sample:\n",
            "\n"
          ]
        },
        {
          "output_type": "display_data",
          "data": {
            "image/png": "[encoded data removed]",
            "text/plain": [
              "<Figure size 432x288 with 1 Axes>"
            ]
          },
          "metadata": {
            "needs_background": "light"
          }
        },
        {
          "output_type": "stream",
          "name": "stdout",
          "text": [
            "\n",
            "Here's what a 2-steps reconstructed sample looks like:\n",
            "\n"
          ]
        },
        {
          "output_type": "display_data",
          "data": {
            "image/png": "[encoded data removed]",
            "text/plain": [
              "<Figure size 432x288 with 1 Axes>"
            ]
          },
          "metadata": {
            "needs_background": "light"
          }
        },
        {
          "output_type": "stream",
          "name": "stderr",
          "text": [
            "100%|██████████| 10000/10000 [00:25<00:00, 398.35it/s]"
          ]
        },
        {
          "output_type": "stream",
          "name": "stdout",
          "text": [
            "\n",
            "Epsilon: 0.2\tTest Accuracy = 7978 / 10000 = 0.7978\n",
            "\n"
          ]
        },
        {
          "output_type": "stream",
          "name": "stderr",
          "text": [
            "\n"
          ]
        }
      ],
      "source": [
        "final_acc = test_robustness_to_attack(\n",
        "    dbn_with_readout, device,\n",
        "    test_loader, \n",
        "    epsilon = PreprocParams.noise_level,\n",
        "    num_steps = 2\n",
        ")"
      ]
    },
    {
      "cell_type": "markdown",
      "metadata": {
        "id": "SU-Pb-9j-y4F"
      },
      "source": [
        "### Effect of noise intensity ($\\epsilon$) on FFNN and DBN models"
      ]
    },
    {
      "cell_type": "code",
      "execution_count": 88,
      "metadata": {
        "id": "2iSPHPo2-y4F"
      },
      "outputs": [],
      "source": [
        "%%capture\n",
        "epsilon_values = [0, 0.1, 0.2, 0.25]  # [0, .05, .1, .15, .2, .25]\n",
        "reconstruction_steps = [0, 1, 2]\n",
        "\n",
        "accuracies_ffnn = test_epsilon_values_effect(ffnn, n_steps = 0, epsilons = epsilon_values)\n",
        "\n",
        "rbm_accuracies = [\n",
        "    test_epsilon_values_effect(dbn_with_readout, n_steps, epsilon_values) \n",
        "    for n_steps in reconstruction_steps\n",
        "]"
      ]
    },
    {
      "cell_type": "code",
      "execution_count": 89,
      "metadata": {
        "colab": {
          "base_uri": "https://localhost:8080/",
          "height": 404
        },
        "id": "WuJD6M9I-y4F",
        "outputId": "afaf117f-c901-4077-ff7c-ac3030435e70"
      },
      "outputs": [
        {
          "output_type": "display_data",
          "data": {
            "image/png": "[encoded data removed]",
            "text/plain": [
              "<Figure size 576x432 with 1 Axes>"
            ]
          },
          "metadata": {
            "needs_background": "light"
          }
        }
      ],
      "source": [
        "fig, ax = plt.subplots(1, 1, figsize=(8,6), sharey=True)\n",
        "\n",
        "_ = ax.plot(\n",
        "    epsilon_values, \n",
        "    accuracies_ffnn, \n",
        "    marker = 'o',\n",
        "    markerfacecolor = 'white', \n",
        "    markersize = 9\n",
        ")\n",
        "\n",
        "for acc in rbm_accuracies:\n",
        "    _ = ax.plot(\n",
        "        epsilon_values,\n",
        "        acc,\n",
        "        marker = 'o',\n",
        "        markerfacecolor = 'white', \n",
        "        markersize = 9\n",
        "    )\n",
        "\n",
        "_ = ax.set_xlabel(\"$\\epsilon$\")\n",
        "_ = ax.set_ylabel(\"Accuracy\")\n",
        "_ = ax.set_title(\"Robustness to adversarial attacks\")\n",
        "\n",
        "legends = ['FFNN', *reconstruction_steps]\n",
        "\n",
        "_ = ax.legend(legends)\n",
        "plt.grid()"
      ]
    },
    {
      "cell_type": "code",
      "source": [
        ""
      ],
      "metadata": {
        "id": "6D5jj5cszFiH"
      },
      "execution_count": null,
      "outputs": []
    }
  ],
  "metadata": {
    "accelerator": "GPU",
    "colab": {
      "collapsed_sections": [
        "BY78mv2oS20c",
        "1pBv1xQbQsQF"
      ],
      "name": "Omniglot learning.ipynb",
      "provenance": [],
      "include_colab_link": true
    },
    "kernelspec": {
      "display_name": "Python 3",
      "name": "python3"
    },
    "language_info": {
      "codemirror_mode": {
        "name": "ipython",
        "version": 3
      },
      "file_extension": ".py",
      "mimetype": "text/x-python",
      "name": "python",
      "nbconvert_exporter": "python",
      "pygments_lexer": "ipython3",
      "version": "3.9.7"
    }
  },
  "nbformat": 4,
  "nbformat_minor": 0
}
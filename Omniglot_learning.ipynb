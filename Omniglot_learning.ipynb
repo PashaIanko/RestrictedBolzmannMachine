{
  "nbformat": 4,
  "nbformat_minor": 0,
  "metadata": {
    "colab": {
      "name": "Omniglot learning.ipynb",
      "provenance": [],
      "collapsed_sections": [
        "BY78mv2oS20c",
        "1pBv1xQbQsQF"
      ],
      "mount_file_id": "1YDtjQmEs82mBvGmDYySa9BHcC3KU6I_C",
      "authorship_tag": "ABX9TyMpkP2m2M9GcPpx4im29x/f",
      "include_colab_link": true
    },
    "kernelspec": {
      "name": "python3",
      "display_name": "Python 3"
    },
    "language_info": {
      "name": "python"
    }
  },
  "cells": [
    {
      "cell_type": "markdown",
      "metadata": {
        "id": "view-in-github",
        "colab_type": "text"
      },
      "source": [
        "<a href=\"https://colab.research.google.com/github/PashaIanko/RestrictedBolzmannMachine/blob/main/Omniglot_learning.ipynb\" target=\"_parent\"><img src=\"https://colab.research.google.com/assets/colab-badge.svg\" alt=\"Open In Colab\"/></a>"
      ]
    },
    {
      "cell_type": "markdown",
      "metadata": {
        "id": "BY78mv2oS20c"
      },
      "source": [
        "## **Packages & Functions**"
      ]
    },
    {
      "cell_type": "code",
      "metadata": {
        "id": "FEByBGGhpsM5"
      },
      "source": [
        "%%capture\n",
        "\n",
        "url_dbn = 'https://raw.githubusercontent.com/PashaIanko/RestrictedBolzmannMachine/main/DBN.py'\n",
        "url_rbm = 'https://raw.githubusercontent.com/PashaIanko/RestrictedBolzmannMachine/main/RBM.py'\n",
        "\n",
        "utils = {\n",
        "    'DBN.py': url_dbn,\n",
        "    'RBM.py': url_rbm\n",
        "}\n",
        "\n",
        "for file, url in utils.items():\n",
        "    !wget -O {file} {url} {file}"
      ],
      "execution_count": 112,
      "outputs": []
    },
    {
      "cell_type": "code",
      "metadata": {
        "id": "xhCvs6HsS6Em"
      },
      "source": [
        "import torch\n",
        "import torchvision as tv\n",
        "from torchvision import datasets\n",
        "\n",
        "# Models\n",
        "from DBN import DBN\n",
        "\n",
        "# Plotting\n",
        "import matplotlib.pyplot as plt\n",
        "\n",
        "# Download\n",
        "from google.colab import drive\n",
        "from os import path\n",
        "\n",
        "# Utils\n",
        "import numpy as np\n",
        "import random\n",
        "import math"
      ],
      "execution_count": 113,
      "outputs": []
    },
    {
      "cell_type": "code",
      "metadata": {
        "id": "KwZsvdhgcfhc"
      },
      "source": [
        "def fix_seeds():\n",
        "    torch.manual_seed(0)\n",
        "    random.seed(0)\n",
        "    np.random.seed(0)"
      ],
      "execution_count": null,
      "outputs": []
    },
    {
      "cell_type": "code",
      "metadata": {
        "id": "AZweLFYNkzIE"
      },
      "source": [
        "def visualize_symbols(dataset, n_subplots):\n",
        "    n_rows_cols = int(math.sqrt(n_subplots))\n",
        "    fig, axes = plt.subplots(\n",
        "        n_rows_cols, \n",
        "        n_rows_cols, \n",
        "        sharex = True,\n",
        "        sharey = True,\n",
        "        figsize = (10, 10)\n",
        "    )\n",
        "    for i in range(n_subplots):\n",
        "        row = i % n_rows_cols\n",
        "        col = i // n_rows_cols\n",
        "        img, _ = dataset[i] \n",
        "        axes[row, col].imshow(torch.flatten(img).reshape((105, 105)), cmap='binary')"
      ],
      "execution_count": null,
      "outputs": []
    },
    {
      "cell_type": "markdown",
      "metadata": {
        "id": "1pBv1xQbQsQF"
      },
      "source": [
        "## **Data Download**"
      ]
    },
    {
      "cell_type": "markdown",
      "metadata": {
        "id": "JM-8gd_RXxTL"
      },
      "source": [
        "- For neural networks, we need to scale data before learning\n",
        "- Need to obtain tensor shape\n",
        "- Fix seeds for reproducibility"
      ]
    },
    {
      "cell_type": "code",
      "metadata": {
        "id": "gAHmqQ9SQog5",
        "colab": {
          "base_uri": "https://localhost:8080/"
        },
        "outputId": "0802988b-6092-4c2d-9b79-f8d6fc7dfe54"
      },
      "source": [
        "fix_seeds()\n",
        "\n",
        "transformer = tv.transforms.Compose(\n",
        "    [\n",
        "        # tv.transforms.CenterCrop(7),\n",
        "        tv.transforms.ToTensor(),\n",
        "        tv.transforms.Normalize(mean=(0.5,), std=(0.5),)\n",
        "    ]\n",
        ")\n",
        "\n",
        "train = datasets.Omniglot(\n",
        "    root = '/content/',\n",
        "    download = True,\n",
        "    background = True,\n",
        "    transform = transformer\n",
        ")\n",
        "\n",
        "test = datasets.Omniglot(\n",
        "    root = '/content/',\n",
        "    download = True,\n",
        "    background = False,\n",
        "    transform = transformer\n",
        ")\n",
        "\n",
        "# import tensorflow_datasets as tfds \n",
        "\n",
        "# %%capture\n",
        "# train = tfds.load(\"omniglot\", \n",
        "#                   split = 'train', \n",
        "#                   as_supervised = False, \n",
        "#                   shuffle_files = False)\n",
        "# %%capture\n",
        "# test = tfds.load(\"omniglot\",\n",
        "#                  split = 'test',\n",
        "#                  as_supervised = False,\n",
        "#                  shuffle_files = False)"
      ],
      "execution_count": null,
      "outputs": [
        {
          "output_type": "stream",
          "name": "stdout",
          "text": [
            "Files already downloaded and verified\n",
            "Files already downloaded and verified\n"
          ]
        }
      ]
    },
    {
      "cell_type": "code",
      "metadata": {
        "colab": {
          "base_uri": "https://localhost:8080/",
          "height": 613
        },
        "id": "L0lp_jrHnpsu",
        "outputId": "1ede1dec-c240-4f7a-a9e1-8b8d9eed899f"
      },
      "source": [
        "img, _ = train[0]\n",
        "print(f'Image shape = {img.shape}')\n",
        "visualize_symbols(train, 16)"
      ],
      "execution_count": null,
      "outputs": [
        {
          "output_type": "stream",
          "name": "stdout",
          "text": [
            "Image shape = torch.Size([1, 105, 105])\n"
          ]
        },
        {
          "output_type": "display_data",
          "data": {
            "image/png": "[encoded data removed]",
            "text/plain": [
              "<Figure size 720x720 with 16 Axes>"
            ]
          },
          "metadata": {
            "needs_background": "light"
          }
        }
      ]
    },
    {
      "cell_type": "markdown",
      "metadata": {
        "id": "0BI9KuHepnKb"
      },
      "source": [
        "## **Deep Belief Network model**"
      ]
    },
    {
      "cell_type": "markdown",
      "metadata": {
        "id": "XdfxqpZtwmgT"
      },
      "source": [
        "- Deep Belief Network - a stack of Restricted Bolzmann Machines\n",
        "- Each layer learns more complex and abstract features\n",
        "- Used as feature extraction method\n"
      ]
    }
  ]
}
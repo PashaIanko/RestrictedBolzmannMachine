{
  "nbformat": 4,
  "nbformat_minor": 0,
  "metadata": {
    "colab": {
      "name": "Omniglot learning.ipynb",
      "provenance": [],
      "collapsed_sections": [
        "BY78mv2oS20c",
        "1pBv1xQbQsQF"
      ],
      "mount_file_id": "1YDtjQmEs82mBvGmDYySa9BHcC3KU6I_C",
      "authorship_tag": "ABX9TyPClKWDLd90HpkZgUN4zflk",
      "include_colab_link": true
    },
    "kernelspec": {
      "name": "python3",
      "display_name": "Python 3"
    },
    "language_info": {
      "name": "python"
    },
    "widgets": {
      "application/vnd.jupyter.widget-state+json": {
        "3d45bba586934f6f920243f49dec5827": {
          "model_module": "@jupyter-widgets/controls",
          "model_name": "HBoxModel",
          "model_module_version": "1.5.0",
          "state": {
            "_view_name": "HBoxView",
            "_dom_classes": [],
            "_model_name": "HBoxModel",
            "_view_module": "@jupyter-widgets/controls",
            "_model_module_version": "1.5.0",
            "_view_count": null,
            "_view_module_version": "1.5.0",
            "box_style": "",
            "layout": "IPY_MODEL_1e831983bdff4881a619561aabdc7a9c",
            "_model_module": "@jupyter-widgets/controls",
            "children": [
              "IPY_MODEL_7cc0ea29ee324a579124187e409198ba",
              "IPY_MODEL_a0218d6e76be47e3ac7919717d983f51",
              "IPY_MODEL_047968f6c27d4902b12a6d179113f146"
            ]
          }
        },
        "1e831983bdff4881a619561aabdc7a9c": {
          "model_module": "@jupyter-widgets/base",
          "model_name": "LayoutModel",
          "model_module_version": "1.2.0",
          "state": {
            "_view_name": "LayoutView",
            "grid_template_rows": null,
            "right": null,
            "justify_content": null,
            "_view_module": "@jupyter-widgets/base",
            "overflow": null,
            "_model_module_version": "1.2.0",
            "_view_count": null,
            "flex_flow": null,
            "width": null,
            "min_width": null,
            "border": null,
            "align_items": null,
            "bottom": null,
            "_model_module": "@jupyter-widgets/base",
            "top": null,
            "grid_column": null,
            "overflow_y": null,
            "overflow_x": null,
            "grid_auto_flow": null,
            "grid_area": null,
            "grid_template_columns": null,
            "flex": null,
            "_model_name": "LayoutModel",
            "justify_items": null,
            "grid_row": null,
            "max_height": null,
            "align_content": null,
            "visibility": null,
            "align_self": null,
            "height": null,
            "min_height": null,
            "padding": null,
            "grid_auto_rows": null,
            "grid_gap": null,
            "max_width": null,
            "order": null,
            "_view_module_version": "1.2.0",
            "grid_template_areas": null,
            "object_position": null,
            "object_fit": null,
            "grid_auto_columns": null,
            "margin": null,
            "display": null,
            "left": null
          }
        },
        "7cc0ea29ee324a579124187e409198ba": {
          "model_module": "@jupyter-widgets/controls",
          "model_name": "HTMLModel",
          "model_module_version": "1.5.0",
          "state": {
            "_view_name": "HTMLView",
            "style": "IPY_MODEL_f14dcc0720fe4f08a5ac5b3aab32fbb7",
            "_dom_classes": [],
            "description": "",
            "_model_name": "HTMLModel",
            "placeholder": "​",
            "_view_module": "@jupyter-widgets/controls",
            "_model_module_version": "1.5.0",
            "value": "",
            "_view_count": null,
            "_view_module_version": "1.5.0",
            "description_tooltip": null,
            "_model_module": "@jupyter-widgets/controls",
            "layout": "IPY_MODEL_523b5100fdd74113b7c7b9c06f75e3c8"
          }
        },
        "a0218d6e76be47e3ac7919717d983f51": {
          "model_module": "@jupyter-widgets/controls",
          "model_name": "FloatProgressModel",
          "model_module_version": "1.5.0",
          "state": {
            "_view_name": "ProgressView",
            "style": "IPY_MODEL_721445da1d394051a0492187c18aedf2",
            "_dom_classes": [],
            "description": "",
            "_model_name": "FloatProgressModel",
            "bar_style": "success",
            "max": 9464212,
            "_view_module": "@jupyter-widgets/controls",
            "_model_module_version": "1.5.0",
            "value": 9464212,
            "_view_count": null,
            "_view_module_version": "1.5.0",
            "orientation": "horizontal",
            "min": 0,
            "description_tooltip": null,
            "_model_module": "@jupyter-widgets/controls",
            "layout": "IPY_MODEL_fe63aeb1334242abad7b7845ba682095"
          }
        },
        "047968f6c27d4902b12a6d179113f146": {
          "model_module": "@jupyter-widgets/controls",
          "model_name": "HTMLModel",
          "model_module_version": "1.5.0",
          "state": {
            "_view_name": "HTMLView",
            "style": "IPY_MODEL_a416ad92a2004b3c8fd9f9e38adcf612",
            "_dom_classes": [],
            "description": "",
            "_model_name": "HTMLModel",
            "placeholder": "​",
            "_view_module": "@jupyter-widgets/controls",
            "_model_module_version": "1.5.0",
            "value": " 9464832/? [00:00&lt;00:00, 41101214.32it/s]",
            "_view_count": null,
            "_view_module_version": "1.5.0",
            "description_tooltip": null,
            "_model_module": "@jupyter-widgets/controls",
            "layout": "IPY_MODEL_893fad2cf419445898e044cd653357a6"
          }
        },
        "f14dcc0720fe4f08a5ac5b3aab32fbb7": {
          "model_module": "@jupyter-widgets/controls",
          "model_name": "DescriptionStyleModel",
          "model_module_version": "1.5.0",
          "state": {
            "_view_name": "StyleView",
            "_model_name": "DescriptionStyleModel",
            "description_width": "",
            "_view_module": "@jupyter-widgets/base",
            "_model_module_version": "1.5.0",
            "_view_count": null,
            "_view_module_version": "1.2.0",
            "_model_module": "@jupyter-widgets/controls"
          }
        },
        "523b5100fdd74113b7c7b9c06f75e3c8": {
          "model_module": "@jupyter-widgets/base",
          "model_name": "LayoutModel",
          "model_module_version": "1.2.0",
          "state": {
            "_view_name": "LayoutView",
            "grid_template_rows": null,
            "right": null,
            "justify_content": null,
            "_view_module": "@jupyter-widgets/base",
            "overflow": null,
            "_model_module_version": "1.2.0",
            "_view_count": null,
            "flex_flow": null,
            "width": null,
            "min_width": null,
            "border": null,
            "align_items": null,
            "bottom": null,
            "_model_module": "@jupyter-widgets/base",
            "top": null,
            "grid_column": null,
            "overflow_y": null,
            "overflow_x": null,
            "grid_auto_flow": null,
            "grid_area": null,
            "grid_template_columns": null,
            "flex": null,
            "_model_name": "LayoutModel",
            "justify_items": null,
            "grid_row": null,
            "max_height": null,
            "align_content": null,
            "visibility": null,
            "align_self": null,
            "height": null,
            "min_height": null,
            "padding": null,
            "grid_auto_rows": null,
            "grid_gap": null,
            "max_width": null,
            "order": null,
            "_view_module_version": "1.2.0",
            "grid_template_areas": null,
            "object_position": null,
            "object_fit": null,
            "grid_auto_columns": null,
            "margin": null,
            "display": null,
            "left": null
          }
        },
        "721445da1d394051a0492187c18aedf2": {
          "model_module": "@jupyter-widgets/controls",
          "model_name": "ProgressStyleModel",
          "model_module_version": "1.5.0",
          "state": {
            "_view_name": "StyleView",
            "_model_name": "ProgressStyleModel",
            "description_width": "",
            "_view_module": "@jupyter-widgets/base",
            "_model_module_version": "1.5.0",
            "_view_count": null,
            "_view_module_version": "1.2.0",
            "bar_color": null,
            "_model_module": "@jupyter-widgets/controls"
          }
        },
        "fe63aeb1334242abad7b7845ba682095": {
          "model_module": "@jupyter-widgets/base",
          "model_name": "LayoutModel",
          "model_module_version": "1.2.0",
          "state": {
            "_view_name": "LayoutView",
            "grid_template_rows": null,
            "right": null,
            "justify_content": null,
            "_view_module": "@jupyter-widgets/base",
            "overflow": null,
            "_model_module_version": "1.2.0",
            "_view_count": null,
            "flex_flow": null,
            "width": null,
            "min_width": null,
            "border": null,
            "align_items": null,
            "bottom": null,
            "_model_module": "@jupyter-widgets/base",
            "top": null,
            "grid_column": null,
            "overflow_y": null,
            "overflow_x": null,
            "grid_auto_flow": null,
            "grid_area": null,
            "grid_template_columns": null,
            "flex": null,
            "_model_name": "LayoutModel",
            "justify_items": null,
            "grid_row": null,
            "max_height": null,
            "align_content": null,
            "visibility": null,
            "align_self": null,
            "height": null,
            "min_height": null,
            "padding": null,
            "grid_auto_rows": null,
            "grid_gap": null,
            "max_width": null,
            "order": null,
            "_view_module_version": "1.2.0",
            "grid_template_areas": null,
            "object_position": null,
            "object_fit": null,
            "grid_auto_columns": null,
            "margin": null,
            "display": null,
            "left": null
          }
        },
        "a416ad92a2004b3c8fd9f9e38adcf612": {
          "model_module": "@jupyter-widgets/controls",
          "model_name": "DescriptionStyleModel",
          "model_module_version": "1.5.0",
          "state": {
            "_view_name": "StyleView",
            "_model_name": "DescriptionStyleModel",
            "description_width": "",
            "_view_module": "@jupyter-widgets/base",
            "_model_module_version": "1.5.0",
            "_view_count": null,
            "_view_module_version": "1.2.0",
            "_model_module": "@jupyter-widgets/controls"
          }
        },
        "893fad2cf419445898e044cd653357a6": {
          "model_module": "@jupyter-widgets/base",
          "model_name": "LayoutModel",
          "model_module_version": "1.2.0",
          "state": {
            "_view_name": "LayoutView",
            "grid_template_rows": null,
            "right": null,
            "justify_content": null,
            "_view_module": "@jupyter-widgets/base",
            "overflow": null,
            "_model_module_version": "1.2.0",
            "_view_count": null,
            "flex_flow": null,
            "width": null,
            "min_width": null,
            "border": null,
            "align_items": null,
            "bottom": null,
            "_model_module": "@jupyter-widgets/base",
            "top": null,
            "grid_column": null,
            "overflow_y": null,
            "overflow_x": null,
            "grid_auto_flow": null,
            "grid_area": null,
            "grid_template_columns": null,
            "flex": null,
            "_model_name": "LayoutModel",
            "justify_items": null,
            "grid_row": null,
            "max_height": null,
            "align_content": null,
            "visibility": null,
            "align_self": null,
            "height": null,
            "min_height": null,
            "padding": null,
            "grid_auto_rows": null,
            "grid_gap": null,
            "max_width": null,
            "order": null,
            "_view_module_version": "1.2.0",
            "grid_template_areas": null,
            "object_position": null,
            "object_fit": null,
            "grid_auto_columns": null,
            "margin": null,
            "display": null,
            "left": null
          }
        },
        "9441bb35a420434f9fdc52ddc13c5663": {
          "model_module": "@jupyter-widgets/controls",
          "model_name": "HBoxModel",
          "model_module_version": "1.5.0",
          "state": {
            "_view_name": "HBoxView",
            "_dom_classes": [],
            "_model_name": "HBoxModel",
            "_view_module": "@jupyter-widgets/controls",
            "_model_module_version": "1.5.0",
            "_view_count": null,
            "_view_module_version": "1.5.0",
            "box_style": "",
            "layout": "IPY_MODEL_dad1f232b47c4d89a23cc7a8c3754b9b",
            "_model_module": "@jupyter-widgets/controls",
            "children": [
              "IPY_MODEL_719e37016e1a4ef9b4e8c1d1ecc83204",
              "IPY_MODEL_6e7d32bb775545178a014b05fd50a6ea",
              "IPY_MODEL_5efde831c30d453296888d6ffe16f257"
            ]
          }
        },
        "dad1f232b47c4d89a23cc7a8c3754b9b": {
          "model_module": "@jupyter-widgets/base",
          "model_name": "LayoutModel",
          "model_module_version": "1.2.0",
          "state": {
            "_view_name": "LayoutView",
            "grid_template_rows": null,
            "right": null,
            "justify_content": null,
            "_view_module": "@jupyter-widgets/base",
            "overflow": null,
            "_model_module_version": "1.2.0",
            "_view_count": null,
            "flex_flow": null,
            "width": null,
            "min_width": null,
            "border": null,
            "align_items": null,
            "bottom": null,
            "_model_module": "@jupyter-widgets/base",
            "top": null,
            "grid_column": null,
            "overflow_y": null,
            "overflow_x": null,
            "grid_auto_flow": null,
            "grid_area": null,
            "grid_template_columns": null,
            "flex": null,
            "_model_name": "LayoutModel",
            "justify_items": null,
            "grid_row": null,
            "max_height": null,
            "align_content": null,
            "visibility": null,
            "align_self": null,
            "height": null,
            "min_height": null,
            "padding": null,
            "grid_auto_rows": null,
            "grid_gap": null,
            "max_width": null,
            "order": null,
            "_view_module_version": "1.2.0",
            "grid_template_areas": null,
            "object_position": null,
            "object_fit": null,
            "grid_auto_columns": null,
            "margin": null,
            "display": null,
            "left": null
          }
        },
        "719e37016e1a4ef9b4e8c1d1ecc83204": {
          "model_module": "@jupyter-widgets/controls",
          "model_name": "HTMLModel",
          "model_module_version": "1.5.0",
          "state": {
            "_view_name": "HTMLView",
            "style": "IPY_MODEL_71dbc2f0a39341859f76103352d4fe3a",
            "_dom_classes": [],
            "description": "",
            "_model_name": "HTMLModel",
            "placeholder": "​",
            "_view_module": "@jupyter-widgets/controls",
            "_model_module_version": "1.5.0",
            "value": "",
            "_view_count": null,
            "_view_module_version": "1.5.0",
            "description_tooltip": null,
            "_model_module": "@jupyter-widgets/controls",
            "layout": "IPY_MODEL_b25fbff95ef3472099da7a7772701641"
          }
        },
        "6e7d32bb775545178a014b05fd50a6ea": {
          "model_module": "@jupyter-widgets/controls",
          "model_name": "FloatProgressModel",
          "model_module_version": "1.5.0",
          "state": {
            "_view_name": "ProgressView",
            "style": "IPY_MODEL_a98e7b7417264693b389dfa0f9c2be37",
            "_dom_classes": [],
            "description": "",
            "_model_name": "FloatProgressModel",
            "bar_style": "success",
            "max": 6462886,
            "_view_module": "@jupyter-widgets/controls",
            "_model_module_version": "1.5.0",
            "value": 6462886,
            "_view_count": null,
            "_view_module_version": "1.5.0",
            "orientation": "horizontal",
            "min": 0,
            "description_tooltip": null,
            "_model_module": "@jupyter-widgets/controls",
            "layout": "IPY_MODEL_dfb138f1b85841caba57cd31f27a4d5a"
          }
        },
        "5efde831c30d453296888d6ffe16f257": {
          "model_module": "@jupyter-widgets/controls",
          "model_name": "HTMLModel",
          "model_module_version": "1.5.0",
          "state": {
            "_view_name": "HTMLView",
            "style": "IPY_MODEL_dfc4a569c84e4db2a0fc61c839ba90d8",
            "_dom_classes": [],
            "description": "",
            "_model_name": "HTMLModel",
            "placeholder": "​",
            "_view_module": "@jupyter-widgets/controls",
            "_model_module_version": "1.5.0",
            "value": " 6463488/? [00:00&lt;00:00, 4279946.53it/s]",
            "_view_count": null,
            "_view_module_version": "1.5.0",
            "description_tooltip": null,
            "_model_module": "@jupyter-widgets/controls",
            "layout": "IPY_MODEL_f2d30ec1f8454f35b16b574b9e735fae"
          }
        },
        "71dbc2f0a39341859f76103352d4fe3a": {
          "model_module": "@jupyter-widgets/controls",
          "model_name": "DescriptionStyleModel",
          "model_module_version": "1.5.0",
          "state": {
            "_view_name": "StyleView",
            "_model_name": "DescriptionStyleModel",
            "description_width": "",
            "_view_module": "@jupyter-widgets/base",
            "_model_module_version": "1.5.0",
            "_view_count": null,
            "_view_module_version": "1.2.0",
            "_model_module": "@jupyter-widgets/controls"
          }
        },
        "b25fbff95ef3472099da7a7772701641": {
          "model_module": "@jupyter-widgets/base",
          "model_name": "LayoutModel",
          "model_module_version": "1.2.0",
          "state": {
            "_view_name": "LayoutView",
            "grid_template_rows": null,
            "right": null,
            "justify_content": null,
            "_view_module": "@jupyter-widgets/base",
            "overflow": null,
            "_model_module_version": "1.2.0",
            "_view_count": null,
            "flex_flow": null,
            "width": null,
            "min_width": null,
            "border": null,
            "align_items": null,
            "bottom": null,
            "_model_module": "@jupyter-widgets/base",
            "top": null,
            "grid_column": null,
            "overflow_y": null,
            "overflow_x": null,
            "grid_auto_flow": null,
            "grid_area": null,
            "grid_template_columns": null,
            "flex": null,
            "_model_name": "LayoutModel",
            "justify_items": null,
            "grid_row": null,
            "max_height": null,
            "align_content": null,
            "visibility": null,
            "align_self": null,
            "height": null,
            "min_height": null,
            "padding": null,
            "grid_auto_rows": null,
            "grid_gap": null,
            "max_width": null,
            "order": null,
            "_view_module_version": "1.2.0",
            "grid_template_areas": null,
            "object_position": null,
            "object_fit": null,
            "grid_auto_columns": null,
            "margin": null,
            "display": null,
            "left": null
          }
        },
        "a98e7b7417264693b389dfa0f9c2be37": {
          "model_module": "@jupyter-widgets/controls",
          "model_name": "ProgressStyleModel",
          "model_module_version": "1.5.0",
          "state": {
            "_view_name": "StyleView",
            "_model_name": "ProgressStyleModel",
            "description_width": "",
            "_view_module": "@jupyter-widgets/base",
            "_model_module_version": "1.5.0",
            "_view_count": null,
            "_view_module_version": "1.2.0",
            "bar_color": null,
            "_model_module": "@jupyter-widgets/controls"
          }
        },
        "dfb138f1b85841caba57cd31f27a4d5a": {
          "model_module": "@jupyter-widgets/base",
          "model_name": "LayoutModel",
          "model_module_version": "1.2.0",
          "state": {
            "_view_name": "LayoutView",
            "grid_template_rows": null,
            "right": null,
            "justify_content": null,
            "_view_module": "@jupyter-widgets/base",
            "overflow": null,
            "_model_module_version": "1.2.0",
            "_view_count": null,
            "flex_flow": null,
            "width": null,
            "min_width": null,
            "border": null,
            "align_items": null,
            "bottom": null,
            "_model_module": "@jupyter-widgets/base",
            "top": null,
            "grid_column": null,
            "overflow_y": null,
            "overflow_x": null,
            "grid_auto_flow": null,
            "grid_area": null,
            "grid_template_columns": null,
            "flex": null,
            "_model_name": "LayoutModel",
            "justify_items": null,
            "grid_row": null,
            "max_height": null,
            "align_content": null,
            "visibility": null,
            "align_self": null,
            "height": null,
            "min_height": null,
            "padding": null,
            "grid_auto_rows": null,
            "grid_gap": null,
            "max_width": null,
            "order": null,
            "_view_module_version": "1.2.0",
            "grid_template_areas": null,
            "object_position": null,
            "object_fit": null,
            "grid_auto_columns": null,
            "margin": null,
            "display": null,
            "left": null
          }
        },
        "dfc4a569c84e4db2a0fc61c839ba90d8": {
          "model_module": "@jupyter-widgets/controls",
          "model_name": "DescriptionStyleModel",
          "model_module_version": "1.5.0",
          "state": {
            "_view_name": "StyleView",
            "_model_name": "DescriptionStyleModel",
            "description_width": "",
            "_view_module": "@jupyter-widgets/base",
            "_model_module_version": "1.5.0",
            "_view_count": null,
            "_view_module_version": "1.2.0",
            "_model_module": "@jupyter-widgets/controls"
          }
        },
        "f2d30ec1f8454f35b16b574b9e735fae": {
          "model_module": "@jupyter-widgets/base",
          "model_name": "LayoutModel",
          "model_module_version": "1.2.0",
          "state": {
            "_view_name": "LayoutView",
            "grid_template_rows": null,
            "right": null,
            "justify_content": null,
            "_view_module": "@jupyter-widgets/base",
            "overflow": null,
            "_model_module_version": "1.2.0",
            "_view_count": null,
            "flex_flow": null,
            "width": null,
            "min_width": null,
            "border": null,
            "align_items": null,
            "bottom": null,
            "_model_module": "@jupyter-widgets/base",
            "top": null,
            "grid_column": null,
            "overflow_y": null,
            "overflow_x": null,
            "grid_auto_flow": null,
            "grid_area": null,
            "grid_template_columns": null,
            "flex": null,
            "_model_name": "LayoutModel",
            "justify_items": null,
            "grid_row": null,
            "max_height": null,
            "align_content": null,
            "visibility": null,
            "align_self": null,
            "height": null,
            "min_height": null,
            "padding": null,
            "grid_auto_rows": null,
            "grid_gap": null,
            "max_width": null,
            "order": null,
            "_view_module_version": "1.2.0",
            "grid_template_areas": null,
            "object_position": null,
            "object_fit": null,
            "grid_auto_columns": null,
            "margin": null,
            "display": null,
            "left": null
          }
        }
      }
    }
  },
  "cells": [
    {
      "cell_type": "markdown",
      "metadata": {
        "id": "view-in-github",
        "colab_type": "text"
      },
      "source": [
        "<a href=\"https://colab.research.google.com/github/PashaIanko/RestrictedBolzmannMachine/blob/main/Omniglot_learning.ipynb\" target=\"_parent\"><img src=\"https://colab.research.google.com/assets/colab-badge.svg\" alt=\"Open In Colab\"/></a>"
      ]
    },
    {
      "cell_type": "markdown",
      "metadata": {
        "id": "BY78mv2oS20c"
      },
      "source": [
        "## **Packages, Constants & Functions**"
      ]
    },
    {
      "cell_type": "code",
      "metadata": {
        "id": "cIMMuDEqH6Of"
      },
      "source": [
        "# Preprocessing\n",
        "CROP_SIZE_ = 90\n",
        "MEAN_ = 0.5\n",
        "STD_ = 0.5\n",
        "IMG_SIZE_ = CROP_SIZE_\n",
        "\n",
        "# Train\n",
        "EPOCHS_ = 50\n",
        "BATCH_SIZE_ = 200"
      ],
      "execution_count": 8,
      "outputs": []
    },
    {
      "cell_type": "code",
      "metadata": {
        "id": "FEByBGGhpsM5"
      },
      "source": [
        "%%capture\n",
        "\n",
        "url_dbn = 'https://raw.githubusercontent.com/PashaIanko/RestrictedBolzmannMachine/main/DBN.py'\n",
        "url_rbm = 'https://raw.githubusercontent.com/PashaIanko/RestrictedBolzmannMachine/main/RBM.py'\n",
        "\n",
        "utils = {\n",
        "    'DBN.py': url_dbn,\n",
        "    'RBM.py': url_rbm\n",
        "}\n",
        "\n",
        "for file, url in utils.items():\n",
        "    !wget -O {file} {url} {file}"
      ],
      "execution_count": 2,
      "outputs": []
    },
    {
      "cell_type": "code",
      "metadata": {
        "id": "xhCvs6HsS6Em"
      },
      "source": [
        "import torch\n",
        "import torchvision as tv\n",
        "from torchvision import datasets\n",
        "\n",
        "# Models\n",
        "from DBN import DBN\n",
        "\n",
        "# Plotting\n",
        "import matplotlib.pyplot as plt\n",
        "\n",
        "# Download\n",
        "from google.colab import drive\n",
        "from os import path\n",
        "\n",
        "# Utils\n",
        "import numpy as np\n",
        "import random\n",
        "import math"
      ],
      "execution_count": 3,
      "outputs": []
    },
    {
      "cell_type": "code",
      "metadata": {
        "id": "KwZsvdhgcfhc"
      },
      "source": [
        "def fix_seeds():\n",
        "    torch.manual_seed(0)\n",
        "    random.seed(0)\n",
        "    np.random.seed(0)"
      ],
      "execution_count": 4,
      "outputs": []
    },
    {
      "cell_type": "code",
      "metadata": {
        "id": "AZweLFYNkzIE"
      },
      "source": [
        "def visualize_symbols(dataset, n_subplots, image_shape):\n",
        "    n_rows_cols = int(math.sqrt(n_subplots))\n",
        "    fig, axes = plt.subplots(\n",
        "        n_rows_cols, \n",
        "        n_rows_cols, \n",
        "        sharex = True,\n",
        "        sharey = True,\n",
        "        figsize = (10, 10)\n",
        "    )\n",
        "    for i in range(n_subplots):\n",
        "        row = i % n_rows_cols\n",
        "        col = i // n_rows_cols\n",
        "        img, _ = dataset[i] \n",
        "        axes[row, col].imshow(torch.flatten(img).reshape(image_shape), cmap='binary')"
      ],
      "execution_count": 5,
      "outputs": []
    },
    {
      "cell_type": "markdown",
      "metadata": {
        "id": "1pBv1xQbQsQF"
      },
      "source": [
        "## **Data Download**"
      ]
    },
    {
      "cell_type": "markdown",
      "metadata": {
        "id": "JM-8gd_RXxTL"
      },
      "source": [
        "- For neural networks, we need to scale data before learning\n",
        "- Need to obtain tensor shape\n",
        "- Fix seeds for reproducibility"
      ]
    },
    {
      "cell_type": "code",
      "metadata": {
        "id": "gAHmqQ9SQog5",
        "colab": {
          "base_uri": "https://localhost:8080/",
          "height": 154,
          "referenced_widgets": [
            "3d45bba586934f6f920243f49dec5827",
            "1e831983bdff4881a619561aabdc7a9c",
            "7cc0ea29ee324a579124187e409198ba",
            "a0218d6e76be47e3ac7919717d983f51",
            "047968f6c27d4902b12a6d179113f146",
            "f14dcc0720fe4f08a5ac5b3aab32fbb7",
            "523b5100fdd74113b7c7b9c06f75e3c8",
            "721445da1d394051a0492187c18aedf2",
            "fe63aeb1334242abad7b7845ba682095",
            "a416ad92a2004b3c8fd9f9e38adcf612",
            "893fad2cf419445898e044cd653357a6",
            "9441bb35a420434f9fdc52ddc13c5663",
            "dad1f232b47c4d89a23cc7a8c3754b9b",
            "719e37016e1a4ef9b4e8c1d1ecc83204",
            "6e7d32bb775545178a014b05fd50a6ea",
            "5efde831c30d453296888d6ffe16f257",
            "71dbc2f0a39341859f76103352d4fe3a",
            "b25fbff95ef3472099da7a7772701641",
            "a98e7b7417264693b389dfa0f9c2be37",
            "dfb138f1b85841caba57cd31f27a4d5a",
            "dfc4a569c84e4db2a0fc61c839ba90d8",
            "f2d30ec1f8454f35b16b574b9e735fae"
          ]
        },
        "outputId": "ca42b7ef-81fc-4fd6-bb4c-45a8f2a46790"
      },
      "source": [
        "%%capture \n",
        "\n",
        "fix_seeds()\n",
        "\n",
        "transformer = tv.transforms.Compose(\n",
        "    [\n",
        "        tv.transforms.CenterCrop(CROP_SIZE_),\n",
        "        tv.transforms.ToTensor(),\n",
        "        tv.transforms.Normalize(mean=(MEAN_,), std=(STD_),)\n",
        "    ]\n",
        ")\n",
        "\n",
        "train = datasets.Omniglot(\n",
        "    root = '/content/',\n",
        "    download = True,\n",
        "    background = True,\n",
        "    transform = transformer\n",
        ")\n",
        "\n",
        "test = datasets.Omniglot(\n",
        "    root = '/content/',\n",
        "    download = True,\n",
        "    background = False,\n",
        "    transform = transformer\n",
        ")\n",
        "\n",
        "# import tensorflow_datasets as tfds \n",
        "\n",
        "# %%capture\n",
        "# train = tfds.load(\"omniglot\", \n",
        "#                   split = 'train', \n",
        "#                   as_supervised = False, \n",
        "#                   shuffle_files = False)\n",
        "# %%capture\n",
        "# test = tfds.load(\"omniglot\",\n",
        "#                  split = 'test',\n",
        "#                  as_supervised = False,\n",
        "#                  shuffle_files = False)"
      ],
      "execution_count": 6,
      "outputs": [
        {
          "output_type": "stream",
          "name": "stdout",
          "text": [
            "Downloading https://raw.githubusercontent.com/brendenlake/omniglot/master/python/images_background.zip to /content/omniglot-py/images_background.zip\n"
          ]
        },
        {
          "output_type": "display_data",
          "data": {
            "application/vnd.jupyter.widget-view+json": {
              "model_id": "3d45bba586934f6f920243f49dec5827",
              "version_minor": 0,
              "version_major": 2
            },
            "text/plain": [
              "  0%|          | 0/9464212 [00:00<?, ?it/s]"
            ]
          },
          "metadata": {}
        },
        {
          "output_type": "stream",
          "name": "stdout",
          "text": [
            "Extracting /content/omniglot-py/images_background.zip to /content/omniglot-py\n",
            "Downloading https://raw.githubusercontent.com/brendenlake/omniglot/master/python/images_evaluation.zip to /content/omniglot-py/images_evaluation.zip\n"
          ]
        },
        {
          "output_type": "display_data",
          "data": {
            "application/vnd.jupyter.widget-view+json": {
              "model_id": "9441bb35a420434f9fdc52ddc13c5663",
              "version_minor": 0,
              "version_major": 2
            },
            "text/plain": [
              "  0%|          | 0/6462886 [00:00<?, ?it/s]"
            ]
          },
          "metadata": {}
        },
        {
          "output_type": "stream",
          "name": "stdout",
          "text": [
            "Extracting /content/omniglot-py/images_evaluation.zip to /content/omniglot-py\n"
          ]
        }
      ]
    },
    {
      "cell_type": "code",
      "metadata": {
        "colab": {
          "base_uri": "https://localhost:8080/",
          "height": 613
        },
        "id": "L0lp_jrHnpsu",
        "outputId": "a740c8fa-02d5-4b77-f1b2-563088d92bce"
      },
      "source": [
        "img, _ = train[0]\n",
        "print(f'Image shape = {img.shape}')\n",
        "visualize_symbols(train, 16, image_shape = (CROP_SIZE_, CROP_SIZE_))"
      ],
      "execution_count": 12,
      "outputs": [
        {
          "output_type": "stream",
          "name": "stdout",
          "text": [
            "Image shape = torch.Size([1, 90, 90]), 0\n"
          ]
        },
        {
          "output_type": "display_data",
          "data": {
            "image/png": "[encoded data removed]",
            "text/plain": [
              "<Figure size 720x720 with 16 Axes>"
            ]
          },
          "metadata": {
            "needs_background": "light"
          }
        }
      ]
    },
    {
      "cell_type": "code",
      "metadata": {
        "id": "PHLRZivxRq0b",
        "outputId": "e1b5f1a5-2571-43ff-fdbc-6a88e888c03e",
        "colab": {
          "base_uri": "https://localhost:8080/"
        }
      },
      "source": [
        "# __getitem__ structure - tensor (image) + label (one label for 20 images of single letter)\n",
        "train.__getitem__(600)"
      ],
      "execution_count": 38,
      "outputs": [
        {
          "output_type": "execute_result",
          "data": {
            "text/plain": [
              "(tensor([[[1., 1., 1.,  ..., 1., 1., 1.],\n",
              "          [1., 1., 1.,  ..., 1., 1., 1.],\n",
              "          [1., 1., 1.,  ..., 1., 1., 1.],\n",
              "          ...,\n",
              "          [1., 1., 1.,  ..., 1., 1., 1.],\n",
              "          [1., 1., 1.,  ..., 1., 1., 1.],\n",
              "          [1., 1., 1.,  ..., 1., 1., 1.]]]), 30)"
            ]
          },
          "metadata": {},
          "execution_count": 38
        }
      ]
    },
    {
      "cell_type": "code",
      "metadata": {
        "id": "NiRnFjqqT8j0"
      },
      "source": [
        "labels = [item[1] for item in train]\n",
        "images = [item[0] for item in train]"
      ],
      "execution_count": 48,
      "outputs": []
    },
    {
      "cell_type": "code",
      "metadata": {
        "id": "MI0VUv0EUnXa",
        "outputId": "17ce22e0-47b6-4c48-95ec-80fdc23080f6",
        "colab": {
          "base_uri": "https://localhost:8080/"
        }
      },
      "source": [
        "len(images), images[0]"
      ],
      "execution_count": 51,
      "outputs": [
        {
          "output_type": "execute_result",
          "data": {
            "text/plain": [
              "(19280, tensor([[[1., 1., 1.,  ..., 1., 1., 1.],\n",
              "          [1., 1., 1.,  ..., 1., 1., 1.],\n",
              "          [1., 1., 1.,  ..., 1., 1., 1.],\n",
              "          ...,\n",
              "          [1., 1., 1.,  ..., 1., 1., 1.],\n",
              "          [1., 1., 1.,  ..., 1., 1., 1.],\n",
              "          [1., 1., 1.,  ..., 1., 1., 1.]]]))"
            ]
          },
          "metadata": {},
          "execution_count": 51
        }
      ]
    },
    {
      "cell_type": "markdown",
      "metadata": {
        "id": "0BI9KuHepnKb"
      },
      "source": [
        "## **Deep Belief Network model**"
      ]
    },
    {
      "cell_type": "markdown",
      "metadata": {
        "id": "XdfxqpZtwmgT"
      },
      "source": [
        "- Deep Belief Network - a stack of Restricted Bolzmann Machines\n",
        "    - RBM is a bipartite graph with input and hidden layer\n",
        "    - Hidden layer captures dependencies and features\n",
        "- Each layer learns more complex and abstract features\n",
        "- Used as feature extraction method (generative model)\n",
        "- No output neurons\n",
        "- Two phases (negative & positive) during learning (reconstruction)\n",
        "\n",
        "\n"
      ]
    },
    {
      "cell_type": "code",
      "metadata": {
        "id": "a2bVMlCdDhrj"
      },
      "source": [
        "fix_seeds()\n",
        "\n",
        "model = DBN(\n",
        "    visible_units = IMG_SIZE_ * IMG_SIZE_,\n",
        "    hidden_units = [500, 500, 1200],\n",
        "    k = 1,\n",
        "    learning_rate = 0.08,\n",
        "    learning_rate_decay = False,\n",
        "    initial_momentum = 0.5,\n",
        "    final_momentum = 0.9,\n",
        "    weight_decay = 0.00002,\n",
        "    xavier_init = False,\n",
        "    increase_to_cd_k = False,\n",
        "    use_gpu = True\n",
        ")"
      ],
      "execution_count": 11,
      "outputs": []
    },
    {
      "cell_type": "code",
      "metadata": {
        "id": "z_R-EjDCKTB2"
      },
      "source": [
        "model.train_static(\n",
        "    train,\n",
        "    train_targets\n",
        "\n",
        ")"
      ],
      "execution_count": null,
      "outputs": []
    }
  ]
}